{
 "cells": [
  {
   "cell_type": "markdown",
   "metadata": {},
   "source": [
    "### Dataset to use - change this value to analyze a different data set"
   ]
  },
  {
   "cell_type": "code",
   "execution_count": 4,
   "metadata": {},
   "outputs": [],
   "source": [
    "dataset = 'twenty'"
   ]
  },
  {
   "cell_type": "markdown",
   "metadata": {},
   "source": [
    "### Load in parent probabilities and rates"
   ]
  },
  {
   "cell_type": "code",
   "execution_count": 5,
   "metadata": {},
   "outputs": [],
   "source": [
    "from analysis import check_gies\n",
    "import numpy as np"
   ]
  },
  {
   "cell_type": "code",
   "execution_count": 6,
   "metadata": {},
   "outputs": [
    {
     "name": "stdout",
     "output_type": "stream",
     "text": [
      "loaded DAGs\n",
      "/Users/chandlersquires/Documents/active_learning/new/data/twenty/dags/dag0\n"
     ]
    },
    {
     "ename": "FileNotFoundError",
     "evalue": "[Errno 2] No such file or directory: '/Users/chandlersquires/Documents/active_learning/new/data/twenty/dags/dag0/var-score,n=30,b=2,k=2/final_dags'",
     "output_type": "error",
     "traceback": [
      "\u001b[0;31m---------------------------------------------------------------------------\u001b[0m",
      "\u001b[0;31mFileNotFoundError\u001b[0m                         Traceback (most recent call last)",
      "\u001b[0;32m<ipython-input-6-2fae5c9ef10b>\u001b[0m in \u001b[0;36m<module>\u001b[0;34m()\u001b[0m\n\u001b[1;32m      2\u001b[0m \u001b[0mtrue_dags\u001b[0m \u001b[0;34m=\u001b[0m \u001b[0mcheck_gies\u001b[0m\u001b[0;34m.\u001b[0m\u001b[0mget_true_dags\u001b[0m\u001b[0;34m(\u001b[0m\u001b[0mdag_folders\u001b[0m\u001b[0;34m)\u001b[0m\u001b[0;34m\u001b[0m\u001b[0m\n\u001b[1;32m      3\u001b[0m \u001b[0mprint\u001b[0m\u001b[0;34m(\u001b[0m\u001b[0;34m'loaded DAGs'\u001b[0m\u001b[0;34m)\u001b[0m\u001b[0;34m\u001b[0m\u001b[0m\n\u001b[0;32m----> 4\u001b[0;31m \u001b[0mparent_probs_by_dag\u001b[0m \u001b[0;34m=\u001b[0m \u001b[0mcheck_gies\u001b[0m\u001b[0;34m.\u001b[0m\u001b[0mget_parent_probs_by_dag\u001b[0m\u001b[0;34m(\u001b[0m\u001b[0mdag_folders\u001b[0m\u001b[0;34m,\u001b[0m \u001b[0;36m10\u001b[0m\u001b[0;34m)\u001b[0m\u001b[0;34m\u001b[0m\u001b[0m\n\u001b[0m\u001b[1;32m      5\u001b[0m \u001b[0mprint\u001b[0m\u001b[0;34m(\u001b[0m\u001b[0;34m'Computed parent probabilities'\u001b[0m\u001b[0;34m)\u001b[0m\u001b[0;34m\u001b[0m\u001b[0m\n",
      "\u001b[0;32m~/Documents/active_learning/new/analysis/check_gies.py\u001b[0m in \u001b[0;36mget_parent_probs_by_dag\u001b[0;34m(dag_folders, target, verbose)\u001b[0m\n\u001b[1;32m     43\u001b[0m                 \u001b[0mfinal_parent_probs_filename\u001b[0m \u001b[0;34m=\u001b[0m \u001b[0mos\u001b[0m\u001b[0;34m.\u001b[0m\u001b[0mpath\u001b[0m\u001b[0;34m.\u001b[0m\u001b[0mjoin\u001b[0m\u001b[0;34m(\u001b[0m\u001b[0mfilename\u001b[0m\u001b[0;34m,\u001b[0m \u001b[0;34m'parent_probs.json'\u001b[0m\u001b[0;34m)\u001b[0m\u001b[0;34m\u001b[0m\u001b[0m\n\u001b[1;32m     44\u001b[0m                 \u001b[0;32mif\u001b[0m \u001b[0;32mnot\u001b[0m \u001b[0mos\u001b[0m\u001b[0;34m.\u001b[0m\u001b[0mpath\u001b[0m\u001b[0;34m.\u001b[0m\u001b[0mexists\u001b[0m\u001b[0;34m(\u001b[0m\u001b[0mfinal_parent_probs_filename\u001b[0m\u001b[0;34m)\u001b[0m\u001b[0;34m:\u001b[0m\u001b[0;34m\u001b[0m\u001b[0m\n\u001b[0;32m---> 45\u001b[0;31m                     \u001b[0mdags\u001b[0m \u001b[0;34m=\u001b[0m \u001b[0mget_final_dags\u001b[0m\u001b[0;34m(\u001b[0m\u001b[0mfilename\u001b[0m\u001b[0;34m)\u001b[0m\u001b[0;34m\u001b[0m\u001b[0m\n\u001b[0m\u001b[1;32m     46\u001b[0m                     \u001b[0mdag_target_parents\u001b[0m \u001b[0;34m=\u001b[0m \u001b[0;34m[\u001b[0m\u001b[0mdag\u001b[0m\u001b[0;34m.\u001b[0m\u001b[0mparents\u001b[0m\u001b[0;34m[\u001b[0m\u001b[0mtarget\u001b[0m\u001b[0;34m]\u001b[0m \u001b[0;32mfor\u001b[0m \u001b[0mdag\u001b[0m \u001b[0;32min\u001b[0m \u001b[0mdags\u001b[0m\u001b[0;34m]\u001b[0m\u001b[0;34m\u001b[0m\u001b[0m\n\u001b[1;32m     47\u001b[0m \u001b[0;34m\u001b[0m\u001b[0m\n",
      "\u001b[0;32m~/Documents/active_learning/new/analysis/check_gies.py\u001b[0m in \u001b[0;36mget_final_dags\u001b[0;34m(strategy_folder)\u001b[0m\n\u001b[1;32m     26\u001b[0m     amats = [\n\u001b[1;32m     27\u001b[0m         \u001b[0mnp\u001b[0m\u001b[0;34m.\u001b[0m\u001b[0mload\u001b[0m\u001b[0;34m(\u001b[0m\u001b[0mos\u001b[0m\u001b[0;34m.\u001b[0m\u001b[0mpath\u001b[0m\u001b[0;34m.\u001b[0m\u001b[0mjoin\u001b[0m\u001b[0;34m(\u001b[0m\u001b[0mstrategy_folder\u001b[0m\u001b[0;34m,\u001b[0m \u001b[0;34m'final_dags'\u001b[0m\u001b[0;34m,\u001b[0m \u001b[0mf\u001b[0m\u001b[0;34m)\u001b[0m\u001b[0;34m)\u001b[0m\u001b[0;34m\u001b[0m\u001b[0m\n\u001b[0;32m---> 28\u001b[0;31m         \u001b[0;32mfor\u001b[0m \u001b[0mf\u001b[0m \u001b[0;32min\u001b[0m \u001b[0mos\u001b[0m\u001b[0;34m.\u001b[0m\u001b[0mlistdir\u001b[0m\u001b[0;34m(\u001b[0m\u001b[0mos\u001b[0m\u001b[0;34m.\u001b[0m\u001b[0mpath\u001b[0m\u001b[0;34m.\u001b[0m\u001b[0mjoin\u001b[0m\u001b[0;34m(\u001b[0m\u001b[0mstrategy_folder\u001b[0m\u001b[0;34m,\u001b[0m \u001b[0;34m'final_dags'\u001b[0m\u001b[0;34m)\u001b[0m\u001b[0;34m)\u001b[0m\u001b[0;34m\u001b[0m\u001b[0m\n\u001b[0m\u001b[1;32m     29\u001b[0m     ]\n\u001b[1;32m     30\u001b[0m     \u001b[0;32mreturn\u001b[0m \u001b[0;34m[\u001b[0m\u001b[0mcd\u001b[0m\u001b[0;34m.\u001b[0m\u001b[0mGaussDAG\u001b[0m\u001b[0;34m.\u001b[0m\u001b[0mfrom_amat\u001b[0m\u001b[0;34m(\u001b[0m\u001b[0mamat\u001b[0m\u001b[0;34m)\u001b[0m \u001b[0;32mfor\u001b[0m \u001b[0mamat\u001b[0m \u001b[0;32min\u001b[0m \u001b[0mamats\u001b[0m\u001b[0;34m]\u001b[0m\u001b[0;34m\u001b[0m\u001b[0m\n",
      "\u001b[0;31mFileNotFoundError\u001b[0m: [Errno 2] No such file or directory: '/Users/chandlersquires/Documents/active_learning/new/data/twenty/dags/dag0/var-score,n=30,b=2,k=2/final_dags'"
     ]
    }
   ],
   "source": [
    "dag_folders = check_gies.get_dag_folders(dataset)\n",
    "true_dags = check_gies.get_true_dags(dag_folders)\n",
    "print('loaded DAGs')\n",
    "parent_probs_by_dag = check_gies.get_parent_probs_by_dag(dag_folders, 10)\n",
    "print('Computed parent probabilities')"
   ]
  },
  {
   "cell_type": "markdown",
   "metadata": {},
   "source": [
    "### This little section is to check the results from the rates_da. Can be deleted"
   ]
  },
  {
   "cell_type": "code",
   "execution_count": null,
   "metadata": {},
   "outputs": [],
   "source": [
    "alphas = np.linspace(0, 1, 11)\n",
    "avg_tprs = np.zeros(len(alphas))\n",
    "avg_fprs = np.zeros(len(alphas))\n",
    "for a_ix, alpha in enumerate(alphas):\n",
    "    tprs = []\n",
    "    fprs = []\n",
    "    for dag_num, (true_dag, parent_probs_by_strat) in enumerate(zip(true_dags, parent_probs_by_dag)):\n",
    "        true_parents = true_dag.parents[10]\n",
    "        true_nonparents = true_dag.nodes - true_parents - {10}\n",
    "        labelled_parents = {p for p, prob in parent_probs_by_strat['learn-parents,n=60,b=2,k=2'].items() if prob >= alpha}\n",
    "        true_positives = true_parents & labelled_parents\n",
    "        false_positives = true_nonparents & labelled_parents\n",
    "        tprs.append(len(true_positives) / len(true_parents) if len(true_parents) != 0 else 1)\n",
    "        fprs.append(len(false_positives) / len(true_nonparents) if len(true_nonparents) != 0 else 0)\n",
    "    avg_tprs[a_ix] = np.mean(tprs)\n",
    "    avg_fprs[a_ix] = np.mean(fprs)"
   ]
  },
  {
   "cell_type": "code",
   "execution_count": null,
   "metadata": {},
   "outputs": [],
   "source": [
    "avg_tprs"
   ]
  },
  {
   "cell_type": "markdown",
   "metadata": {},
   "source": [
    "### Load the rates DataArray, a 7-dimensional tensor mapping each strategy (strategy name, n, b, k) and significance level to the value of a rate for all DAGs"
   ]
  },
  {
   "cell_type": "code",
   "execution_count": null,
   "metadata": {},
   "outputs": [],
   "source": [
    "strategy_names = ['random', 'edge-prob', 'learn-parents']\n",
    "ks = [2]\n",
    "bs = [2, 3]\n",
    "ns = [12, 60, 120, 240]\n",
    "np.linspace(0, 1, 11)"
   ]
  },
  {
   "cell_type": "code",
   "execution_count": null,
   "metadata": {},
   "outputs": [],
   "source": [
    "rates_da = check_gies.get_rates_data_array(\n",
    "    parent_probs_by_dag,\n",
    "    true_dags,\n",
    "    target=10,\n",
    "    strategy_names=strategy_names,\n",
    "    ks=ks,\n",
    "    bs=bs,\n",
    "    ns=ns,\n",
    "    alphas=np.linspace(0, 1, 11)\n",
    ")\n",
    "print(rates_da.dims)"
   ]
  },
  {
   "cell_type": "markdown",
   "metadata": {},
   "source": [
    "### Plot curves for each strategy"
   ]
  },
  {
   "cell_type": "code",
   "execution_count": null,
   "metadata": {},
   "outputs": [],
   "source": [
    "import matplotlib.pylab as plt\n",
    "import seaborn as sns\n",
    "import matplotlib.patches as mpatches\n",
    "import matplotlib.lines as mlines\n",
    "%matplotlib inline\n",
    "plt.rcParams[\"figure.figsize\"] =(12,9)\n",
    "sns.set(font_scale=1.5)"
   ]
  },
  {
   "cell_type": "code",
   "execution_count": null,
   "metadata": {},
   "outputs": [],
   "source": [
    "linestyles = ['solid', 'dashed', 'dotted']"
   ]
  },
  {
   "cell_type": "code",
   "execution_count": null,
   "metadata": {},
   "outputs": [],
   "source": [
    "rate_avgs_da = rates_da.mean(dim='dag')\n",
    "for strategy, linestyle in zip(strategy_names, linestyles):\n",
    "    for n, color in zip(ns, sns.color_palette()):\n",
    "        strat_avg_tprs = rate_avgs_da.sel(strategy=strategy, b=3, k=2, n=n, rate='tpr').values\n",
    "        strat_avg_fprs = rate_avgs_da.sel(strategy=strategy, b=3, k=2, n=n, rate='fpr').values\n",
    "\n",
    "        sort_ixs = np.argsort(strat_avg_fprs)\n",
    "        plt.plot(strat_avg_fprs[sort_ixs], strat_avg_tprs[sort_ixs], linestyle=linestyle, color=color)\n",
    "\n",
    "sample_handles = [\n",
    "    mpatches.Patch(facecolor=color, label=n)\n",
    "    for n, color in zip(ns, sns.color_palette())\n",
    "]\n",
    "strat_handles = [\n",
    "    mlines.Line2D([0], [0], color='k', linestyle=linestyle, label=strat) \n",
    "    for strat, linestyle in zip(strategy_names, linestyles)\n",
    "]\n",
    "plt.legend(\n",
    "    handles=strat_handles + sample_handles\n",
    ")\n",
    "plt.xlabel('Average FPR')\n",
    "plt.ylabel('Average TPR');"
   ]
  },
  {
   "cell_type": "code",
   "execution_count": null,
   "metadata": {},
   "outputs": [],
   "source": []
  }
 ],
 "metadata": {
  "kernelspec": {
   "display_name": "Python 3",
   "language": "python",
   "name": "python3"
  },
  "language_info": {
   "codemirror_mode": {
    "name": "ipython",
    "version": 3
   },
   "file_extension": ".py",
   "mimetype": "text/x-python",
   "name": "python",
   "nbconvert_exporter": "python",
   "pygments_lexer": "ipython3",
   "version": "3.6.5"
  }
 },
 "nbformat": 4,
 "nbformat_minor": 1
}
