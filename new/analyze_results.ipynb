{
 "cells": [
  {
   "cell_type": "markdown",
   "metadata": {},
   "source": [
    "### Dataset to use - change this value to analyze a different data set"
   ]
  },
  {
   "cell_type": "code",
   "execution_count": 1,
   "metadata": {},
   "outputs": [],
   "source": [
    "dataset = 'erdos_renyi_final'\n",
    "nnodes = 25"
   ]
  },
  {
   "cell_type": "code",
   "execution_count": 2,
   "metadata": {},
   "outputs": [],
   "source": [
    "# from analysis import check_folder\n",
    "# check_folder.check_folder(dataset)"
   ]
  },
  {
   "cell_type": "code",
   "execution_count": 3,
   "metadata": {},
   "outputs": [],
   "source": [
    "# import pandas as pd\n",
    "\n",
    "# def order_tpr_fpr(fprs, tprs):\n",
    "#     df = pd.DataFrame(dict(fpr=fprs, tpr=tprs))\n",
    "#     df.sort_values('fpr', ascending=False)\n",
    "#     df.drop_duplicates(subset='fpr', keep='last', inplace=True)\n",
    "#     return df\n",
    "    \n",
    "    \n",
    "# a = order_tpr_fpr([.2, .1, .2], [.3, .2, .4])"
   ]
  },
  {
   "cell_type": "markdown",
   "metadata": {},
   "source": [
    "### Load in parent probabilities and rates"
   ]
  },
  {
   "cell_type": "code",
   "execution_count": 4,
   "metadata": {},
   "outputs": [],
   "source": [
    "from analysis import check_gies, check_samples\n",
    "import numpy as np\n",
    "import itertools as itr\n",
    "from collections import defaultdict\n",
    "import xarray as xr\n",
    "from tqdm import tqdm\n",
    "import os\n",
    "import causaldag as cd\n",
    "from utils import graph_utils\n",
    "from scipy.special import logsumexp\n",
    "IV_STRENGTH = .1"
   ]
  },
  {
   "cell_type": "code",
   "execution_count": 5,
   "metadata": {},
   "outputs": [],
   "source": [
    "# def get_arc_probs(nnodes, dags):\n",
    "#     poss_arcs = set(itr.permutations(range(nnodes), 2))\n",
    "#     counts = {arc: 0 for arc in poss_arcs}\n",
    "#     for dag in dags:\n",
    "#         for arc in dag.arcs:\n",
    "#             counts[arc] += 1\n",
    "#     return {arc: count/len(dags) for arc, count in counts.items()}"
   ]
  },
  {
   "cell_type": "code",
   "execution_count": 6,
   "metadata": {},
   "outputs": [],
   "source": [
    "# def l1_score_full(arc_probs, true_dag):\n",
    "#     possible_arcs = set(itr.permutations(true_dag.nodes, 2))\n",
    "#     nonarcs = possible_arcs - true_dag.arcs\n",
    "#     return sum(1-arc_probs[arc] for arc in true_dag.arcs) + sum(arc_probs[nonarc] for nonarc in nonarcs)\n",
    "\n",
    "\n",
    "# def l1_score_fp_full(arc_probs, true_dag):\n",
    "#     possible_arcs = set(itr.permutations(true_dag.nodes, 2))\n",
    "#     nonarcs = possible_arcs - true_dag.arcs\n",
    "#     return sum(arc_probs[nonarc] for nonarc in nonarcs)\n",
    "\n",
    "\n",
    "# def l1_score_fn_full(arc_probs, gdag):\n",
    "#     return sum(1-arc_probs[arc] for arc in true_dag.arcs)"
   ]
  },
  {
   "cell_type": "code",
   "execution_count": 31,
   "metadata": {},
   "outputs": [],
   "source": [
    "dag_folders = check_gies.get_dag_folders(dataset)\n",
    "true_dags = check_gies.get_true_dags(dag_folders)\n",
    "covs = [d.covariance for d in true_dags]\n",
    "true_dags_barren = [cd.DAG(set(dag.nodes), dag.arcs) for dag in true_dags]\n",
    "true_mecs_barren = [[cd.DAG(true_dag.nodes, arcs) for arcs in true_dag.cpdag().all_dags()] for true_dag in true_dags_barren]\n",
    "true_mecs = [[graph_utils.cov2dag(cov, d) for d in mec] for mec, cov in zip(true_mecs_barren, covs)]\n",
    "ndags = len(true_dags)\n",
    "\n",
    "strategy_names = ['budgeted_exp_design']\n",
    "ns = [24, 48, 96, 192]\n",
    "ks = [1, 2, 3]\n",
    "bs = [1, 2, 3]"
   ]
  },
  {
   "cell_type": "code",
   "execution_count": 32,
   "metadata": {},
   "outputs": [
    {
     "data": {
      "text/plain": [
       "[BinaryIntervention(intervention1=ConstantIntervention(val=-0.1), intervention2=ConstantIntervention(val=0.1), p=0.5),\n",
       " BinaryIntervention(intervention1=ConstantIntervention(val=-0.14142135623730953), intervention2=ConstantIntervention(val=0.14142135623730953), p=0.5),\n",
       " BinaryIntervention(intervention1=ConstantIntervention(val=-0.14142135623730953), intervention2=ConstantIntervention(val=0.14142135623730953), p=0.5),\n",
       " BinaryIntervention(intervention1=ConstantIntervention(val=-0.17320508075688773), intervention2=ConstantIntervention(val=0.17320508075688773), p=0.5),\n",
       " BinaryIntervention(intervention1=ConstantIntervention(val=-0.1), intervention2=ConstantIntervention(val=0.1), p=0.5),\n",
       " BinaryIntervention(intervention1=ConstantIntervention(val=-0.28284271247461906), intervention2=ConstantIntervention(val=0.28284271247461906), p=0.5),\n",
       " BinaryIntervention(intervention1=ConstantIntervention(val=-0.223606797749979), intervention2=ConstantIntervention(val=0.223606797749979), p=0.5),\n",
       " BinaryIntervention(intervention1=ConstantIntervention(val=-0.14142135623730953), intervention2=ConstantIntervention(val=0.14142135623730953), p=0.5),\n",
       " BinaryIntervention(intervention1=ConstantIntervention(val=-0.2449489742783178), intervention2=ConstantIntervention(val=0.2449489742783178), p=0.5),\n",
       " BinaryIntervention(intervention1=ConstantIntervention(val=-0.458257569495584), intervention2=ConstantIntervention(val=0.458257569495584), p=0.5),\n",
       " BinaryIntervention(intervention1=ConstantIntervention(val=-0.41231056256176607), intervention2=ConstantIntervention(val=0.41231056256176607), p=0.5),\n",
       " BinaryIntervention(intervention1=ConstantIntervention(val=-0.447213595499958), intervention2=ConstantIntervention(val=0.447213595499958), p=0.5),\n",
       " BinaryIntervention(intervention1=ConstantIntervention(val=-0.7810249675906654), intervention2=ConstantIntervention(val=0.7810249675906654), p=0.5),\n",
       " BinaryIntervention(intervention1=ConstantIntervention(val=-0.17320508075688773), intervention2=ConstantIntervention(val=0.17320508075688773), p=0.5),\n",
       " BinaryIntervention(intervention1=ConstantIntervention(val=-0.8), intervention2=ConstantIntervention(val=0.8), p=0.5),\n",
       " BinaryIntervention(intervention1=ConstantIntervention(val=-1.4282856857085702), intervention2=ConstantIntervention(val=1.4282856857085702), p=0.5),\n",
       " BinaryIntervention(intervention1=ConstantIntervention(val=-2.4474476501040834), intervention2=ConstantIntervention(val=2.4474476501040834), p=0.5),\n",
       " BinaryIntervention(intervention1=ConstantIntervention(val=-2.90516780926679), intervention2=ConstantIntervention(val=2.90516780926679), p=0.5),\n",
       " BinaryIntervention(intervention1=ConstantIntervention(val=-0.6480740698407861), intervention2=ConstantIntervention(val=0.6480740698407861), p=0.5),\n",
       " BinaryIntervention(intervention1=ConstantIntervention(val=-0.8774964387392123), intervention2=ConstantIntervention(val=0.8774964387392123), p=0.5),\n",
       " BinaryIntervention(intervention1=ConstantIntervention(val=-3.8845849199110063), intervention2=ConstantIntervention(val=3.8845849199110063), p=0.5),\n",
       " BinaryIntervention(intervention1=ConstantIntervention(val=-1.6941074346097418), intervention2=ConstantIntervention(val=1.6941074346097418), p=0.5),\n",
       " BinaryIntervention(intervention1=ConstantIntervention(val=-1.8138357147217055), intervention2=ConstantIntervention(val=1.8138357147217055), p=0.5),\n",
       " BinaryIntervention(intervention1=ConstantIntervention(val=-6.182232606429493), intervention2=ConstantIntervention(val=6.182232606429493), p=0.5),\n",
       " BinaryIntervention(intervention1=ConstantIntervention(val=-6.663332499583074), intervention2=ConstantIntervention(val=6.663332499583074), p=0.5)]"
      ]
     },
     "execution_count": 32,
     "metadata": {},
     "output_type": "execute_result"
    }
   ],
   "source": [
    "interventions_by_dag = [\n",
    "    [\n",
    "        cd.BinaryIntervention(\n",
    "            intervention1=cd.ConstantIntervention(val=-IV_STRENGTH*std),\n",
    "            intervention2=cd.ConstantIntervention(val=IV_STRENGTH*std),\n",
    "        ) for std in np.diag(true_dag.covariance)**.5\n",
    "    ]\n",
    "    for true_dag in true_dags\n",
    "]\n",
    "interventions_by_dag[0]"
   ]
  },
  {
   "cell_type": "code",
   "execution_count": 33,
   "metadata": {},
   "outputs": [
    {
     "name": "stdout",
     "output_type": "stream",
     "text": [
      "[(30, 1, 4, 3, 3), (8, 1, 4, 3, 3), (1, 1, 4, 3, 3), (6, 1, 4, 3, 3), (20, 1, 4, 3, 3), (12, 1, 4, 3, 3), (3, 1, 4, 3, 3), (8, 1, 4, 3, 3), (12, 1, 4, 3, 3), (1, 1, 4, 3, 3), (3, 1, 4, 3, 3), (12, 1, 4, 3, 3), (2, 1, 4, 3, 3), (3, 1, 4, 3, 3), (4, 1, 4, 3, 3), (24, 1, 4, 3, 3), (12, 1, 4, 3, 3), (4, 1, 4, 3, 3), (12, 1, 4, 3, 3), (6, 1, 4, 3, 3), (44, 1, 4, 3, 3), (3, 1, 4, 3, 3), (42, 1, 4, 3, 3), (8, 1, 4, 3, 3), (8, 1, 4, 3, 3), (6, 1, 4, 3, 3), (6, 1, 4, 3, 3), (18, 1, 4, 3, 3), (6, 1, 4, 3, 3), (4, 1, 4, 3, 3), (16, 1, 4, 3, 3), (6, 1, 4, 3, 3), (20, 1, 4, 3, 3), (1, 1, 4, 3, 3), (3, 1, 4, 3, 3), (18, 1, 4, 3, 3), (2, 1, 4, 3, 3), (8, 1, 4, 3, 3), (5, 1, 4, 3, 3), (3, 1, 4, 3, 3), (8, 1, 4, 3, 3), (3, 1, 4, 3, 3), (38, 1, 4, 3, 3), (80, 1, 4, 3, 3), (48, 1, 4, 3, 3), (6, 1, 4, 3, 3), (9, 1, 4, 3, 3), (12, 1, 4, 3, 3), (8, 1, 4, 3, 3), (2, 1, 4, 3, 3)]\n"
     ]
    }
   ],
   "source": [
    "mec_posteriors = []\n",
    "for true_dag, true_mec in zip(true_dags, true_mecs):\n",
    "    da = xr.DataArray(\n",
    "        np.zeros([len(true_mec), len(strategy_names), len(ns), len(bs), len(ks)]),\n",
    "        dims=['mec_member', 'strategy', 'n', 'b', 'k'],\n",
    "        coords={\n",
    "            'mec_member': list(range(len(true_mec))),\n",
    "            'strategy': strategy_names,\n",
    "            'n': ns,\n",
    "            'b': bs,\n",
    "            'k': ks\n",
    "        }\n",
    "    )\n",
    "    mec_posteriors.append(da)\n",
    "print([p.shape for p in mec_posteriors])"
   ]
  },
  {
   "cell_type": "code",
   "execution_count": 34,
   "metadata": {},
   "outputs": [
    {
     "name": "stderr",
     "output_type": "stream",
     "text": [
      "100%|██████████| 50/50 [06:44<00:00,  8.09s/it]\n"
     ]
    }
   ],
   "source": [
    "for dag_ix, dag_folder, true_dag, true_mec in tqdm(zip(range(ndags), dag_folders, true_dags, true_mecs), total=ndags):\n",
    "    for strat, n, b, k in itr.product(strategy_names, ns, bs, ks):\n",
    "        strat_str = '%s,n=%s,b=%s,k=%s' % (strat, n, b, k)\n",
    "        strat_folder = os.path.join(dag_folder, strat_str)\n",
    "        if os.path.exists(strat_folder):\n",
    "            log_posteriors = np.zeros(len(true_mec))\n",
    "\n",
    "            # == calculate log posteriors based on interventional data\n",
    "            for iv_node in list(range(nnodes)) + [-1]:\n",
    "                intervention_fn = os.path.join(dag_folder, strat_str, 'samples', 'intervention=%d.csv' % iv_node)\n",
    "                if sum(1 for line in open(intervention_fn)) != 0:\n",
    "                    samples = np.loadtxt(intervention_fn)\n",
    "                    if len(samples.shape) == 1:\n",
    "                        samples = np.array([samples])\n",
    "                    for mec_ix, mec_member in enumerate(true_mec):\n",
    "                        if iv_node == -1:\n",
    "                            logpdfs = mec_member.logpdf(samples)\n",
    "                        else:\n",
    "                            logpdfs = mec_member.logpdf(samples, {iv_node: interventions_by_dag[dag_ix][iv_node]})\n",
    "                        log_posteriors[mec_ix] += logpdfs.sum()\n",
    "\n",
    "            posteriors = np.exp(log_posteriors - logsumexp(log_posteriors))\n",
    "            if not np.isclose(posteriors.sum(), 1):\n",
    "                raise ValueError\n",
    "        mec_posteriors[dag_ix].loc[dict(strategy=strat, n=n, b=b, k=k)] = posteriors"
   ]
  },
  {
   "cell_type": "code",
   "execution_count": 11,
   "metadata": {},
   "outputs": [],
   "source": [
    "# l1_error_da = xr.DataArray(\n",
    "#     np.zeros([len(true_dags), len(strategy_names), len(ns), len(bs), len(ks)]),\n",
    "#     dims=['dag', 'strategy', 'n', 'b', 'k'],\n",
    "#     coords={\n",
    "#         'dag': list(range(len(true_dags))),\n",
    "#         'strategy': strategy_names,\n",
    "#         'n': ns,\n",
    "#         'b': bs,\n",
    "#         'k': ks\n",
    "#     }\n",
    "# )\n",
    "# for dag_ix, true_dag, true_mec in zip(range(len(true_dags)), true_dags, true_mecs):\n",
    "#     for strat, n, b, k in itr.product(strategy_names, ns, bs, ks):\n",
    "#         posteriors = mec_posteriors[dag_ix].loc[dict(strategy=strat, n=n, b=b, k=k)]\n",
    "#         ntrue = 0\n",
    "#         for mec_member, posterior in zip(true_mec, posteriors):\n",
    "#             if mec_member.arcs == true_dag.arcs:\n",
    "#                 ntrue += 1\n",
    "#                 penalty = 1 - posterior\n",
    "#             else:\n",
    "#                 penalty = posterior\n",
    "#             l1_error_da.loc[dict(dag=dag_ix, strategy=strat, n=n, b=b, k=k)] += penalty\n",
    "#         if ntrue != 1:\n",
    "#             raise ValueError"
   ]
  },
  {
   "cell_type": "code",
   "execution_count": 12,
   "metadata": {},
   "outputs": [],
   "source": [
    "# l1_error_da.shape"
   ]
  },
  {
   "cell_type": "code",
   "execution_count": 13,
   "metadata": {},
   "outputs": [],
   "source": [
    "# l1_error_da.sel(n=2048, b=1, k=4).mean(dim='dag')"
   ]
  },
  {
   "cell_type": "code",
   "execution_count": 14,
   "metadata": {},
   "outputs": [],
   "source": [
    "# for n, k, b in itr.product(ns, ks, bs):\n",
    "#     print(n, k, b)\n",
    "#     print(l1_error_da.sel(n=n, k=k, b=b).mean(dim='dag').values)"
   ]
  },
  {
   "cell_type": "code",
   "execution_count": 15,
   "metadata": {},
   "outputs": [],
   "source": [
    "# list(range(5))+[-1]"
   ]
  },
  {
   "cell_type": "code",
   "execution_count": 16,
   "metadata": {},
   "outputs": [],
   "source": [
    "# counts_da = check_samples.count_samples(dataset, strategy_names, ks, bs, ns)"
   ]
  },
  {
   "cell_type": "code",
   "execution_count": 17,
   "metadata": {},
   "outputs": [],
   "source": [
    "# rates_da = check_gies.get_rates_data_array(\n",
    "#     parent_probs_by_dag,\n",
    "#     true_dags,\n",
    "#     target=9,\n",
    "#     strategy_names=strategy_names,\n",
    "#     ks=ks,\n",
    "#     bs=bs,\n",
    "#     ns=ns,\n",
    "#     alphas=np.linspace(0, 1, 11)\n",
    "# )\n",
    "# print(rates_da.dims)"
   ]
  },
  {
   "cell_type": "markdown",
   "metadata": {},
   "source": [
    "### Plot curves for each strategy"
   ]
  },
  {
   "cell_type": "code",
   "execution_count": 35,
   "metadata": {},
   "outputs": [],
   "source": [
    "import matplotlib.pylab as plt\n",
    "import seaborn as sns\n",
    "import matplotlib.patches as mpatches\n",
    "import matplotlib.lines as mlines\n",
    "%matplotlib inline\n",
    "plt.rcParams[\"figure.figsize\"] =(20,12)\n",
    "sns.set(font_scale=1.5)"
   ]
  },
  {
   "cell_type": "code",
   "execution_count": 19,
   "metadata": {},
   "outputs": [],
   "source": [
    "\n",
    "# linestyles = ['solid', 'dashed', 'dotted']\n",
    "# colors = sns.color_palette()\n",
    "# sample_handles = [\n",
    "#     mlines.Line2D([0], [0], color='k', linestyle=linestyle, label=n) \n",
    "#     for n, linestyle in zip(ns, linestyles)\n",
    "# ]\n",
    "# strat_handles = [\n",
    "#     mpatches.Patch(facecolor=color, label=strat)\n",
    "#     for strat, color in zip(strategy_names, colors)\n",
    "# ]"
   ]
  },
  {
   "cell_type": "code",
   "execution_count": 20,
   "metadata": {},
   "outputs": [],
   "source": [
    "# plt.clf()\n",
    "\n",
    "# rate_avgs_da = rates_da.mean(dim='dag')\n",
    "# b=1\n",
    "# k=1\n",
    "# for strategy, color in zip(strategy_names, colors):\n",
    "#     for n, linestyle in zip(ns, linestyles):\n",
    "#         strat_avg_tprs = rate_avgs_da.sel(strategy=strategy, b=b, k=k, n=n, rate='tpr').values\n",
    "#         strat_avg_fprs = rate_avgs_da.sel(strategy=strategy, b=b, k=k, n=n, rate='fpr').values\n",
    "#         tpr_fpr_df = order_tpr_fpr(strat_avg_fprs, strat_avg_tprs)\n",
    "#         plt.plot(tpr_fpr_df['fpr'], tpr_fpr_df['tpr'], linestyle=linestyle, color=color)\n",
    "\n",
    "# plt.legend(\n",
    "#     handles=strat_handles + sample_handles\n",
    "# )\n",
    "# plt.title(dataset + ', batches=%s, k=%s' % (b, k))\n",
    "# plt.xlabel('Average FPR')\n",
    "# plt.ylabel('Average TPR');"
   ]
  },
  {
   "cell_type": "code",
   "execution_count": 21,
   "metadata": {},
   "outputs": [],
   "source": [
    "# fig, ax = plt.subplots(len(bs), len(ns), sharey=True, sharex=True)\n",
    "# k=1\n",
    "# for (b_ix, b), (n_ix, n) in itr.product(list(enumerate(bs)), list(enumerate(ns))):\n",
    "#     for strategy, color in zip(strategy_names, colors):\n",
    "#         avg_rates = rate_avgs_da.sel(strategy=strategy, b=b, k=k, n=n)\n",
    "#         tpr_fpr_df = order_tpr_fpr(avg_rates.sel(rate='fpr').values, avg_rates.sel(rate='tpr').values)\n",
    "#         ax[b_ix, n_ix].plot(tpr_fpr_df['fpr'], tpr_fpr_df['tpr'], color=color)\n",
    "#         if b_ix == len(bs)-1:\n",
    "#             ax[b_ix, n_ix].set_xlabel('n = %s' % n)\n",
    "#         if n_ix == 0:\n",
    "#             ax[b_ix, n_ix].set_ylabel('b = %s' % b)\n"
   ]
  },
  {
   "cell_type": "code",
   "execution_count": 36,
   "metadata": {},
   "outputs": [],
   "source": [
    "from scipy.stats import entropy"
   ]
  },
  {
   "cell_type": "code",
   "execution_count": 23,
   "metadata": {},
   "outputs": [],
   "source": [
    "# n = 256\n",
    "# k = 2\n",
    "# b = 2\n",
    "\n",
    "# c_e = counts_da.sel(strategy='entropy', k=k, b=b, n=n)/n\n",
    "# c_e"
   ]
  },
  {
   "cell_type": "code",
   "execution_count": 24,
   "metadata": {},
   "outputs": [],
   "source": [
    "# c_r = counts_da.sel(strategy='random', k=k, b=b, n=n)/n"
   ]
  },
  {
   "cell_type": "code",
   "execution_count": 41,
   "metadata": {},
   "outputs": [],
   "source": [
    "entropy_percent_da = xr.DataArray(\n",
    "    np.zeros([len(true_dags), len(ns), len(ks)]),\n",
    "    dims=['dag', 'n', 'k'],\n",
    "    coords={\n",
    "        'dag': list(range(len(true_dags))),\n",
    "        'n': ns,\n",
    "        'k': ks,\n",
    "    }\n",
    ")"
   ]
  },
  {
   "cell_type": "code",
   "execution_count": 48,
   "metadata": {},
   "outputs": [
    {
     "name": "stderr",
     "output_type": "stream",
     "text": [
      "/usr/local/lib/python3.6/site-packages/ipykernel_launcher.py:4: RuntimeWarning: invalid value encountered in double_scalars\n",
      "  after removing the cwd from sys.path.\n"
     ]
    }
   ],
   "source": [
    "for dag_ix, post in enumerate(mec_posteriors):\n",
    "    for k, n in itr.product(ks, ns):\n",
    "        p = post.sel(strategy='budgeted_exp_design', k=k, b=1, n=n)\n",
    "        entropy_percent_da.loc[dict(n=n, k=k, dag=dag_ix)] = (np.log2(len(p)) - entropy(p))/np.log2(len(p))"
   ]
  },
  {
   "cell_type": "code",
   "execution_count": 56,
   "metadata": {},
   "outputs": [
    {
     "data": {
      "text/plain": [
       "(0.3, 1)"
      ]
     },
     "execution_count": 56,
     "metadata": {},
     "output_type": "execute_result"
    },
    {
     "data": {
      "image/png": "[encoded data removed]",
      "text/plain": [
       "<matplotlib.figure.Figure at 0x116e3b438>"
      ]
     },
     "metadata": {},
     "output_type": "display_data"
    }
   ],
   "source": [
    "for k in ks:\n",
    "    entropies = entropy_percent_da.sel(k=k).mean(dim='dag')\n",
    "    plt.plot(ns, entropies, label='Number of unique interventions:' + str(k))\n",
    "plt.title('Performance of Budgeted Experiment Design')\n",
    "plt.ylabel('Average Entropy Reduction')\n",
    "plt.xlabel('Number of samples')\n",
    "plt.xticks(ns)\n",
    "plt.yticks([.4, .6, .8, 1])\n",
    "plt.legend()\n",
    "plt.ylim([.3, 1])"
   ]
  },
  {
   "cell_type": "code",
   "execution_count": 52,
   "metadata": {},
   "outputs": [
    {
     "ename": "ValueError",
     "evalue": "'dag' not found in array dimensions ('n',)",
     "output_type": "error",
     "traceback": [
      "\u001b[0;31m---------------------------------------------------------------------------\u001b[0m",
      "\u001b[0;31mValueError\u001b[0m                                Traceback (most recent call last)",
      "\u001b[0;32m/usr/local/lib/python3.6/site-packages/xarray/core/common.py\u001b[0m in \u001b[0;36m_get_axis_num\u001b[0;34m(self, dim)\u001b[0m\n\u001b[1;32m    134\u001b[0m         \u001b[0;32mtry\u001b[0m\u001b[0;34m:\u001b[0m\u001b[0;34m\u001b[0m\u001b[0m\n\u001b[0;32m--> 135\u001b[0;31m             \u001b[0;32mreturn\u001b[0m \u001b[0mself\u001b[0m\u001b[0;34m.\u001b[0m\u001b[0mdims\u001b[0m\u001b[0;34m.\u001b[0m\u001b[0mindex\u001b[0m\u001b[0;34m(\u001b[0m\u001b[0mdim\u001b[0m\u001b[0;34m)\u001b[0m\u001b[0;34m\u001b[0m\u001b[0m\n\u001b[0m\u001b[1;32m    136\u001b[0m         \u001b[0;32mexcept\u001b[0m \u001b[0mValueError\u001b[0m\u001b[0;34m:\u001b[0m\u001b[0;34m\u001b[0m\u001b[0m\n",
      "\u001b[0;31mValueError\u001b[0m: tuple.index(x): x not in tuple",
      "\nDuring handling of the above exception, another exception occurred:\n",
      "\u001b[0;31mValueError\u001b[0m                                Traceback (most recent call last)",
      "\u001b[0;32m<ipython-input-52-7a752fc5fbb7>\u001b[0m in \u001b[0;36m<module>\u001b[0;34m\u001b[0m\n\u001b[0;32m----> 1\u001b[0;31m \u001b[0mentropies\u001b[0m\u001b[0;34m.\u001b[0m\u001b[0mmean\u001b[0m\u001b[0;34m(\u001b[0m\u001b[0mdim\u001b[0m\u001b[0;34m=\u001b[0m\u001b[0;34m'dag'\u001b[0m\u001b[0;34m)\u001b[0m\u001b[0;34m\u001b[0m\u001b[0m\n\u001b[0m",
      "\u001b[0;32m/usr/local/lib/python3.6/site-packages/xarray/core/common.py\u001b[0m in \u001b[0;36mwrapped_func\u001b[0;34m(self, dim, axis, skipna, keep_attrs, **kwargs)\u001b[0m\n\u001b[1;32m     20\u001b[0m                              keep_attrs=False, **kwargs):\n\u001b[1;32m     21\u001b[0m                 return self.reduce(func, dim, axis, keep_attrs=keep_attrs,\n\u001b[0;32m---> 22\u001b[0;31m                                    skipna=skipna, allow_lazy=True, **kwargs)\n\u001b[0m\u001b[1;32m     23\u001b[0m         \u001b[0;32melse\u001b[0m\u001b[0;34m:\u001b[0m\u001b[0;34m\u001b[0m\u001b[0m\n\u001b[1;32m     24\u001b[0m             def wrapped_func(self, dim=None, axis=None, keep_attrs=False,\n",
      "\u001b[0;32m/usr/local/lib/python3.6/site-packages/xarray/core/dataarray.py\u001b[0m in \u001b[0;36mreduce\u001b[0;34m(self, func, dim, axis, keep_attrs, **kwargs)\u001b[0m\n\u001b[1;32m   1481\u001b[0m             \u001b[0msummarized\u001b[0m \u001b[0mdata\u001b[0m \u001b[0;32mand\u001b[0m \u001b[0mthe\u001b[0m \u001b[0mindicated\u001b[0m \u001b[0mdimension\u001b[0m\u001b[0;34m(\u001b[0m\u001b[0ms\u001b[0m\u001b[0;34m)\u001b[0m \u001b[0mremoved\u001b[0m\u001b[0;34m.\u001b[0m\u001b[0;34m\u001b[0m\u001b[0m\n\u001b[1;32m   1482\u001b[0m         \"\"\"\n\u001b[0;32m-> 1483\u001b[0;31m         \u001b[0mvar\u001b[0m \u001b[0;34m=\u001b[0m \u001b[0mself\u001b[0m\u001b[0;34m.\u001b[0m\u001b[0mvariable\u001b[0m\u001b[0;34m.\u001b[0m\u001b[0mreduce\u001b[0m\u001b[0;34m(\u001b[0m\u001b[0mfunc\u001b[0m\u001b[0;34m,\u001b[0m \u001b[0mdim\u001b[0m\u001b[0;34m,\u001b[0m \u001b[0maxis\u001b[0m\u001b[0;34m,\u001b[0m \u001b[0mkeep_attrs\u001b[0m\u001b[0;34m,\u001b[0m \u001b[0;34m**\u001b[0m\u001b[0mkwargs\u001b[0m\u001b[0;34m)\u001b[0m\u001b[0;34m\u001b[0m\u001b[0m\n\u001b[0m\u001b[1;32m   1484\u001b[0m         \u001b[0;32mreturn\u001b[0m \u001b[0mself\u001b[0m\u001b[0;34m.\u001b[0m\u001b[0m_replace_maybe_drop_dims\u001b[0m\u001b[0;34m(\u001b[0m\u001b[0mvar\u001b[0m\u001b[0;34m)\u001b[0m\u001b[0;34m\u001b[0m\u001b[0m\n\u001b[1;32m   1485\u001b[0m \u001b[0;34m\u001b[0m\u001b[0m\n",
      "\u001b[0;32m/usr/local/lib/python3.6/site-packages/xarray/core/variable.py\u001b[0m in \u001b[0;36mreduce\u001b[0;34m(self, func, dim, axis, keep_attrs, allow_lazy, **kwargs)\u001b[0m\n\u001b[1;32m   1260\u001b[0m \u001b[0;34m\u001b[0m\u001b[0m\n\u001b[1;32m   1261\u001b[0m         \u001b[0;32mif\u001b[0m \u001b[0mdim\u001b[0m \u001b[0;32mis\u001b[0m \u001b[0;32mnot\u001b[0m \u001b[0;32mNone\u001b[0m\u001b[0;34m:\u001b[0m\u001b[0;34m\u001b[0m\u001b[0m\n\u001b[0;32m-> 1262\u001b[0;31m             \u001b[0maxis\u001b[0m \u001b[0;34m=\u001b[0m \u001b[0mself\u001b[0m\u001b[0;34m.\u001b[0m\u001b[0mget_axis_num\u001b[0m\u001b[0;34m(\u001b[0m\u001b[0mdim\u001b[0m\u001b[0;34m)\u001b[0m\u001b[0;34m\u001b[0m\u001b[0m\n\u001b[0m\u001b[1;32m   1263\u001b[0m         data = func(self.data if allow_lazy else self.values,\n\u001b[1;32m   1264\u001b[0m                     axis=axis, **kwargs)\n",
      "\u001b[0;32m/usr/local/lib/python3.6/site-packages/xarray/core/common.py\u001b[0m in \u001b[0;36mget_axis_num\u001b[0;34m(self, dim)\u001b[0m\n\u001b[1;32m    127\u001b[0m         \"\"\"\n\u001b[1;32m    128\u001b[0m         \u001b[0;32mif\u001b[0m \u001b[0misinstance\u001b[0m\u001b[0;34m(\u001b[0m\u001b[0mdim\u001b[0m\u001b[0;34m,\u001b[0m \u001b[0mbasestring\u001b[0m\u001b[0;34m)\u001b[0m\u001b[0;34m:\u001b[0m\u001b[0;34m\u001b[0m\u001b[0m\n\u001b[0;32m--> 129\u001b[0;31m             \u001b[0;32mreturn\u001b[0m \u001b[0mself\u001b[0m\u001b[0;34m.\u001b[0m\u001b[0m_get_axis_num\u001b[0m\u001b[0;34m(\u001b[0m\u001b[0mdim\u001b[0m\u001b[0;34m)\u001b[0m\u001b[0;34m\u001b[0m\u001b[0m\n\u001b[0m\u001b[1;32m    130\u001b[0m         \u001b[0;32melse\u001b[0m\u001b[0;34m:\u001b[0m\u001b[0;34m\u001b[0m\u001b[0m\n\u001b[1;32m    131\u001b[0m             \u001b[0;32mreturn\u001b[0m \u001b[0mtuple\u001b[0m\u001b[0;34m(\u001b[0m\u001b[0mself\u001b[0m\u001b[0;34m.\u001b[0m\u001b[0m_get_axis_num\u001b[0m\u001b[0;34m(\u001b[0m\u001b[0md\u001b[0m\u001b[0;34m)\u001b[0m \u001b[0;32mfor\u001b[0m \u001b[0md\u001b[0m \u001b[0;32min\u001b[0m \u001b[0mdim\u001b[0m\u001b[0;34m)\u001b[0m\u001b[0;34m\u001b[0m\u001b[0m\n",
      "\u001b[0;32m/usr/local/lib/python3.6/site-packages/xarray/core/common.py\u001b[0m in \u001b[0;36m_get_axis_num\u001b[0;34m(self, dim)\u001b[0m\n\u001b[1;32m    136\u001b[0m         \u001b[0;32mexcept\u001b[0m \u001b[0mValueError\u001b[0m\u001b[0;34m:\u001b[0m\u001b[0;34m\u001b[0m\u001b[0m\n\u001b[1;32m    137\u001b[0m             raise ValueError(\"%r not found in array dimensions %r\" %\n\u001b[0;32m--> 138\u001b[0;31m                              (dim, self.dims))\n\u001b[0m\u001b[1;32m    139\u001b[0m \u001b[0;34m\u001b[0m\u001b[0m\n\u001b[1;32m    140\u001b[0m     \u001b[0;34m@\u001b[0m\u001b[0mproperty\u001b[0m\u001b[0;34m\u001b[0m\u001b[0m\n",
      "\u001b[0;31mValueError\u001b[0m: 'dag' not found in array dimensions ('n',)"
     ]
    }
   ],
   "source": [
    "entropies.mean(dim='dag')"
   ]
  },
  {
   "cell_type": "code",
   "execution_count": 54,
   "metadata": {},
   "outputs": [
    {
     "data": {
      "text/plain": [
       "<xarray.DataArray (n: 4, k: 3)>\n",
       "array([[0.619368, 0.672744, 0.598757],\n",
       "       [0.707247, 0.778249, 0.734428],\n",
       "       [0.737678, 0.826682, 0.825004],\n",
       "       [0.743938, 0.906964, 0.941422]])\n",
       "Coordinates:\n",
       "  * n        (n) int64 24 48 96 192\n",
       "  * k        (k) int64 1 2 3"
      ]
     },
     "execution_count": 54,
     "metadata": {},
     "output_type": "execute_result"
    }
   ],
   "source": [
    "entropy_percent_da.mean(dim='dag')"
   ]
  },
  {
   "cell_type": "code",
   "execution_count": null,
   "metadata": {},
   "outputs": [],
   "source": []
  }
 ],
 "metadata": {
  "kernelspec": {
   "display_name": "Python 3",
   "language": "python",
   "name": "python3"
  },
  "language_info": {
   "codemirror_mode": {
    "name": "ipython",
    "version": 3
   },
   "file_extension": ".py",
   "mimetype": "text/x-python",
   "name": "python",
   "nbconvert_exporter": "python",
   "pygments_lexer": "ipython3",
   "version": "3.6.5"
  }
 },
 "nbformat": 4,
 "nbformat_minor": 1
}
