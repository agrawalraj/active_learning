{
 "cells": [
  {
   "cell_type": "markdown",
   "metadata": {},
   "source": [
    "### Dataset to use - change this value to analyze a different data set"
   ]
  },
  {
   "cell_type": "code",
   "execution_count": 1,
   "metadata": {},
   "outputs": [],
   "source": [
    "dataset = 'twenty'"
   ]
  },
  {
   "cell_type": "markdown",
   "metadata": {},
   "source": [
    "### Load in parent probabilities and rates"
   ]
  },
  {
   "cell_type": "code",
   "execution_count": 2,
   "metadata": {},
   "outputs": [],
   "source": [
    "from analysis import check_gies"
   ]
  },
  {
   "cell_type": "code",
   "execution_count": 3,
   "metadata": {},
   "outputs": [
    {
     "name": "stdout",
     "output_type": "stream",
     "text": [
      "loaded DAGs\n",
      "Computed parent probabilities\n"
     ]
    }
   ],
   "source": [
    "dag_folders = check_gies.get_dag_folders(dataset)\n",
    "true_dags = check_gies.get_true_dags(dag_folders)\n",
    "print('loaded DAGs')\n",
    "parent_probs_by_dag = check_gies.get_parent_probs_by_dag(dag_folders, 10)\n",
    "print('Computed parent probabilities')"
   ]
  },
  {
   "cell_type": "markdown",
   "metadata": {},
   "source": [
    "### This little section is to check the results from the rates_da. Can be deleted"
   ]
  },
  {
   "cell_type": "code",
   "execution_count": 4,
   "metadata": {},
   "outputs": [],
   "source": [
    "import numpy as np"
   ]
  },
  {
   "cell_type": "code",
   "execution_count": 14,
   "metadata": {},
   "outputs": [],
   "source": [
    "alphas = np.linspace(0, 1, 11)\n",
    "avg_tprs = np.zeros(len(alphas))\n",
    "avg_fprs = np.zeros(len(alphas))\n",
    "for a_ix, alpha in enumerate(alphas):\n",
    "    tprs = []\n",
    "    fprs = []\n",
    "    for dag_num, (true_dag, parent_probs_by_strat) in enumerate(zip(true_dags, parent_probs_by_dag)):\n",
    "        true_parents = true_dag.parents[10]\n",
    "        true_nonparents = true_dag.nodes - true_parents - {10}\n",
    "        labelled_parents = {p for p, prob in parent_probs_by_strat['learn-parents,n=60,b=2,k=2'].items() if prob >= alpha}\n",
    "        true_positives = true_parents & labelled_parents\n",
    "        false_positives = true_nonparents & labelled_parents\n",
    "        tprs.append(len(true_positives) / len(true_parents) if len(true_parents) != 0 else 1)\n",
    "        fprs.append(len(false_positives) / len(true_nonparents) if len(true_nonparents) != 0 else 0)\n",
    "    avg_tprs[a_ix] = np.mean(tprs)\n",
    "    avg_fprs[a_ix] = np.mean(fprs)"
   ]
  },
  {
   "cell_type": "code",
   "execution_count": 15,
   "metadata": {},
   "outputs": [
    {
     "data": {
      "text/plain": [
       "array([1.        , 0.78468069, 0.64318937, 0.5587117 , 0.48572351,\n",
       "       0.40992063, 0.3440753 , 0.28142303, 0.23870432, 0.15276855,\n",
       "       0.03255814])"
      ]
     },
     "execution_count": 15,
     "metadata": {},
     "output_type": "execute_result"
    }
   ],
   "source": [
    "avg_tprs"
   ]
  },
  {
   "cell_type": "markdown",
   "metadata": {},
   "source": [
    "### Load the rates DataArray, a 7-dimensional tensor mapping each strategy (strategy name, n, b, k) and significance level to the value of a rate for all DAGs"
   ]
  },
  {
   "cell_type": "code",
   "execution_count": 34,
   "metadata": {},
   "outputs": [],
   "source": [
    "strategy_names = ['random', 'edge-prob', 'learn-parents']\n",
    "ks = [2]\n",
    "bs = [2, 3]\n",
    "ns = [60, 120]"
   ]
  },
  {
   "cell_type": "code",
   "execution_count": 35,
   "metadata": {},
   "outputs": [
    {
     "name": "stdout",
     "output_type": "stream",
     "text": [
      "Loading parent probabilities for DAG 0\n",
      "Loading parent probabilities for DAG 10\n",
      "Loading parent probabilities for DAG 20\n",
      "Loading parent probabilities for DAG 30\n",
      "Loading parent probabilities for DAG 40\n",
      "('strategy', 'k', 'b', 'n', 'alpha', 'rate', 'dag')\n"
     ]
    }
   ],
   "source": [
    "rates_da = check_gies.get_rates_data_array(\n",
    "    parent_probs_by_dag,\n",
    "    true_dags,\n",
    "    target=10,\n",
    "    strategy_names=strategy_names,\n",
    "    ks=ks,\n",
    "    bs=bs,\n",
    "    ns=ns,\n",
    "    alphas=np.linspace(0, 1, 11)\n",
    ")\n",
    "print(rates_da.dims)"
   ]
  },
  {
   "cell_type": "markdown",
   "metadata": {},
   "source": [
    "### Plot curves for each strategy"
   ]
  },
  {
   "cell_type": "code",
   "execution_count": 36,
   "metadata": {},
   "outputs": [],
   "source": [
    "import matplotlib.pyplot as plt\n",
    "import seaborn as sns\n",
    "import matplotlib.patches as mpatches\n",
    "import matplotlib.lines as mlines\n",
    "%matplotlib inline\n",
    "sns.set()"
   ]
  },
  {
   "cell_type": "code",
   "execution_count": 41,
   "metadata": {},
   "outputs": [],
   "source": [
    "linestyles = ['solid', 'dashed']"
   ]
  },
  {
   "cell_type": "code",
   "execution_count": 42,
   "metadata": {},
   "outputs": [
    {
     "data": {
      "image/png": "[encoded data removed]",
      "text/plain": [
       "<matplotlib.figure.Figure at 0x10d1dd358>"
      ]
     },
     "metadata": {},
     "output_type": "display_data"
    }
   ],
   "source": [
    "rate_avgs_da = rates_da.mean(dim='dag')\n",
    "for strategy, color in zip(strategy_names, sns.color_palette()):\n",
    "    for n, linestyle in zip(ns, linestyles):\n",
    "        strat_avg_tprs = rate_avgs_da.sel(strategy=strategy, b=3, k=2, n=n, rate='tpr').values\n",
    "        strat_avg_fprs = rate_avgs_da.sel(strategy=strategy, b=3, k=2, n=n, rate='fpr').values\n",
    "\n",
    "        sort_ixs = np.argsort(strat_avg_fprs)\n",
    "        plt.plot(strat_avg_fprs[sort_ixs], strat_avg_tprs[sort_ixs], linestyle=linestyle, color=color)\n",
    "\n",
    "strat_handles = [\n",
    "    mpatches.Patch(facecolor=color, label=s)\n",
    "    for s, color in zip(strategy_names, sns.color_palette())\n",
    "]\n",
    "sample_handles = [\n",
    "    mlines.Line2D([0], [0], color='k', linestyle=linestyle, label=n) \n",
    "    for n, linestyle in zip(ns, linestyles)\n",
    "]\n",
    "plt.legend(\n",
    "    handles=strat_handles + sample_handles\n",
    ")\n",
    "plt.xlabel('Average FPR')\n",
    "plt.ylabel('Average TPR')\n",
    "plt.legend();"
   ]
  },
  {
   "cell_type": "code",
   "execution_count": null,
   "metadata": {},
   "outputs": [],
   "source": []
  }
 ],
 "metadata": {
  "kernelspec": {
   "display_name": "Python 3",
   "language": "python",
   "name": "python3"
  },
  "language_info": {
   "codemirror_mode": {
    "name": "ipython",
    "version": 3
   },
   "file_extension": ".py",
   "mimetype": "text/x-python",
   "name": "python",
   "nbconvert_exporter": "python",
   "pygments_lexer": "ipython3",
   "version": "3.6.5"
  }
 },
 "nbformat": 4,
 "nbformat_minor": 1
}
