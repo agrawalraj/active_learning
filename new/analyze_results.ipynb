{
 "cells": [
  {
   "cell_type": "markdown",
   "metadata": {},
   "source": [
    "### Dataset to use - change this value to analyze a different data set"
   ]
  },
  {
   "cell_type": "code",
   "execution_count": 1,
   "metadata": {},
   "outputs": [],
   "source": [
    "dataset = 'twenty_sparse'"
   ]
  },
  {
   "cell_type": "code",
   "execution_count": 2,
   "metadata": {},
   "outputs": [
    {
     "data": {
      "text/plain": [
       "[]"
      ]
     },
     "execution_count": 2,
     "metadata": {},
     "output_type": "execute_result"
    }
   ],
   "source": [
    "from analysis import check_folder\n",
    "check_folder.check_folder(dataset)"
   ]
  },
  {
   "cell_type": "code",
   "execution_count": 3,
   "metadata": {},
   "outputs": [],
   "source": [
    "import pandas as pd\n",
    "\n",
    "def order_tpr_fpr(fprs, tprs):\n",
    "    df = pd.DataFrame(dict(fpr=fprs, tpr=tprs))\n",
    "    df.sort_values('fpr', ascending=False)\n",
    "    df.drop_duplicates(subset='fpr', keep='last', inplace=True)\n",
    "    return df\n",
    "    \n",
    "    \n",
    "a = order_tpr_fpr([.2, .1, .2], [.3, .2, .4])"
   ]
  },
  {
   "cell_type": "markdown",
   "metadata": {},
   "source": [
    "### Load in parent probabilities and rates"
   ]
  },
  {
   "cell_type": "code",
   "execution_count": 4,
   "metadata": {},
   "outputs": [],
   "source": [
    "from analysis import check_gies\n",
    "import numpy as np\n",
    "import itertools as itr"
   ]
  },
  {
   "cell_type": "code",
   "execution_count": 5,
   "metadata": {},
   "outputs": [
    {
     "name": "stdout",
     "output_type": "stream",
     "text": [
      "loaded DAGs\n",
      "/Users/chandlersquires/Documents/active_learning/new/data/twenty_sparse/dags/dag0\n",
      "/Users/chandlersquires/Documents/active_learning/new/data/twenty_sparse/dags/dag7\n",
      "/Users/chandlersquires/Documents/active_learning/new/data/twenty_sparse/dags/dag9\n",
      "/Users/chandlersquires/Documents/active_learning/new/data/twenty_sparse/dags/dag8\n",
      "/Users/chandlersquires/Documents/active_learning/new/data/twenty_sparse/dags/dag6\n",
      "/Users/chandlersquires/Documents/active_learning/new/data/twenty_sparse/dags/dag1\n",
      "/Users/chandlersquires/Documents/active_learning/new/data/twenty_sparse/dags/dag34\n",
      "/Users/chandlersquires/Documents/active_learning/new/data/twenty_sparse/dags/dag33\n",
      "/Users/chandlersquires/Documents/active_learning/new/data/twenty_sparse/dags/dag32\n",
      "/Users/chandlersquires/Documents/active_learning/new/data/twenty_sparse/dags/dag35\n",
      "/Users/chandlersquires/Documents/active_learning/new/data/twenty_sparse/dags/dag44\n",
      "/Users/chandlersquires/Documents/active_learning/new/data/twenty_sparse/dags/dag43\n",
      "/Users/chandlersquires/Documents/active_learning/new/data/twenty_sparse/dags/dag19\n",
      "/Users/chandlersquires/Documents/active_learning/new/data/twenty_sparse/dags/dag26\n",
      "/Users/chandlersquires/Documents/active_learning/new/data/twenty_sparse/dags/dag21\n",
      "/Users/chandlersquires/Documents/active_learning/new/data/twenty_sparse/dags/dag28\n",
      "/Users/chandlersquires/Documents/active_learning/new/data/twenty_sparse/dags/dag17\n",
      "/Users/chandlersquires/Documents/active_learning/new/data/twenty_sparse/dags/dag10\n",
      "/Users/chandlersquires/Documents/active_learning/new/data/twenty_sparse/dags/dag42\n",
      "/Users/chandlersquires/Documents/active_learning/new/data/twenty_sparse/dags/dag45\n",
      "/Users/chandlersquires/Documents/active_learning/new/data/twenty_sparse/dags/dag11\n",
      "/Users/chandlersquires/Documents/active_learning/new/data/twenty_sparse/dags/dag29\n",
      "/Users/chandlersquires/Documents/active_learning/new/data/twenty_sparse/dags/dag16\n",
      "/Users/chandlersquires/Documents/active_learning/new/data/twenty_sparse/dags/dag20\n",
      "/Users/chandlersquires/Documents/active_learning/new/data/twenty_sparse/dags/dag18\n",
      "/Users/chandlersquires/Documents/active_learning/new/data/twenty_sparse/dags/dag27\n",
      "/Users/chandlersquires/Documents/active_learning/new/data/twenty_sparse/dags/dag4\n",
      "/Users/chandlersquires/Documents/active_learning/new/data/twenty_sparse/dags/dag3\n",
      "/Users/chandlersquires/Documents/active_learning/new/data/twenty_sparse/dags/dag2\n",
      "/Users/chandlersquires/Documents/active_learning/new/data/twenty_sparse/dags/dag5\n",
      "/Users/chandlersquires/Documents/active_learning/new/data/twenty_sparse/dags/dag39\n",
      "/Users/chandlersquires/Documents/active_learning/new/data/twenty_sparse/dags/dag30\n",
      "/Users/chandlersquires/Documents/active_learning/new/data/twenty_sparse/dags/dag37\n",
      "/Users/chandlersquires/Documents/active_learning/new/data/twenty_sparse/dags/dag36\n",
      "/Users/chandlersquires/Documents/active_learning/new/data/twenty_sparse/dags/dag31\n",
      "/Users/chandlersquires/Documents/active_learning/new/data/twenty_sparse/dags/dag38\n",
      "/Users/chandlersquires/Documents/active_learning/new/data/twenty_sparse/dags/dag22\n",
      "/Users/chandlersquires/Documents/active_learning/new/data/twenty_sparse/dags/dag25\n",
      "/Users/chandlersquires/Documents/active_learning/new/data/twenty_sparse/dags/dag13\n",
      "/Users/chandlersquires/Documents/active_learning/new/data/twenty_sparse/dags/dag14\n",
      "/Users/chandlersquires/Documents/active_learning/new/data/twenty_sparse/dags/dag40\n",
      "/Users/chandlersquires/Documents/active_learning/new/data/twenty_sparse/dags/dag47\n",
      "/Users/chandlersquires/Documents/active_learning/new/data/twenty_sparse/dags/dag49\n",
      "/Users/chandlersquires/Documents/active_learning/new/data/twenty_sparse/dags/dag15\n",
      "/Users/chandlersquires/Documents/active_learning/new/data/twenty_sparse/dags/dag12\n",
      "/Users/chandlersquires/Documents/active_learning/new/data/twenty_sparse/dags/dag24\n",
      "/Users/chandlersquires/Documents/active_learning/new/data/twenty_sparse/dags/dag23\n",
      "/Users/chandlersquires/Documents/active_learning/new/data/twenty_sparse/dags/dag48\n",
      "/Users/chandlersquires/Documents/active_learning/new/data/twenty_sparse/dags/dag46\n",
      "/Users/chandlersquires/Documents/active_learning/new/data/twenty_sparse/dags/dag41\n",
      "Computed parent probabilities\n"
     ]
    }
   ],
   "source": [
    "dag_folders = check_gies.get_dag_folders(dataset)\n",
    "true_dags = check_gies.get_true_dags(dag_folders)\n",
    "print('loaded DAGs')\n",
    "parent_probs_by_dag = check_gies.get_parent_probs_by_dag(dag_folders, 9)\n",
    "print('Computed parent probabilities')"
   ]
  },
  {
   "cell_type": "markdown",
   "metadata": {},
   "source": [
    "### Load the rates DataArray, a 7-dimensional tensor mapping each strategy (strategy name, n, b, k) and significance level to the value of a rate for all DAGs"
   ]
  },
  {
   "cell_type": "code",
   "execution_count": 6,
   "metadata": {},
   "outputs": [
    {
     "data": {
      "text/plain": [
       "array([0. , 0.1, 0.2, 0.3, 0.4, 0.5, 0.6, 0.7, 0.8, 0.9, 1. ])"
      ]
     },
     "execution_count": 6,
     "metadata": {},
     "output_type": "execute_result"
    }
   ],
   "source": [
    "strategy_names = ['entropy']\n",
    "ks = [2]\n",
    "bs = [1, 2]\n",
    "ns = [12, 24, 48]\n",
    "np.linspace(0, 1, 11)"
   ]
  },
  {
   "cell_type": "code",
   "execution_count": 7,
   "metadata": {},
   "outputs": [
    {
     "name": "stdout",
     "output_type": "stream",
     "text": [
      "('strategy', 'k', 'b', 'n', 'alpha', 'rate', 'dag')\n"
     ]
    }
   ],
   "source": [
    "rates_da = check_gies.get_rates_data_array(\n",
    "    parent_probs_by_dag,\n",
    "    true_dags,\n",
    "    target=9,\n",
    "    strategy_names=strategy_names,\n",
    "    ks=ks,\n",
    "    bs=bs,\n",
    "    ns=ns,\n",
    "    alphas=np.linspace(0, 1, 11)\n",
    ")\n",
    "print(rates_da.dims)"
   ]
  },
  {
   "cell_type": "markdown",
   "metadata": {},
   "source": [
    "### Plot curves for each strategy"
   ]
  },
  {
   "cell_type": "code",
   "execution_count": 8,
   "metadata": {},
   "outputs": [],
   "source": [
    "import matplotlib.pylab as plt\n",
    "import seaborn as sns\n",
    "import matplotlib.patches as mpatches\n",
    "import matplotlib.lines as mlines\n",
    "%matplotlib inline\n",
    "plt.rcParams[\"figure.figsize\"] =(20,12)\n",
    "sns.set(font_scale=1.5)"
   ]
  },
  {
   "cell_type": "code",
   "execution_count": 9,
   "metadata": {},
   "outputs": [],
   "source": [
    "\n",
    "linestyles = ['solid', 'dashed', 'dotted']\n",
    "colors = sns.color_palette()\n",
    "sample_handles = [\n",
    "    mlines.Line2D([0], [0], color='k', linestyle=linestyle, label=n) \n",
    "    for n, linestyle in zip(ns, linestyles)\n",
    "]\n",
    "strat_handles = [\n",
    "    mpatches.Patch(facecolor=color, label=strat)\n",
    "    for strat, color in zip(strategy_names, colors)\n",
    "]"
   ]
  },
  {
   "cell_type": "code",
   "execution_count": 13,
   "metadata": {},
   "outputs": [
    {
     "data": {
      "image/png": "[encoded data removed]",
      "text/plain": [
       "<matplotlib.figure.Figure at 0x10ffe5dd8>"
      ]
     },
     "metadata": {},
     "output_type": "display_data"
    }
   ],
   "source": [
    "plt.clf()\n",
    "\n",
    "rate_avgs_da = rates_da.mean(dim='dag')\n",
    "b=1\n",
    "for strategy, color in zip(strategy_names, colors):\n",
    "    for n, linestyle in zip(ns, linestyles):\n",
    "        strat_avg_tprs = rate_avgs_da.sel(strategy=strategy, b=b, k=2, n=n, rate='tpr').values\n",
    "        strat_avg_fprs = rate_avgs_da.sel(strategy=strategy, b=b, k=2, n=n, rate='fpr').values\n",
    "        tpr_fpr_df = order_tpr_fpr(strat_avg_fprs, strat_avg_tprs)\n",
    "        plt.plot(tpr_fpr_df['fpr'], tpr_fpr_df['tpr'], linestyle=linestyle, color=color)\n",
    "\n",
    "plt.legend(\n",
    "    handles=strat_handles + sample_handles\n",
    ")\n",
    "plt.title(dataset + ', batches=%s' % b)\n",
    "plt.xlabel('Average FPR')\n",
    "plt.ylabel('Average TPR');"
   ]
  },
  {
   "cell_type": "code",
   "execution_count": 11,
   "metadata": {},
   "outputs": [
    {
     "data": {
      "image/png": "[encoded data removed]",
      "text/plain": [
       "<matplotlib.figure.Figure at 0x10fd8cac8>"
      ]
     },
     "metadata": {},
     "output_type": "display_data"
    }
   ],
   "source": [
    "fig, ax = plt.subplots(len(bs), len(ns), sharey=True, sharex=True)\n",
    "for (b_ix, b), (n_ix, n) in itr.product(list(enumerate(bs)), list(enumerate(ns))):\n",
    "    for strategy, color in zip(strategy_names, colors):\n",
    "        avg_rates = rate_avgs_da.sel(strategy=strategy, b=b, k=2, n=n)\n",
    "        tpr_fpr_df = order_tpr_fpr(avg_rates.sel(rate='fpr').values, avg_rates.sel(rate='tpr').values)\n",
    "        ax[b_ix, n_ix].plot(tpr_fpr_df['fpr'], tpr_fpr_df['tpr'], color=color)\n",
    "        if b_ix == len(bs)-1:\n",
    "            ax[b_ix, n_ix].set_xlabel('n = %s' % n)\n",
    "        if n_ix == 0:\n",
    "            ax[b_ix, n_ix].set_ylabel('b = %s' % b)\n"
   ]
  },
  {
   "cell_type": "code",
   "execution_count": 12,
   "metadata": {},
   "outputs": [
    {
     "data": {
      "text/plain": [
       "[12, 24, 48]"
      ]
     },
     "execution_count": 12,
     "metadata": {},
     "output_type": "execute_result"
    }
   ],
   "source": [
    "ns"
   ]
  },
  {
   "cell_type": "code",
   "execution_count": null,
   "metadata": {},
   "outputs": [],
   "source": []
  }
 ],
 "metadata": {
  "kernelspec": {
   "display_name": "Python 3",
   "language": "python",
   "name": "python3"
  },
  "language_info": {
   "codemirror_mode": {
    "name": "ipython",
    "version": 3
   },
   "file_extension": ".py",
   "mimetype": "text/x-python",
   "name": "python",
   "nbconvert_exporter": "python",
   "pygments_lexer": "ipython3",
   "version": "3.6.5"
  }
 },
 "nbformat": 4,
 "nbformat_minor": 1
}
