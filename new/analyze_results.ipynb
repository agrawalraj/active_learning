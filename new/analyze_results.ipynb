{
 "cells": [
  {
   "cell_type": "markdown",
   "metadata": {},
   "source": [
    "### Dataset to use - change this value to analyze a different data set"
   ]
  },
  {
   "cell_type": "code",
   "execution_count": 12,
   "metadata": {},
   "outputs": [],
   "source": [
    "dataset = 'twenty_sparse'"
   ]
  },
  {
   "cell_type": "code",
   "execution_count": 13,
   "metadata": {},
   "outputs": [
    {
     "data": {
      "text/plain": [
       "[]"
      ]
     },
     "execution_count": 13,
     "metadata": {},
     "output_type": "execute_result"
    }
   ],
   "source": [
    "from analysis import check_folder\n",
    "check_folder.check_folder(dataset)"
   ]
  },
  {
   "cell_type": "markdown",
   "metadata": {},
   "source": [
    "### Load in parent probabilities and rates"
   ]
  },
  {
   "cell_type": "code",
   "execution_count": 14,
   "metadata": {},
   "outputs": [],
   "source": [
    "from analysis import check_gies\n",
    "import numpy as np"
   ]
  },
  {
   "cell_type": "code",
   "execution_count": 15,
   "metadata": {},
   "outputs": [
    {
     "name": "stdout",
     "output_type": "stream",
     "text": [
      "loaded DAGs\n",
      "/Users/chandlersquires/Documents/active_learning/new/data/twenty_sparse/dags/dag0\n",
      "/Users/chandlersquires/Documents/active_learning/new/data/twenty_sparse/dags/dag7\n",
      "/Users/chandlersquires/Documents/active_learning/new/data/twenty_sparse/dags/dag9\n",
      "/Users/chandlersquires/Documents/active_learning/new/data/twenty_sparse/dags/dag8\n",
      "/Users/chandlersquires/Documents/active_learning/new/data/twenty_sparse/dags/dag6\n",
      "/Users/chandlersquires/Documents/active_learning/new/data/twenty_sparse/dags/dag1\n",
      "/Users/chandlersquires/Documents/active_learning/new/data/twenty_sparse/dags/dag34\n",
      "/Users/chandlersquires/Documents/active_learning/new/data/twenty_sparse/dags/dag33\n",
      "/Users/chandlersquires/Documents/active_learning/new/data/twenty_sparse/dags/dag32\n",
      "/Users/chandlersquires/Documents/active_learning/new/data/twenty_sparse/dags/dag35\n",
      "/Users/chandlersquires/Documents/active_learning/new/data/twenty_sparse/dags/dag44\n",
      "/Users/chandlersquires/Documents/active_learning/new/data/twenty_sparse/dags/dag43\n",
      "/Users/chandlersquires/Documents/active_learning/new/data/twenty_sparse/dags/dag19\n",
      "/Users/chandlersquires/Documents/active_learning/new/data/twenty_sparse/dags/dag26\n",
      "/Users/chandlersquires/Documents/active_learning/new/data/twenty_sparse/dags/dag21\n",
      "/Users/chandlersquires/Documents/active_learning/new/data/twenty_sparse/dags/dag28\n",
      "/Users/chandlersquires/Documents/active_learning/new/data/twenty_sparse/dags/dag17\n",
      "/Users/chandlersquires/Documents/active_learning/new/data/twenty_sparse/dags/dag10\n",
      "/Users/chandlersquires/Documents/active_learning/new/data/twenty_sparse/dags/dag42\n",
      "/Users/chandlersquires/Documents/active_learning/new/data/twenty_sparse/dags/dag45\n",
      "/Users/chandlersquires/Documents/active_learning/new/data/twenty_sparse/dags/dag11\n",
      "/Users/chandlersquires/Documents/active_learning/new/data/twenty_sparse/dags/dag29\n",
      "/Users/chandlersquires/Documents/active_learning/new/data/twenty_sparse/dags/dag16\n",
      "/Users/chandlersquires/Documents/active_learning/new/data/twenty_sparse/dags/dag20\n",
      "/Users/chandlersquires/Documents/active_learning/new/data/twenty_sparse/dags/dag18\n",
      "/Users/chandlersquires/Documents/active_learning/new/data/twenty_sparse/dags/dag27\n",
      "/Users/chandlersquires/Documents/active_learning/new/data/twenty_sparse/dags/dag4\n",
      "/Users/chandlersquires/Documents/active_learning/new/data/twenty_sparse/dags/dag3\n",
      "/Users/chandlersquires/Documents/active_learning/new/data/twenty_sparse/dags/dag2\n",
      "/Users/chandlersquires/Documents/active_learning/new/data/twenty_sparse/dags/dag5\n",
      "/Users/chandlersquires/Documents/active_learning/new/data/twenty_sparse/dags/dag39\n",
      "/Users/chandlersquires/Documents/active_learning/new/data/twenty_sparse/dags/dag30\n",
      "/Users/chandlersquires/Documents/active_learning/new/data/twenty_sparse/dags/dag37\n",
      "/Users/chandlersquires/Documents/active_learning/new/data/twenty_sparse/dags/dag36\n",
      "/Users/chandlersquires/Documents/active_learning/new/data/twenty_sparse/dags/dag31\n",
      "/Users/chandlersquires/Documents/active_learning/new/data/twenty_sparse/dags/dag38\n",
      "/Users/chandlersquires/Documents/active_learning/new/data/twenty_sparse/dags/dag22\n",
      "/Users/chandlersquires/Documents/active_learning/new/data/twenty_sparse/dags/dag25\n",
      "/Users/chandlersquires/Documents/active_learning/new/data/twenty_sparse/dags/dag13\n",
      "/Users/chandlersquires/Documents/active_learning/new/data/twenty_sparse/dags/dag14\n",
      "/Users/chandlersquires/Documents/active_learning/new/data/twenty_sparse/dags/dag40\n",
      "/Users/chandlersquires/Documents/active_learning/new/data/twenty_sparse/dags/dag47\n",
      "/Users/chandlersquires/Documents/active_learning/new/data/twenty_sparse/dags/dag49\n",
      "/Users/chandlersquires/Documents/active_learning/new/data/twenty_sparse/dags/dag15\n",
      "/Users/chandlersquires/Documents/active_learning/new/data/twenty_sparse/dags/dag12\n",
      "/Users/chandlersquires/Documents/active_learning/new/data/twenty_sparse/dags/dag24\n",
      "/Users/chandlersquires/Documents/active_learning/new/data/twenty_sparse/dags/dag23\n",
      "/Users/chandlersquires/Documents/active_learning/new/data/twenty_sparse/dags/dag48\n",
      "/Users/chandlersquires/Documents/active_learning/new/data/twenty_sparse/dags/dag46\n",
      "/Users/chandlersquires/Documents/active_learning/new/data/twenty_sparse/dags/dag41\n",
      "Computed parent probabilities\n"
     ]
    }
   ],
   "source": [
    "dag_folders = check_gies.get_dag_folders(dataset)\n",
    "true_dags = check_gies.get_true_dags(dag_folders)\n",
    "print('loaded DAGs')\n",
    "parent_probs_by_dag = check_gies.get_parent_probs_by_dag(dag_folders, 10)\n",
    "print('Computed parent probabilities')"
   ]
  },
  {
   "cell_type": "markdown",
   "metadata": {},
   "source": [
    "### This little section is to check the results from the rates_da. Can be deleted"
   ]
  },
  {
   "cell_type": "code",
   "execution_count": null,
   "metadata": {},
   "outputs": [],
   "source": [
    "alphas = np.linspace(0, 1, 11)\n",
    "avg_tprs = np.zeros(len(alphas))\n",
    "avg_fprs = np.zeros(len(alphas))\n",
    "for a_ix, alpha in enumerate(alphas):\n",
    "    tprs = []\n",
    "    fprs = []\n",
    "    for dag_num, (true_dag, parent_probs_by_strat) in enumerate(zip(true_dags, parent_probs_by_dag)):\n",
    "        true_parents = true_dag.parents[10]\n",
    "        true_nonparents = true_dag.nodes - true_parents - {10}\n",
    "        labelled_parents = {p for p, prob in parent_probs_by_strat['learn-parents,n=60,b=2,k=2'].items() if prob >= alpha}\n",
    "        true_positives = true_parents & labelled_parents\n",
    "        false_positives = true_nonparents & labelled_parents\n",
    "        tprs.append(len(true_positives) / len(true_parents) if len(true_parents) != 0 else 1)\n",
    "        fprs.append(len(false_positives) / len(true_nonparents) if len(true_nonparents) != 0 else 0)\n",
    "    avg_tprs[a_ix] = np.mean(tprs)\n",
    "    avg_fprs[a_ix] = np.mean(fprs)"
   ]
  },
  {
   "cell_type": "code",
   "execution_count": null,
   "metadata": {},
   "outputs": [],
   "source": [
    "avg_tprs"
   ]
  },
  {
   "cell_type": "markdown",
   "metadata": {},
   "source": [
    "### Load the rates DataArray, a 7-dimensional tensor mapping each strategy (strategy name, n, b, k) and significance level to the value of a rate for all DAGs"
   ]
  },
  {
   "cell_type": "code",
   "execution_count": 16,
   "metadata": {},
   "outputs": [
    {
     "data": {
      "text/plain": [
       "array([0. , 0.1, 0.2, 0.3, 0.4, 0.5, 0.6, 0.7, 0.8, 0.9, 1. ])"
      ]
     },
     "execution_count": 16,
     "metadata": {},
     "output_type": "execute_result"
    }
   ],
   "source": [
    "strategy_names = ['random', 'edge-prob']\n",
    "ks = [2]\n",
    "bs = [2, 3, 4]\n",
    "ns = [24, 96, 384]\n",
    "np.linspace(0, 1, 11)"
   ]
  },
  {
   "cell_type": "code",
   "execution_count": 17,
   "metadata": {},
   "outputs": [
    {
     "name": "stdout",
     "output_type": "stream",
     "text": [
      "('strategy', 'k', 'b', 'n', 'alpha', 'rate', 'dag')\n"
     ]
    }
   ],
   "source": [
    "rates_da = check_gies.get_rates_data_array(\n",
    "    parent_probs_by_dag,\n",
    "    true_dags,\n",
    "    target=10,\n",
    "    strategy_names=strategy_names,\n",
    "    ks=ks,\n",
    "    bs=bs,\n",
    "    ns=ns,\n",
    "    alphas=np.linspace(0, 1, 11)\n",
    ")\n",
    "print(rates_da.dims)"
   ]
  },
  {
   "cell_type": "markdown",
   "metadata": {},
   "source": [
    "### Plot curves for each strategy"
   ]
  },
  {
   "cell_type": "code",
   "execution_count": 21,
   "metadata": {},
   "outputs": [],
   "source": [
    "import matplotlib.pylab as plt\n",
    "import seaborn as sns\n",
    "import matplotlib.patches as mpatches\n",
    "import matplotlib.lines as mlines\n",
    "%matplotlib inline\n",
    "plt.rcParams[\"figure.figsize\"] =(20,12)\n",
    "sns.set(font_scale=1.5)"
   ]
  },
  {
   "cell_type": "code",
   "execution_count": 22,
   "metadata": {},
   "outputs": [],
   "source": [
    "linestyles = ['solid', 'dashed', 'dotted']"
   ]
  },
  {
   "cell_type": "code",
   "execution_count": 30,
   "metadata": {},
   "outputs": [
    {
     "data": {
      "image/png": "[encoded data removed]",
      "text/plain": [
       "<matplotlib.figure.Figure at 0x1156ce208>"
      ]
     },
     "metadata": {},
     "output_type": "display_data"
    }
   ],
   "source": [
    "rate_avgs_da = rates_da.mean(dim='dag')\n",
    "b=2\n",
    "for strategy, linestyle in zip(strategy_names, linestyles):\n",
    "    for n, color in zip(ns, sns.color_palette()):\n",
    "        strat_avg_tprs = rate_avgs_da.sel(strategy=strategy, b=b, k=2, n=n, rate='tpr').values\n",
    "        strat_avg_fprs = rate_avgs_da.sel(strategy=strategy, b=b, k=2, n=n, rate='fpr').values\n",
    "\n",
    "        sort_ixs = np.argsort(strat_avg_fprs)\n",
    "        plt.plot(strat_avg_fprs[sort_ixs], strat_avg_tprs[sort_ixs], linestyle=linestyle, color=color)\n",
    "\n",
    "sample_handles = [\n",
    "    mpatches.Patch(facecolor=color, label=n)\n",
    "    for n, color in zip(ns, sns.color_palette())\n",
    "]\n",
    "strat_handles = [\n",
    "    mlines.Line2D([0], [0], color='k', linestyle=linestyle, label=strat) \n",
    "    for strat, linestyle in zip(strategy_names, linestyles)\n",
    "]\n",
    "plt.legend(\n",
    "    handles=strat_handles + sample_handles\n",
    ")\n",
    "plt.title(dataset + ', batches=%s' % b)\n",
    "plt.xlabel('Average FPR')\n",
    "plt.ylabel('Average TPR');"
   ]
  },
  {
   "cell_type": "code",
   "execution_count": null,
   "metadata": {},
   "outputs": [],
   "source": []
  }
 ],
 "metadata": {
  "kernelspec": {
   "display_name": "Python 3",
   "language": "python",
   "name": "python3"
  },
  "language_info": {
   "codemirror_mode": {
    "name": "ipython",
    "version": 3
   },
   "file_extension": ".py",
   "mimetype": "text/x-python",
   "name": "python",
   "nbconvert_exporter": "python",
   "pygments_lexer": "ipython3",
   "version": "3.6.5"
  }
 },
 "nbformat": 4,
 "nbformat_minor": 1
}
