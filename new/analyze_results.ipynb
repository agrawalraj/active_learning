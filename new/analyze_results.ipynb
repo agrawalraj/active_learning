{
 "cells": [
  {
   "cell_type": "code",
   "execution_count": 12,
   "metadata": {},
   "outputs": [],
   "source": [
    "import os\n",
    "import matplotlib.pyplot as plt\n",
    "import seaborn as sns\n",
    "%matplotlib inline\n",
    "sns.set()\n",
    "from config import DATA_FOLDER\n",
    "from analysis import check_gies\n",
    "import pandas as pd\n",
    "import xarray as xr\n",
    "import numpy as np"
   ]
  },
  {
   "cell_type": "markdown",
   "metadata": {},
   "source": [
    "### Dataset to use - change this value to analyze a different data set"
   ]
  },
  {
   "cell_type": "code",
   "execution_count": 2,
   "metadata": {},
   "outputs": [],
   "source": [
    "dataset = 'twenty'"
   ]
  },
  {
   "cell_type": "markdown",
   "metadata": {},
   "source": [
    "### Load in parent probabilities and rates"
   ]
  },
  {
   "cell_type": "code",
   "execution_count": 3,
   "metadata": {},
   "outputs": [
    {
     "name": "stdout",
     "output_type": "stream",
     "text": [
      "loaded DAGs\n",
      "Loading parent probabilities for DAG 0\n",
      "Loading parent probabilities for DAG 10\n",
      "Loading parent probabilities for DAG 20\n",
      "Loading parent probabilities for DAG 30\n",
      "Loading parent probabilities for DAG 40\n",
      "Computed parent probabilities\n",
      "Loading parent probabilities for DAG 0\n",
      "Loading parent probabilities for DAG 10\n",
      "Loading parent probabilities for DAG 20\n",
      "Loading parent probabilities for DAG 30\n",
      "Loading parent probabilities for DAG 40\n",
      "Computed rates\n"
     ]
    }
   ],
   "source": [
    "dag_folders = check_gies.get_dag_folders(dataset)\n",
    "true_dags = check_gies.get_true_dags(dag_folders)\n",
    "print('loaded DAGs')\n",
    "parent_probs_by_dag = check_gies.get_parent_probs_by_dag(dag_folders, 10)\n",
    "print('Computed parent probabilities')\n",
    "rates_by_dag = check_gies.get_rates_by_dag(parent_probs_by_dag, true_dags, 10)\n",
    "print('Computed rates')"
   ]
  },
  {
   "cell_type": "code",
   "execution_count": 20,
   "metadata": {},
   "outputs": [],
   "source": [
    "strategies = list(rates_by_dag[0].keys())\n",
    "rate_names = list(rates_by_dag[0][strategies[0]].keys())\n",
    "strategy2ix = {s: ix for ix, s in enumerate(strategies)}\n",
    "rate2ix = {r: ix for ix, r in enumerate(rates)}"
   ]
  },
  {
   "cell_type": "code",
   "execution_count": 21,
   "metadata": {},
   "outputs": [
    {
     "name": "stdout",
     "output_type": "stream",
     "text": [
      "['learn-parents,n=60,b=2,k=2', 'learn-parents,n=120,b=2,k=2', 'random,n=60,b=2,k=2', 'random,n=120,b=2,k=2', 'edge-prob,n=120,b=2,k=2', 'edge-prob,n=60,b=2,k=2']\n",
      "['tpr', 'fpr', 'tnr', 'fnr', 'ppv', 'npv']\n"
     ]
    }
   ],
   "source": [
    "print(strategies)\n",
    "print(rate_names)"
   ]
  },
  {
   "cell_type": "code",
   "execution_count": 22,
   "metadata": {},
   "outputs": [],
   "source": [
    "rate_array = np.zeros([len(strategies), len(rates), len(rates_by_dag)])\n",
    "for d_ix, rates_by_strategy in enumerate(rates_by_dag):\n",
    "    for strategy, rates in rates_by_strategy.items():\n",
    "        s_ix = strategy2ix[strategy]\n",
    "        for rate, val in rates.items():\n",
    "            r_ix = rate2ix[rate]\n",
    "            rate_array[s_ix, r_ix, d_ix] = val"
   ]
  },
  {
   "cell_type": "code",
   "execution_count": 23,
   "metadata": {},
   "outputs": [],
   "source": [
    "ds = xr.DataArray(\n",
    "    rate_array, \n",
    "    coords=[strategies, rate_names, range(len(rates_by_dag))],\n",
    "    dims=['strategies', 'rates', 'dags'], \n",
    ")"
   ]
  },
  {
   "cell_type": "code",
   "execution_count": 38,
   "metadata": {},
   "outputs": [],
   "source": [
    "avg_rates = ds.mean(dim='dags')\n",
    "avg_tprs = rate_means.sel(rates='tpr')\n",
    "avg_fprs = rate_means.sel(rates='fpr')"
   ]
  },
  {
   "cell_type": "code",
   "execution_count": 39,
   "metadata": {},
   "outputs": [
    {
     "data": {
      "text/plain": [
       "['learn-parents,n=60,b=2,k=2',\n",
       " 'learn-parents,n=120,b=2,k=2',\n",
       " 'random,n=60,b=2,k=2',\n",
       " 'random,n=120,b=2,k=2',\n",
       " 'edge-prob,n=120,b=2,k=2',\n",
       " 'edge-prob,n=60,b=2,k=2']"
      ]
     },
     "execution_count": 39,
     "metadata": {},
     "output_type": "execute_result"
    }
   ],
   "source": [
    "strategies"
   ]
  },
  {
   "cell_type": "code",
   "execution_count": 40,
   "metadata": {},
   "outputs": [
    {
     "data": {
      "text/plain": [
       "<xarray.DataArray (strategies: 6)>\n",
       "array([0.407817, 0.473349, 0.430651, 0.484651, 0.506524, 0.423429])\n",
       "Coordinates:\n",
       "  * strategies  (strategies) <U27 'learn-parents,n=60,b=2,k=2' ...\n",
       "    rates       <U3 'tpr'"
      ]
     },
     "execution_count": 40,
     "metadata": {},
     "output_type": "execute_result"
    }
   ],
   "source": [
    "avg_tprs"
   ]
  },
  {
   "cell_type": "code",
   "execution_count": null,
   "metadata": {},
   "outputs": [],
   "source": []
  }
 ],
 "metadata": {
  "kernelspec": {
   "display_name": "Python 3",
   "language": "python",
   "name": "python3"
  },
  "language_info": {
   "codemirror_mode": {
    "name": "ipython",
    "version": 3
   },
   "file_extension": ".py",
   "mimetype": "text/x-python",
   "name": "python",
   "nbconvert_exporter": "python",
   "pygments_lexer": "ipython3",
   "version": "3.6.5"
  }
 },
 "nbformat": 4,
 "nbformat_minor": 1
}
