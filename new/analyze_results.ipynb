{
 "cells": [
  {
   "cell_type": "markdown",
   "metadata": {},
   "source": [
    "### Dataset to use - change this value to analyze a different data set"
   ]
  },
  {
   "cell_type": "code",
   "execution_count": 1,
   "metadata": {},
   "outputs": [],
   "source": [
    "dataset = 'twenty_small_world_new'"
   ]
  },
  {
   "cell_type": "code",
   "execution_count": 2,
   "metadata": {},
   "outputs": [
    {
     "data": {
      "text/plain": [
       "['/home/ubuntu/active_learning/new/data/twenty_small_world_new/dags/dag0/entropy-enum,n=256,b=2,k=2/final_dags',\n",
       " '/home/ubuntu/active_learning/new/data/twenty_small_world_new/dags/dag0/entropy-enum,n=256,b=2,k=2/samples',\n",
       " '/home/ubuntu/active_learning/new/data/twenty_small_world_new/dags/dag1/entropy-enum,n=256,b=2,k=2/final_dags',\n",
       " '/home/ubuntu/active_learning/new/data/twenty_small_world_new/dags/dag1/entropy-enum,n=256,b=2,k=2/samples',\n",
       " '/home/ubuntu/active_learning/new/data/twenty_small_world_new/dags/dag10/entropy-enum,n=256,b=2,k=2/final_dags',\n",
       " '/home/ubuntu/active_learning/new/data/twenty_small_world_new/dags/dag10/entropy-enum,n=256,b=2,k=2/samples',\n",
       " '/home/ubuntu/active_learning/new/data/twenty_small_world_new/dags/dag11/entropy-enum,n=256,b=2,k=2/final_dags',\n",
       " '/home/ubuntu/active_learning/new/data/twenty_small_world_new/dags/dag11/entropy-enum,n=256,b=2,k=2/samples',\n",
       " '/home/ubuntu/active_learning/new/data/twenty_small_world_new/dags/dag12/entropy-enum,n=256,b=2,k=2/final_dags',\n",
       " '/home/ubuntu/active_learning/new/data/twenty_small_world_new/dags/dag12/entropy-enum,n=256,b=2,k=2/samples',\n",
       " '/home/ubuntu/active_learning/new/data/twenty_small_world_new/dags/dag13/entropy-enum,n=256,b=2,k=2/final_dags',\n",
       " '/home/ubuntu/active_learning/new/data/twenty_small_world_new/dags/dag13/entropy-enum,n=256,b=2,k=2/samples',\n",
       " '/home/ubuntu/active_learning/new/data/twenty_small_world_new/dags/dag14/entropy-enum,n=256,b=2,k=2/final_dags',\n",
       " '/home/ubuntu/active_learning/new/data/twenty_small_world_new/dags/dag14/entropy-enum,n=256,b=2,k=2/samples',\n",
       " '/home/ubuntu/active_learning/new/data/twenty_small_world_new/dags/dag15/entropy-enum,n=256,b=2,k=2/final_dags',\n",
       " '/home/ubuntu/active_learning/new/data/twenty_small_world_new/dags/dag15/entropy-enum,n=256,b=2,k=2/samples',\n",
       " '/home/ubuntu/active_learning/new/data/twenty_small_world_new/dags/dag16/entropy-enum,n=256,b=2,k=2/final_dags',\n",
       " '/home/ubuntu/active_learning/new/data/twenty_small_world_new/dags/dag16/entropy-enum,n=256,b=2,k=2/samples',\n",
       " '/home/ubuntu/active_learning/new/data/twenty_small_world_new/dags/dag17/entropy-enum,n=256,b=2,k=2/final_dags',\n",
       " '/home/ubuntu/active_learning/new/data/twenty_small_world_new/dags/dag17/entropy-enum,n=256,b=2,k=2/samples',\n",
       " '/home/ubuntu/active_learning/new/data/twenty_small_world_new/dags/dag18/entropy-enum,n=256,b=2,k=2/final_dags',\n",
       " '/home/ubuntu/active_learning/new/data/twenty_small_world_new/dags/dag18/entropy-enum,n=256,b=2,k=2/samples',\n",
       " '/home/ubuntu/active_learning/new/data/twenty_small_world_new/dags/dag19/entropy-enum,n=256,b=2,k=2/final_dags',\n",
       " '/home/ubuntu/active_learning/new/data/twenty_small_world_new/dags/dag19/entropy-enum,n=256,b=2,k=2/samples',\n",
       " '/home/ubuntu/active_learning/new/data/twenty_small_world_new/dags/dag2/entropy-enum,n=256,b=2,k=2/final_dags',\n",
       " '/home/ubuntu/active_learning/new/data/twenty_small_world_new/dags/dag2/entropy-enum,n=256,b=2,k=2/samples',\n",
       " '/home/ubuntu/active_learning/new/data/twenty_small_world_new/dags/dag20/entropy-enum,n=256,b=2,k=2/final_dags',\n",
       " '/home/ubuntu/active_learning/new/data/twenty_small_world_new/dags/dag20/entropy-enum,n=256,b=2,k=2/samples',\n",
       " '/home/ubuntu/active_learning/new/data/twenty_small_world_new/dags/dag21/entropy-enum,n=256,b=2,k=2/final_dags',\n",
       " '/home/ubuntu/active_learning/new/data/twenty_small_world_new/dags/dag21/entropy-enum,n=256,b=2,k=2/samples',\n",
       " '/home/ubuntu/active_learning/new/data/twenty_small_world_new/dags/dag22/entropy-enum,n=256,b=2,k=2/final_dags',\n",
       " '/home/ubuntu/active_learning/new/data/twenty_small_world_new/dags/dag22/entropy-enum,n=256,b=2,k=2/samples',\n",
       " '/home/ubuntu/active_learning/new/data/twenty_small_world_new/dags/dag23/entropy-enum,n=256,b=2,k=2/final_dags',\n",
       " '/home/ubuntu/active_learning/new/data/twenty_small_world_new/dags/dag23/entropy-enum,n=256,b=2,k=2/samples',\n",
       " '/home/ubuntu/active_learning/new/data/twenty_small_world_new/dags/dag24/entropy-enum,n=256,b=2,k=2/final_dags',\n",
       " '/home/ubuntu/active_learning/new/data/twenty_small_world_new/dags/dag24/entropy-enum,n=256,b=2,k=2/samples',\n",
       " '/home/ubuntu/active_learning/new/data/twenty_small_world_new/dags/dag25/entropy-enum,n=256,b=2,k=2/final_dags',\n",
       " '/home/ubuntu/active_learning/new/data/twenty_small_world_new/dags/dag25/entropy-enum,n=256,b=2,k=2/samples',\n",
       " '/home/ubuntu/active_learning/new/data/twenty_small_world_new/dags/dag26/entropy-enum,n=256,b=2,k=2/final_dags',\n",
       " '/home/ubuntu/active_learning/new/data/twenty_small_world_new/dags/dag26/entropy-enum,n=256,b=2,k=2/samples',\n",
       " '/home/ubuntu/active_learning/new/data/twenty_small_world_new/dags/dag27/entropy-enum,n=256,b=2,k=2/final_dags',\n",
       " '/home/ubuntu/active_learning/new/data/twenty_small_world_new/dags/dag27/entropy-enum,n=256,b=2,k=2/samples',\n",
       " '/home/ubuntu/active_learning/new/data/twenty_small_world_new/dags/dag28/entropy-enum,n=256,b=2,k=2/final_dags',\n",
       " '/home/ubuntu/active_learning/new/data/twenty_small_world_new/dags/dag28/entropy-enum,n=256,b=2,k=2/samples',\n",
       " '/home/ubuntu/active_learning/new/data/twenty_small_world_new/dags/dag29/entropy-enum,n=256,b=2,k=2/final_dags',\n",
       " '/home/ubuntu/active_learning/new/data/twenty_small_world_new/dags/dag29/entropy-enum,n=256,b=2,k=2/samples',\n",
       " '/home/ubuntu/active_learning/new/data/twenty_small_world_new/dags/dag3/entropy-enum,n=256,b=2,k=2/final_dags',\n",
       " '/home/ubuntu/active_learning/new/data/twenty_small_world_new/dags/dag3/entropy-enum,n=256,b=2,k=2/samples',\n",
       " '/home/ubuntu/active_learning/new/data/twenty_small_world_new/dags/dag30/entropy-enum,n=256,b=2,k=2/final_dags',\n",
       " '/home/ubuntu/active_learning/new/data/twenty_small_world_new/dags/dag30/entropy-enum,n=256,b=2,k=2/samples',\n",
       " '/home/ubuntu/active_learning/new/data/twenty_small_world_new/dags/dag31/entropy-enum,n=256,b=2,k=2/final_dags',\n",
       " '/home/ubuntu/active_learning/new/data/twenty_small_world_new/dags/dag31/entropy-enum,n=256,b=2,k=2/samples',\n",
       " '/home/ubuntu/active_learning/new/data/twenty_small_world_new/dags/dag32/entropy-enum,n=256,b=2,k=2/final_dags',\n",
       " '/home/ubuntu/active_learning/new/data/twenty_small_world_new/dags/dag32/entropy-enum,n=256,b=2,k=2/samples',\n",
       " '/home/ubuntu/active_learning/new/data/twenty_small_world_new/dags/dag33/entropy-enum,n=256,b=2,k=2/final_dags',\n",
       " '/home/ubuntu/active_learning/new/data/twenty_small_world_new/dags/dag33/entropy-enum,n=256,b=2,k=2/samples',\n",
       " '/home/ubuntu/active_learning/new/data/twenty_small_world_new/dags/dag34/entropy-enum,n=256,b=2,k=2/final_dags',\n",
       " '/home/ubuntu/active_learning/new/data/twenty_small_world_new/dags/dag34/entropy-enum,n=256,b=2,k=2/samples',\n",
       " '/home/ubuntu/active_learning/new/data/twenty_small_world_new/dags/dag35/entropy-enum,n=256,b=2,k=2/final_dags',\n",
       " '/home/ubuntu/active_learning/new/data/twenty_small_world_new/dags/dag35/entropy-enum,n=256,b=2,k=2/samples',\n",
       " '/home/ubuntu/active_learning/new/data/twenty_small_world_new/dags/dag36/entropy-enum,n=256,b=2,k=2/final_dags',\n",
       " '/home/ubuntu/active_learning/new/data/twenty_small_world_new/dags/dag36/entropy-enum,n=256,b=2,k=2/samples',\n",
       " '/home/ubuntu/active_learning/new/data/twenty_small_world_new/dags/dag37/entropy-enum,n=256,b=2,k=2/final_dags',\n",
       " '/home/ubuntu/active_learning/new/data/twenty_small_world_new/dags/dag37/entropy-enum,n=256,b=2,k=2/samples',\n",
       " '/home/ubuntu/active_learning/new/data/twenty_small_world_new/dags/dag38/entropy-enum,n=256,b=2,k=2/final_dags',\n",
       " '/home/ubuntu/active_learning/new/data/twenty_small_world_new/dags/dag38/entropy-enum,n=256,b=2,k=2/samples',\n",
       " '/home/ubuntu/active_learning/new/data/twenty_small_world_new/dags/dag39/entropy-enum,n=256,b=2,k=2/final_dags',\n",
       " '/home/ubuntu/active_learning/new/data/twenty_small_world_new/dags/dag39/entropy-enum,n=256,b=2,k=2/samples',\n",
       " '/home/ubuntu/active_learning/new/data/twenty_small_world_new/dags/dag4/entropy-enum,n=256,b=2,k=2/final_dags',\n",
       " '/home/ubuntu/active_learning/new/data/twenty_small_world_new/dags/dag4/entropy-enum,n=256,b=2,k=2/samples',\n",
       " '/home/ubuntu/active_learning/new/data/twenty_small_world_new/dags/dag40/entropy-enum,n=256,b=2,k=2/final_dags',\n",
       " '/home/ubuntu/active_learning/new/data/twenty_small_world_new/dags/dag40/entropy-enum,n=256,b=2,k=2/samples',\n",
       " '/home/ubuntu/active_learning/new/data/twenty_small_world_new/dags/dag41/entropy-enum,n=256,b=2,k=2/final_dags',\n",
       " '/home/ubuntu/active_learning/new/data/twenty_small_world_new/dags/dag41/entropy-enum,n=256,b=2,k=2/samples',\n",
       " '/home/ubuntu/active_learning/new/data/twenty_small_world_new/dags/dag42/entropy-enum,n=256,b=2,k=2/final_dags',\n",
       " '/home/ubuntu/active_learning/new/data/twenty_small_world_new/dags/dag42/entropy-enum,n=256,b=2,k=2/samples',\n",
       " '/home/ubuntu/active_learning/new/data/twenty_small_world_new/dags/dag43/entropy-enum,n=256,b=2,k=2/final_dags',\n",
       " '/home/ubuntu/active_learning/new/data/twenty_small_world_new/dags/dag43/entropy-enum,n=256,b=2,k=2/samples',\n",
       " '/home/ubuntu/active_learning/new/data/twenty_small_world_new/dags/dag44/entropy-enum,n=256,b=2,k=2/final_dags',\n",
       " '/home/ubuntu/active_learning/new/data/twenty_small_world_new/dags/dag44/entropy-enum,n=256,b=2,k=2/samples',\n",
       " '/home/ubuntu/active_learning/new/data/twenty_small_world_new/dags/dag45/entropy-enum,n=256,b=2,k=2/final_dags',\n",
       " '/home/ubuntu/active_learning/new/data/twenty_small_world_new/dags/dag45/entropy-enum,n=256,b=2,k=2/samples',\n",
       " '/home/ubuntu/active_learning/new/data/twenty_small_world_new/dags/dag46/entropy-enum,n=256,b=2,k=2/final_dags',\n",
       " '/home/ubuntu/active_learning/new/data/twenty_small_world_new/dags/dag46/entropy-enum,n=256,b=2,k=2/samples',\n",
       " '/home/ubuntu/active_learning/new/data/twenty_small_world_new/dags/dag47/entropy-enum,n=256,b=2,k=2/final_dags',\n",
       " '/home/ubuntu/active_learning/new/data/twenty_small_world_new/dags/dag47/entropy-enum,n=256,b=2,k=2/samples',\n",
       " '/home/ubuntu/active_learning/new/data/twenty_small_world_new/dags/dag48/entropy-enum,n=256,b=2,k=2/final_dags',\n",
       " '/home/ubuntu/active_learning/new/data/twenty_small_world_new/dags/dag48/entropy-enum,n=256,b=2,k=2/samples',\n",
       " '/home/ubuntu/active_learning/new/data/twenty_small_world_new/dags/dag49/entropy-enum,n=256,b=2,k=2/final_dags',\n",
       " '/home/ubuntu/active_learning/new/data/twenty_small_world_new/dags/dag49/entropy-enum,n=256,b=2,k=2/samples',\n",
       " '/home/ubuntu/active_learning/new/data/twenty_small_world_new/dags/dag5/entropy-enum,n=256,b=2,k=2/final_dags',\n",
       " '/home/ubuntu/active_learning/new/data/twenty_small_world_new/dags/dag5/entropy-enum,n=256,b=2,k=2/samples',\n",
       " '/home/ubuntu/active_learning/new/data/twenty_small_world_new/dags/dag6/entropy-enum,n=256,b=2,k=2/final_dags',\n",
       " '/home/ubuntu/active_learning/new/data/twenty_small_world_new/dags/dag6/entropy-enum,n=256,b=2,k=2/samples',\n",
       " '/home/ubuntu/active_learning/new/data/twenty_small_world_new/dags/dag7/entropy-enum,n=256,b=2,k=2/final_dags',\n",
       " '/home/ubuntu/active_learning/new/data/twenty_small_world_new/dags/dag7/entropy-enum,n=256,b=2,k=2/samples',\n",
       " '/home/ubuntu/active_learning/new/data/twenty_small_world_new/dags/dag8/entropy-enum,n=256,b=2,k=2/final_dags',\n",
       " '/home/ubuntu/active_learning/new/data/twenty_small_world_new/dags/dag8/entropy-enum,n=256,b=2,k=2/samples',\n",
       " '/home/ubuntu/active_learning/new/data/twenty_small_world_new/dags/dag9/entropy-enum,n=256,b=2,k=2/final_dags',\n",
       " '/home/ubuntu/active_learning/new/data/twenty_small_world_new/dags/dag9/entropy-enum,n=256,b=2,k=2/samples']"
      ]
     },
     "execution_count": 2,
     "metadata": {},
     "output_type": "execute_result"
    }
   ],
   "source": [
    "from analysis import check_folder\n",
    "check_folder.check_folder(dataset)"
   ]
  },
  {
   "cell_type": "code",
   "execution_count": 3,
   "metadata": {},
   "outputs": [],
   "source": [
    "import pandas as pd\n",
    "\n",
    "def order_tpr_fpr(fprs, tprs):\n",
    "    df = pd.DataFrame(dict(fpr=fprs, tpr=tprs))\n",
    "    df.sort_values('fpr', ascending=False)\n",
    "    df.drop_duplicates(subset='fpr', keep='last', inplace=True)\n",
    "    return df\n",
    "    \n",
    "    \n",
    "a = order_tpr_fpr([.2, .1, .2], [.3, .2, .4])"
   ]
  },
  {
   "cell_type": "markdown",
   "metadata": {},
   "source": [
    "### Load in parent probabilities and rates"
   ]
  },
  {
   "cell_type": "code",
   "execution_count": 4,
   "metadata": {},
   "outputs": [],
   "source": [
    "from analysis import check_gies, check_samples\n",
    "import numpy as np\n",
    "import itertools as itr"
   ]
  },
  {
   "cell_type": "code",
   "execution_count": 5,
   "metadata": {},
   "outputs": [
    {
     "name": "stdout",
     "output_type": "stream",
     "text": [
      "loaded DAGs\n",
      "/home/ubuntu/active_learning/new/data/twenty_small_world_new/dags/dag23\n"
     ]
    },
    {
     "ename": "FileNotFoundError",
     "evalue": "[Errno 2] No such file or directory: '/home/ubuntu/active_learning/new/data/twenty_small_world_new/dags/dag23/entropy-enum,n=256,b=2,k=2/final_dags'",
     "output_type": "error",
     "traceback": [
      "\u001b[0;31m---------------------------------------------------------------------------\u001b[0m",
      "\u001b[0;31mFileNotFoundError\u001b[0m                         Traceback (most recent call last)",
      "\u001b[0;32m<ipython-input-5-72eb2eee80c9>\u001b[0m in \u001b[0;36m<module>\u001b[0;34m()\u001b[0m\n\u001b[1;32m      2\u001b[0m \u001b[0mtrue_dags\u001b[0m \u001b[0;34m=\u001b[0m \u001b[0mcheck_gies\u001b[0m\u001b[0;34m.\u001b[0m\u001b[0mget_true_dags\u001b[0m\u001b[0;34m(\u001b[0m\u001b[0mdag_folders\u001b[0m\u001b[0;34m)\u001b[0m\u001b[0;34m\u001b[0m\u001b[0m\n\u001b[1;32m      3\u001b[0m \u001b[0mprint\u001b[0m\u001b[0;34m(\u001b[0m\u001b[0;34m'loaded DAGs'\u001b[0m\u001b[0;34m)\u001b[0m\u001b[0;34m\u001b[0m\u001b[0m\n\u001b[0;32m----> 4\u001b[0;31m \u001b[0mparent_probs_by_dag\u001b[0m \u001b[0;34m=\u001b[0m \u001b[0mcheck_gies\u001b[0m\u001b[0;34m.\u001b[0m\u001b[0mget_parent_probs_by_dag\u001b[0m\u001b[0;34m(\u001b[0m\u001b[0mdag_folders\u001b[0m\u001b[0;34m,\u001b[0m \u001b[0;36m9\u001b[0m\u001b[0;34m)\u001b[0m\u001b[0;34m\u001b[0m\u001b[0m\n\u001b[0m\u001b[1;32m      5\u001b[0m \u001b[0mprint\u001b[0m\u001b[0;34m(\u001b[0m\u001b[0;34m'Computed parent probabilities'\u001b[0m\u001b[0;34m)\u001b[0m\u001b[0;34m\u001b[0m\u001b[0m\n",
      "\u001b[0;32m~/active_learning/new/analysis/check_gies.py\u001b[0m in \u001b[0;36mget_parent_probs_by_dag\u001b[0;34m(dag_folders, target, verbose)\u001b[0m\n\u001b[1;32m     43\u001b[0m                 \u001b[0mfinal_parent_probs_filename\u001b[0m \u001b[0;34m=\u001b[0m \u001b[0mos\u001b[0m\u001b[0;34m.\u001b[0m\u001b[0mpath\u001b[0m\u001b[0;34m.\u001b[0m\u001b[0mjoin\u001b[0m\u001b[0;34m(\u001b[0m\u001b[0mfilename\u001b[0m\u001b[0;34m,\u001b[0m \u001b[0;34m'parent_probs.json'\u001b[0m\u001b[0;34m)\u001b[0m\u001b[0;34m\u001b[0m\u001b[0m\n\u001b[1;32m     44\u001b[0m                 \u001b[0;32mif\u001b[0m \u001b[0;32mnot\u001b[0m \u001b[0mos\u001b[0m\u001b[0;34m.\u001b[0m\u001b[0mpath\u001b[0m\u001b[0;34m.\u001b[0m\u001b[0mexists\u001b[0m\u001b[0;34m(\u001b[0m\u001b[0mfinal_parent_probs_filename\u001b[0m\u001b[0;34m)\u001b[0m\u001b[0;34m:\u001b[0m\u001b[0;34m\u001b[0m\u001b[0m\n\u001b[0;32m---> 45\u001b[0;31m                     \u001b[0mdags\u001b[0m \u001b[0;34m=\u001b[0m \u001b[0mget_final_dags\u001b[0m\u001b[0;34m(\u001b[0m\u001b[0mfilename\u001b[0m\u001b[0;34m)\u001b[0m\u001b[0;34m\u001b[0m\u001b[0m\n\u001b[0m\u001b[1;32m     46\u001b[0m                     \u001b[0mdag_target_parents\u001b[0m \u001b[0;34m=\u001b[0m \u001b[0;34m[\u001b[0m\u001b[0mdag\u001b[0m\u001b[0;34m.\u001b[0m\u001b[0mparents\u001b[0m\u001b[0;34m[\u001b[0m\u001b[0mtarget\u001b[0m\u001b[0;34m]\u001b[0m \u001b[0;32mfor\u001b[0m \u001b[0mdag\u001b[0m \u001b[0;32min\u001b[0m \u001b[0mdags\u001b[0m\u001b[0;34m]\u001b[0m\u001b[0;34m\u001b[0m\u001b[0m\n\u001b[1;32m     47\u001b[0m \u001b[0;34m\u001b[0m\u001b[0m\n",
      "\u001b[0;32m~/active_learning/new/analysis/check_gies.py\u001b[0m in \u001b[0;36mget_final_dags\u001b[0;34m(strategy_folder)\u001b[0m\n\u001b[1;32m     26\u001b[0m     amats = [\n\u001b[1;32m     27\u001b[0m         \u001b[0mnp\u001b[0m\u001b[0;34m.\u001b[0m\u001b[0mload\u001b[0m\u001b[0;34m(\u001b[0m\u001b[0mos\u001b[0m\u001b[0;34m.\u001b[0m\u001b[0mpath\u001b[0m\u001b[0;34m.\u001b[0m\u001b[0mjoin\u001b[0m\u001b[0;34m(\u001b[0m\u001b[0mstrategy_folder\u001b[0m\u001b[0;34m,\u001b[0m \u001b[0;34m'final_dags'\u001b[0m\u001b[0;34m,\u001b[0m \u001b[0mf\u001b[0m\u001b[0;34m)\u001b[0m\u001b[0;34m)\u001b[0m\u001b[0;34m\u001b[0m\u001b[0m\n\u001b[0;32m---> 28\u001b[0;31m         \u001b[0;32mfor\u001b[0m \u001b[0mf\u001b[0m \u001b[0;32min\u001b[0m \u001b[0mos\u001b[0m\u001b[0;34m.\u001b[0m\u001b[0mlistdir\u001b[0m\u001b[0;34m(\u001b[0m\u001b[0mos\u001b[0m\u001b[0;34m.\u001b[0m\u001b[0mpath\u001b[0m\u001b[0;34m.\u001b[0m\u001b[0mjoin\u001b[0m\u001b[0;34m(\u001b[0m\u001b[0mstrategy_folder\u001b[0m\u001b[0;34m,\u001b[0m \u001b[0;34m'final_dags'\u001b[0m\u001b[0;34m)\u001b[0m\u001b[0;34m)\u001b[0m\u001b[0;34m\u001b[0m\u001b[0m\n\u001b[0m\u001b[1;32m     29\u001b[0m     ]\n\u001b[1;32m     30\u001b[0m     \u001b[0;32mreturn\u001b[0m \u001b[0;34m[\u001b[0m\u001b[0mcd\u001b[0m\u001b[0;34m.\u001b[0m\u001b[0mGaussDAG\u001b[0m\u001b[0;34m.\u001b[0m\u001b[0mfrom_amat\u001b[0m\u001b[0;34m(\u001b[0m\u001b[0mamat\u001b[0m\u001b[0;34m)\u001b[0m \u001b[0;32mfor\u001b[0m \u001b[0mamat\u001b[0m \u001b[0;32min\u001b[0m \u001b[0mamats\u001b[0m\u001b[0;34m]\u001b[0m\u001b[0;34m\u001b[0m\u001b[0m\n",
      "\u001b[0;31mFileNotFoundError\u001b[0m: [Errno 2] No such file or directory: '/home/ubuntu/active_learning/new/data/twenty_small_world_new/dags/dag23/entropy-enum,n=256,b=2,k=2/final_dags'"
     ]
    }
   ],
   "source": [
    "dag_folders = check_gies.get_dag_folders(dataset)\n",
    "true_dags = check_gies.get_true_dags(dag_folders)\n",
    "print('loaded DAGs')\n",
    "parent_probs_by_dag = check_gies.get_parent_probs_by_dag(dag_folders, 9)\n",
    "print('Computed parent probabilities')"
   ]
  },
  {
   "cell_type": "markdown",
   "metadata": {},
   "source": [
    "### Load the rates DataArray, a 7-dimensional tensor mapping each strategy (strategy name, n, b, k) and significance level to the value of a rate for all DAGs"
   ]
  },
  {
   "cell_type": "code",
   "execution_count": null,
   "metadata": {},
   "outputs": [],
   "source": [
    "strategy_names = ['entropy', 'random', 'entropy-enum']\n",
    "ks = [1, 2]\n",
    "bs = [1, 2]\n",
    "ns = [32, 256, 1024]\n",
    "np.linspace(0, 1, 11)"
   ]
  },
  {
   "cell_type": "code",
   "execution_count": null,
   "metadata": {},
   "outputs": [],
   "source": [
    "counts_da = check_samples.count_samples(dataset, strategy_names, ks, bs, ns)"
   ]
  },
  {
   "cell_type": "code",
   "execution_count": null,
   "metadata": {},
   "outputs": [],
   "source": [
    "rates_da = check_gies.get_rates_data_array(\n",
    "    parent_probs_by_dag,\n",
    "    true_dags,\n",
    "    target=9,\n",
    "    strategy_names=strategy_names,\n",
    "    ks=ks,\n",
    "    bs=bs,\n",
    "    ns=ns,\n",
    "    alphas=np.linspace(0, 1, 11)\n",
    ")\n",
    "print(rates_da.dims)"
   ]
  },
  {
   "cell_type": "markdown",
   "metadata": {},
   "source": [
    "### Plot curves for each strategy"
   ]
  },
  {
   "cell_type": "code",
   "execution_count": null,
   "metadata": {},
   "outputs": [],
   "source": [
    "import matplotlib.pylab as plt\n",
    "import seaborn as sns\n",
    "import matplotlib.patches as mpatches\n",
    "import matplotlib.lines as mlines\n",
    "%matplotlib inline\n",
    "plt.rcParams[\"figure.figsize\"] =(20,12)\n",
    "sns.set(font_scale=1.5)"
   ]
  },
  {
   "cell_type": "code",
   "execution_count": null,
   "metadata": {},
   "outputs": [],
   "source": [
    "\n",
    "linestyles = ['solid', 'dashed', 'dotted']\n",
    "colors = sns.color_palette()\n",
    "sample_handles = [\n",
    "    mlines.Line2D([0], [0], color='k', linestyle=linestyle, label=n) \n",
    "    for n, linestyle in zip(ns, linestyles)\n",
    "]\n",
    "strat_handles = [\n",
    "    mpatches.Patch(facecolor=color, label=strat)\n",
    "    for strat, color in zip(strategy_names, colors)\n",
    "]"
   ]
  },
  {
   "cell_type": "code",
   "execution_count": null,
   "metadata": {},
   "outputs": [],
   "source": [
    "plt.clf()\n",
    "\n",
    "rate_avgs_da = rates_da.mean(dim='dag')\n",
    "b=1\n",
    "k=1\n",
    "for strategy, color in zip(strategy_names, colors):\n",
    "    for n, linestyle in zip(ns, linestyles):\n",
    "        strat_avg_tprs = rate_avgs_da.sel(strategy=strategy, b=b, k=k, n=n, rate='tpr').values\n",
    "        strat_avg_fprs = rate_avgs_da.sel(strategy=strategy, b=b, k=k, n=n, rate='fpr').values\n",
    "        tpr_fpr_df = order_tpr_fpr(strat_avg_fprs, strat_avg_tprs)\n",
    "        plt.plot(tpr_fpr_df['fpr'], tpr_fpr_df['tpr'], linestyle=linestyle, color=color)\n",
    "\n",
    "plt.legend(\n",
    "    handles=strat_handles + sample_handles\n",
    ")\n",
    "plt.title(dataset + ', batches=%s, k=%s' % (b, k))\n",
    "plt.xlabel('Average FPR')\n",
    "plt.ylabel('Average TPR');"
   ]
  },
  {
   "cell_type": "code",
   "execution_count": null,
   "metadata": {},
   "outputs": [],
   "source": [
    "fig, ax = plt.subplots(len(bs), len(ns), sharey=True, sharex=True)\n",
    "k=2\n",
    "for (b_ix, b), (n_ix, n) in itr.product(list(enumerate(bs)), list(enumerate(ns))):\n",
    "    for strategy, color in zip(strategy_names, colors):\n",
    "        avg_rates = rate_avgs_da.sel(strategy=strategy, b=b, k=k, n=n)\n",
    "        tpr_fpr_df = order_tpr_fpr(avg_rates.sel(rate='fpr').values, avg_rates.sel(rate='tpr').values)\n",
    "        ax[b_ix, n_ix].plot(tpr_fpr_df['fpr'], tpr_fpr_df['tpr'], color=color)\n",
    "        if b_ix == len(bs)-1:\n",
    "            ax[b_ix, n_ix].set_xlabel('n = %s' % n)\n",
    "        if n_ix == 0:\n",
    "            ax[b_ix, n_ix].set_ylabel('b = %s' % b)\n"
   ]
  },
  {
   "cell_type": "code",
   "execution_count": null,
   "metadata": {},
   "outputs": [],
   "source": [
    "from scipy.stats import entropy"
   ]
  },
  {
   "cell_type": "code",
   "execution_count": null,
   "metadata": {},
   "outputs": [],
   "source": [
    "n = 256\n",
    "k = 2\n",
    "b = 2\n",
    "\n",
    "c_e = counts_da.sel(strategy='entropy', k=k, b=b, n=n)/n\n",
    "c_e"
   ]
  },
  {
   "cell_type": "code",
   "execution_count": null,
   "metadata": {},
   "outputs": [],
   "source": [
    "c_r = counts_da.sel(strategy='random', k=k, b=b, n=n)/n"
   ]
  },
  {
   "cell_type": "code",
   "execution_count": null,
   "metadata": {},
   "outputs": [],
   "source": [
    "ent_e = entropy(c_e.T)\n",
    "ent_r = entropy(c_r.T)"
   ]
  },
  {
   "cell_type": "code",
   "execution_count": null,
   "metadata": {},
   "outputs": [],
   "source": [
    "ent_e"
   ]
  },
  {
   "cell_type": "code",
   "execution_count": null,
   "metadata": {},
   "outputs": [],
   "source": [
    "ent_e.mean()"
   ]
  },
  {
   "cell_type": "code",
   "execution_count": null,
   "metadata": {},
   "outputs": [],
   "source": [
    "ent_r"
   ]
  },
  {
   "cell_type": "code",
   "execution_count": null,
   "metadata": {},
   "outputs": [],
   "source": [
    "ent_r.mean()"
   ]
  },
  {
   "cell_type": "code",
   "execution_count": null,
   "metadata": {},
   "outputs": [],
   "source": [
    "np.log(4)"
   ]
  },
  {
   "cell_type": "code",
   "execution_count": null,
   "metadata": {},
   "outputs": [],
   "source": [
    "import random\n",
    "from collections import Counter\n",
    "\n",
    "def random_choices(p, k):\n",
    "    c = Counter(random.choices(list(range(p)), k=k))\n",
    "    arr = np.zeros(p)\n",
    "    for i, val in c.items():\n",
    "        arr[i] += val\n",
    "    return arr/arr.sum()\n"
   ]
  },
  {
   "cell_type": "code",
   "execution_count": null,
   "metadata": {},
   "outputs": [],
   "source": [
    "for k in [20, 40, 100, 200]:\n",
    "    print(entropy(random_choices(20, k)))"
   ]
  },
  {
   "cell_type": "code",
   "execution_count": null,
   "metadata": {},
   "outputs": [],
   "source": [
    "entropy([.5, .5])"
   ]
  },
  {
   "cell_type": "code",
   "execution_count": null,
   "metadata": {},
   "outputs": [],
   "source": [
    "np.log(2)"
   ]
  },
  {
   "cell_type": "code",
   "execution_count": null,
   "metadata": {},
   "outputs": [],
   "source": [
    "c_e"
   ]
  },
  {
   "cell_type": "code",
   "execution_count": null,
   "metadata": {},
   "outputs": [],
   "source": [
    "counts_da.sel(strategy='entropy', k=1, b=1, n=256, dag=1)"
   ]
  },
  {
   "cell_type": "code",
   "execution_count": null,
   "metadata": {},
   "outputs": [],
   "source": [
    "counts_da.sel(strategy='random', k=2, b=2, n=256, dag=1)"
   ]
  },
  {
   "cell_type": "code",
   "execution_count": null,
   "metadata": {},
   "outputs": [],
   "source": []
  }
 ],
 "metadata": {
  "kernelspec": {
   "display_name": "Python 3",
   "language": "python",
   "name": "python3"
  },
  "language_info": {
   "codemirror_mode": {
    "name": "ipython",
    "version": 3
   },
   "file_extension": ".py",
   "mimetype": "text/x-python",
   "name": "python",
   "nbconvert_exporter": "python",
   "pygments_lexer": "ipython3",
   "version": "3.6.5"
  }
 },
 "nbformat": 4,
 "nbformat_minor": 1
}
