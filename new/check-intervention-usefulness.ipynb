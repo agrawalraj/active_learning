{
 "cells": [
  {
   "cell_type": "code",
   "execution_count": 1,
   "metadata": {},
   "outputs": [],
   "source": [
    "import itertools as itr\n",
    "import os\n",
    "from tqdm import tqdm\n",
    "from collections import defaultdict\n",
    "\n",
    "import causaldag as cd\n",
    "from strategies.simulator import IterationData\n",
    "from strategies.information_gain import create_info_gain_strategy_dag_collection, create_info_gain_strategy\n",
    "from strategies.random_nodes import random_strategy\n",
    "\n",
    "from utils import graph_utils\n",
    "from analysis.check_gies import get_parent_probs_by_dag, get_l1_score\n",
    "\n",
    "from config import DATA_FOLDER\n",
    "samples_folder = os.path.join(DATA_FOLDER, 'check-interventions', 'samples')\n",
    "os.makedirs(samples_folder, exist_ok=True)\n",
    "\n",
    "import networkx as nx\n",
    "from networkx.drawing.nx_agraph import graphviz_layout\n",
    "import matplotlib.pyplot as plt\n",
    "import matplotlib as mpl\n",
    "%matplotlib inline\n",
    "import seaborn as sns\n",
    "sns.set()\n",
    "\n",
    "from scipy.special import logsumexp\n",
    "\n",
    "from pprint import PrettyPrinter\n",
    "pp = PrettyPrinter()"
   ]
  },
  {
   "cell_type": "code",
   "execution_count": 2,
   "metadata": {},
   "outputs": [],
   "source": [
    "import numpy as np\n",
    "import xarray as xr\n",
    "from sklearn import preprocessing"
   ]
  },
  {
   "cell_type": "code",
   "execution_count": 3,
   "metadata": {},
   "outputs": [
    {
     "data": {
      "text/plain": [
       "10"
      ]
     },
     "execution_count": 3,
     "metadata": {},
     "output_type": "execute_result"
    }
   ],
   "source": [
    "IV_STRENGTH = 5\n",
    "nnodes = 20\n",
    "density = .5\n",
    "target = int(np.ceil(nnodes/2))\n",
    "nsamples = 2000\n",
    "N_BOOT = 100\n",
    "runs = 3\n",
    "nsamples_obs = 1000\n",
    "target"
   ]
  },
  {
   "cell_type": "code",
   "execution_count": 4,
   "metadata": {},
   "outputs": [
    {
     "name": "stdout",
     "output_type": "stream",
     "text": [
      "(1, 2)\n",
      "1,2\n"
     ]
    }
   ],
   "source": [
    "def tuplify(s):\n",
    "    a, b = s.split(',')\n",
    "    return (int(a), int(b))\n",
    "\n",
    "def detuplify(t):\n",
    "    a, b = t\n",
    "    return '%s,%s' % (a, b)\n",
    "\n",
    "print(tuplify('1,2'))\n",
    "print(detuplify((1, 2)))"
   ]
  },
  {
   "cell_type": "code",
   "execution_count": 5,
   "metadata": {},
   "outputs": [
    {
     "data": {
      "text/plain": [
       "{(1, 0),\n",
       " (2, 1),\n",
       " (3, 2),\n",
       " (4, 3),\n",
       " (5, 4),\n",
       " (6, 5),\n",
       " (7, 6),\n",
       " (8, 7),\n",
       " (9, 8),\n",
       " (10, 9),\n",
       " (10, 11),\n",
       " (11, 12),\n",
       " (12, 13),\n",
       " (13, 14),\n",
       " (14, 15),\n",
       " (15, 16),\n",
       " (16, 17),\n",
       " (17, 18),\n",
       " (18, 19)}"
      ]
     },
     "execution_count": 5,
     "metadata": {},
     "output_type": "execute_result"
    }
   ],
   "source": [
    "np.random.seed(0)\n",
    "true_dag = cd.rand.directed_erdos(nnodes, density)\n",
    "true_arcs = {(i+1, i) for i in range(target)} | {(i, i+1) for i in range(target, nnodes-1)}\n",
    "# true_arcs = {(i+1, i) for i in range(nnodes-1)}\n",
    "true_dag = cd.DAG(nodes=set(range(nnodes)), arcs=true_arcs)\n",
    "true_dag.arcs"
   ]
  },
  {
   "cell_type": "code",
   "execution_count": 6,
   "metadata": {},
   "outputs": [
    {
     "name": "stdout",
     "output_type": "stream",
     "text": [
      "defaultdict(<class 'int'>, {0: 38, 1: 74, 2: 106, 3: 134, 4: 158, 5: 178, 6: 194, 7: 206, 8: 214, 9: 218, 10: 218, 11: 214, 12: 206, 13: 194, 14: 178, 15: 158, 16: 134, 17: 106, 18: 74, 19: 38})\n"
     ]
    }
   ],
   "source": [
    "# true_cpdag = true_dag.interventional_cpdag({5}, cpdag=true_dag.cpdag())\n",
    "true_cpdag = true_dag.cpdag()\n",
    "true_dag_mec = [cd.DAG(nodes=set(range(nnodes)), arcs=arcs) for arcs in true_cpdag.all_dags()]\n",
    "intervention_weights = defaultdict(int)\n",
    "for iv in range(nnodes):\n",
    "    for poss_dag in true_dag_mec:\n",
    "        poss_icpdag = poss_dag.interventional_cpdag({iv}, cpdag=true_cpdag)\n",
    "        intervention_weights[iv] += len(poss_icpdag.arcs) - len(true_cpdag.arcs)\n",
    "print(intervention_weights)"
   ]
  },
  {
   "cell_type": "code",
   "execution_count": 7,
   "metadata": {},
   "outputs": [
    {
     "data": {
      "text/plain": [
       "array([1.001001, 1.001001, 1.001001, 1.001001, 1.001001, 1.001001,\n",
       "       1.001001, 1.001001, 1.001001, 1.001001, 1.001001, 1.001001,\n",
       "       1.001001, 1.001001, 1.001001, 1.001001, 1.001001, 1.001001,\n",
       "       1.001001, 1.001001])"
      ]
     },
     "execution_count": 7,
     "metadata": {},
     "output_type": "execute_result"
    }
   ],
   "source": [
    "arcs = {(i, j): 1 for i, j in true_dag.arcs}\n",
    "gdag = cd.GaussDAG(nodes=list(range(nnodes)), arcs=arcs)\n",
    "obs_samples_unscaled = gdag.sample(nsamples_obs)\n",
    "obs_samples = [preprocessing.scale(gdag.sample(nsamples_obs)) for run in range(runs)]\n",
    "np.diag(np.cov(obs_samples[0], rowvar=False))"
   ]
  },
  {
   "cell_type": "markdown",
   "metadata": {},
   "source": [
    "## Plot the graph"
   ]
  },
  {
   "cell_type": "code",
   "execution_count": 8,
   "metadata": {},
   "outputs": [],
   "source": [
    "def draw_colored(gdag):\n",
    "    cmap = plt.get_cmap('seismic')\n",
    "    \n",
    "    nw_ax = plt.subplot2grid((10, 10), (0, 0), colspan=9, rowspan=9)\n",
    "    colorbar_ax = plt.subplot2grid((10, 10), (2, 9), rowspan=6)\n",
    "    \n",
    "    plt.gcf().set_size_inches(10, 10)\n",
    "    d = nx.DiGraph()\n",
    "    for (i, j), w in gdag.arc_weights.items():\n",
    "        d.add_edge(i, j, weight=w)\n",
    "    pos = graphviz_layout(d, 'dot')\n",
    "    edges = d.edges()\n",
    "    edge_colors = [(cmap((d[i][j]['weight']+1)/2)) for i, j in edges]\n",
    "    nx.draw(d, pos=pos, node_color='w', edge_color=edge_colors, ax=nw_ax)\n",
    "    nx.draw_networkx_labels(d, pos, labels={node: node for node in range(10)}, ax=nw_ax);\n",
    "    \n",
    "    cb = mpl.colorbar.ColorbarBase(colorbar_ax, cmap=cmap, orientation='vertical')\n",
    "    cb.set_ticks([0, .5, 1])\n",
    "    cb.set_ticklabels([-1, 0, 1])"
   ]
  },
  {
   "cell_type": "code",
   "execution_count": 9,
   "metadata": {},
   "outputs": [
    {
     "name": "stdout",
     "output_type": "stream",
     "text": [
      "[10][11|10][12|11][13|12][14|13][15|14][16|15][17|16][18|17][19|18][9|10][8|9][7|8][6|7][5|6][4|5][3|4][2|3][1|2][0|1]\n"
     ]
    },
    {
     "data": {
      "image/png": "[encoded data removed]",
      "text/plain": [
       "<matplotlib.figure.Figure at 0x7f13461612e8>"
      ]
     },
     "metadata": {},
     "output_type": "display_data"
    }
   ],
   "source": [
    "draw_colored(gdag)\n",
    "print(str(gdag))"
   ]
  },
  {
   "cell_type": "code",
   "execution_count": 10,
   "metadata": {},
   "outputs": [
    {
     "data": {
      "text/plain": [
       "{(0, 1),\n",
       " (1, 2),\n",
       " (2, 3),\n",
       " (3, 4),\n",
       " (4, 5),\n",
       " (5, 6),\n",
       " (6, 7),\n",
       " (7, 8),\n",
       " (8, 9),\n",
       " (9, 10),\n",
       " (10, 11),\n",
       " (11, 12),\n",
       " (12, 13),\n",
       " (13, 14),\n",
       " (14, 15),\n",
       " (15, 16),\n",
       " (16, 17),\n",
       " (17, 18),\n",
       " (18, 19)}"
      ]
     },
     "execution_count": 10,
     "metadata": {},
     "output_type": "execute_result"
    }
   ],
   "source": [
    "g = nx.Graph()\n",
    "cpdag = true_dag.cpdag()\n",
    "cpdag.edges"
   ]
  },
  {
   "cell_type": "code",
   "execution_count": 11,
   "metadata": {},
   "outputs": [
    {
     "name": "stdout",
     "output_type": "stream",
     "text": [
      "0 : {(10, 11), (5, 6), (4, 5), (9, 10), (8, 9), (15, 16), (14, 15), (2, 3), (18, 19), (11, 12), (16, 17), (17, 18), (1, 2), (6, 7), (12, 13), (13, 14), (3, 4), (7, 8)}\n",
      "1 : {(10, 11), (5, 6), (4, 5), (9, 10), (8, 9), (15, 16), (14, 15), (2, 3), (18, 19), (11, 12), (16, 17), (17, 18), (6, 7), (12, 13), (13, 14), (3, 4), (7, 8)}\n",
      "2 : {(10, 11), (5, 6), (4, 5), (9, 10), (8, 9), (15, 16), (14, 15), (18, 19), (11, 12), (16, 17), (17, 18), (6, 7), (12, 13), (13, 14), (3, 4), (7, 8)}\n",
      "3 : {(7, 8), (16, 17), (17, 18), (10, 11), (6, 7), (12, 13), (13, 14), (5, 6), (4, 5), (9, 10), (8, 9), (15, 16), (14, 15), (18, 19), (11, 12)}\n",
      "4 : {(7, 8), (16, 17), (17, 18), (10, 11), (6, 7), (12, 13), (13, 14), (5, 6), (9, 10), (8, 9), (15, 16), (14, 15), (18, 19), (11, 12)}\n",
      "5 : {(7, 8), (16, 17), (17, 18), (10, 11), (6, 7), (12, 13), (13, 14), (9, 10), (8, 9), (15, 16), (14, 15), (18, 19), (11, 12)}\n",
      "6 : {(7, 8), (16, 17), (17, 18), (10, 11), (12, 13), (13, 14), (9, 10), (8, 9), (15, 16), (14, 15), (18, 19), (11, 12)}\n",
      "7 : {(16, 17), (17, 18), (10, 11), (12, 13), (13, 14), (9, 10), (8, 9), (15, 16), (14, 15), (18, 19), (11, 12)}\n",
      "8 : {(16, 17), (17, 18), (10, 11), (12, 13), (13, 14), (9, 10), (15, 16), (14, 15), (18, 19), (11, 12)}\n",
      "9 : {(16, 17), (17, 18), (10, 11), (12, 13), (13, 14), (15, 16), (14, 15), (18, 19), (11, 12)}\n"
     ]
    }
   ],
   "source": [
    "for iv in range(10):\n",
    "    icpdag = true_dag.interventional_cpdag({iv}, cpdag=cpdag)\n",
    "    print(iv, ':', icpdag.edges)"
   ]
  },
  {
   "cell_type": "code",
   "execution_count": 13,
   "metadata": {},
   "outputs": [
    {
     "name": "stdout",
     "output_type": "stream",
     "text": [
      "[0, 1, 2, 3, 4, 5, 6, 7, 8, 9, 10, 11, 12, 13, 14, 15, 16, 17, 18, 19]\n",
      "[BinaryIntervention(intervention1=ConstantIntervention(val=-16.583123951776997), intervention2=ConstantIntervention(val=16.583123951776997), p=0.5),\n",
      " BinaryIntervention(intervention1=ConstantIntervention(val=-15.811388300841898), intervention2=ConstantIntervention(val=15.811388300841898), p=0.5),\n",
      " BinaryIntervention(intervention1=ConstantIntervention(val=-15.0), intervention2=ConstantIntervention(val=15.0), p=0.5),\n",
      " BinaryIntervention(intervention1=ConstantIntervention(val=-14.142135623730951), intervention2=ConstantIntervention(val=14.142135623730951), p=0.5),\n",
      " BinaryIntervention(intervention1=ConstantIntervention(val=-13.228756555322953), intervention2=ConstantIntervention(val=13.228756555322953), p=0.5),\n",
      " BinaryIntervention(intervention1=ConstantIntervention(val=-12.24744871391589), intervention2=ConstantIntervention(val=12.24744871391589), p=0.5),\n",
      " BinaryIntervention(intervention1=ConstantIntervention(val=-11.180339887498949), intervention2=ConstantIntervention(val=11.180339887498949), p=0.5),\n",
      " BinaryIntervention(intervention1=ConstantIntervention(val=-10.0), intervention2=ConstantIntervention(val=10.0), p=0.5),\n",
      " BinaryIntervention(intervention1=ConstantIntervention(val=-8.660254037844386), intervention2=ConstantIntervention(val=8.660254037844386), p=0.5),\n",
      " BinaryIntervention(intervention1=ConstantIntervention(val=-7.0710678118654755), intervention2=ConstantIntervention(val=7.0710678118654755), p=0.5),\n",
      " BinaryIntervention(intervention1=ConstantIntervention(val=-5.0), intervention2=ConstantIntervention(val=5.0), p=0.5),\n",
      " BinaryIntervention(intervention1=ConstantIntervention(val=-7.0710678118654755), intervention2=ConstantIntervention(val=7.0710678118654755), p=0.5),\n",
      " BinaryIntervention(intervention1=ConstantIntervention(val=-8.660254037844386), intervention2=ConstantIntervention(val=8.660254037844386), p=0.5),\n",
      " BinaryIntervention(intervention1=ConstantIntervention(val=-10.0), intervention2=ConstantIntervention(val=10.0), p=0.5),\n",
      " BinaryIntervention(intervention1=ConstantIntervention(val=-11.180339887498949), intervention2=ConstantIntervention(val=11.180339887498949), p=0.5),\n",
      " BinaryIntervention(intervention1=ConstantIntervention(val=-12.24744871391589), intervention2=ConstantIntervention(val=12.24744871391589), p=0.5),\n",
      " BinaryIntervention(intervention1=ConstantIntervention(val=-13.228756555322953), intervention2=ConstantIntervention(val=13.228756555322953), p=0.5),\n",
      " BinaryIntervention(intervention1=ConstantIntervention(val=-14.142135623730951), intervention2=ConstantIntervention(val=14.142135623730951), p=0.5),\n",
      " BinaryIntervention(intervention1=ConstantIntervention(val=-15.0), intervention2=ConstantIntervention(val=15.0), p=0.5),\n",
      " BinaryIntervention(intervention1=ConstantIntervention(val=-15.811388300841898), intervention2=ConstantIntervention(val=15.811388300841898), p=0.5)]\n"
     ]
    }
   ],
   "source": [
    "intervention_nodes = list(range(nnodes))\n",
    "interventions = [\n",
    "    cd.BinaryIntervention(\n",
    "        intervention1=cd.ConstantIntervention(val=-IV_STRENGTH*std),\n",
    "        intervention2=cd.ConstantIntervention(val=IV_STRENGTH*std),\n",
    "    ) for std in np.diag(gdag.covariance)**.5\n",
    "]\n",
    "print(intervention_nodes)\n",
    "pp.pprint(interventions)"
   ]
  },
  {
   "cell_type": "code",
   "execution_count": 13,
   "metadata": {},
   "outputs": [],
   "source": [
    "ivs2dags = defaultdict(list)"
   ]
  },
  {
   "cell_type": "markdown",
   "metadata": {},
   "source": [
    "# Collect DAGs given just observational data"
   ]
  },
  {
   "cell_type": "code",
   "execution_count": 14,
   "metadata": {},
   "outputs": [
    {
     "name": "stderr",
     "output_type": "stream",
     "text": [
      "  0%|          | 0/3 [00:00<?, ?it/s]\n"
     ]
    },
    {
     "ename": "FileExistsError",
     "evalue": "[Errno 17] File exists: '/home/ubuntu/active_learning/new/data/check-interventions/samples/observational,run0'",
     "output_type": "error",
     "traceback": [
      "\u001b[0;31m---------------------------------------------------------------------------\u001b[0m",
      "\u001b[0;31mFileExistsError\u001b[0m                           Traceback (most recent call last)",
      "\u001b[0;32m<ipython-input-14-c8f46c2592ff>\u001b[0m in \u001b[0;36m<module>\u001b[0;34m()\u001b[0m\n\u001b[1;32m      1\u001b[0m \u001b[0;32mfor\u001b[0m \u001b[0mrun\u001b[0m \u001b[0;32min\u001b[0m \u001b[0mtqdm\u001b[0m\u001b[0;34m(\u001b[0m\u001b[0mrange\u001b[0m\u001b[0;34m(\u001b[0m\u001b[0mruns\u001b[0m\u001b[0;34m)\u001b[0m\u001b[0;34m)\u001b[0m\u001b[0;34m:\u001b[0m\u001b[0;34m\u001b[0m\u001b[0m\n\u001b[1;32m      2\u001b[0m     \u001b[0mfolder\u001b[0m \u001b[0;34m=\u001b[0m \u001b[0mos\u001b[0m\u001b[0;34m.\u001b[0m\u001b[0mpath\u001b[0m\u001b[0;34m.\u001b[0m\u001b[0mjoin\u001b[0m\u001b[0;34m(\u001b[0m\u001b[0msamples_folder\u001b[0m\u001b[0;34m,\u001b[0m \u001b[0;34m'observational,run%d'\u001b[0m \u001b[0;34m%\u001b[0m \u001b[0mrun\u001b[0m\u001b[0;34m)\u001b[0m\u001b[0;34m\u001b[0m\u001b[0m\n\u001b[0;32m----> 3\u001b[0;31m     \u001b[0mos\u001b[0m\u001b[0;34m.\u001b[0m\u001b[0mmakedirs\u001b[0m\u001b[0;34m(\u001b[0m\u001b[0mfolder\u001b[0m\u001b[0;34m)\u001b[0m\u001b[0;34m\u001b[0m\u001b[0m\n\u001b[0m\u001b[1;32m      4\u001b[0m     \u001b[0msamples_file\u001b[0m \u001b[0;34m=\u001b[0m \u001b[0mos\u001b[0m\u001b[0;34m.\u001b[0m\u001b[0mpath\u001b[0m\u001b[0;34m.\u001b[0m\u001b[0mjoin\u001b[0m\u001b[0;34m(\u001b[0m\u001b[0mfolder\u001b[0m\u001b[0;34m,\u001b[0m \u001b[0;34m'samples.csv'\u001b[0m\u001b[0;34m)\u001b[0m\u001b[0;34m\u001b[0m\u001b[0m\n\u001b[1;32m      5\u001b[0m     \u001b[0minterventions_folder\u001b[0m \u001b[0;34m=\u001b[0m \u001b[0mos\u001b[0m\u001b[0;34m.\u001b[0m\u001b[0mpath\u001b[0m\u001b[0;34m.\u001b[0m\u001b[0mjoin\u001b[0m\u001b[0;34m(\u001b[0m\u001b[0mfolder\u001b[0m\u001b[0;34m,\u001b[0m \u001b[0;34m'interventions'\u001b[0m\u001b[0;34m)\u001b[0m\u001b[0;34m\u001b[0m\u001b[0m\n",
      "\u001b[0;32m~/active_learning/new/venv/lib/python3.6/os.py\u001b[0m in \u001b[0;36mmakedirs\u001b[0;34m(name, mode, exist_ok)\u001b[0m\n\u001b[1;32m    218\u001b[0m             \u001b[0;32mreturn\u001b[0m\u001b[0;34m\u001b[0m\u001b[0m\n\u001b[1;32m    219\u001b[0m     \u001b[0;32mtry\u001b[0m\u001b[0;34m:\u001b[0m\u001b[0;34m\u001b[0m\u001b[0m\n\u001b[0;32m--> 220\u001b[0;31m         \u001b[0mmkdir\u001b[0m\u001b[0;34m(\u001b[0m\u001b[0mname\u001b[0m\u001b[0;34m,\u001b[0m \u001b[0mmode\u001b[0m\u001b[0;34m)\u001b[0m\u001b[0;34m\u001b[0m\u001b[0m\n\u001b[0m\u001b[1;32m    221\u001b[0m     \u001b[0;32mexcept\u001b[0m \u001b[0mOSError\u001b[0m\u001b[0;34m:\u001b[0m\u001b[0;34m\u001b[0m\u001b[0m\n\u001b[1;32m    222\u001b[0m         \u001b[0;31m# Cannot rely on checking for EEXIST, since the operating system\u001b[0m\u001b[0;34m\u001b[0m\u001b[0;34m\u001b[0m\u001b[0m\n",
      "\u001b[0;31mFileExistsError\u001b[0m: [Errno 17] File exists: '/home/ubuntu/active_learning/new/data/check-interventions/samples/observational,run0'"
     ]
    }
   ],
   "source": [
    "for run in tqdm(range(runs)):\n",
    "    folder = os.path.join(samples_folder, 'observational,run%d' % run)\n",
    "    os.makedirs(folder)\n",
    "    samples_file = os.path.join(folder, 'samples.csv')\n",
    "    interventions_folder = os.path.join(folder, 'interventions')\n",
    "    gies_dags_folder = os.path.join(folder, 'gies_dags/')\n",
    "\n",
    "    graph_utils._write_data({-1: obs_samples[run]}, samples_file, interventions_folder)\n",
    "    graph_utils.run_gies_boot(N_BOOT, samples_file, interventions_folder, gies_dags_folder)\n",
    "    amats, dags = graph_utils._load_dags(gies_dags_folder)\n",
    "\n",
    "    ivs2dags[-1].append(dags)"
   ]
  },
  {
   "cell_type": "markdown",
   "metadata": {},
   "source": [
    "# Collect DAGs given interventional data"
   ]
  },
  {
   "cell_type": "code",
   "execution_count": null,
   "metadata": {},
   "outputs": [],
   "source": [
    "for iv_node, intervention in tqdm(zip(intervention_nodes, interventions), total=len(interventions)):\n",
    "    for run in range(runs):\n",
    "        samples = gdag.sample_interventional({iv_node: intervention}, nsamples)\n",
    "        samples = preprocessing.scale(samples)\n",
    "        all_samples = {-1: obs_samples[run], iv_node: samples}\n",
    "        folder = os.path.join(samples_folder, 'iv=%d,run%d' % (iv_node, run))\n",
    "        os.makedirs(folder)\n",
    "\n",
    "        samples_file = os.path.join(folder, 'samples.csv')\n",
    "        interventions_folder = os.path.join(folder, 'interventions')\n",
    "        gies_dags_folder = os.path.join(folder, 'gies_dags/')\n",
    "        graph_utils._write_data(all_samples, samples_file, interventions_folder)\n",
    "        graph_utils.run_gies_boot(N_BOOT, samples_file, interventions_folder, gies_dags_folder)\n",
    "\n",
    "        amats, dags = graph_utils._load_dags(gies_dags_folder)\n",
    "        ivs2dags[iv_node].append(dags)"
   ]
  },
  {
   "cell_type": "code",
   "execution_count": null,
   "metadata": {},
   "outputs": [],
   "source": []
  },
  {
   "cell_type": "markdown",
   "metadata": {},
   "source": [
    "# Count the occurrences of each arc in the sampled DAGs"
   ]
  },
  {
   "cell_type": "code",
   "execution_count": null,
   "metadata": {},
   "outputs": [],
   "source": [
    "ivs2parent_probs = xr.DataArray(\n",
    "    np.zeros([len(interventions) + 1, len(gdag.nodes), runs]),\n",
    "    dims=['iv_node', 'parent', 'run'],\n",
    "    coords={\n",
    "        'iv_node': [-1] + intervention_nodes,\n",
    "        'parent': gdag.nodes,\n",
    "        'run': list(range(runs))\n",
    "    }\n",
    ")\n",
    "possible_arcs = list(itr.permutations(gdag.nodes, 2))\n",
    "ivs2arc_probs = xr.DataArray(\n",
    "    np.zeros([len(interventions) + 1, len(possible_arcs), runs]),\n",
    "    dims=['iv_node', 'arc', 'run'],\n",
    "    coords={\n",
    "        'iv_node': [-1] + intervention_nodes,\n",
    "        'arc': list(map(detuplify, possible_arcs)),\n",
    "        'run': list(range(runs))\n",
    "    }\n",
    ")\n",
    "for iv_node, dags_by_run in ivs2dags.items():\n",
    "    for run, dags in enumerate(dags_by_run):\n",
    "        parent_counts = {node: 0 for node in gdag.nodes}\n",
    "        arc_counts = defaultdict(int)\n",
    "        for dag in dags:\n",
    "            for p in dag.parents[target]:\n",
    "                parent_counts[p] += 1\n",
    "            for arc in dag.arcs:\n",
    "                arc_counts[arc] += 1\n",
    "        for parent, count in parent_counts.items():\n",
    "            ivs2parent_probs.loc[dict(run=run, iv_node=iv_node, parent=p)] = count/len(dags)\n",
    "        for arc, count in arc_counts.items():\n",
    "            ivs2arc_probs.loc[dict(run=run, iv_node=iv_node, arc=detuplify(arc))] = count/len(dags)"
   ]
  },
  {
   "cell_type": "markdown",
   "metadata": {},
   "source": [
    "# From the arc occurrences, compute l1 scores"
   ]
  },
  {
   "cell_type": "markdown",
   "metadata": {},
   "source": [
    "#### functions"
   ]
  },
  {
   "cell_type": "code",
   "execution_count": 15,
   "metadata": {},
   "outputs": [],
   "source": [
    "def l1_score_full(arc_probs, gdag):\n",
    "    possible_arcs = set(itr.permutations(gdag.nodes, 2))\n",
    "    nonarcs = possible_arcs - gdag.arcs\n",
    "    return sum(1-arc_probs[arc] for arc in gdag.arcs) + sum(arc_probs[nonarc] for nonarc in nonarcs)\n",
    "\n",
    "\n",
    "def l1_score_fp_full(arc_probs, gdag):\n",
    "    possible_arcs = set(itr.permutations(gdag.nodes, 2))\n",
    "    nonarcs = possible_arcs - gdag.arcs\n",
    "    return sum(arc_probs[nonarc] for nonarc in nonarcs)\n",
    "\n",
    "\n",
    "def l1_score_fn_full(arc_probs, gdag):\n",
    "    return sum(1-arc_probs[arc] for arc in gdag.arcs)"
   ]
  },
  {
   "cell_type": "markdown",
   "metadata": {},
   "source": [
    "#### actual computation"
   ]
  },
  {
   "cell_type": "code",
   "execution_count": null,
   "metadata": {},
   "outputs": [],
   "source": [
    "ivs2scores = xr.DataArray(\n",
    "    np.zeros([len(interventions) + 1, runs]),\n",
    "    dims=['iv_node', 'run'],\n",
    "    coords={\n",
    "        'iv_node': [-1] + intervention_nodes,\n",
    "        'run': list(range(runs))\n",
    "    }\n",
    ")\n",
    "for iv_node in intervention_nodes + [-1]:\n",
    "    for run in range(runs):\n",
    "        parent_probs = {node: ivs2parent_probs.sel(iv_node=iv_node, parent=node, run=run) for node in gdag.nodes}\n",
    "        ivs2scores.loc[dict(iv_node=iv_node, run=run)] = get_l1_score(parent_probs, gdag, target)\n",
    "\n",
    "max_l1_loss_full = nnodes*(nnodes-1)\n",
    "max_l1_loss_fn = len(gdag.arcs)\n",
    "max_l1_loss_fp = max_l1_loss_full - max_l1_loss_fn\n",
    "ivs2full_scores = xr.DataArray(\n",
    "    np.zeros([len(interventions) + 1, runs]),\n",
    "    dims=['iv_node', 'run'],\n",
    "    coords={\n",
    "        'iv_node': [-1] + intervention_nodes,\n",
    "        'run': list(range(runs))\n",
    "    }\n",
    ")\n",
    "ivs2full_scores_fp = xr.DataArray(\n",
    "    np.zeros([len(interventions) + 1, runs]),\n",
    "    dims=['iv_node', 'run'],\n",
    "    coords={\n",
    "        'iv_node': [-1] + intervention_nodes,\n",
    "        'run': list(range(runs))\n",
    "    }\n",
    ")\n",
    "ivs2full_scores_fn = xr.DataArray(\n",
    "    np.zeros([len(interventions) + 1, runs]),\n",
    "    dims=['iv_node', 'run'],\n",
    "    coords={\n",
    "        'iv_node': [-1] + intervention_nodes,\n",
    "        'run': list(range(runs))\n",
    "    }\n",
    ")\n",
    "for iv_node in intervention_nodes + [-1]:\n",
    "    for run in range(runs):\n",
    "        arc_probs = {arc: ivs2arc_probs.sel(iv_node=iv_node, arc=detuplify(arc), run=run).values.item() for arc in possible_arcs}\n",
    "        ivs2full_scores.loc[dict(iv_node=iv_node, run=run)] = l1_score_full(arc_probs, gdag)\n",
    "        ivs2full_scores_fp.loc[dict(iv_node=iv_node, run=run)] = l1_score_fp_full(arc_probs, gdag)\n",
    "        ivs2full_scores_fn.loc[dict(iv_node=iv_node, run=run)] = l1_score_fn_full(arc_probs, gdag)\n",
    "\n",
    "        "
   ]
  },
  {
   "cell_type": "markdown",
   "metadata": {},
   "source": [
    "# Plot effectiveness of each intervention"
   ]
  },
  {
   "cell_type": "markdown",
   "metadata": {},
   "source": [
    "#### L1-score targeting just learning parents"
   ]
  },
  {
   "cell_type": "code",
   "execution_count": null,
   "metadata": {},
   "outputs": [],
   "source": [
    "plt.title('Accuracy of %d samples from GIES bootstrap \\n after %d interventional samples \\n intervention strength = %s' % (N_BOOT, nsamples, IV_STRENGTH))\n",
    "plt.stem(intervention_nodes, ivs2scores.sel(iv_node=intervention_nodes,run=0))\n",
    "plt.stem(np.array(intervention_nodes) + .1, ivs2scores.sel(iv_node=intervention_nodes,run=1))\n",
    "plt.stem(np.array(intervention_nodes) + .2, ivs2scores.sel(iv_node=intervention_nodes,run=2))\n",
    "\n",
    "plt.axhline(ivs2scores.sel(iv_node=-1, run=2), color='red', label='%d Observational Samples' % nsamples_obs)\n",
    "plt.xlabel('Intervened node')\n",
    "plt.xticks(gdag.nodes)\n",
    "plt.ylabel('L1 loss on edges coming into node 5')\n",
    "plt.legend();"
   ]
  },
  {
   "cell_type": "markdown",
   "metadata": {},
   "source": [
    "#### L1-score on full graph"
   ]
  },
  {
   "cell_type": "code",
   "execution_count": null,
   "metadata": {},
   "outputs": [],
   "source": [
    "plt.title('Accuracy of %d samples from GIES bootstrap \\n after %d interventional samples \\n intervention strength = %s' % (N_BOOT, nsamples, IV_STRENGTH))\n",
    "plt.stem(intervention_nodes, ivs2full_scores.sel(iv_node=intervention_nodes,run=0))\n",
    "plt.stem(np.array(intervention_nodes) + .1, ivs2full_scores.sel(iv_node=intervention_nodes,run=1))\n",
    "plt.stem(np.array(intervention_nodes) + .2, ivs2full_scores.sel(iv_node=intervention_nodes,run=2))\n",
    "\n",
    "plt.axhline(ivs2full_scores.sel(iv_node=-1, run=2), color='red', label='%d Observational Samples' % nsamples_obs)\n",
    "plt.xlabel('Intervened node')\n",
    "plt.xticks(gdag.nodes)\n",
    "plt.ylabel('L1 loss on all edges')\n",
    "\n",
    "# A bunch of annoying code to get right-hand yaxis lookin' nice\n",
    "ax1 = plt.gca()\n",
    "yticks, _ = plt.yticks()\n",
    "ax = plt.twinx()\n",
    "ax.set_yticks(yticks)\n",
    "ax.set_yticklabels(map(lambda y: '%.2f' % (y / max_l1_loss_full), yticks))\n",
    "ax.grid(False)\n",
    "ax.set_ylabel('Percent of maximum L1 loss')\n",
    "\n",
    "plt.legend();"
   ]
  },
  {
   "cell_type": "markdown",
   "metadata": {},
   "source": [
    "#### L1-score on false negatives"
   ]
  },
  {
   "cell_type": "code",
   "execution_count": null,
   "metadata": {},
   "outputs": [],
   "source": [
    "plt.title('Accuracy of %d samples from GIES bootstrap \\n after %d interventional samples \\n intervention strength = %s' % (N_BOOT, nsamples, IV_STRENGTH))\n",
    "plt.stem(intervention_nodes, ivs2full_scores_fn.sel(iv_node=intervention_nodes,run=0))\n",
    "plt.stem(np.array(intervention_nodes) + .1, ivs2full_scores_fn.sel(iv_node=intervention_nodes,run=1))\n",
    "plt.stem(np.array(intervention_nodes) + .2, ivs2full_scores_fn.sel(iv_node=intervention_nodes,run=2))\n",
    "\n",
    "plt.axhline(ivs2full_scores_fn.sel(iv_node=-1, run=2), color='red', label='%d Observational Samples' % nsamples_obs)\n",
    "plt.xlabel('Intervened node')\n",
    "plt.xticks(gdag.nodes)\n",
    "plt.ylabel('L1 loss with only false negatives')\n",
    "\n",
    "# A bunch of annoying code to get right-hand yaxis lookin' nice\n",
    "ax1 = plt.gca()\n",
    "yticks, _ = plt.yticks()\n",
    "ax = plt.twinx()\n",
    "ax.set_yticks(yticks)\n",
    "ax.set_yticklabels(map(lambda y: '%.2f' % (y / max_l1_loss_fn), yticks))\n",
    "ax.grid(False)\n",
    "ax.set_ylabel('Percent of maximum L1 loss')\n",
    "\n",
    "plt.legend();"
   ]
  },
  {
   "cell_type": "markdown",
   "metadata": {},
   "source": [
    "#### L1-score on false positives"
   ]
  },
  {
   "cell_type": "code",
   "execution_count": null,
   "metadata": {},
   "outputs": [],
   "source": [
    "plt.title('Accuracy of %d samples from GIES bootstrap \\n after %d interventional samples \\n intervention strength = %s' % (N_BOOT, nsamples, IV_STRENGTH))\n",
    "plt.stem(intervention_nodes, ivs2full_scores_fp.sel(iv_node=intervention_nodes,run=0))\n",
    "plt.stem(np.array(intervention_nodes) + .1, ivs2full_scores_fp.sel(iv_node=intervention_nodes,run=1))\n",
    "plt.stem(np.array(intervention_nodes) + .2, ivs2full_scores_fp.sel(iv_node=intervention_nodes,run=2))\n",
    "\n",
    "plt.axhline(ivs2full_scores_fp.sel(iv_node=-1, run=2), color='red', label='%d Observational Samples' % nsamples_obs)\n",
    "plt.xlabel('Intervened node')\n",
    "plt.xticks(gdag.nodes)\n",
    "plt.ylabel('L1 loss with only false positives')\n",
    "\n",
    "# A bunch of annoying code to get right-hand yaxis lookin' nice\n",
    "ax1 = plt.gca()\n",
    "yticks, _ = plt.yticks()\n",
    "ax = plt.twinx()\n",
    "ax.set_yticks(yticks)\n",
    "ax.set_yticklabels(map(lambda y: '%.2f' % (y / max_l1_loss_fp), yticks))\n",
    "ax.grid(False)\n",
    "ax.set_ylabel('Percent of maximum L1 loss')\n",
    "\n",
    "plt.legend();"
   ]
  },
  {
   "cell_type": "code",
   "execution_count": null,
   "metadata": {},
   "outputs": [],
   "source": [
    "# def get_parent_functional(parent):\n",
    "#     def parent_functional(dag):\n",
    "#         return parent in dag.parents[target]\n",
    "#     return parent_functional\n",
    "\n",
    "# parent_functionals = [get_parent_functional(node) for node in gdag.nodes if node != target]"
   ]
  },
  {
   "cell_type": "code",
   "execution_count": null,
   "metadata": {},
   "outputs": [],
   "source": [
    "# info_strat = create_info_gain_strategy(50, parent_functionals)\n",
    "\n",
    "# info_strat(iteration_data)"
   ]
  },
  {
   "cell_type": "code",
   "execution_count": null,
   "metadata": {},
   "outputs": [],
   "source": [
    "ivs2parent_probs.sel(iv_node=0, run=1)"
   ]
  },
  {
   "cell_type": "code",
   "execution_count": null,
   "metadata": {},
   "outputs": [],
   "source": [
    "ivs2parent_probs.sel(iv_node=0, run=2)"
   ]
  },
  {
   "cell_type": "code",
   "execution_count": null,
   "metadata": {},
   "outputs": [],
   "source": [
    "ivs2scores.sel(iv_node=0, run=1)"
   ]
  },
  {
   "cell_type": "code",
   "execution_count": null,
   "metadata": {},
   "outputs": [],
   "source": [
    "ivs2scores.sel(iv_node=0, run=2)"
   ]
  },
  {
   "cell_type": "code",
   "execution_count": null,
   "metadata": {},
   "outputs": [],
   "source": [
    "ivs2scores.sel(iv_node=0, run=0)"
   ]
  },
  {
   "cell_type": "code",
   "execution_count": null,
   "metadata": {},
   "outputs": [],
   "source": [
    "def marginal_network(ivs2arc_probs, iv, run, mode='both'):\n",
    "    arc_probs = ivs2arc_probs.sel(iv_node=iv, run=run)\n",
    "    d = nx.DiGraph()\n",
    "    d.add_nodes_from(gdag.nodes)\n",
    "    for arc, prob in zip(possible_arcs, arc_probs.data):\n",
    "        i, j = arc\n",
    "        if prob != 0:\n",
    "            if mode == 'both' or (mode == 'forward' and i<j) or (mode == 'backward' and i > j):\n",
    "                d.add_edge(*arc, weight=prob)\n",
    "    return d"
   ]
  },
  {
   "cell_type": "code",
   "execution_count": null,
   "metadata": {},
   "outputs": [],
   "source": [
    "draw_colored(gdag)"
   ]
  },
  {
   "cell_type": "code",
   "execution_count": null,
   "metadata": {},
   "outputs": [],
   "source": [
    "cmap = plt.get_cmap('Greys')\n",
    "fig, axes = plt.subplots(len(interventions)+1, runs*2)\n",
    "unit = 6\n",
    "width = unit*runs*2\n",
    "height = unit*(len(interventions) + 1)\n",
    "fig.set_size_inches(width, height)\n",
    "\n",
    "pos = nx.circular_layout(gdag.nodes)\n",
    "\n",
    "for run in range(runs):\n",
    "    for iv_ix, iv_node in enumerate([-1] + intervention_nodes):\n",
    "        forward_ax = axes[iv_ix, run*2]\n",
    "        backward_ax = axes[iv_ix, run*2+1]\n",
    "        \n",
    "        m = marginal_network(ivs2arc_probs, iv_node, run, mode='forward')\n",
    "        edges = m.edges()\n",
    "        edge_colors = [cmap(m[i][j]['weight']) for i, j in edges]\n",
    "        nx.draw(m, pos=pos, node_color='w', edge_color=edge_colors, ax=forward_ax)\n",
    "        nx.draw_networkx_edges(m, pos, edge_color=edge_colors, ax=forward_ax, arrowstyle='fancy')\n",
    "        nx.draw_networkx_labels(m, pos, labels={node: node for node in range(10)}, ax=forward_ax)\n",
    "        \n",
    "        m = marginal_network(ivs2arc_probs, iv_node, run, mode='backward')\n",
    "        edges = m.edges()\n",
    "        edge_colors = [cmap(m[i][j]['weight']) for i, j in edges]\n",
    "        nx.draw(m, pos=pos, node_color='w', edge_color=edge_colors, ax=backward_ax)\n",
    "        nx.draw_networkx_edges(m, pos, edge_color=edge_colors, ax=backward_ax, arrowstyle='fancy')\n",
    "        nx.draw_networkx_labels(m, pos, labels={node: node for node in range(10)}, ax=backward_ax);\n",
    "        \n",
    "        if iv_ix == 0:\n",
    "            forward_ax.set_title('Run %d' % run)\n",
    "            backward_ax.set_title('Run %d' % run)\n",
    "        if run == 0:\n",
    "            forward_ax.text(-1, -1, 'I=%s' % iv_node if iv_node != -1 else 'Obs')"
   ]
  },
  {
   "cell_type": "code",
   "execution_count": null,
   "metadata": {},
   "outputs": [],
   "source": [
    "gdag.arcs"
   ]
  },
  {
   "cell_type": "code",
   "execution_count": null,
   "metadata": {},
   "outputs": [],
   "source": [
    "ivs2full_scores_fp"
   ]
  },
  {
   "cell_type": "code",
   "execution_count": null,
   "metadata": {},
   "outputs": [],
   "source": [
    "ivs2full_scores_fn"
   ]
  },
  {
   "cell_type": "code",
   "execution_count": null,
   "metadata": {},
   "outputs": [],
   "source": [
    "ivs2full_scores"
   ]
  },
  {
   "cell_type": "code",
   "execution_count": null,
   "metadata": {},
   "outputs": [],
   "source": [
    "len(true_dag_mec)"
   ]
  },
  {
   "cell_type": "code",
   "execution_count": 14,
   "metadata": {},
   "outputs": [
    {
     "data": {
      "text/plain": [
       "[False,\n",
       " True,\n",
       " False,\n",
       " False,\n",
       " False,\n",
       " False,\n",
       " False,\n",
       " False,\n",
       " False,\n",
       " False,\n",
       " False,\n",
       " False,\n",
       " False,\n",
       " False,\n",
       " False,\n",
       " False,\n",
       " False,\n",
       " False,\n",
       " False,\n",
       " False]"
      ]
     },
     "execution_count": 14,
     "metadata": {},
     "output_type": "execute_result"
    }
   ],
   "source": [
    "def get_isdag_functional(dag):\n",
    "    def isdag(test_dag):\n",
    "        return dag.arcs == test_dag.arcs\n",
    "    return isdag\n",
    "\n",
    "mec_functionals = [get_isdag_functional(dag) for dag in true_dag_mec]\n",
    "list(map(lambda m: m(true_dag), mec_functionals))"
   ]
  },
  {
   "cell_type": "code",
   "execution_count": 15,
   "metadata": {},
   "outputs": [],
   "source": [
    "iv_samples = gdag.sample_interventional({0: interventions[0]}, 10)"
   ]
  },
  {
   "cell_type": "code",
   "execution_count": 16,
   "metadata": {},
   "outputs": [],
   "source": [
    "dag_collection_info_strat = create_info_gain_strategy_dag_collection(true_dag_mec, mec_functionals)\n",
    "bootstrap_info_strat = create_info_gain_strategy(100, mec_functionals)\n",
    "\n",
    "dag_collection_info_strat_folder = os.path.join(DATA_FOLDER, 'dag-collection-info-test-line/')\n",
    "bootstrap_info_strat_folder = os.path.join(DATA_FOLDER, 'bootstrap-info-test-line/')\n",
    "os.makedirs(dag_collection_info_strat_folder, exist_ok=True)\n",
    "os.makedirs(bootstrap_info_strat_folder, exist_ok=True)\n",
    "\n",
    "\n",
    "iteration_data_dag_collection_info_strat = IterationData(\n",
    "    current_data={-1: obs_samples_unscaled},\n",
    "    max_interventions=2,\n",
    "    n_samples=200,\n",
    "    batch_num=1,\n",
    "    n_batches=1,\n",
    "    intervention_set=intervention_nodes,\n",
    "    interventions=interventions,\n",
    "    batch_folder=dag_collection_info_strat_folder,\n",
    "    precision_matrix=gdag.precision\n",
    ")\n",
    "iteration_data_bootstrap_info_strat = IterationData(\n",
    "    current_data={-1: obs_samples_unscaled},\n",
    "    max_interventions=2,\n",
    "    n_samples=1000,\n",
    "    batch_num=1,\n",
    "    n_batches=1,\n",
    "    intervention_set=intervention_nodes,\n",
    "    interventions=interventions,\n",
    "    batch_folder=bootstrap_info_strat_folder,\n",
    "    precision_matrix=gdag.precision\n",
    ")"
   ]
  },
  {
   "cell_type": "code",
   "execution_count": 17,
   "metadata": {},
   "outputs": [
    {
     "name": "stdout",
     "output_type": "stream",
     "text": [
      "[0.05 0.05 0.05 0.05 0.05 0.05 0.05 0.05 0.05 0.05 0.05 0.05 0.05 0.05\n",
      " 0.05 0.05 0.05 0.05 0.05 0.05]\n",
      "COLLECTING DATA POINTS\n"
     ]
    },
    {
     "name": "stderr",
     "output_type": "stream",
     "text": [
      "  0%|          | 0/20 [00:00<?, ?it/s]\n",
      "  0%|          | 0/20 [00:00<?, ?it/s]\u001b[A\n",
      " 10%|█         | 2/20 [00:00<00:00, 18.66it/s]\u001b[A"
     ]
    },
    {
     "name": "stdout",
     "output_type": "stream",
     "text": [
      "CALCULATING LOG PDFS\n"
     ]
    },
    {
     "name": "stderr",
     "output_type": "stream",
     "text": [
      "\n",
      " 20%|██        | 4/20 [00:00<00:00, 18.64it/s]\u001b[A\n",
      " 30%|███       | 6/20 [00:00<00:00, 18.67it/s]\u001b[A\n",
      " 40%|████      | 8/20 [00:00<00:00, 18.65it/s]\u001b[A\n",
      " 50%|█████     | 10/20 [00:00<00:00, 18.70it/s]\u001b[A\n",
      " 60%|██████    | 12/20 [00:00<00:00, 18.69it/s]\u001b[A\n",
      " 70%|███████   | 14/20 [00:00<00:00, 18.71it/s]\u001b[A\n",
      " 80%|████████  | 16/20 [00:00<00:00, 18.71it/s]\u001b[A\n",
      " 90%|█████████ | 18/20 [00:00<00:00, 18.72it/s]\u001b[A\n",
      "100%|██████████| 20/20 [00:01<00:00, 18.71it/s]\u001b[A\n",
      "  5%|▌         | 1/20 [00:01<00:20,  1.07s/it]\n",
      "  0%|          | 0/20 [00:00<?, ?it/s]\u001b[A\n",
      " 10%|█         | 2/20 [00:00<00:00, 18.10it/s]\u001b[A\n",
      " 20%|██        | 4/20 [00:00<00:00, 18.24it/s]\u001b[A\n",
      " 30%|███       | 6/20 [00:00<00:00, 18.38it/s]\u001b[A\n",
      " 40%|████      | 8/20 [00:00<00:00, 18.49it/s]\u001b[A\n",
      " 50%|█████     | 10/20 [00:00<00:00, 18.60it/s]\u001b[A\n",
      " 60%|██████    | 12/20 [00:00<00:00, 18.64it/s]\u001b[A\n",
      " 70%|███████   | 14/20 [00:00<00:00, 18.67it/s]\u001b[A\n",
      " 80%|████████  | 16/20 [00:00<00:00, 18.71it/s]\u001b[A\n",
      " 90%|█████████ | 18/20 [00:00<00:00, 18.69it/s]\u001b[A\n",
      "100%|██████████| 20/20 [00:01<00:00, 18.72it/s]\u001b[A\n",
      " 10%|█         | 2/20 [00:02<00:19,  1.07s/it]\n",
      "  0%|          | 0/20 [00:00<?, ?it/s]\u001b[A\n",
      " 10%|█         | 2/20 [00:00<00:00, 18.60it/s]\u001b[A\n",
      " 20%|██        | 4/20 [00:00<00:00, 18.64it/s]\u001b[A\n",
      " 30%|███       | 6/20 [00:00<00:00, 18.67it/s]\u001b[A\n",
      " 40%|████      | 8/20 [00:00<00:00, 18.69it/s]\u001b[A\n",
      " 50%|█████     | 10/20 [00:00<00:00, 18.77it/s]\u001b[A\n",
      " 60%|██████    | 12/20 [00:00<00:00, 18.76it/s]\u001b[A\n",
      " 70%|███████   | 14/20 [00:00<00:00, 18.79it/s]\u001b[A\n",
      " 80%|████████  | 16/20 [00:00<00:00, 18.78it/s]\u001b[A\n",
      " 90%|█████████ | 18/20 [00:00<00:00, 18.76it/s]\u001b[A\n",
      "100%|██████████| 20/20 [00:01<00:00, 18.74it/s]\u001b[A\n",
      " 15%|█▌        | 3/20 [00:03<00:18,  1.07s/it]\n",
      "  0%|          | 0/20 [00:00<?, ?it/s]\u001b[A\n",
      " 10%|█         | 2/20 [00:00<00:00, 18.40it/s]\u001b[A\n",
      " 20%|██        | 4/20 [00:00<00:00, 18.47it/s]\u001b[A\n",
      " 30%|███       | 6/20 [00:00<00:00, 18.52it/s]\u001b[A\n",
      " 40%|████      | 8/20 [00:00<00:00, 18.59it/s]\u001b[A\n",
      " 50%|█████     | 10/20 [00:00<00:00, 18.67it/s]\u001b[A\n",
      " 60%|██████    | 12/20 [00:00<00:00, 18.68it/s]\u001b[A\n",
      " 70%|███████   | 14/20 [00:00<00:00, 18.71it/s]\u001b[A\n",
      " 80%|████████  | 16/20 [00:00<00:00, 18.73it/s]\u001b[A\n",
      " 90%|█████████ | 18/20 [00:00<00:00, 18.74it/s]\u001b[A\n",
      "100%|██████████| 20/20 [00:01<00:00, 18.71it/s]\u001b[A\n",
      " 20%|██        | 4/20 [00:04<00:17,  1.07s/it]\n",
      "  0%|          | 0/20 [00:00<?, ?it/s]\u001b[A\n",
      " 10%|█         | 2/20 [00:00<00:00, 18.65it/s]\u001b[A\n",
      " 20%|██        | 4/20 [00:00<00:00, 18.67it/s]\u001b[A\n",
      " 30%|███       | 6/20 [00:00<00:00, 18.65it/s]\u001b[A\n",
      " 40%|████      | 8/20 [00:00<00:00, 18.67it/s]\u001b[A\n",
      " 50%|█████     | 10/20 [00:00<00:00, 18.73it/s]\u001b[A\n",
      " 60%|██████    | 12/20 [00:00<00:00, 18.75it/s]\u001b[A\n",
      " 70%|███████   | 14/20 [00:00<00:00, 18.74it/s]\u001b[A\n",
      " 80%|████████  | 16/20 [00:00<00:00, 18.76it/s]\u001b[A\n",
      " 90%|█████████ | 18/20 [00:00<00:00, 18.63it/s]\u001b[A\n",
      "100%|██████████| 20/20 [00:01<00:00, 18.64it/s]\u001b[A\n",
      " 25%|██▌       | 5/20 [00:05<00:16,  1.07s/it]\n",
      "  0%|          | 0/20 [00:00<?, ?it/s]\u001b[A\n",
      " 10%|█         | 2/20 [00:00<00:00, 18.65it/s]\u001b[A\n",
      " 20%|██        | 4/20 [00:00<00:00, 18.66it/s]\u001b[A\n",
      " 30%|███       | 6/20 [00:00<00:00, 18.69it/s]\u001b[A\n",
      " 40%|████      | 8/20 [00:00<00:00, 18.70it/s]\u001b[A\n",
      " 50%|█████     | 10/20 [00:00<00:00, 18.77it/s]\u001b[A\n",
      " 60%|██████    | 12/20 [00:00<00:00, 18.78it/s]\u001b[A\n",
      " 70%|███████   | 14/20 [00:00<00:00, 18.79it/s]\u001b[A\n",
      " 80%|████████  | 16/20 [00:00<00:00, 18.76it/s]\u001b[A\n",
      " 90%|█████████ | 18/20 [00:00<00:00, 18.76it/s]\u001b[A\n",
      "100%|██████████| 20/20 [00:01<00:00, 18.77it/s]\u001b[A\n",
      " 30%|███       | 6/20 [00:06<00:15,  1.07s/it]\n",
      "  0%|          | 0/20 [00:00<?, ?it/s]\u001b[A\n",
      " 10%|█         | 2/20 [00:00<00:00, 18.67it/s]\u001b[A\n",
      " 20%|██        | 4/20 [00:00<00:00, 18.68it/s]\u001b[A\n",
      " 30%|███       | 6/20 [00:00<00:00, 18.71it/s]\u001b[A\n",
      " 40%|████      | 8/20 [00:00<00:00, 18.70it/s]\u001b[A\n",
      " 50%|█████     | 10/20 [00:00<00:00, 18.77it/s]\u001b[A\n",
      " 60%|██████    | 12/20 [00:00<00:00, 18.74it/s]\u001b[A\n",
      " 70%|███████   | 14/20 [00:00<00:00, 18.75it/s]\u001b[A\n",
      " 80%|████████  | 16/20 [00:00<00:00, 18.71it/s]\u001b[A\n",
      " 90%|█████████ | 18/20 [00:00<00:00, 18.71it/s]\u001b[A\n",
      "100%|██████████| 20/20 [00:01<00:00, 18.71it/s]\u001b[A\n",
      " 35%|███▌      | 7/20 [00:07<00:13,  1.07s/it]\n",
      "  0%|          | 0/20 [00:00<?, ?it/s]\u001b[A\n",
      " 10%|█         | 2/20 [00:00<00:00, 18.64it/s]\u001b[A\n",
      " 20%|██        | 4/20 [00:00<00:00, 18.61it/s]\u001b[A\n",
      " 30%|███       | 6/20 [00:00<00:00, 18.64it/s]\u001b[A\n",
      " 40%|████      | 8/20 [00:00<00:00, 18.68it/s]\u001b[A\n",
      " 50%|█████     | 10/20 [00:00<00:00, 18.76it/s]\u001b[A\n",
      " 60%|██████    | 12/20 [00:00<00:00, 18.75it/s]\u001b[A\n",
      " 70%|███████   | 14/20 [00:00<00:00, 18.75it/s]\u001b[A\n",
      " 80%|████████  | 16/20 [00:00<00:00, 18.75it/s]\u001b[A\n",
      " 90%|█████████ | 18/20 [00:00<00:00, 18.75it/s]\u001b[A\n",
      "100%|██████████| 20/20 [00:01<00:00, 18.74it/s]\u001b[A\n",
      " 40%|████      | 8/20 [00:08<00:12,  1.07s/it]\n",
      "  0%|          | 0/20 [00:00<?, ?it/s]\u001b[A\n",
      " 10%|█         | 2/20 [00:00<00:00, 18.73it/s]\u001b[A\n",
      " 20%|██        | 4/20 [00:00<00:00, 18.70it/s]\u001b[A\n",
      " 30%|███       | 6/20 [00:00<00:00, 18.72it/s]\u001b[A\n",
      " 40%|████      | 8/20 [00:00<00:00, 18.75it/s]\u001b[A\n",
      " 50%|█████     | 10/20 [00:00<00:00, 18.79it/s]\u001b[A\n",
      " 60%|██████    | 12/20 [00:00<00:00, 18.80it/s]\u001b[A\n",
      " 70%|███████   | 14/20 [00:00<00:00, 18.75it/s]\u001b[A\n",
      " 80%|████████  | 16/20 [00:00<00:00, 18.71it/s]\u001b[A\n",
      " 90%|█████████ | 18/20 [00:00<00:00, 18.68it/s]\u001b[A\n",
      "100%|██████████| 20/20 [00:01<00:00, 18.69it/s]\u001b[A\n",
      " 45%|████▌     | 9/20 [00:09<00:11,  1.07s/it]\n",
      "  0%|          | 0/20 [00:00<?, ?it/s]\u001b[A\n",
      " 10%|█         | 2/20 [00:00<00:00, 18.64it/s]\u001b[A\n",
      " 20%|██        | 4/20 [00:00<00:00, 18.62it/s]\u001b[A\n",
      " 30%|███       | 6/20 [00:00<00:00, 18.61it/s]\u001b[A\n",
      " 40%|████      | 8/20 [00:00<00:00, 18.59it/s]\u001b[A\n",
      " 50%|█████     | 10/20 [00:00<00:00, 18.65it/s]\u001b[A\n",
      " 60%|██████    | 12/20 [00:00<00:00, 18.67it/s]\u001b[A\n",
      " 70%|███████   | 14/20 [00:00<00:00, 18.67it/s]\u001b[A\n",
      " 80%|████████  | 16/20 [00:00<00:00, 18.67it/s]\u001b[A\n",
      " 90%|█████████ | 18/20 [00:00<00:00, 18.65it/s]\u001b[A\n",
      "100%|██████████| 20/20 [00:01<00:00, 18.66it/s]\u001b[A\n",
      " 50%|█████     | 10/20 [00:10<00:10,  1.07s/it]\n",
      "  0%|          | 0/20 [00:00<?, ?it/s]\u001b[A\n",
      " 10%|█         | 2/20 [00:00<00:00, 18.56it/s]\u001b[A\n",
      " 20%|██        | 4/20 [00:00<00:00, 18.61it/s]\u001b[A\n",
      " 30%|███       | 6/20 [00:00<00:00, 18.64it/s]\u001b[A\n",
      " 40%|████      | 8/20 [00:00<00:00, 18.66it/s]\u001b[A\n",
      " 50%|█████     | 10/20 [00:00<00:00, 18.68it/s]\u001b[A\n",
      " 60%|██████    | 12/20 [00:00<00:00, 18.70it/s]\u001b[A\n",
      " 70%|███████   | 14/20 [00:00<00:00, 18.69it/s]\u001b[A\n",
      " 80%|████████  | 16/20 [00:00<00:00, 18.70it/s]\u001b[A\n",
      " 90%|█████████ | 18/20 [00:00<00:00, 18.69it/s]\u001b[A\n",
      "100%|██████████| 20/20 [00:01<00:00, 18.67it/s]\u001b[A\n",
      " 55%|█████▌    | 11/20 [00:11<00:09,  1.07s/it]\n",
      "  0%|          | 0/20 [00:00<?, ?it/s]\u001b[A\n",
      " 10%|█         | 2/20 [00:00<00:00, 18.64it/s]\u001b[A\n",
      " 20%|██        | 4/20 [00:00<00:00, 18.62it/s]\u001b[A\n",
      " 30%|███       | 6/20 [00:00<00:00, 18.65it/s]\u001b[A\n",
      " 40%|████      | 8/20 [00:00<00:00, 18.67it/s]\u001b[A\n",
      " 50%|█████     | 10/20 [00:00<00:00, 18.73it/s]\u001b[A\n",
      " 60%|██████    | 12/20 [00:00<00:00, 18.73it/s]\u001b[A\n",
      " 70%|███████   | 14/20 [00:00<00:00, 18.72it/s]\u001b[A\n",
      " 80%|████████  | 16/20 [00:00<00:00, 18.69it/s]\u001b[A\n",
      " 90%|█████████ | 18/20 [00:00<00:00, 18.69it/s]\u001b[A\n",
      "100%|██████████| 20/20 [00:01<00:00, 18.68it/s]\u001b[A\n",
      " 60%|██████    | 12/20 [00:12<00:08,  1.07s/it]\n",
      "  0%|          | 0/20 [00:00<?, ?it/s]\u001b[A\n",
      " 10%|█         | 2/20 [00:00<00:00, 18.54it/s]\u001b[A\n",
      " 20%|██        | 4/20 [00:00<00:00, 18.52it/s]\u001b[A\n",
      " 30%|███       | 6/20 [00:00<00:00, 18.54it/s]\u001b[A\n",
      " 40%|████      | 8/20 [00:00<00:00, 18.43it/s]\u001b[A\n",
      " 50%|█████     | 10/20 [00:00<00:00, 18.50it/s]\u001b[A\n",
      " 60%|██████    | 12/20 [00:00<00:00, 18.58it/s]\u001b[A\n",
      " 70%|███████   | 14/20 [00:00<00:00, 18.62it/s]\u001b[A\n",
      " 80%|████████  | 16/20 [00:00<00:00, 18.66it/s]\u001b[A\n",
      " 90%|█████████ | 18/20 [00:00<00:00, 18.67it/s]\u001b[A\n",
      "100%|██████████| 20/20 [00:01<00:00, 18.70it/s]\u001b[A\n",
      " 65%|██████▌   | 13/20 [00:13<00:07,  1.07s/it]\n",
      "  0%|          | 0/20 [00:00<?, ?it/s]\u001b[A\n",
      " 10%|█         | 2/20 [00:00<00:00, 18.70it/s]\u001b[A\n",
      " 20%|██        | 4/20 [00:00<00:00, 18.70it/s]\u001b[A\n",
      " 30%|███       | 6/20 [00:00<00:00, 18.70it/s]\u001b[A\n",
      " 40%|████      | 8/20 [00:00<00:00, 18.71it/s]\u001b[A\n",
      " 50%|█████     | 10/20 [00:00<00:00, 18.77it/s]\u001b[A\n",
      " 60%|██████    | 12/20 [00:00<00:00, 18.76it/s]\u001b[A\n",
      " 70%|███████   | 14/20 [00:00<00:00, 18.78it/s]\u001b[A\n",
      " 80%|████████  | 16/20 [00:00<00:00, 18.76it/s]\u001b[A\n",
      " 90%|█████████ | 18/20 [00:00<00:00, 18.75it/s]\u001b[A\n"
     ]
    },
    {
     "name": "stderr",
     "output_type": "stream",
     "text": [
      "100%|██████████| 20/20 [00:01<00:00, 18.74it/s]\u001b[A\n",
      " 70%|███████   | 14/20 [00:15<00:06,  1.07s/it]\n",
      "  0%|          | 0/20 [00:00<?, ?it/s]\u001b[A\n",
      " 10%|█         | 2/20 [00:00<00:00, 18.76it/s]\u001b[A\n",
      " 20%|██        | 4/20 [00:00<00:00, 18.74it/s]\u001b[A\n",
      " 30%|███       | 6/20 [00:00<00:00, 18.74it/s]\u001b[A\n",
      " 40%|████      | 8/20 [00:00<00:00, 18.74it/s]\u001b[A\n",
      " 50%|█████     | 10/20 [00:00<00:00, 18.78it/s]\u001b[A\n",
      " 60%|██████    | 12/20 [00:00<00:00, 18.77it/s]\u001b[A\n",
      " 70%|███████   | 14/20 [00:00<00:00, 18.75it/s]\u001b[A\n",
      " 80%|████████  | 16/20 [00:00<00:00, 18.74it/s]\u001b[A\n",
      " 90%|█████████ | 18/20 [00:00<00:00, 18.75it/s]\u001b[A\n",
      "100%|██████████| 20/20 [00:01<00:00, 18.75it/s]\u001b[A\n",
      " 75%|███████▌  | 15/20 [00:16<00:05,  1.07s/it]\n",
      "  0%|          | 0/20 [00:00<?, ?it/s]\u001b[A\n",
      " 10%|█         | 2/20 [00:00<00:00, 18.76it/s]\u001b[A\n",
      " 20%|██        | 4/20 [00:00<00:00, 18.73it/s]\u001b[A\n",
      " 30%|███       | 6/20 [00:00<00:00, 18.74it/s]\u001b[A\n",
      " 40%|████      | 8/20 [00:00<00:00, 18.75it/s]\u001b[A\n",
      " 50%|█████     | 10/20 [00:00<00:00, 18.79it/s]\u001b[A\n",
      " 60%|██████    | 12/20 [00:00<00:00, 18.79it/s]\u001b[A\n",
      " 70%|███████   | 14/20 [00:00<00:00, 18.80it/s]\u001b[A\n",
      " 80%|████████  | 16/20 [00:00<00:00, 18.78it/s]\u001b[A\n",
      " 90%|█████████ | 18/20 [00:00<00:00, 18.74it/s]\u001b[A\n",
      "100%|██████████| 20/20 [00:01<00:00, 18.73it/s]\u001b[A\n",
      " 80%|████████  | 16/20 [00:17<00:04,  1.07s/it]\n",
      "  0%|          | 0/20 [00:00<?, ?it/s]\u001b[A\n",
      " 10%|█         | 2/20 [00:00<00:00, 18.65it/s]\u001b[A\n",
      " 20%|██        | 4/20 [00:00<00:00, 18.68it/s]\u001b[A\n",
      " 30%|███       | 6/20 [00:00<00:00, 18.67it/s]\u001b[A\n",
      " 40%|████      | 8/20 [00:00<00:00, 18.61it/s]\u001b[A\n",
      " 50%|█████     | 10/20 [00:00<00:00, 18.48it/s]\u001b[A\n",
      " 60%|██████    | 12/20 [00:00<00:00, 18.50it/s]\u001b[A\n",
      " 70%|███████   | 14/20 [00:00<00:00, 18.57it/s]\u001b[A\n",
      " 80%|████████  | 16/20 [00:00<00:00, 18.52it/s]\u001b[A\n",
      " 90%|█████████ | 18/20 [00:00<00:00, 18.35it/s]\u001b[A\n",
      "100%|██████████| 20/20 [00:01<00:00, 18.37it/s]\u001b[A\n",
      " 85%|████████▌ | 17/20 [00:18<00:03,  1.08s/it]\n",
      "  0%|          | 0/20 [00:00<?, ?it/s]\u001b[A\n",
      " 10%|█         | 2/20 [00:00<00:00, 18.71it/s]\u001b[A\n",
      " 20%|██        | 4/20 [00:00<00:00, 18.71it/s]\u001b[A\n",
      " 30%|███       | 6/20 [00:00<00:00, 18.71it/s]\u001b[A\n",
      " 40%|████      | 8/20 [00:00<00:00, 18.73it/s]\u001b[A\n",
      " 50%|█████     | 10/20 [00:00<00:00, 18.78it/s]\u001b[A\n",
      " 60%|██████    | 12/20 [00:00<00:00, 18.76it/s]\u001b[A\n",
      " 70%|███████   | 14/20 [00:00<00:00, 18.75it/s]\u001b[A\n",
      " 80%|████████  | 16/20 [00:00<00:00, 18.74it/s]\u001b[A\n",
      " 90%|█████████ | 18/20 [00:00<00:00, 18.74it/s]\u001b[A\n",
      "100%|██████████| 20/20 [00:01<00:00, 18.70it/s]\u001b[A\n",
      " 90%|█████████ | 18/20 [00:19<00:02,  1.07s/it]\n",
      "  0%|          | 0/20 [00:00<?, ?it/s]\u001b[A\n",
      " 10%|█         | 2/20 [00:00<00:00, 18.61it/s]\u001b[A\n",
      " 20%|██        | 4/20 [00:00<00:00, 18.63it/s]\u001b[A\n",
      " 30%|███       | 6/20 [00:00<00:00, 18.64it/s]\u001b[A\n",
      " 40%|████      | 8/20 [00:00<00:00, 18.67it/s]\u001b[A\n",
      " 50%|█████     | 10/20 [00:00<00:00, 18.71it/s]\u001b[A\n",
      " 60%|██████    | 12/20 [00:00<00:00, 18.73it/s]\u001b[A\n",
      " 70%|███████   | 14/20 [00:00<00:00, 18.71it/s]\u001b[A\n",
      " 80%|████████  | 16/20 [00:00<00:00, 18.69it/s]\u001b[A\n",
      " 90%|█████████ | 18/20 [00:00<00:00, 18.69it/s]\u001b[A\n",
      "100%|██████████| 20/20 [00:01<00:00, 18.70it/s]\u001b[A\n",
      " 95%|█████████▌| 19/20 [00:20<00:01,  1.07s/it]\n",
      "  0%|          | 0/20 [00:00<?, ?it/s]\u001b[A\n",
      " 10%|█         | 2/20 [00:00<00:00, 18.79it/s]\u001b[A\n",
      " 20%|██        | 4/20 [00:00<00:00, 18.74it/s]\u001b[A\n",
      " 30%|███       | 6/20 [00:00<00:00, 18.75it/s]\u001b[A\n",
      " 40%|████      | 8/20 [00:00<00:00, 18.75it/s]\u001b[A\n",
      " 50%|█████     | 10/20 [00:00<00:00, 18.78it/s]\u001b[A\n",
      " 60%|██████    | 12/20 [00:00<00:00, 18.76it/s]\u001b[A\n",
      " 70%|███████   | 14/20 [00:00<00:00, 18.76it/s]\u001b[A\n",
      " 80%|████████  | 16/20 [00:00<00:00, 18.74it/s]\u001b[A\n",
      " 90%|█████████ | 18/20 [00:00<00:00, 18.71it/s]\u001b[A\n",
      "100%|██████████| 20/20 [00:01<00:00, 18.50it/s]\u001b[A\n",
      "100%|██████████| 20/20 [00:21<00:00,  1.07s/it]\n",
      "100%|██████████| 200/200 [01:26<00:00,  2.33it/s]\n"
     ]
    }
   ],
   "source": [
    "dag_collection_interventions = dag_collection_info_strat(iteration_data_dag_collection_info_strat)"
   ]
  },
  {
   "cell_type": "code",
   "execution_count": 20,
   "metadata": {},
   "outputs": [
    {
     "data": {
      "text/plain": [
       "defaultdict(int, {10: 106, 5: 94})"
      ]
     },
     "execution_count": 20,
     "metadata": {},
     "output_type": "execute_result"
    }
   ],
   "source": [
    "dag_collection_interventions"
   ]
  },
  {
   "cell_type": "code",
   "execution_count": 18,
   "metadata": {},
   "outputs": [
    {
     "name": "stdout",
     "output_type": "stream",
     "text": [
      "{2: 200}\n",
      "{2: 200}\n",
      "{7: 200}\n",
      "{9: 200}\n",
      "{6: 200}\n",
      "{4: 200}\n",
      "{17: 200}\n",
      "{10: 200}\n",
      "{3: 200}\n",
      "{2: 200}\n"
     ]
    }
   ],
   "source": [
    "iteration_data_random = IterationData(\n",
    "    current_data={-1: obs_samples_unscaled},\n",
    "    max_interventions=1,\n",
    "    n_samples=200,\n",
    "    batch_num=1,\n",
    "    n_batches=1,\n",
    "    intervention_set=intervention_nodes,\n",
    "    interventions=interventions,\n",
    "    batch_folder=os.path.join(DATA_FOLDER, 'test-random'),\n",
    "    precision_matrix=gdag.precision\n",
    ")\n",
    "random_datas = []\n",
    "for i in range(10):\n",
    "    random_interventions = random_strategy(iteration_data_random)\n",
    "    print(random_interventions)\n",
    "    random_data = {iv: gdag.sample_interventional({iv: interventions[iv]}, samples) for iv, samples in random_interventions.items()}\n",
    "    random_data[-1] = obs_samples_unscaled\n",
    "    random_datas.append(random_data)\n",
    "    "
   ]
  },
  {
   "cell_type": "code",
   "execution_count": 19,
   "metadata": {},
   "outputs": [],
   "source": [
    "dag_collection_data = {iv: gdag.sample_interventional({iv: interventions[iv]}, samples) for iv, samples in dag_collection_interventions.items()}\n",
    "dag_collection_data[-1] = obs_samples_unscaled"
   ]
  },
  {
   "cell_type": "code",
   "execution_count": 20,
   "metadata": {},
   "outputs": [],
   "source": [
    "def get_gies_dags(samples_dict, foldername):\n",
    "    folder = os.path.join(DATA_FOLDER, foldername)\n",
    "    os.makedirs(folder, exist_ok=True)\n",
    "\n",
    "    samples_file = os.path.join(folder, 'samples.csv')\n",
    "    interventions_folder = os.path.join(folder, 'interventions')\n",
    "    gies_dags_folder = os.path.join(folder, 'gies_dags/')\n",
    "    graph_utils._write_data(samples_dict, samples_file, interventions_folder)\n",
    "    graph_utils.run_gies_boot(N_BOOT, samples_file, interventions_folder, gies_dags_folder)\n",
    "\n",
    "    amats, dags = graph_utils._load_dags(gies_dags_folder)\n",
    "    return dags"
   ]
  },
  {
   "cell_type": "code",
   "execution_count": 21,
   "metadata": {},
   "outputs": [],
   "source": [
    "def get_arc_probs(dags):\n",
    "    arc_counts = defaultdict(int)\n",
    "    for dag in dags:\n",
    "        for arc in dag.arcs:\n",
    "            arc_counts[arc] += 1\n",
    "    return defaultdict(float, {arc: count/len(dags) for arc, count in arc_counts.items()})"
   ]
  },
  {
   "cell_type": "code",
   "execution_count": 22,
   "metadata": {},
   "outputs": [],
   "source": [
    "def get_arc_probs_new(nnodes, dags):\n",
    "    poss_arcs = set(itr.permutations(range(nnodes), 2))\n",
    "    counts = {arc: 0 for arc in poss_arcs}\n",
    "    for dag in dags:\n",
    "        for arc in dag.arcs:\n",
    "            counts[arc] += 1\n",
    "    return {arc: count/len(dags) for arc, count in counts.items()}"
   ]
  },
  {
   "cell_type": "code",
   "execution_count": 23,
   "metadata": {},
   "outputs": [],
   "source": [
    "true_dag_mec_gauss = [graph_utils.cov2dag(gdag.covariance, dag) for dag in true_dag_mec]"
   ]
  },
  {
   "cell_type": "code",
   "execution_count": 40,
   "metadata": {},
   "outputs": [],
   "source": [
    "def dag_posterior(dag_collec, data):\n",
    "    logpdfs = np.zeros(len(true_dag_mec))\n",
    "    for dag_ix, cand_dag in enumerate(dag_collec):\n",
    "        for iv, samples in data.items():\n",
    "            if iv == -1:\n",
    "                logpdfs[dag_ix] += cand_dag.logpdf(samples).sum()\n",
    "            else:\n",
    "                iv_ix = intervention_nodes.index(iv)\n",
    "                logpdfs[dag_ix] += cand_dag.logpdf(samples, interventions={iv: interventions[iv_ix]}).sum()\n",
    "    print(logpdfs)\n",
    "    return np.exp(logpdfs - logsumexp(logpdfs))"
   ]
  },
  {
   "cell_type": "code",
   "execution_count": 41,
   "metadata": {},
   "outputs": [
    {
     "name": "stdout",
     "output_type": "stream",
     "text": [
      "[-40235.39577303 -33724.42365719 -35700.00896009 -35700.00896009\n",
      " -40235.39577303 -40235.39577303 -39078.72004993 -35700.00896009\n",
      " -35700.00896009 -35700.00896009 -35700.00896009 -40235.39577303\n",
      " -35700.00896009 -33724.42365719 -35700.00896009 -40235.39577303\n",
      " -34921.43820072 -33724.42365719 -35700.00896009 -33724.42365719]\n",
      "[-33802.77251428 -33802.77251428 -33802.77251428 -33802.77251428\n",
      " -33802.77251428 -33802.77251428 -33802.77251428 -33802.77251428\n",
      " -33802.77251428 -57323.3572974  -57323.3572974  -33802.77251428\n",
      " -33802.77251428 -33802.77251428 -33802.77251428 -33802.77251428\n",
      " -33802.77251428 -33802.77251428 -54943.64369621 -33802.77251428]\n",
      "[-33690.87454418 -33690.87454418 -33690.87454418 -33690.87454418\n",
      " -33690.87454418 -33690.87454418 -33690.87454418 -33690.87454418\n",
      " -33690.87454418 -56877.87125283 -56877.87125283 -33690.87454418\n",
      " -33690.87454418 -33690.87454418 -33690.87454418 -33690.87454418\n",
      " -33690.87454418 -33690.87454418 -54523.61815818 -33690.87454418]\n",
      "[-33679.15461842 -33679.15461842 -43290.07486907 -41177.26180775\n",
      " -33679.15461842 -33679.15461842 -33679.15461842 -33679.15461842\n",
      " -43290.07486907 -43290.07486907 -43290.07486907 -33679.15461842\n",
      " -43290.07486907 -33679.15461842 -43290.07486907 -33679.15461842\n",
      " -33679.15461842 -33679.15461842 -43290.07486907 -33679.15461842]\n",
      "[-33705.3124044  -33705.3124044  -38075.09168413 -38075.09168413\n",
      " -33705.3124044  -33705.3124044  -33705.3124044  -38075.09168413\n",
      " -38075.09168413 -38075.09168413 -38075.09168413 -33705.3124044\n",
      " -38075.09168413 -33705.3124044  -38075.09168413 -33705.3124044\n",
      " -36399.48380896 -33705.3124044  -38075.09168413 -33705.3124044 ]\n",
      "[-33735.13621404 -33735.13621404 -45684.11206549 -33735.13621404\n",
      " -33735.13621404 -33735.13621404 -33735.13621404 -33735.13621404\n",
      " -43502.23769327 -45684.11206549 -45684.11206549 -33735.13621404\n",
      " -45684.11206549 -33735.13621404 -45684.11206549 -33735.13621404\n",
      " -33735.13621404 -33735.13621404 -45684.11206549 -33735.13621404]\n",
      "[-33761.12588195 -33761.12588195 -48582.51610431 -33761.12588195\n",
      " -33761.12588195 -33761.12588195 -33761.12588195 -33761.12588195\n",
      " -33761.12588195 -50862.92213181 -50862.92213181 -33761.12588195\n",
      " -50862.92213181 -33761.12588195 -33761.12588195 -33761.12588195\n",
      " -33761.12588195 -33761.12588195 -50862.92213181 -33761.12588195]\n",
      "[-33738.57846317 -33738.57846317 -33738.57846317 -33738.57846317\n",
      " -52569.74553422 -54886.33020226 -33738.57846317 -33738.57846317\n",
      " -33738.57846317 -33738.57846317 -33738.57846317 -33738.57846317\n",
      " -33738.57846317 -33738.57846317 -33738.57846317 -54886.33020226\n",
      " -33738.57846317 -33738.57846317 -33738.57846317 -33738.57846317]\n",
      "[-34915.64996977 -33756.40864166 -35038.77571398 -35038.77571398\n",
      " -34915.64996977 -34915.64996977 -34915.64996977 -35038.77571398\n",
      " -35038.77571398 -35038.77571398 -35038.77571398 -34915.64996977\n",
      " -35038.77571398 -34915.64996977 -35038.77571398 -34915.64996977\n",
      " -35038.77571398 -34915.64996977 -35038.77571398 -34915.64996977]\n",
      "[-33691.94990015 -33691.94990015 -33691.94990015 -33691.94990015\n",
      " -33691.94990015 -33691.94990015 -33691.94990015 -33691.94990015\n",
      " -33691.94990015 -53499.10583295 -53499.10583295 -33691.94990015\n",
      " -51132.59892931 -33691.94990015 -33691.94990015 -33691.94990015\n",
      " -33691.94990015 -33691.94990015 -53499.10583295 -33691.94990015]\n",
      "[-33712.90896177 -33712.90896177 -33712.90896177 -33712.90896177\n",
      " -33712.90896177 -33712.90896177 -33712.90896177 -33712.90896177\n",
      " -33712.90896177 -57641.73547064 -57641.73547064 -33712.90896177\n",
      " -33712.90896177 -33712.90896177 -33712.90896177 -33712.90896177\n",
      " -33712.90896177 -33712.90896177 -55215.46487602 -33712.90896177]\n"
     ]
    }
   ],
   "source": [
    "posterior_dag_collection = dag_posterior(true_dag_mec_gauss, dag_collection_data)\n",
    "posteriors_random = [dag_posterior(true_dag_mec_gauss, random_data) for random_data in random_datas]"
   ]
  },
  {
   "cell_type": "code",
   "execution_count": 53,
   "metadata": {},
   "outputs": [],
   "source": [
    "true_dag_ix = next(ix for ix, d in enumerate(true_dag_mec) if d.arcs == true_dag.arcs)\n",
    "def pdfs2l1(pdfs, true_dag_ix):\n",
    "    return (1-pdfs[true_dag_ix] + pdfs[:true_dag_ix].sum() + pdfs[true_dag_ix+1:].sum())"
   ]
  },
  {
   "cell_type": "code",
   "execution_count": 56,
   "metadata": {},
   "outputs": [
    {
     "data": {
      "text/plain": [
       "1.5000000000016465"
      ]
     },
     "execution_count": 56,
     "metadata": {},
     "output_type": "execute_result"
    }
   ],
   "source": [
    "l1_dag_collection = pdfs2l1(posterior_dag_collection, true_dag_ix)\n",
    "l1_dag_collection"
   ]
  },
  {
   "cell_type": "code",
   "execution_count": 57,
   "metadata": {},
   "outputs": [
    {
     "name": "stdout",
     "output_type": "stream",
     "text": [
      "[1.882352941176418, 1.882352941176418, 1.8333333333362216, 1.8000000000019176, 1.846153846155031, 1.8666666666674667, 1.88235294117599, 0.0, 1.8749999999993967, 1.882352941172994]\n",
      "1.6750565610861852\n"
     ]
    }
   ],
   "source": [
    "l1s_random = [pdfs2l1(post, true_dag_ix) for post in posteriors_random]\n",
    "print(l1s_random)\n",
    "print(np.mean(l1s_random))"
   ]
  },
  {
   "cell_type": "code",
   "execution_count": null,
   "metadata": {},
   "outputs": [],
   "source": [
    "len(random_datas)"
   ]
  },
  {
   "cell_type": "code",
   "execution_count": 31,
   "metadata": {},
   "outputs": [],
   "source": [
    "icpdag = true_dag.interventional_cpdag(intervened_nodes={10}, cpdag=true_dag.cpdag())"
   ]
  },
  {
   "cell_type": "code",
   "execution_count": 33,
   "metadata": {},
   "outputs": [
    {
     "data": {
      "text/plain": [
       "set()"
      ]
     },
     "execution_count": 33,
     "metadata": {},
     "output_type": "execute_result"
    }
   ],
   "source": [
    "icpdag.edges"
   ]
  },
  {
   "cell_type": "code",
   "execution_count": 36,
   "metadata": {},
   "outputs": [
    {
     "data": {
      "text/plain": [
       "[True,\n",
       " True,\n",
       " True,\n",
       " True,\n",
       " True,\n",
       " True,\n",
       " True,\n",
       " True,\n",
       " True,\n",
       " True,\n",
       " True,\n",
       " True,\n",
       " True,\n",
       " True,\n",
       " True,\n",
       " True,\n",
       " True,\n",
       " True,\n",
       " True,\n",
       " True]"
      ]
     },
     "execution_count": 36,
     "metadata": {},
     "output_type": "execute_result"
    }
   ],
   "source": [
    "[g.arcs == d.arcs for g, d in zip(true_dag_mec_gauss, true_dag_mec)]"
   ]
  },
  {
   "cell_type": "code",
   "execution_count": 44,
   "metadata": {},
   "outputs": [
    {
     "data": {
      "text/plain": [
       "{(1, 0),\n",
       " (2, 1),\n",
       " (3, 2),\n",
       " (4, 3),\n",
       " (5, 4),\n",
       " (6, 5),\n",
       " (7, 6),\n",
       " (8, 7),\n",
       " (9, 8),\n",
       " (10, 9),\n",
       " (10, 11),\n",
       " (11, 12),\n",
       " (12, 13),\n",
       " (13, 14),\n",
       " (14, 15),\n",
       " (15, 16),\n",
       " (16, 17),\n",
       " (17, 18),\n",
       " (18, 19)}"
      ]
     },
     "execution_count": 44,
     "metadata": {},
     "output_type": "execute_result"
    }
   ],
   "source": [
    "true_dag_ix = true_dag_mec.true_dag.arcs"
   ]
  },
  {
   "cell_type": "code",
   "execution_count": 46,
   "metadata": {},
   "outputs": [
    {
     "data": {
      "text/plain": [
       "1"
      ]
     },
     "execution_count": 46,
     "metadata": {},
     "output_type": "execute_result"
    }
   ],
   "source": [
    "true_dag_ix = next(ix for ix, d in enumerate(true_dag_mec) if d.arcs == true_dag.arcs)"
   ]
  },
  {
   "cell_type": "code",
   "execution_count": 52,
   "metadata": {},
   "outputs": [
    {
     "ename": "SyntaxError",
     "evalue": "invalid syntax (<ipython-input-52-98dfbf061a65>, line 1)",
     "output_type": "error",
     "traceback": [
      "\u001b[0;36m  File \u001b[0;32m\"<ipython-input-52-98dfbf061a65>\"\u001b[0;36m, line \u001b[0;32m1\u001b[0m\n\u001b[0;31m    true_dag.arcs == true_dag_mec[].arcs\u001b[0m\n\u001b[0m                                  ^\u001b[0m\n\u001b[0;31mSyntaxError\u001b[0m\u001b[0;31m:\u001b[0m invalid syntax\n"
     ]
    }
   ],
   "source": []
  },
  {
   "cell_type": "code",
   "execution_count": 48,
   "metadata": {},
   "outputs": [
    {
     "data": {
      "text/plain": [
       "{(1, 0),\n",
       " (2, 1),\n",
       " (3, 2),\n",
       " (4, 3),\n",
       " (5, 4),\n",
       " (6, 5),\n",
       " (7, 6),\n",
       " (8, 7),\n",
       " (9, 8),\n",
       " (10, 9),\n",
       " (11, 10),\n",
       " (12, 11),\n",
       " (13, 12),\n",
       " (14, 13),\n",
       " (15, 14),\n",
       " (15, 16),\n",
       " (16, 17),\n",
       " (17, 18),\n",
       " (18, 19)}"
      ]
     },
     "execution_count": 48,
     "metadata": {},
     "output_type": "execute_result"
    }
   ],
   "source": [
    "true_dag_mec[0].arcs"
   ]
  },
  {
   "cell_type": "code",
   "execution_count": null,
   "metadata": {},
   "outputs": [],
   "source": []
  }
 ],
 "metadata": {
  "kernelspec": {
   "display_name": "Python 3",
   "language": "python",
   "name": "python3"
  },
  "language_info": {
   "codemirror_mode": {
    "name": "ipython",
    "version": 3
   },
   "file_extension": ".py",
   "mimetype": "text/x-python",
   "name": "python",
   "nbconvert_exporter": "python",
   "pygments_lexer": "ipython3",
   "version": "3.6.5"
  }
 },
 "nbformat": 4,
 "nbformat_minor": 2
}
