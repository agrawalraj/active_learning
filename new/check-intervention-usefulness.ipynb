{
 "cells": [
  {
   "cell_type": "code",
   "execution_count": 1,
   "metadata": {},
   "outputs": [],
   "source": [
    "import itertools as itr\n",
    "import os\n",
    "from tqdm import tqdm\n",
    "from collections import defaultdict\n",
    "\n",
    "import causaldag as cd\n",
    "from strategies.simulator import IterationData\n",
    "from strategies.information_gain import create_info_gain_strategy_dag_collection, create_info_gain_strategy\n",
    "from strategies.random_nodes import random_strategy\n",
    "\n",
    "from utils import graph_utils\n",
    "from analysis.check_gies import get_parent_probs_by_dag, get_l1_score\n",
    "\n",
    "from config import DATA_FOLDER\n",
    "samples_folder = os.path.join(DATA_FOLDER, 'check-interventions', 'samples')\n",
    "os.makedirs(samples_folder, exist_ok=True)\n",
    "\n",
    "import networkx as nx\n",
    "from networkx.drawing.nx_agraph import graphviz_layout\n",
    "import matplotlib.pyplot as plt\n",
    "import matplotlib as mpl\n",
    "%matplotlib inline\n",
    "import seaborn as sns\n",
    "sns.set()"
   ]
  },
  {
   "cell_type": "code",
   "execution_count": 2,
   "metadata": {},
   "outputs": [],
   "source": [
    "import numpy as np\n",
    "import xarray as xr\n",
    "from sklearn import preprocessing"
   ]
  },
  {
   "cell_type": "code",
   "execution_count": 3,
   "metadata": {},
   "outputs": [
    {
     "data": {
      "text/plain": [
       "5"
      ]
     },
     "execution_count": 3,
     "metadata": {},
     "output_type": "execute_result"
    }
   ],
   "source": [
    "IV_STRENGTH = 5\n",
    "nnodes = 10\n",
    "density = .5\n",
    "target = int(np.ceil(nnodes/2))\n",
    "nsamples = 2000\n",
    "N_BOOT = 100\n",
    "runs = 3\n",
    "nsamples_obs = 1000\n",
    "target"
   ]
  },
  {
   "cell_type": "code",
   "execution_count": 4,
   "metadata": {},
   "outputs": [
    {
     "name": "stdout",
     "output_type": "stream",
     "text": [
      "(1, 2)\n",
      "1,2\n"
     ]
    }
   ],
   "source": [
    "def tuplify(s):\n",
    "    a, b = s.split(',')\n",
    "    return (int(a), int(b))\n",
    "\n",
    "def detuplify(t):\n",
    "    a, b = t\n",
    "    return '%s,%s' % (a, b)\n",
    "\n",
    "print(tuplify('1,2'))\n",
    "print(detuplify((1, 2)))"
   ]
  },
  {
   "cell_type": "code",
   "execution_count": 5,
   "metadata": {},
   "outputs": [
    {
     "data": {
      "text/plain": [
       "{(1, 0), (2, 1), (3, 2), (4, 3), (5, 4), (5, 6), (6, 7), (7, 8), (8, 9)}"
      ]
     },
     "execution_count": 5,
     "metadata": {},
     "output_type": "execute_result"
    }
   ],
   "source": [
    "np.random.seed(0)\n",
    "true_dag = cd.rand.directed_erdos(nnodes, density)\n",
    "true_arcs = {(i+1, i) for i in range(target)} | {(i, i+1) for i in range(target, nnodes-1)}\n",
    "# true_arcs = {(i+1, i) for i in range(nnodes-1)}\n",
    "true_dag = cd.DAG(nodes=set(range(nnodes)), arcs=true_arcs)\n",
    "true_dag.arcs"
   ]
  },
  {
   "cell_type": "code",
   "execution_count": 6,
   "metadata": {},
   "outputs": [
    {
     "name": "stdout",
     "output_type": "stream",
     "text": [
      "defaultdict(<class 'int'>, {0: 18, 1: 34, 2: 46, 3: 54, 4: 58, 5: 58, 6: 54, 7: 46, 8: 34, 9: 18})\n"
     ]
    }
   ],
   "source": [
    "# true_cpdag = true_dag.interventional_cpdag({5}, cpdag=true_dag.cpdag())\n",
    "true_cpdag = true_dag.cpdag()\n",
    "true_dag_mec = [cd.DAG(nodes=set(range(nnodes)), arcs=arcs) for arcs in true_cpdag.all_dags()]\n",
    "intervention_weights = defaultdict(int)\n",
    "for iv in range(nnodes):\n",
    "    for poss_dag in true_dag_mec:\n",
    "        poss_icpdag = poss_dag.interventional_cpdag({iv}, cpdag=true_cpdag)\n",
    "        intervention_weights[iv] += len(poss_icpdag.arcs) - len(true_cpdag.arcs)\n",
    "print(intervention_weights)"
   ]
  },
  {
   "cell_type": "code",
   "execution_count": 7,
   "metadata": {},
   "outputs": [
    {
     "data": {
      "text/plain": [
       "array([1.001001, 1.001001, 1.001001, 1.001001, 1.001001, 1.001001,\n",
       "       1.001001, 1.001001, 1.001001, 1.001001])"
      ]
     },
     "execution_count": 7,
     "metadata": {},
     "output_type": "execute_result"
    }
   ],
   "source": [
    "# arcs = {(i, j): 1 for i, j in true_dag.arcs}\n",
    "gdag = cd.GaussDAG(nodes=list(range(nnodes)), arcs=true_dag.arcs)\n",
    "obs_samples_unscaled = gdag.sample(nsamples_obs)\n",
    "obs_samples = [preprocessing.scale(gdag.sample(nsamples_obs)) for run in range(runs)]\n",
    "np.diag(np.cov(obs_samples[0], rowvar=False))"
   ]
  },
  {
   "cell_type": "markdown",
   "metadata": {},
   "source": [
    "## Plot the graph"
   ]
  },
  {
   "cell_type": "code",
   "execution_count": 8,
   "metadata": {},
   "outputs": [],
   "source": [
    "def draw_colored(gdag):\n",
    "    cmap = plt.get_cmap('seismic')\n",
    "    \n",
    "    nw_ax = plt.subplot2grid((10, 10), (0, 0), colspan=9, rowspan=9)\n",
    "    colorbar_ax = plt.subplot2grid((10, 10), (2, 9), rowspan=6)\n",
    "    \n",
    "    plt.gcf().set_size_inches(10, 10)\n",
    "    d = nx.DiGraph()\n",
    "    for (i, j), w in gdag.arc_weights.items():\n",
    "        d.add_edge(i, j, weight=w)\n",
    "    pos = graphviz_layout(d, 'dot')\n",
    "    edges = d.edges()\n",
    "    edge_colors = [(cmap((d[i][j]['weight']+1)/2)) for i, j in edges]\n",
    "    nx.draw(d, pos=pos, node_color='w', edge_color=edge_colors, ax=nw_ax)\n",
    "    nx.draw_networkx_labels(d, pos, labels={node: node for node in range(10)}, ax=nw_ax);\n",
    "    \n",
    "    cb = mpl.colorbar.ColorbarBase(colorbar_ax, cmap=cmap, orientation='vertical')\n",
    "    cb.set_ticks([0, .5, 1])\n",
    "    cb.set_ticklabels([-1, 0, 1])"
   ]
  },
  {
   "cell_type": "code",
   "execution_count": 9,
   "metadata": {},
   "outputs": [
    {
     "name": "stdout",
     "output_type": "stream",
     "text": [
      "[5][6|5][7|6][8|7][9|8][4|5][3|4][2|3][1|2][0|1]\n"
     ]
    },
    {
     "data": {
      "image/png": "[encoded data removed]",
      "text/plain": [
       "<matplotlib.figure.Figure at 0x7fceff1c0550>"
      ]
     },
     "metadata": {},
     "output_type": "display_data"
    }
   ],
   "source": [
    "draw_colored(gdag)\n",
    "print(str(gdag))"
   ]
  },
  {
   "cell_type": "code",
   "execution_count": 10,
   "metadata": {},
   "outputs": [
    {
     "data": {
      "text/plain": [
       "{(0, 1), (1, 2), (2, 3), (3, 4), (4, 5), (5, 6), (6, 7), (7, 8), (8, 9)}"
      ]
     },
     "execution_count": 10,
     "metadata": {},
     "output_type": "execute_result"
    }
   ],
   "source": [
    "g = nx.Graph()\n",
    "cpdag = true_dag.cpdag()\n",
    "cpdag.edges"
   ]
  },
  {
   "cell_type": "code",
   "execution_count": 11,
   "metadata": {},
   "outputs": [
    {
     "name": "stdout",
     "output_type": "stream",
     "text": [
      "0 : {(7, 8), (1, 2), (6, 7), (4, 5), (5, 6), (8, 9), (2, 3), (3, 4)}\n",
      "1 : {(8, 9), (3, 4), (6, 7), (5, 6), (2, 3), (4, 5), (7, 8)}\n",
      "2 : {(8, 9), (3, 4), (6, 7), (5, 6), (4, 5), (7, 8)}\n",
      "3 : {(8, 9), (6, 7), (5, 6), (4, 5), (7, 8)}\n",
      "4 : {(5, 6), (8, 9), (6, 7), (7, 8)}\n",
      "5 : set()\n",
      "6 : {(0, 1), (1, 2), (2, 3), (4, 5), (3, 4)}\n",
      "7 : {(1, 2), (0, 1), (2, 3), (5, 6), (4, 5), (3, 4)}\n",
      "8 : {(1, 2), (0, 1), (6, 7), (5, 6), (2, 3), (4, 5), (3, 4)}\n",
      "9 : {(7, 8), (1, 2), (0, 1), (6, 7), (4, 5), (5, 6), (2, 3), (3, 4)}\n"
     ]
    }
   ],
   "source": [
    "for iv in range(10):\n",
    "    icpdag = true_dag.interventional_cpdag({iv}, cpdag=cpdag)\n",
    "    print(iv, ':', icpdag.edges)"
   ]
  },
  {
   "cell_type": "code",
   "execution_count": 12,
   "metadata": {},
   "outputs": [],
   "source": [
    "intervention_nodes = list(range(nnodes))\n",
    "interventions = [\n",
    "    cd.BinaryIntervention(\n",
    "        intervention1=cd.ConstantIntervention(val=-IV_STRENGTH*std),\n",
    "        intervention2=cd.ConstantIntervention(val=IV_STRENGTH*std),\n",
    "    ) for std in np.diag(gdag.covariance)**.5\n",
    "]"
   ]
  },
  {
   "cell_type": "code",
   "execution_count": null,
   "metadata": {},
   "outputs": [],
   "source": [
    "ivs2dags = defaultdict(list)"
   ]
  },
  {
   "cell_type": "markdown",
   "metadata": {},
   "source": [
    "# Collect DAGs given just observational data"
   ]
  },
  {
   "cell_type": "code",
   "execution_count": null,
   "metadata": {},
   "outputs": [],
   "source": [
    "for run in tqdm(range(runs)):\n",
    "    folder = os.path.join(samples_folder, 'observational,run%d' % run)\n",
    "    os.makedirs(folder)\n",
    "    samples_file = os.path.join(folder, 'samples.csv')\n",
    "    interventions_folder = os.path.join(folder, 'interventions')\n",
    "    gies_dags_folder = os.path.join(folder, 'gies_dags/')\n",
    "\n",
    "    graph_utils._write_data({-1: obs_samples[run]}, samples_file, interventions_folder)\n",
    "    graph_utils.run_gies_boot(N_BOOT, samples_file, interventions_folder, gies_dags_folder)\n",
    "    amats, dags = graph_utils._load_dags(gies_dags_folder)\n",
    "\n",
    "    ivs2dags[-1].append(dags)"
   ]
  },
  {
   "cell_type": "markdown",
   "metadata": {},
   "source": [
    "# Collect DAGs given interventional data"
   ]
  },
  {
   "cell_type": "code",
   "execution_count": null,
   "metadata": {},
   "outputs": [],
   "source": [
    "for iv_node, intervention in tqdm(zip(intervention_nodes, interventions), total=len(interventions)):\n",
    "    for run in range(runs):\n",
    "        samples = gdag.sample_interventional({iv_node: intervention}, nsamples)\n",
    "        samples = preprocessing.scale(samples)\n",
    "        all_samples = {-1: obs_samples[run], iv_node: samples}\n",
    "        folder = os.path.join(samples_folder, 'iv=%d,run%d' % (iv_node, run))\n",
    "        os.makedirs(folder)\n",
    "\n",
    "        samples_file = os.path.join(folder, 'samples.csv')\n",
    "        interventions_folder = os.path.join(folder, 'interventions')\n",
    "        gies_dags_folder = os.path.join(folder, 'gies_dags/')\n",
    "        graph_utils._write_data(all_samples, samples_file, interventions_folder)\n",
    "        graph_utils.run_gies_boot(N_BOOT, samples_file, interventions_folder, gies_dags_folder)\n",
    "\n",
    "        amats, dags = graph_utils._load_dags(gies_dags_folder)\n",
    "        ivs2dags[iv_node].append(dags)"
   ]
  },
  {
   "cell_type": "code",
   "execution_count": null,
   "metadata": {},
   "outputs": [],
   "source": []
  },
  {
   "cell_type": "markdown",
   "metadata": {},
   "source": [
    "# Count the occurrences of each arc in the sampled DAGs"
   ]
  },
  {
   "cell_type": "code",
   "execution_count": null,
   "metadata": {},
   "outputs": [],
   "source": [
    "ivs2parent_probs = xr.DataArray(\n",
    "    np.zeros([len(interventions) + 1, len(gdag.nodes), runs]),\n",
    "    dims=['iv_node', 'parent', 'run'],\n",
    "    coords={\n",
    "        'iv_node': [-1] + intervention_nodes,\n",
    "        'parent': gdag.nodes,\n",
    "        'run': list(range(runs))\n",
    "    }\n",
    ")\n",
    "possible_arcs = list(itr.permutations(gdag.nodes, 2))\n",
    "ivs2arc_probs = xr.DataArray(\n",
    "    np.zeros([len(interventions) + 1, len(possible_arcs), runs]),\n",
    "    dims=['iv_node', 'arc', 'run'],\n",
    "    coords={\n",
    "        'iv_node': [-1] + intervention_nodes,\n",
    "        'arc': list(map(detuplify, possible_arcs)),\n",
    "        'run': list(range(runs))\n",
    "    }\n",
    ")\n",
    "for iv_node, dags_by_run in ivs2dags.items():\n",
    "    for run, dags in enumerate(dags_by_run):\n",
    "        parent_counts = {node: 0 for node in gdag.nodes}\n",
    "        arc_counts = defaultdict(int)\n",
    "        for dag in dags:\n",
    "            for p in dag.parents[target]:\n",
    "                parent_counts[p] += 1\n",
    "            for arc in dag.arcs:\n",
    "                arc_counts[arc] += 1\n",
    "        for parent, count in parent_counts.items():\n",
    "            ivs2parent_probs.loc[dict(run=run, iv_node=iv_node, parent=p)] = count/len(dags)\n",
    "        for arc, count in arc_counts.items():\n",
    "            ivs2arc_probs.loc[dict(run=run, iv_node=iv_node, arc=detuplify(arc))] = count/len(dags)"
   ]
  },
  {
   "cell_type": "markdown",
   "metadata": {},
   "source": [
    "# From the arc occurrences, compute l1 scores"
   ]
  },
  {
   "cell_type": "markdown",
   "metadata": {},
   "source": [
    "#### functions"
   ]
  },
  {
   "cell_type": "code",
   "execution_count": null,
   "metadata": {},
   "outputs": [],
   "source": [
    "def l1_score_full(arc_probs, gdag):\n",
    "    possible_arcs = set(itr.permutations(gdag.nodes, 2))\n",
    "    nonarcs = possible_arcs - gdag.arcs\n",
    "    return sum(1-arc_probs[arc] for arc in gdag.arcs) + sum(arc_probs[nonarc] for nonarc in nonarcs)\n",
    "\n",
    "\n",
    "def l1_score_fp_full(arc_probs, gdag):\n",
    "    possible_arcs = set(itr.permutations(gdag.nodes, 2))\n",
    "    nonarcs = possible_arcs - gdag.arcs\n",
    "    return sum(arc_probs[nonarc] for nonarc in nonarcs)\n",
    "\n",
    "\n",
    "def l1_score_fn_full(arc_probs, gdag):\n",
    "    return sum(1-arc_probs[arc] for arc in gdag.arcs)"
   ]
  },
  {
   "cell_type": "markdown",
   "metadata": {},
   "source": [
    "#### actual computation"
   ]
  },
  {
   "cell_type": "code",
   "execution_count": null,
   "metadata": {},
   "outputs": [],
   "source": [
    "ivs2scores = xr.DataArray(\n",
    "    np.zeros([len(interventions) + 1, runs]),\n",
    "    dims=['iv_node', 'run'],\n",
    "    coords={\n",
    "        'iv_node': [-1] + intervention_nodes,\n",
    "        'run': list(range(runs))\n",
    "    }\n",
    ")\n",
    "for iv_node in intervention_nodes + [-1]:\n",
    "    for run in range(runs):\n",
    "        parent_probs = {node: ivs2parent_probs.sel(iv_node=iv_node, parent=node, run=run) for node in gdag.nodes}\n",
    "        ivs2scores.loc[dict(iv_node=iv_node, run=run)] = get_l1_score(parent_probs, gdag, target)\n",
    "\n",
    "max_l1_loss_full = nnodes*(nnodes-1)\n",
    "max_l1_loss_fn = len(gdag.arcs)\n",
    "max_l1_loss_fp = max_l1_loss_full - max_l1_loss_fn\n",
    "ivs2full_scores = xr.DataArray(\n",
    "    np.zeros([len(interventions) + 1, runs]),\n",
    "    dims=['iv_node', 'run'],\n",
    "    coords={\n",
    "        'iv_node': [-1] + intervention_nodes,\n",
    "        'run': list(range(runs))\n",
    "    }\n",
    ")\n",
    "ivs2full_scores_fp = xr.DataArray(\n",
    "    np.zeros([len(interventions) + 1, runs]),\n",
    "    dims=['iv_node', 'run'],\n",
    "    coords={\n",
    "        'iv_node': [-1] + intervention_nodes,\n",
    "        'run': list(range(runs))\n",
    "    }\n",
    ")\n",
    "ivs2full_scores_fn = xr.DataArray(\n",
    "    np.zeros([len(interventions) + 1, runs]),\n",
    "    dims=['iv_node', 'run'],\n",
    "    coords={\n",
    "        'iv_node': [-1] + intervention_nodes,\n",
    "        'run': list(range(runs))\n",
    "    }\n",
    ")\n",
    "for iv_node in intervention_nodes + [-1]:\n",
    "    for run in range(runs):\n",
    "        arc_probs = {arc: ivs2arc_probs.sel(iv_node=iv_node, arc=detuplify(arc), run=run).values.item() for arc in possible_arcs}\n",
    "        ivs2full_scores.loc[dict(iv_node=iv_node, run=run)] = l1_score_full(arc_probs, gdag)\n",
    "        ivs2full_scores_fp.loc[dict(iv_node=iv_node, run=run)] = l1_score_fp_full(arc_probs, gdag)\n",
    "        ivs2full_scores_fn.loc[dict(iv_node=iv_node, run=run)] = l1_score_fn_full(arc_probs, gdag)\n",
    "\n",
    "        "
   ]
  },
  {
   "cell_type": "markdown",
   "metadata": {},
   "source": [
    "# Plot effectiveness of each intervention"
   ]
  },
  {
   "cell_type": "markdown",
   "metadata": {},
   "source": [
    "#### L1-score targeting just learning parents"
   ]
  },
  {
   "cell_type": "code",
   "execution_count": null,
   "metadata": {},
   "outputs": [],
   "source": [
    "plt.title('Accuracy of %d samples from GIES bootstrap \\n after %d interventional samples \\n intervention strength = %s' % (N_BOOT, nsamples, IV_STRENGTH))\n",
    "plt.stem(intervention_nodes, ivs2scores.sel(iv_node=intervention_nodes,run=0))\n",
    "plt.stem(np.array(intervention_nodes) + .1, ivs2scores.sel(iv_node=intervention_nodes,run=1))\n",
    "plt.stem(np.array(intervention_nodes) + .2, ivs2scores.sel(iv_node=intervention_nodes,run=2))\n",
    "\n",
    "plt.axhline(ivs2scores.sel(iv_node=-1, run=2), color='red', label='%d Observational Samples' % nsamples_obs)\n",
    "plt.xlabel('Intervened node')\n",
    "plt.xticks(gdag.nodes)\n",
    "plt.ylabel('L1 loss on edges coming into node 5')\n",
    "plt.legend();"
   ]
  },
  {
   "cell_type": "markdown",
   "metadata": {},
   "source": [
    "#### L1-score on full graph"
   ]
  },
  {
   "cell_type": "code",
   "execution_count": null,
   "metadata": {},
   "outputs": [],
   "source": [
    "plt.title('Accuracy of %d samples from GIES bootstrap \\n after %d interventional samples \\n intervention strength = %s' % (N_BOOT, nsamples, IV_STRENGTH))\n",
    "plt.stem(intervention_nodes, ivs2full_scores.sel(iv_node=intervention_nodes,run=0))\n",
    "plt.stem(np.array(intervention_nodes) + .1, ivs2full_scores.sel(iv_node=intervention_nodes,run=1))\n",
    "plt.stem(np.array(intervention_nodes) + .2, ivs2full_scores.sel(iv_node=intervention_nodes,run=2))\n",
    "\n",
    "plt.axhline(ivs2full_scores.sel(iv_node=-1, run=2), color='red', label='%d Observational Samples' % nsamples_obs)\n",
    "plt.xlabel('Intervened node')\n",
    "plt.xticks(gdag.nodes)\n",
    "plt.ylabel('L1 loss on all edges')\n",
    "\n",
    "# A bunch of annoying code to get right-hand yaxis lookin' nice\n",
    "ax1 = plt.gca()\n",
    "yticks, _ = plt.yticks()\n",
    "ax = plt.twinx()\n",
    "ax.set_yticks(yticks)\n",
    "ax.set_yticklabels(map(lambda y: '%.2f' % (y / max_l1_loss_full), yticks))\n",
    "ax.grid(False)\n",
    "ax.set_ylabel('Percent of maximum L1 loss')\n",
    "\n",
    "plt.legend();"
   ]
  },
  {
   "cell_type": "markdown",
   "metadata": {},
   "source": [
    "#### L1-score on false negatives"
   ]
  },
  {
   "cell_type": "code",
   "execution_count": null,
   "metadata": {},
   "outputs": [],
   "source": [
    "plt.title('Accuracy of %d samples from GIES bootstrap \\n after %d interventional samples \\n intervention strength = %s' % (N_BOOT, nsamples, IV_STRENGTH))\n",
    "plt.stem(intervention_nodes, ivs2full_scores_fn.sel(iv_node=intervention_nodes,run=0))\n",
    "plt.stem(np.array(intervention_nodes) + .1, ivs2full_scores_fn.sel(iv_node=intervention_nodes,run=1))\n",
    "plt.stem(np.array(intervention_nodes) + .2, ivs2full_scores_fn.sel(iv_node=intervention_nodes,run=2))\n",
    "\n",
    "plt.axhline(ivs2full_scores_fn.sel(iv_node=-1, run=2), color='red', label='%d Observational Samples' % nsamples_obs)\n",
    "plt.xlabel('Intervened node')\n",
    "plt.xticks(gdag.nodes)\n",
    "plt.ylabel('L1 loss with only false negatives')\n",
    "\n",
    "# A bunch of annoying code to get right-hand yaxis lookin' nice\n",
    "ax1 = plt.gca()\n",
    "yticks, _ = plt.yticks()\n",
    "ax = plt.twinx()\n",
    "ax.set_yticks(yticks)\n",
    "ax.set_yticklabels(map(lambda y: '%.2f' % (y / max_l1_loss_fn), yticks))\n",
    "ax.grid(False)\n",
    "ax.set_ylabel('Percent of maximum L1 loss')\n",
    "\n",
    "plt.legend();"
   ]
  },
  {
   "cell_type": "markdown",
   "metadata": {},
   "source": [
    "#### L1-score on false positives"
   ]
  },
  {
   "cell_type": "code",
   "execution_count": null,
   "metadata": {},
   "outputs": [],
   "source": [
    "plt.title('Accuracy of %d samples from GIES bootstrap \\n after %d interventional samples \\n intervention strength = %s' % (N_BOOT, nsamples, IV_STRENGTH))\n",
    "plt.stem(intervention_nodes, ivs2full_scores_fp.sel(iv_node=intervention_nodes,run=0))\n",
    "plt.stem(np.array(intervention_nodes) + .1, ivs2full_scores_fp.sel(iv_node=intervention_nodes,run=1))\n",
    "plt.stem(np.array(intervention_nodes) + .2, ivs2full_scores_fp.sel(iv_node=intervention_nodes,run=2))\n",
    "\n",
    "plt.axhline(ivs2full_scores_fp.sel(iv_node=-1, run=2), color='red', label='%d Observational Samples' % nsamples_obs)\n",
    "plt.xlabel('Intervened node')\n",
    "plt.xticks(gdag.nodes)\n",
    "plt.ylabel('L1 loss with only false positives')\n",
    "\n",
    "# A bunch of annoying code to get right-hand yaxis lookin' nice\n",
    "ax1 = plt.gca()\n",
    "yticks, _ = plt.yticks()\n",
    "ax = plt.twinx()\n",
    "ax.set_yticks(yticks)\n",
    "ax.set_yticklabels(map(lambda y: '%.2f' % (y / max_l1_loss_fp), yticks))\n",
    "ax.grid(False)\n",
    "ax.set_ylabel('Percent of maximum L1 loss')\n",
    "\n",
    "plt.legend();"
   ]
  },
  {
   "cell_type": "code",
   "execution_count": null,
   "metadata": {},
   "outputs": [],
   "source": [
    "# def get_parent_functional(parent):\n",
    "#     def parent_functional(dag):\n",
    "#         return parent in dag.parents[target]\n",
    "#     return parent_functional\n",
    "\n",
    "# parent_functionals = [get_parent_functional(node) for node in gdag.nodes if node != target]"
   ]
  },
  {
   "cell_type": "code",
   "execution_count": null,
   "metadata": {},
   "outputs": [],
   "source": [
    "# info_strat = create_info_gain_strategy(50, parent_functionals)\n",
    "\n",
    "# info_strat(iteration_data)"
   ]
  },
  {
   "cell_type": "code",
   "execution_count": null,
   "metadata": {},
   "outputs": [],
   "source": [
    "ivs2parent_probs.sel(iv_node=0, run=1)"
   ]
  },
  {
   "cell_type": "code",
   "execution_count": null,
   "metadata": {},
   "outputs": [],
   "source": [
    "ivs2parent_probs.sel(iv_node=0, run=2)"
   ]
  },
  {
   "cell_type": "code",
   "execution_count": null,
   "metadata": {},
   "outputs": [],
   "source": [
    "ivs2scores.sel(iv_node=0, run=1)"
   ]
  },
  {
   "cell_type": "code",
   "execution_count": null,
   "metadata": {},
   "outputs": [],
   "source": [
    "ivs2scores.sel(iv_node=0, run=2)"
   ]
  },
  {
   "cell_type": "code",
   "execution_count": null,
   "metadata": {},
   "outputs": [],
   "source": [
    "ivs2scores.sel(iv_node=0, run=0)"
   ]
  },
  {
   "cell_type": "code",
   "execution_count": null,
   "metadata": {},
   "outputs": [],
   "source": [
    "def marginal_network(ivs2arc_probs, iv, run, mode='both'):\n",
    "    arc_probs = ivs2arc_probs.sel(iv_node=iv, run=run)\n",
    "    d = nx.DiGraph()\n",
    "    d.add_nodes_from(gdag.nodes)\n",
    "    for arc, prob in zip(possible_arcs, arc_probs.data):\n",
    "        i, j = arc\n",
    "        if prob != 0:\n",
    "            if mode == 'both' or (mode == 'forward' and i<j) or (mode == 'backward' and i > j):\n",
    "                d.add_edge(*arc, weight=prob)\n",
    "    return d"
   ]
  },
  {
   "cell_type": "code",
   "execution_count": null,
   "metadata": {},
   "outputs": [],
   "source": [
    "draw_colored(gdag)"
   ]
  },
  {
   "cell_type": "code",
   "execution_count": null,
   "metadata": {},
   "outputs": [],
   "source": [
    "cmap = plt.get_cmap('Greys')\n",
    "fig, axes = plt.subplots(len(interventions)+1, runs*2)\n",
    "unit = 6\n",
    "width = unit*runs*2\n",
    "height = unit*(len(interventions) + 1)\n",
    "fig.set_size_inches(width, height)\n",
    "\n",
    "pos = nx.circular_layout(gdag.nodes)\n",
    "\n",
    "for run in range(runs):\n",
    "    for iv_ix, iv_node in enumerate([-1] + intervention_nodes):\n",
    "        forward_ax = axes[iv_ix, run*2]\n",
    "        backward_ax = axes[iv_ix, run*2+1]\n",
    "        \n",
    "        m = marginal_network(ivs2arc_probs, iv_node, run, mode='forward')\n",
    "        edges = m.edges()\n",
    "        edge_colors = [cmap(m[i][j]['weight']) for i, j in edges]\n",
    "        nx.draw(m, pos=pos, node_color='w', edge_color=edge_colors, ax=forward_ax)\n",
    "        nx.draw_networkx_edges(m, pos, edge_color=edge_colors, ax=forward_ax, arrowstyle='fancy')\n",
    "        nx.draw_networkx_labels(m, pos, labels={node: node for node in range(10)}, ax=forward_ax)\n",
    "        \n",
    "        m = marginal_network(ivs2arc_probs, iv_node, run, mode='backward')\n",
    "        edges = m.edges()\n",
    "        edge_colors = [cmap(m[i][j]['weight']) for i, j in edges]\n",
    "        nx.draw(m, pos=pos, node_color='w', edge_color=edge_colors, ax=backward_ax)\n",
    "        nx.draw_networkx_edges(m, pos, edge_color=edge_colors, ax=backward_ax, arrowstyle='fancy')\n",
    "        nx.draw_networkx_labels(m, pos, labels={node: node for node in range(10)}, ax=backward_ax);\n",
    "        \n",
    "        if iv_ix == 0:\n",
    "            forward_ax.set_title('Run %d' % run)\n",
    "            backward_ax.set_title('Run %d' % run)\n",
    "        if run == 0:\n",
    "            forward_ax.text(-1, -1, 'I=%s' % iv_node if iv_node != -1 else 'Obs')"
   ]
  },
  {
   "cell_type": "code",
   "execution_count": null,
   "metadata": {},
   "outputs": [],
   "source": [
    "gdag.arcs"
   ]
  },
  {
   "cell_type": "code",
   "execution_count": null,
   "metadata": {},
   "outputs": [],
   "source": [
    "ivs2full_scores_fp"
   ]
  },
  {
   "cell_type": "code",
   "execution_count": null,
   "metadata": {},
   "outputs": [],
   "source": [
    "ivs2full_scores_fn"
   ]
  },
  {
   "cell_type": "code",
   "execution_count": null,
   "metadata": {},
   "outputs": [],
   "source": [
    "ivs2full_scores"
   ]
  },
  {
   "cell_type": "code",
   "execution_count": null,
   "metadata": {},
   "outputs": [],
   "source": [
    "len(true_dag_mec)"
   ]
  },
  {
   "cell_type": "code",
   "execution_count": 13,
   "metadata": {},
   "outputs": [
    {
     "data": {
      "text/plain": [
       "[True, False, False, False, False, False, False, False, False, False]"
      ]
     },
     "execution_count": 13,
     "metadata": {},
     "output_type": "execute_result"
    }
   ],
   "source": [
    "def get_isdag_functional(dag):\n",
    "    def isdag(test_dag):\n",
    "        return dag.arcs == test_dag.arcs\n",
    "    return isdag\n",
    "\n",
    "mec_functionals = [get_isdag_functional(dag) for dag in true_dag_mec]\n",
    "list(map(lambda m: m(true_dag), mec_functionals))"
   ]
  },
  {
   "cell_type": "code",
   "execution_count": 14,
   "metadata": {},
   "outputs": [
    {
     "name": "stdout",
     "output_type": "stream",
     "text": [
      "[[ 12.24744871   2.45548054   3.08191332   1.41840763   1.71582005\n",
      "    0.59840522   1.84693602   3.44008357   3.18584206   3.93476245]\n",
      " [ 12.24744871   1.00991775   0.75992979   2.49868946   1.44148643\n",
      "    2.23202622   1.73637655   2.67502664   2.06251858   1.66763611]\n",
      " [ 12.24744871  -0.89697428  -2.24676246  -2.66052444  -1.21897428\n",
      "   -0.08981204  -0.15083976  -0.61157742  -0.15187012   0.84958046]\n",
      " [-12.24744871  -0.6774503   -0.94911896  -0.72322068  -2.29934733\n",
      "   -1.14901352   1.29571408   0.89544207  -0.21323447  -0.19815427]\n",
      " [-12.24744871   1.84813083   0.82071102   0.59392837   0.22065033\n",
      "    0.29738849   0.01800641  -1.16361363  -1.29860286  -0.94370453]\n",
      " [ 12.24744871  -5.22328624  -3.03776096  -3.36093664  -1.35461309\n",
      "   -0.85927526  -2.732114    -1.72299765  -2.20590778  -2.17110533]\n",
      " [ 12.24744871   1.0482167    0.34686523   0.8401495    0.07554267\n",
      "   -0.84000466  -0.86209449   0.99608369   2.37878542   2.42242873]\n",
      " [-12.24744871  -1.40507982  -0.03885464  -0.6886185   -0.64107177\n",
      "   -1.28773814  -1.83892238  -1.78143753  -0.74522592  -0.44769065]\n",
      " [ 12.24744871   3.97800525   4.22471729   1.79201766   1.50736079\n",
      "    0.61699474  -0.11106405  -0.45447909  -1.83823654  -0.54718021]\n",
      " [ 12.24744871   1.83955685   1.44319721   1.80489034   0.9464644\n",
      "    0.03081736   0.95460648   1.65445935   1.1497262    2.4203661 ]]\n"
     ]
    }
   ],
   "source": [
    "iv_samples = gdag.sample_interventional({0: interventions[0]}, 10)\n",
    "print(iv_samples)"
   ]
  },
  {
   "cell_type": "code",
   "execution_count": 15,
   "metadata": {},
   "outputs": [],
   "source": [
    "dag_collection_info_strat = create_info_gain_strategy_dag_collection(true_dag_mec, mec_functionals)\n",
    "bootstrap_info_strat = create_info_gain_strategy(100, mec_functionals)\n",
    "\n",
    "dag_collection_info_strat_folder = os.path.join(DATA_FOLDER, 'dag-collection-info-test-line/')\n",
    "bootstrap_info_strat_folder = os.path.join(DATA_FOLDER, 'bootstrap-info-test-line/')\n",
    "os.makedirs(dag_collection_info_strat_folder, exist_ok=True)\n",
    "os.makedirs(bootstrap_info_strat_folder, exist_ok=True)\n",
    "\n",
    "\n",
    "iteration_data_dag_collection_info_strat = IterationData(\n",
    "    current_data={-1: obs_samples_unscaled, 0: iv_samples},\n",
    "    max_interventions=2,\n",
    "    n_samples=200,\n",
    "    batch_num=1,\n",
    "    n_batches=1,\n",
    "    intervention_set=intervention_nodes,\n",
    "    interventions=interventions,\n",
    "    batch_folder=dag_collection_info_strat_folder,\n",
    "    precision_matrix=gdag.precision\n",
    ")\n",
    "iteration_data_bootstrap_info_strat = IterationData(\n",
    "    current_data={-1: obs_samples_unscaled},\n",
    "    max_interventions=4,\n",
    "    n_samples=1000,\n",
    "    batch_num=1,\n",
    "    n_batches=1,\n",
    "    intervention_set=intervention_nodes,\n",
    "    interventions=interventions,\n",
    "    batch_folder=bootstrap_info_strat_folder,\n",
    "    precision_matrix=gdag.precision\n",
    ")"
   ]
  },
  {
   "cell_type": "code",
   "execution_count": 16,
   "metadata": {},
   "outputs": [
    {
     "name": "stderr",
     "output_type": "stream",
     "text": [
      "  0%|          | 0/10 [00:00<?, ?it/s]\n",
      "  0%|          | 0/10 [00:00<?, ?it/s]\u001b[A\n",
      " 50%|█████     | 5/10 [00:00<00:00, 44.74it/s]\u001b[A"
     ]
    },
    {
     "name": "stdout",
     "output_type": "stream",
     "text": [
      "{0: BinaryIntervention(intervention1=ConstantIntervention(val=-12.24744871391589), intervention2=ConstantIntervention(val=12.24744871391589), p=0.5)}\n",
      "[1.11111111e-001 1.11111111e-001 1.11111111e-001 1.11111111e-001\n",
      " 1.11111111e-001 6.87970021e-259 1.11111111e-001 1.11111111e-001\n",
      " 1.11111111e-001 1.11111111e-001]\n",
      "COLLECTING DATA POINTS\n",
      "CALCULATING LOG PDFS\n"
     ]
    },
    {
     "name": "stderr",
     "output_type": "stream",
     "text": [
      "\n",
      "100%|██████████| 10/10 [00:00<00:00, 45.37it/s]\u001b[A\n",
      " 10%|█         | 1/10 [00:00<00:01,  4.52it/s]\n",
      "  0%|          | 0/10 [00:00<?, ?it/s]\u001b[A\n",
      " 50%|█████     | 5/10 [00:00<00:00, 44.37it/s]\u001b[A\n",
      "100%|██████████| 10/10 [00:00<00:00, 44.77it/s]\u001b[A\n",
      " 20%|██        | 2/10 [00:00<00:01,  4.49it/s]\n",
      "  0%|          | 0/10 [00:00<?, ?it/s]\u001b[A\n",
      " 50%|█████     | 5/10 [00:00<00:00, 44.25it/s]\u001b[A\n",
      "100%|██████████| 10/10 [00:00<00:00, 45.09it/s]\u001b[A\n",
      " 30%|███       | 3/10 [00:00<00:01,  4.50it/s]\n",
      "  0%|          | 0/10 [00:00<?, ?it/s]\u001b[A\n",
      " 50%|█████     | 5/10 [00:00<00:00, 44.56it/s]\u001b[A\n",
      "100%|██████████| 10/10 [00:00<00:00, 45.37it/s]\u001b[A\n",
      " 40%|████      | 4/10 [00:00<00:01,  4.51it/s]\n",
      "  0%|          | 0/10 [00:00<?, ?it/s]\u001b[A\n",
      " 50%|█████     | 5/10 [00:00<00:00, 44.25it/s]\u001b[A\n",
      "100%|██████████| 10/10 [00:00<00:00, 45.09it/s]\u001b[A\n",
      " 50%|█████     | 5/10 [00:01<00:01,  4.51it/s]\n",
      "  0%|          | 0/10 [00:00<?, ?it/s]\u001b[A\n",
      " 50%|█████     | 5/10 [00:00<00:00, 44.46it/s]\u001b[A\n",
      "100%|██████████| 10/10 [00:00<00:00, 45.23it/s]\u001b[A\n",
      " 60%|██████    | 6/10 [00:01<00:00,  4.51it/s]\n",
      "  0%|          | 0/10 [00:00<?, ?it/s]\u001b[A\n",
      " 50%|█████     | 5/10 [00:00<00:00, 44.47it/s]\u001b[A\n",
      "100%|██████████| 10/10 [00:00<00:00, 45.29it/s]\u001b[A\n",
      " 70%|███████   | 7/10 [00:01<00:00,  4.51it/s]\n",
      "  0%|          | 0/10 [00:00<?, ?it/s]\u001b[A\n",
      " 50%|█████     | 5/10 [00:00<00:00, 44.50it/s]\u001b[A\n",
      "100%|██████████| 10/10 [00:00<00:00, 45.25it/s]\u001b[A\n",
      " 80%|████████  | 8/10 [00:01<00:00,  4.51it/s]\n",
      "  0%|          | 0/10 [00:00<?, ?it/s]\u001b[A\n",
      " 50%|█████     | 5/10 [00:00<00:00, 44.60it/s]\u001b[A\n",
      "100%|██████████| 10/10 [00:00<00:00, 45.29it/s]\u001b[A\n",
      " 90%|█████████ | 9/10 [00:01<00:00,  4.51it/s]\n",
      "  0%|          | 0/10 [00:00<?, ?it/s]\u001b[A\n",
      " 50%|█████     | 5/10 [00:00<00:00, 44.34it/s]\u001b[A\n",
      "100%|██████████| 10/10 [00:00<00:00, 45.10it/s]\u001b[A\n",
      "100%|██████████| 10/10 [00:02<00:00,  4.51it/s]\n",
      "100%|██████████| 200/200 [00:21<00:00,  8.77it/s]\n"
     ]
    }
   ],
   "source": [
    "dag_collection_interventions = dag_collection_info_strat(iteration_data_dag_collection_info_strat)"
   ]
  },
  {
   "cell_type": "code",
   "execution_count": 17,
   "metadata": {},
   "outputs": [
    {
     "name": "stdout",
     "output_type": "stream",
     "text": [
      "{2: 100, 8: 100}\n",
      "{3: 100, 7: 100}\n",
      "{4: 100, 0: 100}\n",
      "{5: 100, 2: 100}\n",
      "{5: 100, 2: 100}\n",
      "{0: 100, 5: 100}\n",
      "{3: 100, 5: 100}\n",
      "{7: 100, 5: 100}\n",
      "{8: 100, 3: 100}\n",
      "{9: 100, 6: 100}\n"
     ]
    }
   ],
   "source": [
    "iteration_data_random = IterationData(\n",
    "    current_data={-1: obs_samples_unscaled},\n",
    "    max_interventions=2,\n",
    "    n_samples=200,\n",
    "    batch_num=1,\n",
    "    n_batches=1,\n",
    "    intervention_set=intervention_nodes,\n",
    "    interventions=interventions,\n",
    "    batch_folder=os.path.join(DATA_FOLDER, 'test-random'),\n",
    "    precision_matrix=gdag.precision\n",
    ")\n",
    "random_datas = []\n",
    "for i in range(10):\n",
    "    random_interventions = random_strategy(iteration_data_random)\n",
    "    print(random_interventions)\n",
    "    random_data = {iv: gdag.sample_interventional({iv: interventions[iv]}, samples) for iv, samples in random_interventions.items()}\n",
    "    random_data[-1] = obs_samples_unscaled\n",
    "    random_datas.append(random_data)\n",
    "    "
   ]
  },
  {
   "cell_type": "code",
   "execution_count": 18,
   "metadata": {},
   "outputs": [],
   "source": [
    "dag_collection_data = {iv: gdag.sample_interventional({iv: interventions[iv]}, samples) for iv, samples in dag_collection_interventions.items()}\n",
    "dag_collection_data[-1] = obs_samples_unscaled"
   ]
  },
  {
   "cell_type": "code",
   "execution_count": null,
   "metadata": {},
   "outputs": [],
   "source": [
    "def get_gies_dags(samples_dict, foldername):\n",
    "    folder = os.path.join(DATA_FOLDER, foldername)\n",
    "    os.makedirs(folder, exist_ok=True)\n",
    "\n",
    "    samples_file = os.path.join(folder, 'samples.csv')\n",
    "    interventions_folder = os.path.join(folder, 'interventions')\n",
    "    gies_dags_folder = os.path.join(folder, 'gies_dags/')\n",
    "    graph_utils._write_data(samples_dict, samples_file, interventions_folder)\n",
    "    graph_utils.run_gies_boot(N_BOOT, samples_file, interventions_folder, gies_dags_folder)\n",
    "\n",
    "    amats, dags = graph_utils._load_dags(gies_dags_folder)\n",
    "    return dags"
   ]
  },
  {
   "cell_type": "code",
   "execution_count": null,
   "metadata": {},
   "outputs": [],
   "source": [
    "def get_arc_probs(dags):\n",
    "    arc_counts = defaultdict(int)\n",
    "    for dag in dags:\n",
    "        for arc in dag.arcs:\n",
    "            arc_counts[arc] += 1\n",
    "    return defaultdict(float, {arc: count/len(dags) for arc, count in arc_counts.items()})"
   ]
  },
  {
   "cell_type": "code",
   "execution_count": null,
   "metadata": {},
   "outputs": [],
   "source": [
    "dag_collection_info_dags = get_gies_dags(dag_collection_data, 'dag-collection')\n",
    "dag_collection_arc_probs = get_arc_probs(dag_collection_info_dags)"
   ]
  },
  {
   "cell_type": "code",
   "execution_count": null,
   "metadata": {},
   "outputs": [],
   "source": [
    "random_dags_list = [get_gies_dags(random_data, 'random%d' % i) for i, random_data in enumerate(random_datas)]"
   ]
  },
  {
   "cell_type": "code",
   "execution_count": null,
   "metadata": {},
   "outputs": [],
   "source": [
    "random_dags_arc_probs_list = [get_arc_probs(random_dags) for random_dags in random_dags_list]"
   ]
  },
  {
   "cell_type": "code",
   "execution_count": null,
   "metadata": {},
   "outputs": [],
   "source": [
    "dag_collection_l1_score = l1_score_full(dag_collection_arc_probs, gdag)\n",
    "dag_collection_l1_score_fn = l1_score_fn_full(dag_collection_arc_probs, gdag)\n",
    "dag_collection_l1_score_fp = l1_score_fp_full(dag_collection_arc_probs, gdag)\n",
    "\n",
    "print('DAG COLLECTION L1 SCORE:', dag_collection_l1_score)\n",
    "print('DAG COLLECTION L1 SCORE FN:', dag_collection_l1_score_fn)\n",
    "print('DAG COLLECTION L1 SCORE FP:', dag_collection_l1_score_fp)"
   ]
  },
  {
   "cell_type": "code",
   "execution_count": null,
   "metadata": {},
   "outputs": [],
   "source": [
    "random_dag_l1_scores = [l1_score_full(random_dags_arc_probs, gdag) for random_dags_arc_probs in random_dags_arc_probs_list]\n",
    "random_dag_l1_scores_fp = [l1_score_fp_full(random_dags_arc_probs, gdag) for random_dags_arc_probs in random_dags_arc_probs_list]\n",
    "random_dag_l1_scores_fn = [l1_score_fn_full(random_dags_arc_probs, gdag) for random_dags_arc_probs in random_dags_arc_probs_list]"
   ]
  },
  {
   "cell_type": "code",
   "execution_count": null,
   "metadata": {},
   "outputs": [],
   "source": [
    "print(np.mean(random_dag_l1_scores))\n",
    "print(np.mean(random_dag_l1_scores_fn))\n",
    "print(np.mean(random_dag_l1_scores_fp))\n"
   ]
  },
  {
   "cell_type": "code",
   "execution_count": null,
   "metadata": {},
   "outputs": [],
   "source": [
    "get_gies_dags(random_datas[0], 'random0')"
   ]
  },
  {
   "cell_type": "code",
   "execution_count": null,
   "metadata": {},
   "outputs": [],
   "source": []
  }
 ],
 "metadata": {
  "kernelspec": {
   "display_name": "Python 3",
   "language": "python",
   "name": "python3"
  },
  "language_info": {
   "codemirror_mode": {
    "name": "ipython",
    "version": 3
   },
   "file_extension": ".py",
   "mimetype": "text/x-python",
   "name": "python",
   "nbconvert_exporter": "python",
   "pygments_lexer": "ipython3",
   "version": "3.6.5"
  }
 },
 "nbformat": 4,
 "nbformat_minor": 2
}
