{
 "cells": [
  {
   "cell_type": "code",
   "execution_count": 1,
   "metadata": {},
   "outputs": [],
   "source": [
    "import numpy as np\n",
    "import causaldag as cd\n",
    "import os"
   ]
  },
  {
   "cell_type": "code",
   "execution_count": 2,
   "metadata": {},
   "outputs": [],
   "source": [
    "from strategies.information_gain import create_info_gain_strategy_dag_collection\n",
    "from strategies.random_nodes import random_strategy\n",
    "from strategies.simulator import IterationData\n",
    "from utils.graph_utils import RAND_RANGE, dag_posterior, cov2dag\n",
    "from config import DATA_FOLDER, FIGURES_FOLDER\n",
    "\n",
    "RESULTS_FOLDER = os.path.join(DATA_FOLDER, 'fig1')"
   ]
  },
  {
   "cell_type": "code",
   "execution_count": 3,
   "metadata": {},
   "outputs": [],
   "source": [
    "nsamples = 100\n",
    "nsamples_obs = 1000"
   ]
  },
  {
   "cell_type": "markdown",
   "metadata": {},
   "source": [
    "# Graph"
   ]
  },
  {
   "cell_type": "code",
   "execution_count": 4,
   "metadata": {},
   "outputs": [],
   "source": [
    "nnodes = 11\n",
    "source = 5\n",
    "nodes = list(range(nnodes))"
   ]
  },
  {
   "cell_type": "code",
   "execution_count": 5,
   "metadata": {},
   "outputs": [],
   "source": [
    "arcs = {(i+1, i) for i in range(source)} | {(i, i+1) for i in range(source, nnodes-1)}\n",
    "arc_weights = {(i, j): RAND_RANGE() for i, j in arcs}\n",
    "gdag = cd.GaussDAG(nodes=list(range(nnodes)), arcs=arc_weights)"
   ]
  },
  {
   "cell_type": "code",
   "execution_count": 6,
   "metadata": {},
   "outputs": [
    {
     "name": "stdout",
     "output_type": "stream",
     "text": [
      "Size of MEC: 11\n"
     ]
    }
   ],
   "source": [
    "cpdag = cd.DAG(nodes=set(nodes), arcs=arcs).cpdag()\n",
    "mec = [cd.DAG(nodes=set(nodes), arcs=arcs) for arcs in cpdag.all_dags()]\n",
    "print('Size of MEC:', len(mec))"
   ]
  },
  {
   "cell_type": "markdown",
   "metadata": {},
   "source": [
    "# Interventions"
   ]
  },
  {
   "cell_type": "code",
   "execution_count": 7,
   "metadata": {},
   "outputs": [],
   "source": [
    "intervention_nodes = nodes\n",
    "interventions = [\n",
    "    cd.GaussIntervention(\n",
    "        mean=0,\n",
    "        variance=.1,\n",
    "    ) for _ in gdag.nodes\n",
    "]"
   ]
  },
  {
   "cell_type": "markdown",
   "metadata": {},
   "source": [
    "# Objective"
   ]
  },
  {
   "cell_type": "code",
   "execution_count": 8,
   "metadata": {},
   "outputs": [],
   "source": [
    "def get_mec_functional(dag_collection):\n",
    "    def get_dag_ix_mec(dag):\n",
    "        return next(d_ix for d_ix, d in enumerate(dag_collection) if d.arcs == dag.arcs)\n",
    "    return get_dag_ix_mec\n",
    "\n",
    "\n",
    "def get_k_entropy_fxn(k):\n",
    "    def get_k_entropy(fvals, weights):\n",
    "        # find probs\n",
    "        probs = np.zeros(k)\n",
    "        for fval, w in zip(fvals, weights):\n",
    "            probs[fval] += w\n",
    "\n",
    "        # = find entropy\n",
    "        mask = probs != 0\n",
    "        plogps = np.zeros(len(probs))\n",
    "        plogps[mask] = np.log2(probs[mask]) * probs[mask]\n",
    "        ent = -plogps.sum()\n",
    "        return ent\n",
    "\n",
    "    return get_k_entropy"
   ]
  },
  {
   "cell_type": "markdown",
   "metadata": {},
   "source": [
    "# Strategies"
   ]
  },
  {
   "cell_type": "code",
   "execution_count": 9,
   "metadata": {},
   "outputs": [],
   "source": [
    "nsamples = 100\n",
    "obs_samples = gdag.sample(1000)\n",
    "sample_covariance = obs_samples.T @ obs_samples / obs_samples.shape[0]\n",
    "sample_precision = np.linalg.inv(sample_covariance)\n",
    "mec_gauss = [cov2dag(gdag.covariance, dag) for dag in mec]\n",
    "max_interventions = None\n",
    "num_runs = 50"
   ]
  },
  {
   "cell_type": "markdown",
   "metadata": {},
   "source": [
    "### Information Gain with MEC Enumeration"
   ]
  },
  {
   "cell_type": "code",
   "execution_count": 10,
   "metadata": {},
   "outputs": [],
   "source": [
    "minibatch_size = 5"
   ]
  },
  {
   "cell_type": "code",
   "execution_count": 11,
   "metadata": {},
   "outputs": [],
   "source": [
    "info_strat = create_info_gain_strategy_dag_collection(\n",
    "    mec, \n",
    "    [get_mec_functional(mec)], \n",
    "    [get_k_entropy_fxn(len(mec))], \n",
    "    gauss_iv=True,\n",
    "    minibatch_size=minibatch_size\n",
    ")\n",
    "\n",
    "info_strat_folder = os.path.join(RESULTS_FOLDER, 'info')\n",
    "os.makedirs(info_strat_folder, exist_ok=True)\n",
    "\n",
    "iteration_data_info_strat = IterationData(\n",
    "    current_data={-1: obs_samples},\n",
    "    max_interventions=max_interventions,\n",
    "    n_samples=nsamples,\n",
    "    batch_num=1,\n",
    "    n_batches=1,\n",
    "    intervention_set=intervention_nodes,\n",
    "    interventions=interventions,\n",
    "    batch_folder=info_strat_folder,\n",
    "    precision_matrix=sample_precision\n",
    ")"
   ]
  },
  {
   "cell_type": "markdown",
   "metadata": {},
   "source": [
    "### Random"
   ]
  },
  {
   "cell_type": "code",
   "execution_count": 12,
   "metadata": {},
   "outputs": [],
   "source": [
    "iteration_data_random = IterationData(\n",
    "    current_data={-1: obs_samples},\n",
    "    max_interventions=max_interventions,\n",
    "    n_samples=nsamples,\n",
    "    batch_num=1,\n",
    "    n_batches=1,\n",
    "    intervention_set=intervention_nodes,\n",
    "    interventions=interventions,\n",
    "    batch_folder=os.path.join(RESULTS_FOLDER, 'random'),\n",
    "    precision_matrix=sample_precision\n",
    ")"
   ]
  },
  {
   "cell_type": "markdown",
   "metadata": {},
   "source": [
    "# Run Strategies"
   ]
  },
  {
   "cell_type": "markdown",
   "metadata": {},
   "source": [
    "### Information Gain"
   ]
  },
  {
   "cell_type": "code",
   "execution_count": 13,
   "metadata": {
    "scrolled": true
   },
   "outputs": [
    {
     "name": "stderr",
     "output_type": "stream",
     "text": [
      "  0%|          | 0/11 [00:00<?, ?it/s]\n",
      "  0%|          | 0/11 [00:00<?, ?it/s]\u001b[A\n",
      "100%|██████████| 11/11 [00:00<00:00, 149.64it/s]\u001b[A\n",
      "  0%|          | 0/11 [00:00<?, ?it/s]\u001b[A"
     ]
    },
    {
     "name": "stdout",
     "output_type": "stream",
     "text": [
      "[10, 10, 10, 10, 10, 10, 10, 10, 10, 10, 10]\n",
      "[10, 10, 10, 10, 10, 10, 10, 10, 10, 10, 10]\n",
      "[set(), set(), set(), set(), set(), set(), set(), set(), set(), set(), set()]\n",
      "COMPUTING PRIORS\n",
      "COMPUTING CROSS ENTROPIES\n"
     ]
    },
    {
     "name": "stderr",
     "output_type": "stream",
     "text": [
      "\n",
      " 18%|█▊        | 2/11 [00:00<00:00, 12.33it/s]s]\u001b[A\n",
      "  0%|          | 0/11 [00:00<?, ?it/s]\u001b[A\n",
      "100%|██████████| 11/11 [00:00<00:00, 148.40it/s]\u001b[A\n",
      "  0%|          | 0/11 [00:00<?, ?it/s]\u001b[A\n",
      " 55%|█████▍    | 6/11 [00:00<00:00, 59.22it/s]\u001b[A\n",
      " 36%|███▋      | 4/11 [00:00<00:00, 11.24it/s]]\u001b[A\n",
      "  0%|          | 0/11 [00:00<?, ?it/s]\u001b[A\n",
      "100%|██████████| 11/11 [00:00<00:00, 149.57it/s]\u001b[A\n",
      "  0%|          | 0/11 [00:00<?, ?it/s]\u001b[A\n",
      " 55%|█████▍    | 6/11 [00:00<00:00, 11.79it/s]s]\u001b[A\n",
      "  0%|          | 0/11 [00:00<?, ?it/s]\u001b[A\n",
      "100%|██████████| 11/11 [00:00<00:00, 148.69it/s]\u001b[A\n",
      "  0%|          | 0/11 [00:00<?, ?it/s]\u001b[A\n",
      " 73%|███████▎  | 8/11 [00:00<00:00, 12.18it/s]s]\u001b[A\n",
      "  0%|          | 0/11 [00:00<?, ?it/s]\u001b[A\n",
      "100%|██████████| 11/11 [00:00<00:00, 149.34it/s]\u001b[A\n",
      "  0%|          | 0/11 [00:00<?, ?it/s]\u001b[A\n",
      " 91%|█████████ | 10/11 [00:00<00:00, 12.49it/s]]\u001b[A\n",
      "  0%|          | 0/11 [00:00<?, ?it/s]\u001b[A\n",
      "100%|██████████| 11/11 [00:00<00:00, 12.15it/s]]\u001b[A\n",
      " 10%|█         | 2/20 [00:00<00:01, 12.10it/s]"
     ]
    },
    {
     "name": "stdout",
     "output_type": "stream",
     "text": [
      "ALLOCATING SAMPLES\n"
     ]
    },
    {
     "name": "stderr",
     "output_type": "stream",
     "text": [
      "100%|██████████| 20/20 [00:01<00:00, 12.43it/s]\n",
      "  0%|          | 0/11 [00:00<?, ?it/s]\n",
      "  0%|          | 0/11 [00:00<?, ?it/s]\u001b[A\n",
      "100%|██████████| 11/11 [00:00<00:00, 150.53it/s]\u001b[A\n",
      "  0%|          | 0/11 [00:00<?, ?it/s]\u001b[A\n",
      " 18%|█▊        | 2/11 [00:00<00:00, 13.33it/s]s]\u001b[A\n",
      "  0%|          | 0/11 [00:00<?, ?it/s]\u001b[A"
     ]
    },
    {
     "name": "stdout",
     "output_type": "stream",
     "text": [
      "[10, 10, 10, 10, 10, 10, 10, 10, 10, 10, 10]\n",
      "[10, 10, 10, 10, 10, 10, 10, 10, 10, 10, 10]\n",
      "[set(), set(), set(), set(), set(), set(), set(), set(), set(), set(), set()]\n",
      "COMPUTING PRIORS\n",
      "COMPUTING CROSS ENTROPIES\n"
     ]
    },
    {
     "name": "stderr",
     "output_type": "stream",
     "text": [
      "\n",
      "100%|██████████| 11/11 [00:00<00:00, 146.73it/s]\u001b[A\n",
      "  0%|          | 0/11 [00:00<?, ?it/s]\u001b[A\n",
      " 36%|███▋      | 4/11 [00:00<00:00, 13.27it/s]s]\u001b[A\n",
      "  0%|          | 0/11 [00:00<?, ?it/s]\u001b[A\n",
      "100%|██████████| 11/11 [00:00<00:00, 148.51it/s]\u001b[A\n",
      "  0%|          | 0/11 [00:00<?, ?it/s]\u001b[A\n",
      " 55%|█████▍    | 6/11 [00:00<00:00, 13.24it/s]s]\u001b[A\n",
      "  0%|          | 0/11 [00:00<?, ?it/s]\u001b[A\n",
      "100%|██████████| 11/11 [00:00<00:00, 147.57it/s]\u001b[A\n",
      "  0%|          | 0/11 [00:00<?, ?it/s]\u001b[A\n",
      " 73%|███████▎  | 8/11 [00:00<00:00, 13.21it/s]s]\u001b[A\n",
      "  0%|          | 0/11 [00:00<?, ?it/s]\u001b[A\n",
      "100%|██████████| 11/11 [00:00<00:00, 148.29it/s]\u001b[A\n",
      "  0%|          | 0/11 [00:00<?, ?it/s]\u001b[A\n",
      " 91%|█████████ | 10/11 [00:00<00:00, 13.20it/s]]\u001b[A\n",
      "  0%|          | 0/11 [00:00<?, ?it/s]\u001b[A\n",
      "100%|██████████| 11/11 [00:00<00:00, 13.19it/s]]\u001b[A\n",
      " 20%|██        | 4/20 [00:00<00:01, 12.42it/s]"
     ]
    },
    {
     "name": "stdout",
     "output_type": "stream",
     "text": [
      "ALLOCATING SAMPLES\n"
     ]
    },
    {
     "name": "stderr",
     "output_type": "stream",
     "text": [
      "100%|██████████| 20/20 [00:01<00:00, 12.63it/s]\n",
      "  0%|          | 0/11 [00:00<?, ?it/s]\n",
      "  0%|          | 0/11 [00:00<?, ?it/s]\u001b[A\n",
      "100%|██████████| 11/11 [00:00<00:00, 150.60it/s]\u001b[A\n",
      "  0%|          | 0/11 [00:00<?, ?it/s]\u001b[A\n",
      " 18%|█▊        | 2/11 [00:00<00:00, 13.32it/s]s]\u001b[A\n",
      "  0%|          | 0/11 [00:00<?, ?it/s]\u001b[A"
     ]
    },
    {
     "name": "stdout",
     "output_type": "stream",
     "text": [
      "[10, 10, 10, 10, 10, 10, 10, 10, 10, 10, 10]\n",
      "[10, 10, 10, 10, 10, 10, 10, 10, 10, 10, 10]\n",
      "[set(), set(), set(), set(), set(), set(), set(), set(), set(), set(), set()]\n",
      "COMPUTING PRIORS\n",
      "COMPUTING CROSS ENTROPIES\n"
     ]
    },
    {
     "name": "stderr",
     "output_type": "stream",
     "text": [
      "\n",
      "100%|██████████| 11/11 [00:00<00:00, 148.67it/s]\u001b[A\n",
      "  0%|          | 0/11 [00:00<?, ?it/s]\u001b[A\n",
      " 36%|███▋      | 4/11 [00:00<00:00, 13.28it/s]s]\u001b[A\n",
      "  0%|          | 0/11 [00:00<?, ?it/s]\u001b[A\n",
      "100%|██████████| 11/11 [00:00<00:00, 148.39it/s]\u001b[A\n",
      "  0%|          | 0/11 [00:00<?, ?it/s]\u001b[A\n",
      " 55%|█████▍    | 6/11 [00:00<00:00, 13.27it/s]s]\u001b[A\n",
      "  0%|          | 0/11 [00:00<?, ?it/s]\u001b[A\n",
      "100%|██████████| 11/11 [00:00<00:00, 148.53it/s]\u001b[A\n",
      "  0%|          | 0/11 [00:00<?, ?it/s]\u001b[A\n",
      " 73%|███████▎  | 8/11 [00:00<00:00, 13.25it/s]s]\u001b[A\n",
      "  0%|          | 0/11 [00:00<?, ?it/s]\u001b[A\n",
      "100%|██████████| 11/11 [00:00<00:00, 149.39it/s]\u001b[A\n",
      "  0%|          | 0/11 [00:00<?, ?it/s]\u001b[A\n",
      " 91%|█████████ | 10/11 [00:00<00:00, 13.24it/s]]\u001b[A\n",
      "  0%|          | 0/11 [00:00<?, ?it/s]\u001b[A\n",
      "100%|██████████| 11/11 [00:00<00:00, 13.22it/s]]\u001b[A\n",
      " 10%|█         | 2/20 [00:00<00:01, 12.28it/s]"
     ]
    },
    {
     "name": "stdout",
     "output_type": "stream",
     "text": [
      "ALLOCATING SAMPLES\n"
     ]
    },
    {
     "name": "stderr",
     "output_type": "stream",
     "text": [
      "100%|██████████| 20/20 [00:01<00:00, 12.73it/s]\n",
      "  0%|          | 0/11 [00:00<?, ?it/s]\n",
      "  0%|          | 0/11 [00:00<?, ?it/s]\u001b[A\n",
      "100%|██████████| 11/11 [00:00<00:00, 149.70it/s]\u001b[A\n",
      "  0%|          | 0/11 [00:00<?, ?it/s]\u001b[A\n",
      " 18%|█▊        | 2/11 [00:00<00:00, 13.32it/s]s]\u001b[A\n",
      "  0%|          | 0/11 [00:00<?, ?it/s]\u001b[A"
     ]
    },
    {
     "name": "stdout",
     "output_type": "stream",
     "text": [
      "[10, 10, 10, 10, 10, 10, 10, 10, 10, 10, 10]\n",
      "[10, 10, 10, 10, 10, 10, 10, 10, 10, 10, 10]\n",
      "[set(), set(), set(), set(), set(), set(), set(), set(), set(), set(), set()]\n",
      "COMPUTING PRIORS\n",
      "COMPUTING CROSS ENTROPIES\n"
     ]
    },
    {
     "name": "stderr",
     "output_type": "stream",
     "text": [
      "\n",
      "100%|██████████| 11/11 [00:00<00:00, 147.11it/s]\u001b[A\n",
      "  0%|          | 0/11 [00:00<?, ?it/s]\u001b[A\n",
      " 36%|███▋      | 4/11 [00:00<00:00, 13.27it/s]s]\u001b[A\n",
      "  0%|          | 0/11 [00:00<?, ?it/s]\u001b[A\n",
      "100%|██████████| 11/11 [00:00<00:00, 148.47it/s]\u001b[A\n",
      "  0%|          | 0/11 [00:00<?, ?it/s]\u001b[A\n",
      " 55%|█████▍    | 6/11 [00:00<00:00, 13.24it/s]s]\u001b[A\n",
      "  0%|          | 0/11 [00:00<?, ?it/s]\u001b[A\n",
      "100%|██████████| 11/11 [00:00<00:00, 149.65it/s]\u001b[A\n",
      "  0%|          | 0/11 [00:00<?, ?it/s]\u001b[A\n",
      " 73%|███████▎  | 8/11 [00:00<00:00, 13.24it/s]s]\u001b[A\n",
      "  0%|          | 0/11 [00:00<?, ?it/s]\u001b[A\n",
      "100%|██████████| 11/11 [00:00<00:00, 149.45it/s]\u001b[A\n",
      "  0%|          | 0/11 [00:00<?, ?it/s]\u001b[A\n",
      " 91%|█████████ | 10/11 [00:00<00:00, 13.23it/s]]\u001b[A\n",
      "  0%|          | 0/11 [00:00<?, ?it/s]\u001b[A\n",
      "100%|██████████| 11/11 [00:00<00:00, 13.23it/s]]\u001b[A\n",
      " 10%|█         | 2/20 [00:00<00:01, 11.90it/s]"
     ]
    },
    {
     "name": "stdout",
     "output_type": "stream",
     "text": [
      "ALLOCATING SAMPLES\n"
     ]
    },
    {
     "name": "stderr",
     "output_type": "stream",
     "text": [
      "100%|██████████| 20/20 [00:01<00:00, 12.45it/s]\n",
      "  0%|          | 0/11 [00:00<?, ?it/s]\n",
      "  0%|          | 0/11 [00:00<?, ?it/s]\u001b[A\n",
      "100%|██████████| 11/11 [00:00<00:00, 151.43it/s]\u001b[A\n",
      "  0%|          | 0/11 [00:00<?, ?it/s]\u001b[A\n",
      " 18%|█▊        | 2/11 [00:00<00:00, 13.43it/s]s]\u001b[A\n",
      "  0%|          | 0/11 [00:00<?, ?it/s]\u001b[A"
     ]
    },
    {
     "name": "stdout",
     "output_type": "stream",
     "text": [
      "[10, 10, 10, 10, 10, 10, 10, 10, 10, 10, 10]\n",
      "[10, 10, 10, 10, 10, 10, 10, 10, 10, 10, 10]\n",
      "[set(), set(), set(), set(), set(), set(), set(), set(), set(), set(), set()]\n",
      "COMPUTING PRIORS\n",
      "COMPUTING CROSS ENTROPIES\n"
     ]
    },
    {
     "name": "stderr",
     "output_type": "stream",
     "text": [
      "\n",
      "100%|██████████| 11/11 [00:00<00:00, 147.35it/s]\u001b[A\n",
      "  0%|          | 0/11 [00:00<?, ?it/s]\u001b[A\n",
      " 36%|███▋      | 4/11 [00:00<00:00, 13.37it/s]s]\u001b[A\n",
      "  0%|          | 0/11 [00:00<?, ?it/s]\u001b[A\n",
      "100%|██████████| 11/11 [00:00<00:00, 150.10it/s]\u001b[A\n",
      "  0%|          | 0/11 [00:00<?, ?it/s]\u001b[A\n",
      " 55%|█████▍    | 6/11 [00:00<00:00, 13.35it/s]s]\u001b[A\n",
      "  0%|          | 0/11 [00:00<?, ?it/s]\u001b[A\n",
      "100%|██████████| 11/11 [00:00<00:00, 149.58it/s]\u001b[A\n",
      "  0%|          | 0/11 [00:00<?, ?it/s]\u001b[A\n",
      " 73%|███████▎  | 8/11 [00:00<00:00, 13.35it/s]s]\u001b[A\n",
      "  0%|          | 0/11 [00:00<?, ?it/s]\u001b[A\n",
      "100%|██████████| 11/11 [00:00<00:00, 149.12it/s]\u001b[A\n",
      "  0%|          | 0/11 [00:00<?, ?it/s]\u001b[A\n",
      " 91%|█████████ | 10/11 [00:00<00:00, 13.33it/s]]\u001b[A\n",
      "  0%|          | 0/11 [00:00<?, ?it/s]\u001b[A\n",
      "100%|██████████| 11/11 [00:00<00:00, 13.31it/s]]\u001b[A\n",
      " 10%|█         | 2/20 [00:00<00:01, 12.33it/s]"
     ]
    },
    {
     "name": "stdout",
     "output_type": "stream",
     "text": [
      "ALLOCATING SAMPLES\n"
     ]
    },
    {
     "name": "stderr",
     "output_type": "stream",
     "text": [
      "100%|██████████| 20/20 [00:01<00:00, 12.36it/s]\n",
      "  0%|          | 0/11 [00:00<?, ?it/s]\n",
      "  0%|          | 0/11 [00:00<?, ?it/s]\u001b[A\n",
      "100%|██████████| 11/11 [00:00<00:00, 150.18it/s]\u001b[A\n",
      "  0%|          | 0/11 [00:00<?, ?it/s]\u001b[A\n",
      " 18%|█▊        | 2/11 [00:00<00:00, 12.28it/s]s]\u001b[A\n",
      "  0%|          | 0/11 [00:00<?, ?it/s]\u001b[A"
     ]
    },
    {
     "name": "stdout",
     "output_type": "stream",
     "text": [
      "[10, 10, 10, 10, 10, 10, 10, 10, 10, 10, 10]\n",
      "[10, 10, 10, 10, 10, 10, 10, 10, 10, 10, 10]\n",
      "[set(), set(), set(), set(), set(), set(), set(), set(), set(), set(), set()]\n",
      "COMPUTING PRIORS\n",
      "COMPUTING CROSS ENTROPIES\n"
     ]
    },
    {
     "name": "stderr",
     "output_type": "stream",
     "text": [
      "\n",
      "100%|██████████| 11/11 [00:00<00:00, 147.42it/s]\u001b[A\n",
      "  0%|          | 0/11 [00:00<?, ?it/s]\u001b[A\n",
      " 36%|███▋      | 4/11 [00:00<00:00, 12.53it/s]s]\u001b[A\n",
      "  0%|          | 0/11 [00:00<?, ?it/s]\u001b[A\n",
      "100%|██████████| 11/11 [00:00<00:00, 147.75it/s]\u001b[A\n",
      "  0%|          | 0/11 [00:00<?, ?it/s]\u001b[A\n",
      " 55%|█████▍    | 6/11 [00:00<00:00, 12.70it/s]s]\u001b[A\n",
      "  0%|          | 0/11 [00:00<?, ?it/s]\u001b[A\n",
      "100%|██████████| 11/11 [00:00<00:00, 149.02it/s]\u001b[A\n",
      "  0%|          | 0/11 [00:00<?, ?it/s]\u001b[A\n",
      " 73%|███████▎  | 8/11 [00:00<00:00, 12.87it/s]s]\u001b[A\n",
      "  0%|          | 0/11 [00:00<?, ?it/s]\u001b[A\n",
      "100%|██████████| 11/11 [00:00<00:00, 147.66it/s]\u001b[A\n",
      "  0%|          | 0/11 [00:00<?, ?it/s]\u001b[A\n",
      " 91%|█████████ | 10/11 [00:00<00:00, 12.95it/s]]\u001b[A\n",
      "  0%|          | 0/11 [00:00<?, ?it/s]\u001b[A\n",
      "100%|██████████| 11/11 [00:00<00:00, 13.00it/s]]\u001b[A\n",
      " 10%|█         | 2/20 [00:00<00:01, 12.09it/s]"
     ]
    },
    {
     "name": "stdout",
     "output_type": "stream",
     "text": [
      "ALLOCATING SAMPLES\n"
     ]
    },
    {
     "name": "stderr",
     "output_type": "stream",
     "text": [
      "100%|██████████| 20/20 [00:01<00:00, 12.67it/s]\n",
      "  0%|          | 0/11 [00:00<?, ?it/s]\n",
      "  0%|          | 0/11 [00:00<?, ?it/s]\u001b[A\n",
      "100%|██████████| 11/11 [00:00<00:00, 150.52it/s]\u001b[A\n",
      "  0%|          | 0/11 [00:00<?, ?it/s]\u001b[A\n",
      " 18%|█▊        | 2/11 [00:00<00:00, 13.35it/s]s]\u001b[A\n",
      "  0%|          | 0/11 [00:00<?, ?it/s]\u001b[A"
     ]
    },
    {
     "name": "stdout",
     "output_type": "stream",
     "text": [
      "[10, 10, 10, 10, 10, 10, 10, 10, 10, 10, 10]\n",
      "[10, 10, 10, 10, 10, 10, 10, 10, 10, 10, 10]\n",
      "[set(), set(), set(), set(), set(), set(), set(), set(), set(), set(), set()]\n",
      "COMPUTING PRIORS\n",
      "COMPUTING CROSS ENTROPIES\n"
     ]
    },
    {
     "name": "stderr",
     "output_type": "stream",
     "text": [
      "\n",
      "100%|██████████| 11/11 [00:00<00:00, 148.07it/s]\u001b[A\n",
      "  0%|          | 0/11 [00:00<?, ?it/s]\u001b[A\n",
      " 36%|███▋      | 4/11 [00:00<00:00, 13.30it/s]s]\u001b[A\n",
      "  0%|          | 0/11 [00:00<?, ?it/s]\u001b[A\n",
      "100%|██████████| 11/11 [00:00<00:00, 150.38it/s]\u001b[A\n",
      "  0%|          | 0/11 [00:00<?, ?it/s]\u001b[A\n",
      " 55%|█████▍    | 6/11 [00:00<00:00, 13.08it/s]s]\u001b[A\n",
      "  0%|          | 0/11 [00:00<?, ?it/s]\u001b[A\n",
      "100%|██████████| 11/11 [00:00<00:00, 150.03it/s]\u001b[A\n",
      "  0%|          | 0/11 [00:00<?, ?it/s]\u001b[A\n",
      " 73%|███████▎  | 8/11 [00:00<00:00, 13.15it/s]s]\u001b[A\n",
      "  0%|          | 0/11 [00:00<?, ?it/s]\u001b[A\n",
      "100%|██████████| 11/11 [00:00<00:00, 149.94it/s]\u001b[A\n",
      "  0%|          | 0/11 [00:00<?, ?it/s]\u001b[A\n",
      " 91%|█████████ | 10/11 [00:00<00:00, 13.17it/s]]\u001b[A\n",
      "  0%|          | 0/11 [00:00<?, ?it/s]\u001b[A\n",
      "100%|██████████| 11/11 [00:00<00:00, 13.13it/s]]\u001b[A\n",
      " 10%|█         | 2/20 [00:00<00:01, 12.31it/s]"
     ]
    },
    {
     "name": "stdout",
     "output_type": "stream",
     "text": [
      "ALLOCATING SAMPLES\n"
     ]
    },
    {
     "name": "stderr",
     "output_type": "stream",
     "text": [
      "100%|██████████| 20/20 [00:01<00:00, 12.69it/s]\n",
      "  0%|          | 0/11 [00:00<?, ?it/s]\n",
      "  0%|          | 0/11 [00:00<?, ?it/s]\u001b[A\n",
      "100%|██████████| 11/11 [00:00<00:00, 150.71it/s]\u001b[A\n",
      "  0%|          | 0/11 [00:00<?, ?it/s]\u001b[A\n",
      " 18%|█▊        | 2/11 [00:00<00:00, 13.32it/s]s]\u001b[A\n",
      "  0%|          | 0/11 [00:00<?, ?it/s]\u001b[A"
     ]
    },
    {
     "name": "stdout",
     "output_type": "stream",
     "text": [
      "[10, 10, 10, 10, 10, 10, 10, 10, 10, 10, 10]\n",
      "[10, 10, 10, 10, 10, 10, 10, 10, 10, 10, 10]\n",
      "[set(), set(), set(), set(), set(), set(), set(), set(), set(), set(), set()]\n",
      "COMPUTING PRIORS\n",
      "COMPUTING CROSS ENTROPIES\n"
     ]
    },
    {
     "name": "stderr",
     "output_type": "stream",
     "text": [
      "\n",
      "100%|██████████| 11/11 [00:00<00:00, 148.01it/s]\u001b[A\n",
      "  0%|          | 0/11 [00:00<?, ?it/s]\u001b[A\n",
      " 36%|███▋      | 4/11 [00:00<00:00, 13.27it/s]s]\u001b[A\n",
      "  0%|          | 0/11 [00:00<?, ?it/s]\u001b[A\n",
      "100%|██████████| 11/11 [00:00<00:00, 148.10it/s]\u001b[A\n",
      "  0%|          | 0/11 [00:00<?, ?it/s]\u001b[A\n",
      " 55%|█████▍    | 6/11 [00:00<00:00, 13.25it/s]s]\u001b[A\n",
      "  0%|          | 0/11 [00:00<?, ?it/s]\u001b[A\n",
      "100%|██████████| 11/11 [00:00<00:00, 149.23it/s]\u001b[A\n",
      "  0%|          | 0/11 [00:00<?, ?it/s]\u001b[A\n",
      " 73%|███████▎  | 8/11 [00:00<00:00, 13.25it/s]s]\u001b[A\n",
      "  0%|          | 0/11 [00:00<?, ?it/s]\u001b[A\n",
      "100%|██████████| 11/11 [00:00<00:00, 149.06it/s]\u001b[A\n",
      "  0%|          | 0/11 [00:00<?, ?it/s]\u001b[A\n",
      " 91%|█████████ | 10/11 [00:00<00:00, 13.26it/s]]\u001b[A\n",
      "  0%|          | 0/11 [00:00<?, ?it/s]\u001b[A\n",
      "100%|██████████| 11/11 [00:00<00:00, 13.23it/s]]\u001b[A\n",
      " 10%|█         | 2/20 [00:00<00:01, 12.31it/s]"
     ]
    },
    {
     "name": "stdout",
     "output_type": "stream",
     "text": [
      "ALLOCATING SAMPLES\n"
     ]
    },
    {
     "name": "stderr",
     "output_type": "stream",
     "text": [
      "100%|██████████| 20/20 [00:01<00:00, 12.67it/s]\n",
      "  0%|          | 0/11 [00:00<?, ?it/s]\n",
      "  0%|          | 0/11 [00:00<?, ?it/s]\u001b[A\n",
      "100%|██████████| 11/11 [00:00<00:00, 151.63it/s]\u001b[A\n",
      "  0%|          | 0/11 [00:00<?, ?it/s]\u001b[A\n",
      " 18%|█▊        | 2/11 [00:00<00:00, 13.45it/s]s]\u001b[A\n",
      "  0%|          | 0/11 [00:00<?, ?it/s]\u001b[A"
     ]
    },
    {
     "name": "stdout",
     "output_type": "stream",
     "text": [
      "[10, 10, 10, 10, 10, 10, 10, 10, 10, 10, 10]\n",
      "[10, 10, 10, 10, 10, 10, 10, 10, 10, 10, 10]\n",
      "[set(), set(), set(), set(), set(), set(), set(), set(), set(), set(), set()]\n",
      "COMPUTING PRIORS\n",
      "COMPUTING CROSS ENTROPIES\n"
     ]
    },
    {
     "name": "stderr",
     "output_type": "stream",
     "text": [
      "\n",
      "100%|██████████| 11/11 [00:00<00:00, 148.88it/s]\u001b[A\n",
      "  0%|          | 0/11 [00:00<?, ?it/s]\u001b[A\n",
      " 36%|███▋      | 4/11 [00:00<00:00, 13.40it/s]s]\u001b[A\n",
      "  0%|          | 0/11 [00:00<?, ?it/s]\u001b[A\n",
      "100%|██████████| 11/11 [00:00<00:00, 150.49it/s]\u001b[A\n",
      "  0%|          | 0/11 [00:00<?, ?it/s]\u001b[A\n",
      " 55%|█████▍    | 6/11 [00:00<00:00, 13.38it/s]s]\u001b[A\n",
      "  0%|          | 0/11 [00:00<?, ?it/s]\u001b[A\n",
      "100%|██████████| 11/11 [00:00<00:00, 140.82it/s]\u001b[A\n",
      "  0%|          | 0/11 [00:00<?, ?it/s]\u001b[A\n",
      " 73%|███████▎  | 8/11 [00:00<00:00, 13.24it/s]s]\u001b[A\n",
      "  0%|          | 0/11 [00:00<?, ?it/s]\u001b[A\n",
      "100%|██████████| 11/11 [00:00<00:00, 150.17it/s]\u001b[A\n",
      "  0%|          | 0/11 [00:00<?, ?it/s]\u001b[A\n",
      " 91%|█████████ | 10/11 [00:00<00:00, 13.26it/s]]\u001b[A\n",
      "  0%|          | 0/11 [00:00<?, ?it/s]\u001b[A\n",
      "100%|██████████| 11/11 [00:00<00:00, 13.25it/s]]\u001b[A\n",
      " 10%|█         | 2/20 [00:00<00:01, 12.18it/s]"
     ]
    },
    {
     "name": "stdout",
     "output_type": "stream",
     "text": [
      "ALLOCATING SAMPLES\n"
     ]
    },
    {
     "name": "stderr",
     "output_type": "stream",
     "text": [
      "100%|██████████| 20/20 [00:01<00:00, 12.43it/s]\n",
      "  0%|          | 0/11 [00:00<?, ?it/s]\n",
      "  0%|          | 0/11 [00:00<?, ?it/s]\u001b[A\n",
      "100%|██████████| 11/11 [00:00<00:00, 150.60it/s]\u001b[A\n",
      "  0%|          | 0/11 [00:00<?, ?it/s]\u001b[A\n",
      " 18%|█▊        | 2/11 [00:00<00:00, 13.36it/s]s]\u001b[A\n",
      "  0%|          | 0/11 [00:00<?, ?it/s]\u001b[A"
     ]
    },
    {
     "name": "stdout",
     "output_type": "stream",
     "text": [
      "[10, 10, 10, 10, 10, 10, 10, 10, 10, 10, 10]\n",
      "[10, 10, 10, 10, 10, 10, 10, 10, 10, 10, 10]\n",
      "[set(), set(), set(), set(), set(), set(), set(), set(), set(), set(), set()]\n",
      "COMPUTING PRIORS\n",
      "COMPUTING CROSS ENTROPIES\n"
     ]
    },
    {
     "name": "stderr",
     "output_type": "stream",
     "text": [
      "\n",
      "100%|██████████| 11/11 [00:00<00:00, 148.67it/s]\u001b[A\n",
      "  0%|          | 0/11 [00:00<?, ?it/s]\u001b[A\n",
      " 36%|███▋      | 4/11 [00:00<00:00, 13.33it/s]s]\u001b[A\n",
      "  0%|          | 0/11 [00:00<?, ?it/s]\u001b[A\n",
      "100%|██████████| 11/11 [00:00<00:00, 150.88it/s]\u001b[A\n",
      "  0%|          | 0/11 [00:00<?, ?it/s]\u001b[A\n",
      " 55%|█████▍    | 6/11 [00:00<00:00, 13.33it/s]s]\u001b[A\n",
      "  0%|          | 0/11 [00:00<?, ?it/s]\u001b[A\n",
      "100%|██████████| 11/11 [00:00<00:00, 140.26it/s]\u001b[A\n",
      "  0%|          | 0/11 [00:00<?, ?it/s]\u001b[A\n",
      " 73%|███████▎  | 8/11 [00:00<00:00, 13.17it/s]s]\u001b[A\n",
      "  0%|          | 0/11 [00:00<?, ?it/s]\u001b[A\n",
      "100%|██████████| 11/11 [00:00<00:00, 150.46it/s]\u001b[A\n",
      "  0%|          | 0/11 [00:00<?, ?it/s]\u001b[A\n",
      " 91%|█████████ | 10/11 [00:00<00:00, 13.21it/s]]\u001b[A\n",
      "  0%|          | 0/11 [00:00<?, ?it/s]\u001b[A\n",
      "100%|██████████| 11/11 [00:00<00:00, 13.22it/s]]\u001b[A\n",
      " 10%|█         | 2/20 [00:00<00:01, 12.33it/s]"
     ]
    },
    {
     "name": "stdout",
     "output_type": "stream",
     "text": [
      "ALLOCATING SAMPLES\n"
     ]
    },
    {
     "name": "stderr",
     "output_type": "stream",
     "text": [
      "100%|██████████| 20/20 [00:01<00:00, 12.71it/s]\n",
      "  0%|          | 0/11 [00:00<?, ?it/s]\n",
      "  0%|          | 0/11 [00:00<?, ?it/s]\u001b[A\n",
      "100%|██████████| 11/11 [00:00<00:00, 152.43it/s]\u001b[A\n",
      "  0%|          | 0/11 [00:00<?, ?it/s]\u001b[A\n",
      " 18%|█▊        | 2/11 [00:00<00:00, 13.42it/s]s]\u001b[A\n",
      "  0%|          | 0/11 [00:00<?, ?it/s]\u001b[A"
     ]
    },
    {
     "name": "stdout",
     "output_type": "stream",
     "text": [
      "[10, 10, 10, 10, 10, 10, 10, 10, 10, 10, 10]\n",
      "[10, 10, 10, 10, 10, 10, 10, 10, 10, 10, 10]\n",
      "[set(), set(), set(), set(), set(), set(), set(), set(), set(), set(), set()]\n",
      "COMPUTING PRIORS\n",
      "COMPUTING CROSS ENTROPIES\n"
     ]
    },
    {
     "name": "stderr",
     "output_type": "stream",
     "text": [
      "\n",
      "100%|██████████| 11/11 [00:00<00:00, 148.99it/s]\u001b[A\n",
      "  0%|          | 0/11 [00:00<?, ?it/s]\u001b[A\n",
      " 36%|███▋      | 4/11 [00:00<00:00, 13.36it/s]s]\u001b[A\n",
      "  0%|          | 0/11 [00:00<?, ?it/s]\u001b[A\n",
      "100%|██████████| 11/11 [00:00<00:00, 149.32it/s]\u001b[A\n",
      "  0%|          | 0/11 [00:00<?, ?it/s]\u001b[A\n",
      " 55%|█████▍    | 6/11 [00:00<00:00, 13.33it/s]s]\u001b[A\n",
      "  0%|          | 0/11 [00:00<?, ?it/s]\u001b[A\n",
      "100%|██████████| 11/11 [00:00<00:00, 150.42it/s]\u001b[A\n",
      "  0%|          | 0/11 [00:00<?, ?it/s]\u001b[A\n",
      " 73%|███████▎  | 8/11 [00:00<00:00, 13.34it/s]s]\u001b[A\n",
      "  0%|          | 0/11 [00:00<?, ?it/s]\u001b[A\n",
      "100%|██████████| 11/11 [00:00<00:00, 148.32it/s]\u001b[A\n",
      "  0%|          | 0/11 [00:00<?, ?it/s]\u001b[A\n",
      " 91%|█████████ | 10/11 [00:00<00:00, 13.33it/s]]\u001b[A\n",
      "  0%|          | 0/11 [00:00<?, ?it/s]\u001b[A\n",
      "100%|██████████| 11/11 [00:00<00:00, 13.31it/s]]\u001b[A\n",
      " 10%|█         | 2/20 [00:00<00:01, 12.37it/s]"
     ]
    },
    {
     "name": "stdout",
     "output_type": "stream",
     "text": [
      "ALLOCATING SAMPLES\n"
     ]
    },
    {
     "name": "stderr",
     "output_type": "stream",
     "text": [
      "100%|██████████| 20/20 [00:01<00:00, 12.76it/s]\n",
      "  0%|          | 0/11 [00:00<?, ?it/s]\n",
      "  0%|          | 0/11 [00:00<?, ?it/s]\u001b[A\n",
      "100%|██████████| 11/11 [00:00<00:00, 151.34it/s]\u001b[A\n",
      "  0%|          | 0/11 [00:00<?, ?it/s]\u001b[A\n",
      " 18%|█▊        | 2/11 [00:00<00:00, 13.42it/s]s]\u001b[A\n",
      "  0%|          | 0/11 [00:00<?, ?it/s]\u001b[A"
     ]
    },
    {
     "name": "stdout",
     "output_type": "stream",
     "text": [
      "[10, 10, 10, 10, 10, 10, 10, 10, 10, 10, 10]\n",
      "[10, 10, 10, 10, 10, 10, 10, 10, 10, 10, 10]\n",
      "[set(), set(), set(), set(), set(), set(), set(), set(), set(), set(), set()]\n",
      "COMPUTING PRIORS\n",
      "COMPUTING CROSS ENTROPIES\n"
     ]
    },
    {
     "name": "stderr",
     "output_type": "stream",
     "text": [
      "\n",
      "100%|██████████| 11/11 [00:00<00:00, 147.34it/s]\u001b[A\n",
      "  0%|          | 0/11 [00:00<?, ?it/s]\u001b[A\n",
      " 36%|███▋      | 4/11 [00:00<00:00, 13.23it/s]s]\u001b[A\n",
      "  0%|          | 0/11 [00:00<?, ?it/s]\u001b[A\n",
      "100%|██████████| 11/11 [00:00<00:00, 149.33it/s]\u001b[A\n",
      "  0%|          | 0/11 [00:00<?, ?it/s]\u001b[A\n",
      " 55%|█████▍    | 6/11 [00:00<00:00, 13.23it/s]s]\u001b[A\n",
      "  0%|          | 0/11 [00:00<?, ?it/s]\u001b[A\n",
      "100%|██████████| 11/11 [00:00<00:00, 149.03it/s]\u001b[A\n",
      "  0%|          | 0/11 [00:00<?, ?it/s]\u001b[A\n",
      " 73%|███████▎  | 8/11 [00:00<00:00, 13.24it/s]s]\u001b[A\n",
      "  0%|          | 0/11 [00:00<?, ?it/s]\u001b[A\n",
      "100%|██████████| 11/11 [00:00<00:00, 148.67it/s]\u001b[A\n",
      "  0%|          | 0/11 [00:00<?, ?it/s]\u001b[A\n",
      " 91%|█████████ | 10/11 [00:00<00:00, 13.25it/s]]\u001b[A\n",
      "  0%|          | 0/11 [00:00<?, ?it/s]\u001b[A\n",
      "100%|██████████| 11/11 [00:00<00:00, 13.19it/s]]\u001b[A\n",
      " 10%|█         | 2/20 [00:00<00:01, 12.31it/s]"
     ]
    },
    {
     "name": "stdout",
     "output_type": "stream",
     "text": [
      "ALLOCATING SAMPLES\n"
     ]
    },
    {
     "name": "stderr",
     "output_type": "stream",
     "text": [
      "100%|██████████| 20/20 [00:01<00:00, 12.70it/s]\n",
      "  0%|          | 0/11 [00:00<?, ?it/s]\n",
      "  0%|          | 0/11 [00:00<?, ?it/s]\u001b[A\n",
      "100%|██████████| 11/11 [00:00<00:00, 151.84it/s]\u001b[A\n",
      "  0%|          | 0/11 [00:00<?, ?it/s]\u001b[A\n",
      " 18%|█▊        | 2/11 [00:00<00:00, 13.35it/s]s]\u001b[A\n",
      "  0%|          | 0/11 [00:00<?, ?it/s]\u001b[A"
     ]
    },
    {
     "name": "stdout",
     "output_type": "stream",
     "text": [
      "[10, 10, 10, 10, 10, 10, 10, 10, 10, 10, 10]\n",
      "[10, 10, 10, 10, 10, 10, 10, 10, 10, 10, 10]\n",
      "[set(), set(), set(), set(), set(), set(), set(), set(), set(), set(), set()]\n",
      "COMPUTING PRIORS\n",
      "COMPUTING CROSS ENTROPIES\n"
     ]
    },
    {
     "name": "stderr",
     "output_type": "stream",
     "text": [
      "\n",
      "100%|██████████| 11/11 [00:00<00:00, 149.65it/s]\u001b[A\n",
      "  0%|          | 0/11 [00:00<?, ?it/s]\u001b[A\n",
      " 36%|███▋      | 4/11 [00:00<00:00, 13.33it/s]s]\u001b[A\n",
      "  0%|          | 0/11 [00:00<?, ?it/s]\u001b[A\n",
      "100%|██████████| 11/11 [00:00<00:00, 150.78it/s]\u001b[A\n",
      "  0%|          | 0/11 [00:00<?, ?it/s]\u001b[A\n",
      " 55%|█████▍    | 6/11 [00:00<00:00, 13.35it/s]s]\u001b[A\n",
      "  0%|          | 0/11 [00:00<?, ?it/s]\u001b[A\n",
      "100%|██████████| 11/11 [00:00<00:00, 150.91it/s]\u001b[A\n",
      "  0%|          | 0/11 [00:00<?, ?it/s]\u001b[A\n",
      " 73%|███████▎  | 8/11 [00:00<00:00, 13.22it/s]s]\u001b[A\n",
      "  0%|          | 0/11 [00:00<?, ?it/s]\u001b[A\n",
      "100%|██████████| 11/11 [00:00<00:00, 151.47it/s]\u001b[A\n",
      "  0%|          | 0/11 [00:00<?, ?it/s]\u001b[A\n",
      " 91%|█████████ | 10/11 [00:00<00:00, 13.26it/s]]\u001b[A\n",
      "  0%|          | 0/11 [00:00<?, ?it/s]\u001b[A\n",
      "100%|██████████| 11/11 [00:00<00:00, 13.26it/s]]\u001b[A\n",
      " 10%|█         | 2/20 [00:00<00:01, 12.29it/s]"
     ]
    },
    {
     "name": "stdout",
     "output_type": "stream",
     "text": [
      "ALLOCATING SAMPLES\n"
     ]
    },
    {
     "name": "stderr",
     "output_type": "stream",
     "text": [
      "100%|██████████| 20/20 [00:01<00:00, 12.52it/s]\n",
      "  0%|          | 0/11 [00:00<?, ?it/s]\n",
      "  0%|          | 0/11 [00:00<?, ?it/s]\u001b[A\n",
      "100%|██████████| 11/11 [00:00<00:00, 151.33it/s]\u001b[A\n",
      "  0%|          | 0/11 [00:00<?, ?it/s]\u001b[A\n",
      " 18%|█▊        | 2/11 [00:00<00:00, 13.40it/s]s]\u001b[A\n",
      "  0%|          | 0/11 [00:00<?, ?it/s]\u001b[A"
     ]
    },
    {
     "name": "stdout",
     "output_type": "stream",
     "text": [
      "[10, 10, 10, 10, 10, 10, 10, 10, 10, 10, 10]\n",
      "[10, 10, 10, 10, 10, 10, 10, 10, 10, 10, 10]\n",
      "[set(), set(), set(), set(), set(), set(), set(), set(), set(), set(), set()]\n",
      "COMPUTING PRIORS\n",
      "COMPUTING CROSS ENTROPIES\n"
     ]
    },
    {
     "name": "stderr",
     "output_type": "stream",
     "text": [
      "\n",
      "100%|██████████| 11/11 [00:00<00:00, 147.92it/s]\u001b[A\n",
      "  0%|          | 0/11 [00:00<?, ?it/s]\u001b[A\n",
      " 36%|███▋      | 4/11 [00:00<00:00, 13.32it/s]s]\u001b[A\n",
      "  0%|          | 0/11 [00:00<?, ?it/s]\u001b[A\n",
      "100%|██████████| 11/11 [00:00<00:00, 149.14it/s]\u001b[A\n",
      "  0%|          | 0/11 [00:00<?, ?it/s]\u001b[A\n",
      " 55%|█████▍    | 6/11 [00:00<00:00, 13.29it/s]s]\u001b[A\n",
      "  0%|          | 0/11 [00:00<?, ?it/s]\u001b[A\n",
      "100%|██████████| 11/11 [00:00<00:00, 148.74it/s]\u001b[A\n",
      "  0%|          | 0/11 [00:00<?, ?it/s]\u001b[A\n",
      " 73%|███████▎  | 8/11 [00:00<00:00, 13.27it/s]s]\u001b[A\n",
      "  0%|          | 0/11 [00:00<?, ?it/s]\u001b[A\n",
      "100%|██████████| 11/11 [00:00<00:00, 148.00it/s]\u001b[A\n",
      "  0%|          | 0/11 [00:00<?, ?it/s]\u001b[A\n",
      " 91%|█████████ | 10/11 [00:00<00:00, 13.24it/s]]\u001b[A\n",
      "  0%|          | 0/11 [00:00<?, ?it/s]\u001b[A\n",
      "100%|██████████| 11/11 [00:00<00:00, 13.22it/s]]\u001b[A\n",
      " 10%|█         | 2/20 [00:00<00:01, 12.31it/s]"
     ]
    },
    {
     "name": "stdout",
     "output_type": "stream",
     "text": [
      "ALLOCATING SAMPLES\n"
     ]
    },
    {
     "name": "stderr",
     "output_type": "stream",
     "text": [
      "100%|██████████| 20/20 [00:01<00:00, 12.68it/s]\n",
      "  0%|          | 0/11 [00:00<?, ?it/s]\n",
      "  0%|          | 0/11 [00:00<?, ?it/s]\u001b[A\n",
      "100%|██████████| 11/11 [00:00<00:00, 151.55it/s]\u001b[A\n",
      "  0%|          | 0/11 [00:00<?, ?it/s]\u001b[A\n",
      " 18%|█▊        | 2/11 [00:00<00:00, 13.42it/s]s]\u001b[A\n",
      "  0%|          | 0/11 [00:00<?, ?it/s]\u001b[A"
     ]
    },
    {
     "name": "stdout",
     "output_type": "stream",
     "text": [
      "[10, 10, 10, 10, 10, 10, 10, 10, 10, 10, 10]\n",
      "[10, 10, 10, 10, 10, 10, 10, 10, 10, 10, 10]\n",
      "[set(), set(), set(), set(), set(), set(), set(), set(), set(), set(), set()]\n",
      "COMPUTING PRIORS\n",
      "COMPUTING CROSS ENTROPIES\n"
     ]
    },
    {
     "name": "stderr",
     "output_type": "stream",
     "text": [
      "\n",
      "100%|██████████| 11/11 [00:00<00:00, 146.29it/s]\u001b[A\n",
      "  0%|          | 0/11 [00:00<?, ?it/s]\u001b[A\n",
      " 36%|███▋      | 4/11 [00:00<00:00, 13.34it/s]s]\u001b[A\n",
      "  0%|          | 0/11 [00:00<?, ?it/s]\u001b[A\n",
      "100%|██████████| 11/11 [00:00<00:00, 147.72it/s]\u001b[A\n",
      "  0%|          | 0/11 [00:00<?, ?it/s]\u001b[A\n",
      " 55%|█████▍    | 6/11 [00:00<00:00, 13.29it/s]s]\u001b[A\n",
      "  0%|          | 0/11 [00:00<?, ?it/s]\u001b[A\n",
      "100%|██████████| 11/11 [00:00<00:00, 150.40it/s]\u001b[A\n",
      "  0%|          | 0/11 [00:00<?, ?it/s]\u001b[A\n",
      " 73%|███████▎  | 8/11 [00:00<00:00, 13.28it/s]s]\u001b[A\n",
      "  0%|          | 0/11 [00:00<?, ?it/s]\u001b[A\n",
      "100%|██████████| 11/11 [00:00<00:00, 151.13it/s]\u001b[A\n",
      "  0%|          | 0/11 [00:00<?, ?it/s]\u001b[A\n",
      " 91%|█████████ | 10/11 [00:00<00:00, 13.29it/s]]\u001b[A\n",
      "  0%|          | 0/11 [00:00<?, ?it/s]\u001b[A\n",
      "100%|██████████| 11/11 [00:00<00:00, 13.25it/s]]\u001b[A\n",
      " 20%|██        | 4/20 [00:00<00:01, 12.29it/s]"
     ]
    },
    {
     "name": "stdout",
     "output_type": "stream",
     "text": [
      "ALLOCATING SAMPLES\n"
     ]
    },
    {
     "name": "stderr",
     "output_type": "stream",
     "text": [
      "100%|██████████| 20/20 [00:01<00:00, 12.39it/s]\n",
      "  0%|          | 0/11 [00:00<?, ?it/s]\n",
      "  0%|          | 0/11 [00:00<?, ?it/s]\u001b[A\n",
      "100%|██████████| 11/11 [00:00<00:00, 150.69it/s]\u001b[A\n",
      "  0%|          | 0/11 [00:00<?, ?it/s]\u001b[A\n",
      " 18%|█▊        | 2/11 [00:00<00:00, 13.33it/s]s]\u001b[A\n",
      "  0%|          | 0/11 [00:00<?, ?it/s]\u001b[A"
     ]
    },
    {
     "name": "stdout",
     "output_type": "stream",
     "text": [
      "[10, 10, 10, 10, 10, 10, 10, 10, 10, 10, 10]\n",
      "[10, 10, 10, 10, 10, 10, 10, 10, 10, 10, 10]\n",
      "[set(), set(), set(), set(), set(), set(), set(), set(), set(), set(), set()]\n",
      "COMPUTING PRIORS\n",
      "COMPUTING CROSS ENTROPIES\n"
     ]
    },
    {
     "name": "stderr",
     "output_type": "stream",
     "text": [
      "\n",
      "100%|██████████| 11/11 [00:00<00:00, 141.54it/s]\u001b[A\n",
      "  0%|          | 0/11 [00:00<?, ?it/s]\u001b[A\n",
      " 36%|███▋      | 4/11 [00:00<00:00, 13.19it/s]s]\u001b[A\n",
      "  0%|          | 0/11 [00:00<?, ?it/s]\u001b[A\n",
      "100%|██████████| 11/11 [00:00<00:00, 149.84it/s]\u001b[A\n",
      "  0%|          | 0/11 [00:00<?, ?it/s]\u001b[A\n",
      " 55%|█████▍    | 6/11 [00:00<00:00, 13.22it/s]s]\u001b[A\n",
      "  0%|          | 0/11 [00:00<?, ?it/s]\u001b[A\n",
      "100%|██████████| 11/11 [00:00<00:00, 149.75it/s]\u001b[A\n",
      "  0%|          | 0/11 [00:00<?, ?it/s]\u001b[A\n",
      " 73%|███████▎  | 8/11 [00:00<00:00, 13.25it/s]s]\u001b[A\n",
      "  0%|          | 0/11 [00:00<?, ?it/s]\u001b[A\n",
      "100%|██████████| 11/11 [00:00<00:00, 150.07it/s]\u001b[A\n",
      "  0%|          | 0/11 [00:00<?, ?it/s]\u001b[A\n",
      " 91%|█████████ | 10/11 [00:00<00:00, 13.26it/s]]\u001b[A\n",
      "  0%|          | 0/11 [00:00<?, ?it/s]\u001b[A\n",
      "100%|██████████| 11/11 [00:00<00:00, 13.22it/s]]\u001b[A\n",
      " 10%|█         | 2/20 [00:00<00:01, 12.25it/s]"
     ]
    },
    {
     "name": "stdout",
     "output_type": "stream",
     "text": [
      "ALLOCATING SAMPLES\n"
     ]
    },
    {
     "name": "stderr",
     "output_type": "stream",
     "text": [
      "100%|██████████| 20/20 [00:01<00:00, 12.52it/s]\n",
      "  0%|          | 0/11 [00:00<?, ?it/s]\n",
      "  0%|          | 0/11 [00:00<?, ?it/s]\u001b[A\n",
      "100%|██████████| 11/11 [00:00<00:00, 150.82it/s]\u001b[A\n",
      "  0%|          | 0/11 [00:00<?, ?it/s]\u001b[A\n",
      " 18%|█▊        | 2/11 [00:00<00:00, 13.32it/s]s]\u001b[A\n",
      "  0%|          | 0/11 [00:00<?, ?it/s]\u001b[A"
     ]
    },
    {
     "name": "stdout",
     "output_type": "stream",
     "text": [
      "[10, 10, 10, 10, 10, 10, 10, 10, 10, 10, 10]\n",
      "[10, 10, 10, 10, 10, 10, 10, 10, 10, 10, 10]\n",
      "[set(), set(), set(), set(), set(), set(), set(), set(), set(), set(), set()]\n",
      "COMPUTING PRIORS\n",
      "COMPUTING CROSS ENTROPIES\n"
     ]
    },
    {
     "name": "stderr",
     "output_type": "stream",
     "text": [
      "\n",
      "100%|██████████| 11/11 [00:00<00:00, 148.04it/s]\u001b[A\n",
      "  0%|          | 0/11 [00:00<?, ?it/s]\u001b[A\n",
      " 36%|███▋      | 4/11 [00:00<00:00, 13.29it/s]s]\u001b[A\n",
      "  0%|          | 0/11 [00:00<?, ?it/s]\u001b[A\n",
      "100%|██████████| 11/11 [00:00<00:00, 147.48it/s]\u001b[A\n",
      "  0%|          | 0/11 [00:00<?, ?it/s]\u001b[A\n",
      " 55%|█████▍    | 6/11 [00:00<00:00, 13.27it/s]s]\u001b[A\n",
      "  0%|          | 0/11 [00:00<?, ?it/s]\u001b[A\n",
      "100%|██████████| 11/11 [00:00<00:00, 149.86it/s]\u001b[A\n",
      "  0%|          | 0/11 [00:00<?, ?it/s]\u001b[A\n",
      " 73%|███████▎  | 8/11 [00:00<00:00, 13.28it/s]s]\u001b[A\n",
      "  0%|          | 0/11 [00:00<?, ?it/s]\u001b[A\n",
      "100%|██████████| 11/11 [00:00<00:00, 149.17it/s]\u001b[A\n",
      "  0%|          | 0/11 [00:00<?, ?it/s]\u001b[A\n",
      " 91%|█████████ | 10/11 [00:00<00:00, 13.26it/s]]\u001b[A\n",
      "  0%|          | 0/11 [00:00<?, ?it/s]\u001b[A\n",
      "100%|██████████| 11/11 [00:00<00:00, 13.24it/s]]\u001b[A\n",
      " 10%|█         | 2/20 [00:00<00:01, 12.27it/s]"
     ]
    },
    {
     "name": "stdout",
     "output_type": "stream",
     "text": [
      "ALLOCATING SAMPLES\n"
     ]
    },
    {
     "name": "stderr",
     "output_type": "stream",
     "text": [
      "100%|██████████| 20/20 [00:01<00:00, 12.30it/s]\n",
      "  0%|          | 0/11 [00:00<?, ?it/s]\n",
      "  0%|          | 0/11 [00:00<?, ?it/s]\u001b[A\n",
      "100%|██████████| 11/11 [00:00<00:00, 151.22it/s]\u001b[A\n",
      "  0%|          | 0/11 [00:00<?, ?it/s]\u001b[A\n",
      " 18%|█▊        | 2/11 [00:00<00:00, 13.29it/s]s]\u001b[A\n",
      "  0%|          | 0/11 [00:00<?, ?it/s]\u001b[A"
     ]
    },
    {
     "name": "stdout",
     "output_type": "stream",
     "text": [
      "[10, 10, 10, 10, 10, 10, 10, 10, 10, 10, 10]\n",
      "[10, 10, 10, 10, 10, 10, 10, 10, 10, 10, 10]\n",
      "[set(), set(), set(), set(), set(), set(), set(), set(), set(), set(), set()]\n",
      "COMPUTING PRIORS\n",
      "COMPUTING CROSS ENTROPIES\n"
     ]
    },
    {
     "name": "stderr",
     "output_type": "stream",
     "text": [
      "\n",
      "100%|██████████| 11/11 [00:00<00:00, 146.83it/s]\u001b[A\n",
      "  0%|          | 0/11 [00:00<?, ?it/s]\u001b[A\n",
      " 36%|███▋      | 4/11 [00:00<00:00, 13.23it/s]s]\u001b[A\n",
      "  0%|          | 0/11 [00:00<?, ?it/s]\u001b[A\n",
      "100%|██████████| 11/11 [00:00<00:00, 149.21it/s]\u001b[A\n",
      "  0%|          | 0/11 [00:00<?, ?it/s]\u001b[A\n",
      " 55%|█████▍    | 6/11 [00:00<00:00, 13.22it/s]s]\u001b[A\n",
      "  0%|          | 0/11 [00:00<?, ?it/s]\u001b[A\n",
      "100%|██████████| 11/11 [00:00<00:00, 145.66it/s]\u001b[A\n",
      "  0%|          | 0/11 [00:00<?, ?it/s]\u001b[A\n",
      " 73%|███████▎  | 8/11 [00:00<00:00, 13.17it/s]s]\u001b[A\n",
      "  0%|          | 0/11 [00:00<?, ?it/s]\u001b[A\n",
      "100%|██████████| 11/11 [00:00<00:00, 147.57it/s]\u001b[A\n",
      "  0%|          | 0/11 [00:00<?, ?it/s]\u001b[A\n",
      " 91%|█████████ | 10/11 [00:00<00:00, 13.16it/s]]\u001b[A\n",
      "  0%|          | 0/11 [00:00<?, ?it/s]\u001b[A\n",
      "100%|██████████| 11/11 [00:00<00:00, 13.14it/s]]\u001b[A\n",
      " 10%|█         | 2/20 [00:00<00:01, 12.20it/s]"
     ]
    },
    {
     "name": "stdout",
     "output_type": "stream",
     "text": [
      "ALLOCATING SAMPLES\n"
     ]
    },
    {
     "name": "stderr",
     "output_type": "stream",
     "text": [
      "100%|██████████| 20/20 [00:01<00:00, 12.62it/s]\n",
      "  0%|          | 0/11 [00:00<?, ?it/s]\n",
      "  0%|          | 0/11 [00:00<?, ?it/s]\u001b[A\n",
      "100%|██████████| 11/11 [00:00<00:00, 150.86it/s]\u001b[A\n",
      "  0%|          | 0/11 [00:00<?, ?it/s]\u001b[A\n",
      " 18%|█▊        | 2/11 [00:00<00:00, 13.35it/s]s]\u001b[A\n",
      "  0%|          | 0/11 [00:00<?, ?it/s]\u001b[A"
     ]
    },
    {
     "name": "stdout",
     "output_type": "stream",
     "text": [
      "[10, 10, 10, 10, 10, 10, 10, 10, 10, 10, 10]\n",
      "[10, 10, 10, 10, 10, 10, 10, 10, 10, 10, 10]\n",
      "[set(), set(), set(), set(), set(), set(), set(), set(), set(), set(), set()]\n",
      "COMPUTING PRIORS\n",
      "COMPUTING CROSS ENTROPIES\n"
     ]
    },
    {
     "name": "stderr",
     "output_type": "stream",
     "text": [
      "\n",
      "100%|██████████| 11/11 [00:00<00:00, 147.12it/s]\u001b[A\n",
      "  0%|          | 0/11 [00:00<?, ?it/s]\u001b[A\n",
      " 36%|███▋      | 4/11 [00:00<00:00, 13.28it/s]s]\u001b[A\n",
      "  0%|          | 0/11 [00:00<?, ?it/s]\u001b[A\n",
      "100%|██████████| 11/11 [00:00<00:00, 149.21it/s]\u001b[A\n",
      "  0%|          | 0/11 [00:00<?, ?it/s]\u001b[A\n",
      " 55%|█████▍    | 6/11 [00:00<00:00, 13.26it/s]s]\u001b[A\n",
      "  0%|          | 0/11 [00:00<?, ?it/s]\u001b[A\n",
      "100%|██████████| 11/11 [00:00<00:00, 147.85it/s]\u001b[A\n",
      "  0%|          | 0/11 [00:00<?, ?it/s]\u001b[A\n",
      " 73%|███████▎  | 8/11 [00:00<00:00, 13.23it/s]s]\u001b[A\n",
      "  0%|          | 0/11 [00:00<?, ?it/s]\u001b[A\n",
      "100%|██████████| 11/11 [00:00<00:00, 148.70it/s]\u001b[A\n",
      "  0%|          | 0/11 [00:00<?, ?it/s]\u001b[A\n",
      " 91%|█████████ | 10/11 [00:00<00:00, 13.22it/s]]\u001b[A\n",
      "  0%|          | 0/11 [00:00<?, ?it/s]\u001b[A\n",
      "100%|██████████| 11/11 [00:00<00:00, 13.20it/s]]\u001b[A\n",
      " 10%|█         | 2/20 [00:00<00:01, 12.20it/s]"
     ]
    },
    {
     "name": "stdout",
     "output_type": "stream",
     "text": [
      "ALLOCATING SAMPLES\n"
     ]
    },
    {
     "name": "stderr",
     "output_type": "stream",
     "text": [
      "100%|██████████| 20/20 [00:01<00:00, 12.64it/s]\n",
      "  0%|          | 0/11 [00:00<?, ?it/s]\n",
      "  0%|          | 0/11 [00:00<?, ?it/s]\u001b[A\n",
      "100%|██████████| 11/11 [00:00<00:00, 150.62it/s]\u001b[A\n",
      "  0%|          | 0/11 [00:00<?, ?it/s]\u001b[A\n",
      " 18%|█▊        | 2/11 [00:00<00:00, 13.34it/s]s]\u001b[A\n",
      "  0%|          | 0/11 [00:00<?, ?it/s]\u001b[A"
     ]
    },
    {
     "name": "stdout",
     "output_type": "stream",
     "text": [
      "[10, 10, 10, 10, 10, 10, 10, 10, 10, 10, 10]\n",
      "[10, 10, 10, 10, 10, 10, 10, 10, 10, 10, 10]\n",
      "[set(), set(), set(), set(), set(), set(), set(), set(), set(), set(), set()]\n",
      "COMPUTING PRIORS\n",
      "COMPUTING CROSS ENTROPIES\n"
     ]
    },
    {
     "name": "stderr",
     "output_type": "stream",
     "text": [
      "\n",
      "100%|██████████| 11/11 [00:00<00:00, 147.30it/s]\u001b[A\n",
      "  0%|          | 0/11 [00:00<?, ?it/s]\u001b[A\n",
      " 36%|███▋      | 4/11 [00:00<00:00, 13.27it/s]s]\u001b[A\n",
      "  0%|          | 0/11 [00:00<?, ?it/s]\u001b[A\n",
      "100%|██████████| 11/11 [00:00<00:00, 148.39it/s]\u001b[A\n",
      "  0%|          | 0/11 [00:00<?, ?it/s]\u001b[A\n",
      " 55%|█████▍    | 6/11 [00:00<00:00, 13.24it/s]s]\u001b[A\n",
      "  0%|          | 0/11 [00:00<?, ?it/s]\u001b[A\n",
      "100%|██████████| 11/11 [00:00<00:00, 148.21it/s]\u001b[A\n",
      "  0%|          | 0/11 [00:00<?, ?it/s]\u001b[A\n",
      " 73%|███████▎  | 8/11 [00:00<00:00, 13.21it/s]s]\u001b[A\n",
      "  0%|          | 0/11 [00:00<?, ?it/s]\u001b[A\n",
      "100%|██████████| 11/11 [00:00<00:00, 147.85it/s]\u001b[A\n",
      "  0%|          | 0/11 [00:00<?, ?it/s]\u001b[A\n",
      " 91%|█████████ | 10/11 [00:00<00:00, 13.20it/s]]\u001b[A\n",
      "  0%|          | 0/11 [00:00<?, ?it/s]\u001b[A\n",
      "100%|██████████| 11/11 [00:00<00:00, 13.17it/s]]\u001b[A\n",
      " 20%|██        | 4/20 [00:00<00:01, 12.33it/s]"
     ]
    },
    {
     "name": "stdout",
     "output_type": "stream",
     "text": [
      "ALLOCATING SAMPLES\n"
     ]
    },
    {
     "name": "stderr",
     "output_type": "stream",
     "text": [
      "100%|██████████| 20/20 [00:01<00:00, 12.60it/s]\n",
      "  0%|          | 0/11 [00:00<?, ?it/s]\n",
      "  0%|          | 0/11 [00:00<?, ?it/s]\u001b[A\n",
      "100%|██████████| 11/11 [00:00<00:00, 151.33it/s]\u001b[A\n",
      "  0%|          | 0/11 [00:00<?, ?it/s]\u001b[A\n",
      " 18%|█▊        | 2/11 [00:00<00:00, 13.38it/s]s]\u001b[A\n",
      "  0%|          | 0/11 [00:00<?, ?it/s]\u001b[A"
     ]
    },
    {
     "name": "stdout",
     "output_type": "stream",
     "text": [
      "[10, 10, 10, 10, 10, 10, 10, 10, 10, 10, 10]\n",
      "[10, 10, 10, 10, 10, 10, 10, 10, 10, 10, 10]\n",
      "[set(), set(), set(), set(), set(), set(), set(), set(), set(), set(), set()]\n",
      "COMPUTING PRIORS\n",
      "COMPUTING CROSS ENTROPIES\n"
     ]
    },
    {
     "name": "stderr",
     "output_type": "stream",
     "text": [
      "\n",
      "100%|██████████| 11/11 [00:00<00:00, 147.67it/s]\u001b[A\n",
      "  0%|          | 0/11 [00:00<?, ?it/s]\u001b[A\n",
      " 36%|███▋      | 4/11 [00:00<00:00, 13.31it/s]s]\u001b[A\n",
      "  0%|          | 0/11 [00:00<?, ?it/s]\u001b[A\n",
      "100%|██████████| 11/11 [00:00<00:00, 148.95it/s]\u001b[A\n",
      "  0%|          | 0/11 [00:00<?, ?it/s]\u001b[A\n",
      " 55%|█████▍    | 6/11 [00:00<00:00, 13.28it/s]s]\u001b[A\n",
      "  0%|          | 0/11 [00:00<?, ?it/s]\u001b[A\n",
      "100%|██████████| 11/11 [00:00<00:00, 148.75it/s]\u001b[A\n",
      "  0%|          | 0/11 [00:00<?, ?it/s]\u001b[A\n",
      " 73%|███████▎  | 8/11 [00:00<00:00, 13.26it/s]s]\u001b[A\n",
      "  0%|          | 0/11 [00:00<?, ?it/s]\u001b[A\n",
      "100%|██████████| 11/11 [00:00<00:00, 148.45it/s]\u001b[A\n",
      "  0%|          | 0/11 [00:00<?, ?it/s]\u001b[A\n",
      " 91%|█████████ | 10/11 [00:00<00:00, 13.24it/s]]\u001b[A\n",
      "  0%|          | 0/11 [00:00<?, ?it/s]\u001b[A\n",
      "100%|██████████| 11/11 [00:00<00:00, 13.22it/s]]\u001b[A\n",
      " 10%|█         | 2/20 [00:00<00:01, 12.25it/s]"
     ]
    },
    {
     "name": "stdout",
     "output_type": "stream",
     "text": [
      "ALLOCATING SAMPLES\n"
     ]
    },
    {
     "name": "stderr",
     "output_type": "stream",
     "text": [
      "100%|██████████| 20/20 [00:01<00:00, 12.62it/s]\n",
      "  0%|          | 0/11 [00:00<?, ?it/s]\n",
      "  0%|          | 0/11 [00:00<?, ?it/s]\u001b[A\n",
      "100%|██████████| 11/11 [00:00<00:00, 148.76it/s]\u001b[A\n",
      "  0%|          | 0/11 [00:00<?, ?it/s]\u001b[A\n",
      " 18%|█▊        | 2/11 [00:00<00:00, 13.32it/s]s]\u001b[A\n",
      "  0%|          | 0/11 [00:00<?, ?it/s]\u001b[A"
     ]
    },
    {
     "name": "stdout",
     "output_type": "stream",
     "text": [
      "[10, 10, 10, 10, 10, 10, 10, 10, 10, 10, 10]\n",
      "[10, 10, 10, 10, 10, 10, 10, 10, 10, 10, 10]\n",
      "[set(), set(), set(), set(), set(), set(), set(), set(), set(), set(), set()]\n",
      "COMPUTING PRIORS\n",
      "COMPUTING CROSS ENTROPIES\n"
     ]
    },
    {
     "name": "stderr",
     "output_type": "stream",
     "text": [
      "\n",
      "100%|██████████| 11/11 [00:00<00:00, 145.61it/s]\u001b[A\n",
      "  0%|          | 0/11 [00:00<?, ?it/s]\u001b[A\n",
      " 36%|███▋      | 4/11 [00:00<00:00, 13.25it/s]s]\u001b[A\n",
      "  0%|          | 0/11 [00:00<?, ?it/s]\u001b[A\n",
      "100%|██████████| 11/11 [00:00<00:00, 148.22it/s]\u001b[A\n",
      "  0%|          | 0/11 [00:00<?, ?it/s]\u001b[A\n",
      " 55%|█████▍    | 6/11 [00:00<00:00, 13.23it/s]s]\u001b[A\n",
      "  0%|          | 0/11 [00:00<?, ?it/s]\u001b[A\n",
      "100%|██████████| 11/11 [00:00<00:00, 147.03it/s]\u001b[A\n",
      "  0%|          | 0/11 [00:00<?, ?it/s]\u001b[A\n",
      " 73%|███████▎  | 8/11 [00:00<00:00, 13.21it/s]s]\u001b[A\n",
      "  0%|          | 0/11 [00:00<?, ?it/s]\u001b[A\n",
      "100%|██████████| 11/11 [00:00<00:00, 147.71it/s]\u001b[A\n",
      "  0%|          | 0/11 [00:00<?, ?it/s]\u001b[A\n",
      " 91%|█████████ | 10/11 [00:00<00:00, 13.19it/s]]\u001b[A\n",
      "  0%|          | 0/11 [00:00<?, ?it/s]\u001b[A\n",
      "100%|██████████| 11/11 [00:00<00:00, 13.18it/s]]\u001b[A\n",
      " 10%|█         | 2/20 [00:00<00:01, 12.26it/s]"
     ]
    },
    {
     "name": "stdout",
     "output_type": "stream",
     "text": [
      "ALLOCATING SAMPLES\n"
     ]
    },
    {
     "name": "stderr",
     "output_type": "stream",
     "text": [
      "100%|██████████| 20/20 [00:01<00:00, 12.62it/s]\n",
      "  0%|          | 0/11 [00:00<?, ?it/s]\n",
      "  0%|          | 0/11 [00:00<?, ?it/s]\u001b[A\n",
      "100%|██████████| 11/11 [00:00<00:00, 151.94it/s]\u001b[A\n",
      "  0%|          | 0/11 [00:00<?, ?it/s]\u001b[A\n",
      " 18%|█▊        | 2/11 [00:00<00:00, 13.39it/s]s]\u001b[A\n",
      "  0%|          | 0/11 [00:00<?, ?it/s]\u001b[A"
     ]
    },
    {
     "name": "stdout",
     "output_type": "stream",
     "text": [
      "[10, 10, 10, 10, 10, 10, 10, 10, 10, 10, 10]\n",
      "[10, 10, 10, 10, 10, 10, 10, 10, 10, 10, 10]\n",
      "[set(), set(), set(), set(), set(), set(), set(), set(), set(), set(), set()]\n",
      "COMPUTING PRIORS\n",
      "COMPUTING CROSS ENTROPIES\n"
     ]
    },
    {
     "name": "stderr",
     "output_type": "stream",
     "text": [
      "\n",
      "100%|██████████| 11/11 [00:00<00:00, 148.37it/s]\u001b[A\n",
      "  0%|          | 0/11 [00:00<?, ?it/s]\u001b[A\n",
      " 36%|███▋      | 4/11 [00:00<00:00, 13.33it/s]s]\u001b[A\n",
      "  0%|          | 0/11 [00:00<?, ?it/s]\u001b[A\n",
      "100%|██████████| 11/11 [00:00<00:00, 148.86it/s]\u001b[A\n",
      "  0%|          | 0/11 [00:00<?, ?it/s]\u001b[A\n",
      " 55%|█████▍    | 6/11 [00:00<00:00, 13.30it/s]s]\u001b[A\n",
      "  0%|          | 0/11 [00:00<?, ?it/s]\u001b[A\n",
      "100%|██████████| 11/11 [00:00<00:00, 148.45it/s]\u001b[A\n",
      "  0%|          | 0/11 [00:00<?, ?it/s]\u001b[A\n",
      " 73%|███████▎  | 8/11 [00:00<00:00, 13.28it/s]s]\u001b[A\n",
      "  0%|          | 0/11 [00:00<?, ?it/s]\u001b[A\n",
      "100%|██████████| 11/11 [00:00<00:00, 148.60it/s]\u001b[A\n",
      "  0%|          | 0/11 [00:00<?, ?it/s]\u001b[A\n",
      " 91%|█████████ | 10/11 [00:00<00:00, 13.26it/s]]\u001b[A\n",
      "  0%|          | 0/11 [00:00<?, ?it/s]\u001b[A\n",
      "100%|██████████| 11/11 [00:00<00:00, 13.25it/s]]\u001b[A\n",
      " 10%|█         | 2/20 [00:00<00:01, 12.27it/s]"
     ]
    },
    {
     "name": "stdout",
     "output_type": "stream",
     "text": [
      "ALLOCATING SAMPLES\n"
     ]
    },
    {
     "name": "stderr",
     "output_type": "stream",
     "text": [
      "100%|██████████| 20/20 [00:01<00:00, 12.66it/s]\n",
      "  0%|          | 0/11 [00:00<?, ?it/s]\n",
      "  0%|          | 0/11 [00:00<?, ?it/s]\u001b[A\n",
      "100%|██████████| 11/11 [00:00<00:00, 151.18it/s]\u001b[A\n",
      "  0%|          | 0/11 [00:00<?, ?it/s]\u001b[A\n",
      " 18%|█▊        | 2/11 [00:00<00:00, 13.29it/s]s]\u001b[A\n",
      "  0%|          | 0/11 [00:00<?, ?it/s]\u001b[A"
     ]
    },
    {
     "name": "stdout",
     "output_type": "stream",
     "text": [
      "[10, 10, 10, 10, 10, 10, 10, 10, 10, 10, 10]\n",
      "[10, 10, 10, 10, 10, 10, 10, 10, 10, 10, 10]\n",
      "[set(), set(), set(), set(), set(), set(), set(), set(), set(), set(), set()]\n",
      "COMPUTING PRIORS\n",
      "COMPUTING CROSS ENTROPIES\n"
     ]
    },
    {
     "name": "stderr",
     "output_type": "stream",
     "text": [
      "\n",
      "100%|██████████| 11/11 [00:00<00:00, 146.49it/s]\u001b[A\n",
      "  0%|          | 0/11 [00:00<?, ?it/s]\u001b[A\n",
      " 36%|███▋      | 4/11 [00:00<00:00, 13.25it/s]s]\u001b[A\n",
      "  0%|          | 0/11 [00:00<?, ?it/s]\u001b[A\n",
      "100%|██████████| 11/11 [00:00<00:00, 147.29it/s]\u001b[A\n",
      "  0%|          | 0/11 [00:00<?, ?it/s]\u001b[A\n",
      " 55%|█████▍    | 6/11 [00:00<00:00, 13.21it/s]s]\u001b[A\n",
      "  0%|          | 0/11 [00:00<?, ?it/s]\u001b[A\n",
      "100%|██████████| 11/11 [00:00<00:00, 148.17it/s]\u001b[A\n",
      "  0%|          | 0/11 [00:00<?, ?it/s]\u001b[A\n",
      " 73%|███████▎  | 8/11 [00:00<00:00, 13.23it/s]s]\u001b[A\n",
      "  0%|          | 0/11 [00:00<?, ?it/s]\u001b[A\n",
      "100%|██████████| 11/11 [00:00<00:00, 147.38it/s]\u001b[A\n",
      "  0%|          | 0/11 [00:00<?, ?it/s]\u001b[A\n",
      " 91%|█████████ | 10/11 [00:00<00:00, 13.20it/s]]\u001b[A\n",
      "  0%|          | 0/11 [00:00<?, ?it/s]\u001b[A\n",
      "100%|██████████| 11/11 [00:00<00:00, 13.18it/s]]\u001b[A\n",
      " 20%|██        | 4/20 [00:00<00:01, 12.37it/s]"
     ]
    },
    {
     "name": "stdout",
     "output_type": "stream",
     "text": [
      "ALLOCATING SAMPLES\n"
     ]
    },
    {
     "name": "stderr",
     "output_type": "stream",
     "text": [
      "100%|██████████| 20/20 [00:01<00:00, 12.60it/s]\n",
      "  0%|          | 0/11 [00:00<?, ?it/s]\n",
      "  0%|          | 0/11 [00:00<?, ?it/s]\u001b[A\n",
      "100%|██████████| 11/11 [00:00<00:00, 150.23it/s]\u001b[A\n",
      "  0%|          | 0/11 [00:00<?, ?it/s]\u001b[A\n",
      " 18%|█▊        | 2/11 [00:00<00:00, 13.33it/s]s]\u001b[A\n",
      "  0%|          | 0/11 [00:00<?, ?it/s]\u001b[A"
     ]
    },
    {
     "name": "stdout",
     "output_type": "stream",
     "text": [
      "[10, 10, 10, 10, 10, 10, 10, 10, 10, 10, 10]\n",
      "[10, 10, 10, 10, 10, 10, 10, 10, 10, 10, 10]\n",
      "[set(), set(), set(), set(), set(), set(), set(), set(), set(), set(), set()]\n",
      "COMPUTING PRIORS\n",
      "COMPUTING CROSS ENTROPIES\n"
     ]
    },
    {
     "name": "stderr",
     "output_type": "stream",
     "text": [
      "\n",
      "100%|██████████| 11/11 [00:00<00:00, 147.93it/s]\u001b[A\n",
      "  0%|          | 0/11 [00:00<?, ?it/s]\u001b[A\n",
      " 36%|███▋      | 4/11 [00:00<00:00, 13.29it/s]s]\u001b[A\n",
      "  0%|          | 0/11 [00:00<?, ?it/s]\u001b[A\n",
      "100%|██████████| 11/11 [00:00<00:00, 148.34it/s]\u001b[A\n",
      "  0%|          | 0/11 [00:00<?, ?it/s]\u001b[A\n",
      " 55%|█████▍    | 6/11 [00:00<00:00, 13.26it/s]s]\u001b[A\n",
      "  0%|          | 0/11 [00:00<?, ?it/s]\u001b[A\n",
      "100%|██████████| 11/11 [00:00<00:00, 148.07it/s]\u001b[A\n",
      "  0%|          | 0/11 [00:00<?, ?it/s]\u001b[A\n",
      " 73%|███████▎  | 8/11 [00:00<00:00, 13.25it/s]s]\u001b[A\n",
      "  0%|          | 0/11 [00:00<?, ?it/s]\u001b[A\n",
      "100%|██████████| 11/11 [00:00<00:00, 148.30it/s]\u001b[A\n",
      "  0%|          | 0/11 [00:00<?, ?it/s]\u001b[A\n",
      " 91%|█████████ | 10/11 [00:00<00:00, 13.23it/s]]\u001b[A\n",
      "  0%|          | 0/11 [00:00<?, ?it/s]\u001b[A\n",
      "100%|██████████| 11/11 [00:00<00:00, 13.22it/s]]\u001b[A\n",
      " 10%|█         | 2/20 [00:00<00:01, 12.26it/s]"
     ]
    },
    {
     "name": "stdout",
     "output_type": "stream",
     "text": [
      "ALLOCATING SAMPLES\n"
     ]
    },
    {
     "name": "stderr",
     "output_type": "stream",
     "text": [
      "100%|██████████| 20/20 [00:01<00:00, 12.61it/s]\n",
      "  0%|          | 0/11 [00:00<?, ?it/s]\n",
      "  0%|          | 0/11 [00:00<?, ?it/s]\u001b[A\n",
      "100%|██████████| 11/11 [00:00<00:00, 149.36it/s]\u001b[A\n",
      "  0%|          | 0/11 [00:00<?, ?it/s]\u001b[A\n",
      " 18%|█▊        | 2/11 [00:00<00:00, 13.28it/s]s]\u001b[A\n",
      "  0%|          | 0/11 [00:00<?, ?it/s]\u001b[A"
     ]
    },
    {
     "name": "stdout",
     "output_type": "stream",
     "text": [
      "[10, 10, 10, 10, 10, 10, 10, 10, 10, 10, 10]\n",
      "[10, 10, 10, 10, 10, 10, 10, 10, 10, 10, 10]\n",
      "[set(), set(), set(), set(), set(), set(), set(), set(), set(), set(), set()]\n",
      "COMPUTING PRIORS\n",
      "COMPUTING CROSS ENTROPIES\n"
     ]
    },
    {
     "name": "stderr",
     "output_type": "stream",
     "text": [
      "\n",
      "100%|██████████| 11/11 [00:00<00:00, 146.81it/s]\u001b[A\n",
      "  0%|          | 0/11 [00:00<?, ?it/s]\u001b[A\n",
      " 36%|███▋      | 4/11 [00:00<00:00, 13.22it/s]s]\u001b[A\n",
      "  0%|          | 0/11 [00:00<?, ?it/s]\u001b[A\n",
      "100%|██████████| 11/11 [00:00<00:00, 147.85it/s]\u001b[A\n",
      "  0%|          | 0/11 [00:00<?, ?it/s]\u001b[A\n",
      " 55%|█████▍    | 6/11 [00:00<00:00, 13.19it/s]s]\u001b[A\n",
      "  0%|          | 0/11 [00:00<?, ?it/s]\u001b[A\n",
      "100%|██████████| 11/11 [00:00<00:00, 131.72it/s]\u001b[A\n",
      "  0%|          | 0/11 [00:00<?, ?it/s]\u001b[A\n",
      " 73%|███████▎  | 8/11 [00:00<00:00, 12.95it/s]s]\u001b[A\n",
      "  0%|          | 0/11 [00:00<?, ?it/s]\u001b[A\n",
      "100%|██████████| 11/11 [00:00<00:00, 146.89it/s]\u001b[A\n",
      "  0%|          | 0/11 [00:00<?, ?it/s]\u001b[A\n",
      " 91%|█████████ | 10/11 [00:00<00:00, 13.00it/s]]\u001b[A\n",
      "  0%|          | 0/11 [00:00<?, ?it/s]\u001b[A\n",
      "100%|██████████| 11/11 [00:00<00:00, 12.99it/s]]\u001b[A\n",
      " 10%|█         | 2/20 [00:00<00:01, 12.08it/s]"
     ]
    },
    {
     "name": "stdout",
     "output_type": "stream",
     "text": [
      "ALLOCATING SAMPLES\n"
     ]
    },
    {
     "name": "stderr",
     "output_type": "stream",
     "text": [
      "100%|██████████| 20/20 [00:01<00:00, 12.48it/s]\n",
      "  0%|          | 0/11 [00:00<?, ?it/s]\n",
      "  0%|          | 0/11 [00:00<?, ?it/s]\u001b[A\n",
      "100%|██████████| 11/11 [00:00<00:00, 150.43it/s]\u001b[A\n",
      "  0%|          | 0/11 [00:00<?, ?it/s]\u001b[A\n",
      " 18%|█▊        | 2/11 [00:00<00:00, 13.37it/s]s]\u001b[A\n",
      "  0%|          | 0/11 [00:00<?, ?it/s]\u001b[A"
     ]
    },
    {
     "name": "stdout",
     "output_type": "stream",
     "text": [
      "[10, 10, 10, 10, 10, 10, 10, 10, 10, 10, 10]\n",
      "[10, 10, 10, 10, 10, 10, 10, 10, 10, 10, 10]\n",
      "[set(), set(), set(), set(), set(), set(), set(), set(), set(), set(), set()]\n",
      "COMPUTING PRIORS\n",
      "COMPUTING CROSS ENTROPIES\n"
     ]
    },
    {
     "name": "stderr",
     "output_type": "stream",
     "text": [
      "\n",
      "100%|██████████| 11/11 [00:00<00:00, 147.18it/s]\u001b[A\n",
      "  0%|          | 0/11 [00:00<?, ?it/s]\u001b[A\n",
      " 36%|███▋      | 4/11 [00:00<00:00, 13.31it/s]s]\u001b[A\n",
      "  0%|          | 0/11 [00:00<?, ?it/s]\u001b[A\n",
      "100%|██████████| 11/11 [00:00<00:00, 149.51it/s]\u001b[A\n",
      "  0%|          | 0/11 [00:00<?, ?it/s]\u001b[A\n",
      " 55%|█████▍    | 6/11 [00:00<00:00, 13.30it/s]s]\u001b[A\n",
      "  0%|          | 0/11 [00:00<?, ?it/s]\u001b[A\n",
      "100%|██████████| 11/11 [00:00<00:00, 147.44it/s]\u001b[A\n",
      "  0%|          | 0/11 [00:00<?, ?it/s]\u001b[A\n",
      " 73%|███████▎  | 8/11 [00:00<00:00, 13.25it/s]s]\u001b[A\n",
      "  0%|          | 0/11 [00:00<?, ?it/s]\u001b[A\n",
      "100%|██████████| 11/11 [00:00<00:00, 146.60it/s]\u001b[A\n",
      "  0%|          | 0/11 [00:00<?, ?it/s]\u001b[A\n",
      " 91%|█████████ | 10/11 [00:00<00:00, 13.21it/s]]\u001b[A\n",
      "  0%|          | 0/11 [00:00<?, ?it/s]\u001b[A\n",
      "100%|██████████| 11/11 [00:00<00:00, 13.21it/s]]\u001b[A\n",
      " 10%|█         | 2/20 [00:00<00:01, 12.23it/s]"
     ]
    },
    {
     "name": "stdout",
     "output_type": "stream",
     "text": [
      "ALLOCATING SAMPLES\n"
     ]
    },
    {
     "name": "stderr",
     "output_type": "stream",
     "text": [
      "100%|██████████| 20/20 [00:01<00:00, 12.56it/s]\n",
      "  0%|          | 0/11 [00:00<?, ?it/s]\n",
      "  0%|          | 0/11 [00:00<?, ?it/s]\u001b[A\n",
      "100%|██████████| 11/11 [00:00<00:00, 150.46it/s]\u001b[A\n",
      "  0%|          | 0/11 [00:00<?, ?it/s]\u001b[A\n",
      " 18%|█▊        | 2/11 [00:00<00:00, 13.35it/s]s]\u001b[A\n",
      "  0%|          | 0/11 [00:00<?, ?it/s]\u001b[A"
     ]
    },
    {
     "name": "stdout",
     "output_type": "stream",
     "text": [
      "[10, 10, 10, 10, 10, 10, 10, 10, 10, 10, 10]\n",
      "[10, 10, 10, 10, 10, 10, 10, 10, 10, 10, 10]\n",
      "[set(), set(), set(), set(), set(), set(), set(), set(), set(), set(), set()]\n",
      "COMPUTING PRIORS\n",
      "COMPUTING CROSS ENTROPIES\n"
     ]
    },
    {
     "name": "stderr",
     "output_type": "stream",
     "text": [
      "\n",
      "100%|██████████| 11/11 [00:00<00:00, 148.58it/s]\u001b[A\n",
      "  0%|          | 0/11 [00:00<?, ?it/s]\u001b[A\n",
      " 36%|███▋      | 4/11 [00:00<00:00, 13.31it/s]s]\u001b[A\n",
      "  0%|          | 0/11 [00:00<?, ?it/s]\u001b[A\n",
      "100%|██████████| 11/11 [00:00<00:00, 149.39it/s]\u001b[A\n",
      "  0%|          | 0/11 [00:00<?, ?it/s]\u001b[A\n",
      " 55%|█████▍    | 6/11 [00:00<00:00, 13.29it/s]s]\u001b[A\n",
      "  0%|          | 0/11 [00:00<?, ?it/s]\u001b[A\n",
      "100%|██████████| 11/11 [00:00<00:00, 150.19it/s]\u001b[A\n",
      "  0%|          | 0/11 [00:00<?, ?it/s]\u001b[A\n",
      " 73%|███████▎  | 8/11 [00:00<00:00, 13.29it/s]s]\u001b[A\n",
      "  0%|          | 0/11 [00:00<?, ?it/s]\u001b[A\n",
      "100%|██████████| 11/11 [00:00<00:00, 150.09it/s]\u001b[A\n",
      "  0%|          | 0/11 [00:00<?, ?it/s]\u001b[A\n",
      " 91%|█████████ | 10/11 [00:00<00:00, 13.28it/s]]\u001b[A\n",
      "  0%|          | 0/11 [00:00<?, ?it/s]\u001b[A\n",
      "100%|██████████| 11/11 [00:00<00:00, 13.27it/s]]\u001b[A\n",
      " 10%|█         | 2/20 [00:00<00:01, 12.11it/s]"
     ]
    },
    {
     "name": "stdout",
     "output_type": "stream",
     "text": [
      "ALLOCATING SAMPLES\n"
     ]
    },
    {
     "name": "stderr",
     "output_type": "stream",
     "text": [
      "100%|██████████| 20/20 [00:01<00:00, 12.25it/s]\n",
      "  0%|          | 0/11 [00:00<?, ?it/s]\n",
      "  0%|          | 0/11 [00:00<?, ?it/s]\u001b[A\n",
      "100%|██████████| 11/11 [00:00<00:00, 150.79it/s]\u001b[A\n",
      "  0%|          | 0/11 [00:00<?, ?it/s]\u001b[A\n",
      " 18%|█▊        | 2/11 [00:00<00:00, 13.33it/s]s]\u001b[A\n",
      "  0%|          | 0/11 [00:00<?, ?it/s]\u001b[A"
     ]
    },
    {
     "name": "stdout",
     "output_type": "stream",
     "text": [
      "[10, 10, 10, 10, 10, 10, 10, 10, 10, 10, 10]\n",
      "[10, 10, 10, 10, 10, 10, 10, 10, 10, 10, 10]\n",
      "[set(), set(), set(), set(), set(), set(), set(), set(), set(), set(), set()]\n",
      "COMPUTING PRIORS\n",
      "COMPUTING CROSS ENTROPIES\n"
     ]
    },
    {
     "name": "stderr",
     "output_type": "stream",
     "text": [
      "\n",
      "100%|██████████| 11/11 [00:00<00:00, 146.44it/s]\u001b[A\n",
      "  0%|          | 0/11 [00:00<?, ?it/s]\u001b[A\n",
      " 36%|███▋      | 4/11 [00:00<00:00, 13.27it/s]s]\u001b[A\n",
      "  0%|          | 0/11 [00:00<?, ?it/s]\u001b[A\n",
      "100%|██████████| 11/11 [00:00<00:00, 146.52it/s]\u001b[A\n",
      "  0%|          | 0/11 [00:00<?, ?it/s]\u001b[A\n",
      " 55%|█████▍    | 6/11 [00:00<00:00, 13.22it/s]s]\u001b[A\n",
      "  0%|          | 0/11 [00:00<?, ?it/s]\u001b[A\n",
      "100%|██████████| 11/11 [00:00<00:00, 149.24it/s]\u001b[A\n",
      "  0%|          | 0/11 [00:00<?, ?it/s]\u001b[A\n",
      " 73%|███████▎  | 8/11 [00:00<00:00, 13.22it/s]s]\u001b[A\n",
      "  0%|          | 0/11 [00:00<?, ?it/s]\u001b[A\n",
      "100%|██████████| 11/11 [00:00<00:00, 148.94it/s]\u001b[A\n",
      "  0%|          | 0/11 [00:00<?, ?it/s]\u001b[A\n",
      " 91%|█████████ | 10/11 [00:00<00:00, 13.21it/s]]\u001b[A\n",
      "  0%|          | 0/11 [00:00<?, ?it/s]\u001b[A\n",
      "100%|██████████| 11/11 [00:00<00:00, 13.20it/s]]\u001b[A\n",
      " 10%|█         | 2/20 [00:00<00:01, 12.28it/s]"
     ]
    },
    {
     "name": "stdout",
     "output_type": "stream",
     "text": [
      "ALLOCATING SAMPLES\n"
     ]
    },
    {
     "name": "stderr",
     "output_type": "stream",
     "text": [
      "100%|██████████| 20/20 [00:01<00:00, 12.38it/s]\n",
      "  0%|          | 0/11 [00:00<?, ?it/s]\n",
      "  0%|          | 0/11 [00:00<?, ?it/s]\u001b[A\n",
      "100%|██████████| 11/11 [00:00<00:00, 150.53it/s]\u001b[A\n",
      "  0%|          | 0/11 [00:00<?, ?it/s]\u001b[A\n",
      " 18%|█▊        | 2/11 [00:00<00:00, 13.36it/s]s]\u001b[A\n",
      "  0%|          | 0/11 [00:00<?, ?it/s]\u001b[A"
     ]
    },
    {
     "name": "stdout",
     "output_type": "stream",
     "text": [
      "[10, 10, 10, 10, 10, 10, 10, 10, 10, 10, 10]\n",
      "[10, 10, 10, 10, 10, 10, 10, 10, 10, 10, 10]\n",
      "[set(), set(), set(), set(), set(), set(), set(), set(), set(), set(), set()]\n",
      "COMPUTING PRIORS\n",
      "COMPUTING CROSS ENTROPIES\n"
     ]
    },
    {
     "name": "stderr",
     "output_type": "stream",
     "text": [
      "\n",
      "100%|██████████| 11/11 [00:00<00:00, 148.38it/s]\u001b[A\n",
      "  0%|          | 0/11 [00:00<?, ?it/s]\u001b[A\n",
      " 36%|███▋      | 4/11 [00:00<00:00, 13.32it/s]s]\u001b[A\n",
      "  0%|          | 0/11 [00:00<?, ?it/s]\u001b[A\n",
      "100%|██████████| 11/11 [00:00<00:00, 149.53it/s]\u001b[A\n",
      "  0%|          | 0/11 [00:00<?, ?it/s]\u001b[A\n",
      " 55%|█████▍    | 6/11 [00:00<00:00, 13.30it/s]s]\u001b[A\n",
      "  0%|          | 0/11 [00:00<?, ?it/s]\u001b[A\n",
      "100%|██████████| 11/11 [00:00<00:00, 151.39it/s]\u001b[A\n",
      "  0%|          | 0/11 [00:00<?, ?it/s]\u001b[A\n",
      " 73%|███████▎  | 8/11 [00:00<00:00, 13.30it/s]s]\u001b[A\n",
      "  0%|          | 0/11 [00:00<?, ?it/s]\u001b[A\n",
      "100%|██████████| 11/11 [00:00<00:00, 149.40it/s]\u001b[A\n",
      "  0%|          | 0/11 [00:00<?, ?it/s]\u001b[A\n",
      " 91%|█████████ | 10/11 [00:00<00:00, 13.28it/s]]\u001b[A\n",
      "  0%|          | 0/11 [00:00<?, ?it/s]\u001b[A\n",
      "100%|██████████| 11/11 [00:00<00:00, 13.27it/s]]\u001b[A\n",
      " 10%|█         | 2/20 [00:00<00:01, 12.09it/s]"
     ]
    },
    {
     "name": "stdout",
     "output_type": "stream",
     "text": [
      "ALLOCATING SAMPLES\n"
     ]
    },
    {
     "name": "stderr",
     "output_type": "stream",
     "text": [
      "100%|██████████| 20/20 [00:01<00:00, 12.36it/s]\n",
      "  0%|          | 0/11 [00:00<?, ?it/s]\n",
      "  0%|          | 0/11 [00:00<?, ?it/s]\u001b[A\n",
      "100%|██████████| 11/11 [00:00<00:00, 150.48it/s]\u001b[A\n",
      "  0%|          | 0/11 [00:00<?, ?it/s]\u001b[A\n",
      " 18%|█▊        | 2/11 [00:00<00:00, 13.44it/s]s]\u001b[A\n",
      "  0%|          | 0/11 [00:00<?, ?it/s]\u001b[A"
     ]
    },
    {
     "name": "stdout",
     "output_type": "stream",
     "text": [
      "[10, 10, 10, 10, 10, 10, 10, 10, 10, 10, 10]\n",
      "[10, 10, 10, 10, 10, 10, 10, 10, 10, 10, 10]\n",
      "[set(), set(), set(), set(), set(), set(), set(), set(), set(), set(), set()]\n",
      "COMPUTING PRIORS\n",
      "COMPUTING CROSS ENTROPIES\n"
     ]
    },
    {
     "name": "stderr",
     "output_type": "stream",
     "text": [
      "\n",
      "100%|██████████| 11/11 [00:00<00:00, 148.93it/s]\u001b[A\n",
      "  0%|          | 0/11 [00:00<?, ?it/s]\u001b[A\n",
      " 36%|███▋      | 4/11 [00:00<00:00, 13.38it/s]s]\u001b[A\n",
      "  0%|          | 0/11 [00:00<?, ?it/s]\u001b[A\n",
      "100%|██████████| 11/11 [00:00<00:00, 149.45it/s]\u001b[A\n",
      "  0%|          | 0/11 [00:00<?, ?it/s]\u001b[A\n",
      " 55%|█████▍    | 6/11 [00:00<00:00, 13.38it/s]s]\u001b[A\n",
      "  0%|          | 0/11 [00:00<?, ?it/s]\u001b[A\n",
      "100%|██████████| 11/11 [00:00<00:00, 147.46it/s]\u001b[A\n",
      "  0%|          | 0/11 [00:00<?, ?it/s]\u001b[A\n",
      " 73%|███████▎  | 8/11 [00:00<00:00, 13.31it/s]s]\u001b[A\n",
      "  0%|          | 0/11 [00:00<?, ?it/s]\u001b[A\n",
      "100%|██████████| 11/11 [00:00<00:00, 148.29it/s]\u001b[A\n",
      "  0%|          | 0/11 [00:00<?, ?it/s]\u001b[A\n",
      " 91%|█████████ | 10/11 [00:00<00:00, 13.30it/s]]\u001b[A\n",
      "  0%|          | 0/11 [00:00<?, ?it/s]\u001b[A\n",
      "100%|██████████| 11/11 [00:00<00:00, 13.27it/s]]\u001b[A\n",
      " 10%|█         | 2/20 [00:00<00:01, 12.25it/s]"
     ]
    },
    {
     "name": "stdout",
     "output_type": "stream",
     "text": [
      "ALLOCATING SAMPLES\n"
     ]
    },
    {
     "name": "stderr",
     "output_type": "stream",
     "text": [
      "100%|██████████| 20/20 [00:01<00:00, 12.63it/s]\n",
      "  0%|          | 0/11 [00:00<?, ?it/s]\n",
      "  0%|          | 0/11 [00:00<?, ?it/s]\u001b[A\n",
      "100%|██████████| 11/11 [00:00<00:00, 151.84it/s]\u001b[A\n",
      "  0%|          | 0/11 [00:00<?, ?it/s]\u001b[A\n",
      " 18%|█▊        | 2/11 [00:00<00:00, 13.44it/s]s]\u001b[A\n",
      "  0%|          | 0/11 [00:00<?, ?it/s]\u001b[A"
     ]
    },
    {
     "name": "stdout",
     "output_type": "stream",
     "text": [
      "[10, 10, 10, 10, 10, 10, 10, 10, 10, 10, 10]\n",
      "[10, 10, 10, 10, 10, 10, 10, 10, 10, 10, 10]\n",
      "[set(), set(), set(), set(), set(), set(), set(), set(), set(), set(), set()]\n",
      "COMPUTING PRIORS\n",
      "COMPUTING CROSS ENTROPIES\n"
     ]
    },
    {
     "name": "stderr",
     "output_type": "stream",
     "text": [
      "\n",
      "100%|██████████| 11/11 [00:00<00:00, 147.73it/s]\u001b[A\n",
      "  0%|          | 0/11 [00:00<?, ?it/s]\u001b[A\n",
      " 36%|███▋      | 4/11 [00:00<00:00, 13.37it/s]s]\u001b[A\n",
      "  0%|          | 0/11 [00:00<?, ?it/s]\u001b[A\n",
      "100%|██████████| 11/11 [00:00<00:00, 149.61it/s]\u001b[A\n",
      "  0%|          | 0/11 [00:00<?, ?it/s]\u001b[A\n",
      " 55%|█████▍    | 6/11 [00:00<00:00, 13.34it/s]s]\u001b[A\n",
      "  0%|          | 0/11 [00:00<?, ?it/s]\u001b[A\n",
      "100%|██████████| 11/11 [00:00<00:00, 149.33it/s]\u001b[A\n",
      "  0%|          | 0/11 [00:00<?, ?it/s]\u001b[A\n",
      " 73%|███████▎  | 8/11 [00:00<00:00, 13.30it/s]s]\u001b[A\n",
      "  0%|          | 0/11 [00:00<?, ?it/s]\u001b[A\n",
      "100%|██████████| 11/11 [00:00<00:00, 147.85it/s]\u001b[A\n",
      "  0%|          | 0/11 [00:00<?, ?it/s]\u001b[A\n",
      " 91%|█████████ | 10/11 [00:00<00:00, 13.26it/s]]\u001b[A\n",
      "  0%|          | 0/11 [00:00<?, ?it/s]\u001b[A\n",
      "100%|██████████| 11/11 [00:00<00:00, 13.25it/s]]\u001b[A\n",
      " 10%|█         | 2/20 [00:00<00:01, 12.29it/s]"
     ]
    },
    {
     "name": "stdout",
     "output_type": "stream",
     "text": [
      "ALLOCATING SAMPLES\n"
     ]
    },
    {
     "name": "stderr",
     "output_type": "stream",
     "text": [
      "100%|██████████| 20/20 [00:01<00:00, 12.70it/s]\n",
      "  0%|          | 0/11 [00:00<?, ?it/s]\n",
      "  0%|          | 0/11 [00:00<?, ?it/s]\u001b[A\n",
      "100%|██████████| 11/11 [00:00<00:00, 150.97it/s]\u001b[A\n",
      "  0%|          | 0/11 [00:00<?, ?it/s]\u001b[A\n",
      " 18%|█▊        | 2/11 [00:00<00:00, 13.45it/s]s]\u001b[A\n",
      "  0%|          | 0/11 [00:00<?, ?it/s]\u001b[A"
     ]
    },
    {
     "name": "stdout",
     "output_type": "stream",
     "text": [
      "[10, 10, 10, 10, 10, 10, 10, 10, 10, 10, 10]\n",
      "[10, 10, 10, 10, 10, 10, 10, 10, 10, 10, 10]\n",
      "[set(), set(), set(), set(), set(), set(), set(), set(), set(), set(), set()]\n",
      "COMPUTING PRIORS\n",
      "COMPUTING CROSS ENTROPIES\n"
     ]
    },
    {
     "name": "stderr",
     "output_type": "stream",
     "text": [
      "\n",
      "100%|██████████| 11/11 [00:00<00:00, 147.08it/s]\u001b[A\n",
      "  0%|          | 0/11 [00:00<?, ?it/s]\u001b[A\n",
      " 36%|███▋      | 4/11 [00:00<00:00, 13.38it/s]s]\u001b[A\n",
      "  0%|          | 0/11 [00:00<?, ?it/s]\u001b[A\n",
      "100%|██████████| 11/11 [00:00<00:00, 150.35it/s]\u001b[A\n",
      "  0%|          | 0/11 [00:00<?, ?it/s]\u001b[A\n",
      " 55%|█████▍    | 6/11 [00:00<00:00, 13.39it/s]s]\u001b[A\n",
      "  0%|          | 0/11 [00:00<?, ?it/s]\u001b[A\n",
      "100%|██████████| 11/11 [00:00<00:00, 149.44it/s]\u001b[A\n",
      "  0%|          | 0/11 [00:00<?, ?it/s]\u001b[A\n",
      " 73%|███████▎  | 8/11 [00:00<00:00, 13.38it/s]s]\u001b[A\n",
      "  0%|          | 0/11 [00:00<?, ?it/s]\u001b[A\n",
      "100%|██████████| 11/11 [00:00<00:00, 147.66it/s]\u001b[A\n",
      "  0%|          | 0/11 [00:00<?, ?it/s]\u001b[A\n",
      " 91%|█████████ | 10/11 [00:00<00:00, 13.32it/s]]\u001b[A\n",
      "  0%|          | 0/11 [00:00<?, ?it/s]\u001b[A\n",
      "100%|██████████| 11/11 [00:00<00:00, 13.30it/s]]\u001b[A\n",
      " 20%|██        | 4/20 [00:00<00:01, 12.42it/s]"
     ]
    },
    {
     "name": "stdout",
     "output_type": "stream",
     "text": [
      "ALLOCATING SAMPLES\n"
     ]
    },
    {
     "name": "stderr",
     "output_type": "stream",
     "text": [
      "100%|██████████| 20/20 [00:01<00:00, 12.63it/s]\n",
      "  0%|          | 0/11 [00:00<?, ?it/s]\n",
      "  0%|          | 0/11 [00:00<?, ?it/s]\u001b[A\n",
      "100%|██████████| 11/11 [00:00<00:00, 151.08it/s]\u001b[A\n",
      "  0%|          | 0/11 [00:00<?, ?it/s]\u001b[A\n",
      " 18%|█▊        | 2/11 [00:00<00:00, 13.35it/s]s]\u001b[A\n",
      "  0%|          | 0/11 [00:00<?, ?it/s]\u001b[A"
     ]
    },
    {
     "name": "stdout",
     "output_type": "stream",
     "text": [
      "[10, 10, 10, 10, 10, 10, 10, 10, 10, 10, 10]\n",
      "[10, 10, 10, 10, 10, 10, 10, 10, 10, 10, 10]\n",
      "[set(), set(), set(), set(), set(), set(), set(), set(), set(), set(), set()]\n",
      "COMPUTING PRIORS\n",
      "COMPUTING CROSS ENTROPIES\n"
     ]
    },
    {
     "name": "stderr",
     "output_type": "stream",
     "text": [
      "\n",
      "100%|██████████| 11/11 [00:00<00:00, 146.54it/s]\u001b[A\n",
      "  0%|          | 0/11 [00:00<?, ?it/s]\u001b[A\n",
      " 36%|███▋      | 4/11 [00:00<00:00, 13.28it/s]s]\u001b[A\n",
      "  0%|          | 0/11 [00:00<?, ?it/s]\u001b[A\n",
      "100%|██████████| 11/11 [00:00<00:00, 148.45it/s]\u001b[A\n",
      "  0%|          | 0/11 [00:00<?, ?it/s]\u001b[A\n",
      " 55%|█████▍    | 6/11 [00:00<00:00, 13.25it/s]s]\u001b[A\n",
      "  0%|          | 0/11 [00:00<?, ?it/s]\u001b[A\n",
      "100%|██████████| 11/11 [00:00<00:00, 147.74it/s]\u001b[A\n",
      "  0%|          | 0/11 [00:00<?, ?it/s]\u001b[A\n",
      " 82%|████████▏ | 9/11 [00:00<00:00, 87.45it/s]\u001b[A\n",
      " 73%|███████▎  | 8/11 [00:00<00:00, 12.14it/s]]\u001b[A\n",
      "  0%|          | 0/11 [00:00<?, ?it/s]\u001b[A\n",
      "100%|██████████| 11/11 [00:00<00:00, 147.65it/s]\u001b[A\n",
      "  0%|          | 0/11 [00:00<?, ?it/s]\u001b[A\n",
      " 91%|█████████ | 10/11 [00:00<00:00, 12.43it/s]]\u001b[A\n",
      "  0%|          | 0/11 [00:00<?, ?it/s]\u001b[A\n",
      "100%|██████████| 11/11 [00:00<00:00, 12.51it/s]]\u001b[A\n",
      " 10%|█         | 2/20 [00:00<00:01, 12.23it/s]"
     ]
    },
    {
     "name": "stdout",
     "output_type": "stream",
     "text": [
      "ALLOCATING SAMPLES\n"
     ]
    },
    {
     "name": "stderr",
     "output_type": "stream",
     "text": [
      "100%|██████████| 20/20 [00:01<00:00, 12.58it/s]\n",
      "  0%|          | 0/11 [00:00<?, ?it/s]\n",
      "  0%|          | 0/11 [00:00<?, ?it/s]\u001b[A\n",
      "100%|██████████| 11/11 [00:00<00:00, 151.40it/s]\u001b[A\n",
      "  0%|          | 0/11 [00:00<?, ?it/s]\u001b[A\n",
      " 18%|█▊        | 2/11 [00:00<00:00, 13.32it/s]s]\u001b[A\n",
      "  0%|          | 0/11 [00:00<?, ?it/s]\u001b[A"
     ]
    },
    {
     "name": "stdout",
     "output_type": "stream",
     "text": [
      "[10, 10, 10, 10, 10, 10, 10, 10, 10, 10, 10]\n",
      "[10, 10, 10, 10, 10, 10, 10, 10, 10, 10, 10]\n",
      "[set(), set(), set(), set(), set(), set(), set(), set(), set(), set(), set()]\n",
      "COMPUTING PRIORS\n",
      "COMPUTING CROSS ENTROPIES\n"
     ]
    },
    {
     "name": "stderr",
     "output_type": "stream",
     "text": [
      "\n",
      "100%|██████████| 11/11 [00:00<00:00, 146.47it/s]\u001b[A\n",
      "  0%|          | 0/11 [00:00<?, ?it/s]\u001b[A\n",
      " 36%|███▋      | 4/11 [00:00<00:00, 13.26it/s]s]\u001b[A\n",
      "  0%|          | 0/11 [00:00<?, ?it/s]\u001b[A\n",
      "100%|██████████| 11/11 [00:00<00:00, 148.21it/s]\u001b[A\n",
      "  0%|          | 0/11 [00:00<?, ?it/s]\u001b[A\n",
      " 55%|█████▍    | 6/11 [00:00<00:00, 13.24it/s]s]\u001b[A\n",
      "  0%|          | 0/11 [00:00<?, ?it/s]\u001b[A\n",
      "100%|██████████| 11/11 [00:00<00:00, 147.78it/s]\u001b[A\n",
      "  0%|          | 0/11 [00:00<?, ?it/s]\u001b[A\n",
      " 73%|███████▎  | 8/11 [00:00<00:00, 13.23it/s]s]\u001b[A\n",
      "  0%|          | 0/11 [00:00<?, ?it/s]\u001b[A\n",
      "100%|██████████| 11/11 [00:00<00:00, 148.59it/s]\u001b[A\n",
      "  0%|          | 0/11 [00:00<?, ?it/s]\u001b[A\n",
      " 91%|█████████ | 10/11 [00:00<00:00, 13.23it/s]]\u001b[A\n",
      "  0%|          | 0/11 [00:00<?, ?it/s]\u001b[A\n",
      "100%|██████████| 11/11 [00:00<00:00, 13.21it/s]]\u001b[A\n",
      " 20%|██        | 4/20 [00:00<00:01, 12.21it/s]"
     ]
    },
    {
     "name": "stdout",
     "output_type": "stream",
     "text": [
      "ALLOCATING SAMPLES\n"
     ]
    },
    {
     "name": "stderr",
     "output_type": "stream",
     "text": [
      "100%|██████████| 20/20 [00:01<00:00, 12.27it/s]\n",
      "  0%|          | 0/11 [00:00<?, ?it/s]\n",
      "  0%|          | 0/11 [00:00<?, ?it/s]\u001b[A\n",
      "100%|██████████| 11/11 [00:00<00:00, 151.06it/s]\u001b[A\n",
      "  0%|          | 0/11 [00:00<?, ?it/s]\u001b[A\n",
      " 18%|█▊        | 2/11 [00:00<00:00, 13.37it/s]s]\u001b[A\n",
      "  0%|          | 0/11 [00:00<?, ?it/s]\u001b[A"
     ]
    },
    {
     "name": "stdout",
     "output_type": "stream",
     "text": [
      "[10, 10, 10, 10, 10, 10, 10, 10, 10, 10, 10]\n",
      "[10, 10, 10, 10, 10, 10, 10, 10, 10, 10, 10]\n",
      "[set(), set(), set(), set(), set(), set(), set(), set(), set(), set(), set()]\n",
      "COMPUTING PRIORS\n",
      "COMPUTING CROSS ENTROPIES\n"
     ]
    },
    {
     "name": "stderr",
     "output_type": "stream",
     "text": [
      "\n",
      "100%|██████████| 11/11 [00:00<00:00, 149.99it/s]\u001b[A\n",
      "  0%|          | 0/11 [00:00<?, ?it/s]\u001b[A\n",
      " 36%|███▋      | 4/11 [00:00<00:00, 13.34it/s]s]\u001b[A\n",
      "  0%|          | 0/11 [00:00<?, ?it/s]\u001b[A\n",
      "100%|██████████| 11/11 [00:00<00:00, 149.16it/s]\u001b[A\n",
      "  0%|          | 0/11 [00:00<?, ?it/s]\u001b[A\n",
      " 55%|█████▍    | 6/11 [00:00<00:00, 13.31it/s]s]\u001b[A\n",
      "  0%|          | 0/11 [00:00<?, ?it/s]\u001b[A\n",
      "100%|██████████| 11/11 [00:00<00:00, 147.24it/s]\u001b[A\n",
      "  0%|          | 0/11 [00:00<?, ?it/s]\u001b[A\n",
      " 73%|███████▎  | 8/11 [00:00<00:00, 13.25it/s]s]\u001b[A\n",
      "  0%|          | 0/11 [00:00<?, ?it/s]\u001b[A\n",
      "100%|██████████| 11/11 [00:00<00:00, 148.08it/s]\u001b[A\n",
      "  0%|          | 0/11 [00:00<?, ?it/s]\u001b[A\n",
      " 91%|█████████ | 10/11 [00:00<00:00, 13.25it/s]]\u001b[A\n",
      "  0%|          | 0/11 [00:00<?, ?it/s]\u001b[A\n",
      "100%|██████████| 11/11 [00:00<00:00, 13.24it/s]]\u001b[A\n",
      " 10%|█         | 2/20 [00:00<00:01, 12.33it/s]"
     ]
    },
    {
     "name": "stdout",
     "output_type": "stream",
     "text": [
      "ALLOCATING SAMPLES\n"
     ]
    },
    {
     "name": "stderr",
     "output_type": "stream",
     "text": [
      "100%|██████████| 20/20 [00:01<00:00, 12.85it/s]\n",
      "  0%|          | 0/11 [00:00<?, ?it/s]\n",
      "  0%|          | 0/11 [00:00<?, ?it/s]\u001b[A\n",
      "100%|██████████| 11/11 [00:00<00:00, 150.71it/s]\u001b[A\n",
      "  0%|          | 0/11 [00:00<?, ?it/s]\u001b[A\n",
      " 18%|█▊        | 2/11 [00:00<00:00, 13.36it/s]s]\u001b[A\n",
      "  0%|          | 0/11 [00:00<?, ?it/s]\u001b[A"
     ]
    },
    {
     "name": "stdout",
     "output_type": "stream",
     "text": [
      "[10, 10, 10, 10, 10, 10, 10, 10, 10, 10, 10]\n",
      "[10, 10, 10, 10, 10, 10, 10, 10, 10, 10, 10]\n",
      "[set(), set(), set(), set(), set(), set(), set(), set(), set(), set(), set()]\n",
      "COMPUTING PRIORS\n",
      "COMPUTING CROSS ENTROPIES\n"
     ]
    },
    {
     "name": "stderr",
     "output_type": "stream",
     "text": [
      "\n",
      "100%|██████████| 11/11 [00:00<00:00, 147.05it/s]\u001b[A\n",
      "  0%|          | 0/11 [00:00<?, ?it/s]\u001b[A\n",
      " 36%|███▋      | 4/11 [00:00<00:00, 13.29it/s]s]\u001b[A\n",
      "  0%|          | 0/11 [00:00<?, ?it/s]\u001b[A\n",
      "100%|██████████| 11/11 [00:00<00:00, 148.71it/s]\u001b[A\n",
      "  0%|          | 0/11 [00:00<?, ?it/s]\u001b[A\n",
      " 55%|█████▍    | 6/11 [00:00<00:00, 13.27it/s]s]\u001b[A\n",
      "  0%|          | 0/11 [00:00<?, ?it/s]\u001b[A\n",
      "100%|██████████| 11/11 [00:00<00:00, 149.17it/s]\u001b[A\n",
      "  0%|          | 0/11 [00:00<?, ?it/s]\u001b[A\n",
      " 73%|███████▎  | 8/11 [00:00<00:00, 13.26it/s]s]\u001b[A\n",
      "  0%|          | 0/11 [00:00<?, ?it/s]\u001b[A\n",
      "100%|██████████| 11/11 [00:00<00:00, 148.63it/s]\u001b[A\n",
      "  0%|          | 0/11 [00:00<?, ?it/s]\u001b[A\n",
      " 91%|█████████ | 10/11 [00:00<00:00, 13.23it/s]]\u001b[A\n",
      "  0%|          | 0/11 [00:00<?, ?it/s]\u001b[A\n",
      "100%|██████████| 11/11 [00:00<00:00, 13.21it/s]]\u001b[A\n",
      " 10%|█         | 2/20 [00:00<00:01, 12.24it/s]"
     ]
    },
    {
     "name": "stdout",
     "output_type": "stream",
     "text": [
      "ALLOCATING SAMPLES\n"
     ]
    },
    {
     "name": "stderr",
     "output_type": "stream",
     "text": [
      "100%|██████████| 20/20 [00:01<00:00, 12.68it/s]\n",
      "  0%|          | 0/11 [00:00<?, ?it/s]\n",
      "  0%|          | 0/11 [00:00<?, ?it/s]\u001b[A\n",
      "100%|██████████| 11/11 [00:00<00:00, 149.81it/s]\u001b[A\n",
      "  0%|          | 0/11 [00:00<?, ?it/s]\u001b[A\n",
      " 18%|█▊        | 2/11 [00:00<00:00, 13.32it/s]s]\u001b[A\n",
      "  0%|          | 0/11 [00:00<?, ?it/s]\u001b[A"
     ]
    },
    {
     "name": "stdout",
     "output_type": "stream",
     "text": [
      "[10, 10, 10, 10, 10, 10, 10, 10, 10, 10, 10]\n",
      "[10, 10, 10, 10, 10, 10, 10, 10, 10, 10, 10]\n",
      "[set(), set(), set(), set(), set(), set(), set(), set(), set(), set(), set()]\n",
      "COMPUTING PRIORS\n",
      "COMPUTING CROSS ENTROPIES\n"
     ]
    },
    {
     "name": "stderr",
     "output_type": "stream",
     "text": [
      "\n",
      "100%|██████████| 11/11 [00:00<00:00, 146.70it/s]\u001b[A\n",
      "  0%|          | 0/11 [00:00<?, ?it/s]\u001b[A\n",
      " 36%|███▋      | 4/11 [00:00<00:00, 13.28it/s]s]\u001b[A\n",
      "  0%|          | 0/11 [00:00<?, ?it/s]\u001b[A\n",
      "100%|██████████| 11/11 [00:00<00:00, 147.99it/s]\u001b[A\n",
      "  0%|          | 0/11 [00:00<?, ?it/s]\u001b[A\n",
      " 55%|█████▍    | 6/11 [00:00<00:00, 13.24it/s]s]\u001b[A\n",
      "  0%|          | 0/11 [00:00<?, ?it/s]\u001b[A\n",
      "100%|██████████| 11/11 [00:00<00:00, 149.34it/s]\u001b[A\n",
      "  0%|          | 0/11 [00:00<?, ?it/s]\u001b[A\n",
      " 73%|███████▎  | 8/11 [00:00<00:00, 13.22it/s]s]\u001b[A\n",
      "  0%|          | 0/11 [00:00<?, ?it/s]\u001b[A\n",
      "100%|██████████| 11/11 [00:00<00:00, 147.60it/s]\u001b[A\n",
      "  0%|          | 0/11 [00:00<?, ?it/s]\u001b[A\n",
      " 91%|█████████ | 10/11 [00:00<00:00, 13.19it/s]]\u001b[A\n",
      "  0%|          | 0/11 [00:00<?, ?it/s]\u001b[A\n",
      "100%|██████████| 11/11 [00:00<00:00, 13.18it/s]]\u001b[A\n",
      " 10%|█         | 2/20 [00:00<00:01, 12.27it/s]"
     ]
    },
    {
     "name": "stdout",
     "output_type": "stream",
     "text": [
      "ALLOCATING SAMPLES\n"
     ]
    },
    {
     "name": "stderr",
     "output_type": "stream",
     "text": [
      "100%|██████████| 20/20 [00:01<00:00, 12.60it/s]\n",
      "  0%|          | 0/11 [00:00<?, ?it/s]\n",
      "  0%|          | 0/11 [00:00<?, ?it/s]\u001b[A\n",
      "100%|██████████| 11/11 [00:00<00:00, 149.95it/s]\u001b[A\n",
      "  0%|          | 0/11 [00:00<?, ?it/s]\u001b[A\n",
      " 18%|█▊        | 2/11 [00:00<00:00, 13.29it/s]s]\u001b[A\n",
      "  0%|          | 0/11 [00:00<?, ?it/s]\u001b[A"
     ]
    },
    {
     "name": "stdout",
     "output_type": "stream",
     "text": [
      "[10, 10, 10, 10, 10, 10, 10, 10, 10, 10, 10]\n",
      "[10, 10, 10, 10, 10, 10, 10, 10, 10, 10, 10]\n",
      "[set(), set(), set(), set(), set(), set(), set(), set(), set(), set(), set()]\n",
      "COMPUTING PRIORS\n",
      "COMPUTING CROSS ENTROPIES\n"
     ]
    },
    {
     "name": "stderr",
     "output_type": "stream",
     "text": [
      "\n",
      "100%|██████████| 11/11 [00:00<00:00, 147.16it/s]\u001b[A\n",
      "  0%|          | 0/11 [00:00<?, ?it/s]\u001b[A\n",
      " 36%|███▋      | 4/11 [00:00<00:00, 13.25it/s]s]\u001b[A\n",
      "  0%|          | 0/11 [00:00<?, ?it/s]\u001b[A\n",
      "100%|██████████| 11/11 [00:00<00:00, 148.27it/s]\u001b[A\n",
      "  0%|          | 0/11 [00:00<?, ?it/s]\u001b[A\n",
      " 55%|█████▍    | 6/11 [00:00<00:00, 13.23it/s]s]\u001b[A\n",
      "  0%|          | 0/11 [00:00<?, ?it/s]\u001b[A\n",
      "100%|██████████| 11/11 [00:00<00:00, 148.18it/s]\u001b[A\n",
      "  0%|          | 0/11 [00:00<?, ?it/s]\u001b[A\n",
      " 73%|███████▎  | 8/11 [00:00<00:00, 13.21it/s]s]\u001b[A\n",
      "  0%|          | 0/11 [00:00<?, ?it/s]\u001b[A\n",
      "100%|██████████| 11/11 [00:00<00:00, 148.08it/s]\u001b[A\n",
      "  0%|          | 0/11 [00:00<?, ?it/s]\u001b[A\n",
      " 91%|█████████ | 10/11 [00:00<00:00, 13.20it/s]]\u001b[A\n",
      "  0%|          | 0/11 [00:00<?, ?it/s]\u001b[A\n",
      "100%|██████████| 11/11 [00:00<00:00, 13.07it/s]]\u001b[A\n",
      " 10%|█         | 2/20 [00:00<00:01, 12.20it/s]"
     ]
    },
    {
     "name": "stdout",
     "output_type": "stream",
     "text": [
      "ALLOCATING SAMPLES\n"
     ]
    },
    {
     "name": "stderr",
     "output_type": "stream",
     "text": [
      "100%|██████████| 20/20 [00:01<00:00, 12.81it/s]\n",
      "  0%|          | 0/11 [00:00<?, ?it/s]\n",
      "  0%|          | 0/11 [00:00<?, ?it/s]\u001b[A\n",
      "100%|██████████| 11/11 [00:00<00:00, 151.09it/s]\u001b[A\n",
      "  0%|          | 0/11 [00:00<?, ?it/s]\u001b[A\n",
      " 18%|█▊        | 2/11 [00:00<00:00, 13.34it/s]s]\u001b[A\n",
      "  0%|          | 0/11 [00:00<?, ?it/s]\u001b[A"
     ]
    },
    {
     "name": "stdout",
     "output_type": "stream",
     "text": [
      "[10, 10, 10, 10, 10, 10, 10, 10, 10, 10, 10]\n",
      "[10, 10, 10, 10, 10, 10, 10, 10, 10, 10, 10]\n",
      "[set(), set(), set(), set(), set(), set(), set(), set(), set(), set(), set()]\n",
      "COMPUTING PRIORS\n",
      "COMPUTING CROSS ENTROPIES\n"
     ]
    },
    {
     "name": "stderr",
     "output_type": "stream",
     "text": [
      "\n",
      "100%|██████████| 11/11 [00:00<00:00, 147.48it/s]\u001b[A\n",
      "  0%|          | 0/11 [00:00<?, ?it/s]\u001b[A\n",
      " 36%|███▋      | 4/11 [00:00<00:00, 13.29it/s]s]\u001b[A\n",
      "  0%|          | 0/11 [00:00<?, ?it/s]\u001b[A\n",
      "100%|██████████| 11/11 [00:00<00:00, 149.98it/s]\u001b[A\n",
      "  0%|          | 0/11 [00:00<?, ?it/s]\u001b[A\n",
      " 55%|█████▍    | 6/11 [00:00<00:00, 13.28it/s]s]\u001b[A\n",
      "  0%|          | 0/11 [00:00<?, ?it/s]\u001b[A\n",
      "100%|██████████| 11/11 [00:00<00:00, 148.53it/s]\u001b[A\n",
      "  0%|          | 0/11 [00:00<?, ?it/s]\u001b[A\n",
      " 73%|███████▎  | 8/11 [00:00<00:00, 13.28it/s]s]\u001b[A\n",
      "  0%|          | 0/11 [00:00<?, ?it/s]\u001b[A\n",
      "100%|██████████| 11/11 [00:00<00:00, 147.79it/s]\u001b[A\n",
      "  0%|          | 0/11 [00:00<?, ?it/s]\u001b[A\n",
      " 91%|█████████ | 10/11 [00:00<00:00, 13.26it/s]]\u001b[A\n",
      "  0%|          | 0/11 [00:00<?, ?it/s]\u001b[A\n",
      "100%|██████████| 11/11 [00:00<00:00, 13.24it/s]]\u001b[A\n",
      " 10%|█         | 2/20 [00:00<00:01, 12.27it/s]"
     ]
    },
    {
     "name": "stdout",
     "output_type": "stream",
     "text": [
      "ALLOCATING SAMPLES\n"
     ]
    },
    {
     "name": "stderr",
     "output_type": "stream",
     "text": [
      "100%|██████████| 20/20 [00:01<00:00, 12.76it/s]\n",
      "  0%|          | 0/11 [00:00<?, ?it/s]\n",
      "  0%|          | 0/11 [00:00<?, ?it/s]\u001b[A\n",
      "100%|██████████| 11/11 [00:00<00:00, 151.41it/s]\u001b[A\n",
      "  0%|          | 0/11 [00:00<?, ?it/s]\u001b[A\n",
      " 18%|█▊        | 2/11 [00:00<00:00, 13.41it/s]s]\u001b[A\n",
      "  0%|          | 0/11 [00:00<?, ?it/s]\u001b[A"
     ]
    },
    {
     "name": "stdout",
     "output_type": "stream",
     "text": [
      "[10, 10, 10, 10, 10, 10, 10, 10, 10, 10, 10]\n",
      "[10, 10, 10, 10, 10, 10, 10, 10, 10, 10, 10]\n",
      "[set(), set(), set(), set(), set(), set(), set(), set(), set(), set(), set()]\n",
      "COMPUTING PRIORS\n",
      "COMPUTING CROSS ENTROPIES\n"
     ]
    },
    {
     "name": "stderr",
     "output_type": "stream",
     "text": [
      "\n",
      "100%|██████████| 11/11 [00:00<00:00, 149.03it/s]\u001b[A\n",
      "  0%|          | 0/11 [00:00<?, ?it/s]\u001b[A\n",
      " 36%|███▋      | 4/11 [00:00<00:00, 13.37it/s]s]\u001b[A\n",
      "  0%|          | 0/11 [00:00<?, ?it/s]\u001b[A\n",
      "100%|██████████| 11/11 [00:00<00:00, 149.66it/s]\u001b[A\n",
      "  0%|          | 0/11 [00:00<?, ?it/s]\u001b[A\n",
      " 55%|█████▍    | 6/11 [00:00<00:00, 13.33it/s]s]\u001b[A\n",
      "  0%|          | 0/11 [00:00<?, ?it/s]\u001b[A\n",
      "100%|██████████| 11/11 [00:00<00:00, 148.28it/s]\u001b[A\n",
      "  0%|          | 0/11 [00:00<?, ?it/s]\u001b[A\n",
      " 73%|███████▎  | 8/11 [00:00<00:00, 13.30it/s]s]\u001b[A\n",
      "  0%|          | 0/11 [00:00<?, ?it/s]\u001b[A\n",
      "100%|██████████| 11/11 [00:00<00:00, 150.33it/s]\u001b[A\n",
      "  0%|          | 0/11 [00:00<?, ?it/s]\u001b[A\n",
      " 91%|█████████ | 10/11 [00:00<00:00, 13.29it/s]]\u001b[A\n",
      "  0%|          | 0/11 [00:00<?, ?it/s]\u001b[A\n",
      "100%|██████████| 11/11 [00:00<00:00, 13.27it/s]]\u001b[A\n",
      " 10%|█         | 2/20 [00:00<00:01, 12.28it/s]"
     ]
    },
    {
     "name": "stdout",
     "output_type": "stream",
     "text": [
      "ALLOCATING SAMPLES\n"
     ]
    },
    {
     "name": "stderr",
     "output_type": "stream",
     "text": [
      "100%|██████████| 20/20 [00:01<00:00, 12.78it/s]\n",
      "  0%|          | 0/11 [00:00<?, ?it/s]\n",
      "  0%|          | 0/11 [00:00<?, ?it/s]\u001b[A\n",
      "100%|██████████| 11/11 [00:00<00:00, 149.36it/s]\u001b[A\n",
      "  0%|          | 0/11 [00:00<?, ?it/s]\u001b[A\n",
      " 18%|█▊        | 2/11 [00:00<00:00, 13.32it/s]s]\u001b[A\n",
      "  0%|          | 0/11 [00:00<?, ?it/s]\u001b[A"
     ]
    },
    {
     "name": "stdout",
     "output_type": "stream",
     "text": [
      "[10, 10, 10, 10, 10, 10, 10, 10, 10, 10, 10]\n",
      "[10, 10, 10, 10, 10, 10, 10, 10, 10, 10, 10]\n",
      "[set(), set(), set(), set(), set(), set(), set(), set(), set(), set(), set()]\n",
      "COMPUTING PRIORS\n",
      "COMPUTING CROSS ENTROPIES\n"
     ]
    },
    {
     "name": "stderr",
     "output_type": "stream",
     "text": [
      "\n",
      "100%|██████████| 11/11 [00:00<00:00, 147.43it/s]\u001b[A\n",
      "  0%|          | 0/11 [00:00<?, ?it/s]\u001b[A\n",
      " 36%|███▋      | 4/11 [00:00<00:00, 13.27it/s]s]\u001b[A\n",
      "  0%|          | 0/11 [00:00<?, ?it/s]\u001b[A\n",
      "100%|██████████| 11/11 [00:00<00:00, 148.05it/s]\u001b[A\n",
      "  0%|          | 0/11 [00:00<?, ?it/s]\u001b[A\n",
      " 55%|█████▍    | 6/11 [00:00<00:00, 13.24it/s]s]\u001b[A\n",
      "  0%|          | 0/11 [00:00<?, ?it/s]\u001b[A\n",
      "100%|██████████| 11/11 [00:00<00:00, 150.33it/s]\u001b[A\n",
      "  0%|          | 0/11 [00:00<?, ?it/s]\u001b[A\n",
      " 73%|███████▎  | 8/11 [00:00<00:00, 13.26it/s]s]\u001b[A\n",
      "  0%|          | 0/11 [00:00<?, ?it/s]\u001b[A\n",
      "100%|██████████| 11/11 [00:00<00:00, 148.77it/s]\u001b[A\n",
      "  0%|          | 0/11 [00:00<?, ?it/s]\u001b[A\n",
      " 91%|█████████ | 10/11 [00:00<00:00, 13.25it/s]]\u001b[A\n",
      "  0%|          | 0/11 [00:00<?, ?it/s]\u001b[A\n",
      "100%|██████████| 11/11 [00:00<00:00, 13.23it/s]]\u001b[A\n",
      " 10%|█         | 2/20 [00:00<00:01, 12.24it/s]"
     ]
    },
    {
     "name": "stdout",
     "output_type": "stream",
     "text": [
      "ALLOCATING SAMPLES\n"
     ]
    },
    {
     "name": "stderr",
     "output_type": "stream",
     "text": [
      "100%|██████████| 20/20 [00:01<00:00, 12.82it/s]\n",
      "  0%|          | 0/11 [00:00<?, ?it/s]\n",
      "  0%|          | 0/11 [00:00<?, ?it/s]\u001b[A\n",
      "100%|██████████| 11/11 [00:00<00:00, 150.21it/s]\u001b[A\n",
      "  0%|          | 0/11 [00:00<?, ?it/s]\u001b[A\n",
      " 18%|█▊        | 2/11 [00:00<00:00, 13.37it/s]s]\u001b[A\n",
      "  0%|          | 0/11 [00:00<?, ?it/s]\u001b[A"
     ]
    },
    {
     "name": "stdout",
     "output_type": "stream",
     "text": [
      "[10, 10, 10, 10, 10, 10, 10, 10, 10, 10, 10]\n",
      "[10, 10, 10, 10, 10, 10, 10, 10, 10, 10, 10]\n",
      "[set(), set(), set(), set(), set(), set(), set(), set(), set(), set(), set()]\n",
      "COMPUTING PRIORS\n",
      "COMPUTING CROSS ENTROPIES\n"
     ]
    },
    {
     "name": "stderr",
     "output_type": "stream",
     "text": [
      "\n",
      "100%|██████████| 11/11 [00:00<00:00, 147.22it/s]\u001b[A\n",
      "  0%|          | 0/11 [00:00<?, ?it/s]\u001b[A\n",
      " 36%|███▋      | 4/11 [00:00<00:00, 13.31it/s]s]\u001b[A\n",
      "  0%|          | 0/11 [00:00<?, ?it/s]\u001b[A\n",
      "100%|██████████| 11/11 [00:00<00:00, 147.53it/s]\u001b[A\n",
      "  0%|          | 0/11 [00:00<?, ?it/s]\u001b[A\n",
      " 55%|█████▍    | 6/11 [00:00<00:00, 13.26it/s]s]\u001b[A\n",
      "  0%|          | 0/11 [00:00<?, ?it/s]\u001b[A\n",
      "100%|██████████| 11/11 [00:00<00:00, 147.55it/s]\u001b[A\n",
      "  0%|          | 0/11 [00:00<?, ?it/s]\u001b[A\n",
      " 73%|███████▎  | 8/11 [00:00<00:00, 13.21it/s]s]\u001b[A\n",
      "  0%|          | 0/11 [00:00<?, ?it/s]\u001b[A\n",
      "100%|██████████| 11/11 [00:00<00:00, 150.22it/s]\u001b[A\n",
      "  0%|          | 0/11 [00:00<?, ?it/s]\u001b[A\n",
      " 91%|█████████ | 10/11 [00:00<00:00, 13.24it/s]]\u001b[A\n",
      "  0%|          | 0/11 [00:00<?, ?it/s]\u001b[A\n",
      "100%|██████████| 11/11 [00:00<00:00, 13.20it/s]]\u001b[A\n",
      " 20%|██        | 4/20 [00:00<00:01, 12.35it/s]"
     ]
    },
    {
     "name": "stdout",
     "output_type": "stream",
     "text": [
      "ALLOCATING SAMPLES\n"
     ]
    },
    {
     "name": "stderr",
     "output_type": "stream",
     "text": [
      "100%|██████████| 20/20 [00:01<00:00, 12.63it/s]\n",
      "  0%|          | 0/11 [00:00<?, ?it/s]\n",
      "  0%|          | 0/11 [00:00<?, ?it/s]\u001b[A\n",
      "100%|██████████| 11/11 [00:00<00:00, 150.89it/s]\u001b[A\n",
      "  0%|          | 0/11 [00:00<?, ?it/s]\u001b[A\n",
      " 18%|█▊        | 2/11 [00:00<00:00, 13.42it/s]s]\u001b[A\n",
      "  0%|          | 0/11 [00:00<?, ?it/s]\u001b[A"
     ]
    },
    {
     "name": "stdout",
     "output_type": "stream",
     "text": [
      "[10, 10, 10, 10, 10, 10, 10, 10, 10, 10, 10]\n",
      "[10, 10, 10, 10, 10, 10, 10, 10, 10, 10, 10]\n",
      "[set(), set(), set(), set(), set(), set(), set(), set(), set(), set(), set()]\n",
      "COMPUTING PRIORS\n",
      "COMPUTING CROSS ENTROPIES\n"
     ]
    },
    {
     "name": "stderr",
     "output_type": "stream",
     "text": [
      "\n",
      "100%|██████████| 11/11 [00:00<00:00, 146.46it/s]\u001b[A\n",
      "  0%|          | 0/11 [00:00<?, ?it/s]\u001b[A\n",
      " 36%|███▋      | 4/11 [00:00<00:00, 13.34it/s]s]\u001b[A\n",
      "  0%|          | 0/11 [00:00<?, ?it/s]\u001b[A\n",
      "100%|██████████| 11/11 [00:00<00:00, 148.83it/s]\u001b[A\n",
      "  0%|          | 0/11 [00:00<?, ?it/s]\u001b[A\n",
      " 55%|█████▍    | 6/11 [00:00<00:00, 13.32it/s]s]\u001b[A\n",
      "  0%|          | 0/11 [00:00<?, ?it/s]\u001b[A\n",
      "100%|██████████| 11/11 [00:00<00:00, 147.84it/s]\u001b[A\n",
      "  0%|          | 0/11 [00:00<?, ?it/s]\u001b[A\n",
      " 73%|███████▎  | 8/11 [00:00<00:00, 13.30it/s]s]\u001b[A\n",
      "  0%|          | 0/11 [00:00<?, ?it/s]\u001b[A\n",
      "100%|██████████| 11/11 [00:00<00:00, 148.52it/s]\u001b[A\n",
      "  0%|          | 0/11 [00:00<?, ?it/s]\u001b[A\n",
      " 91%|█████████ | 10/11 [00:00<00:00, 13.25it/s]]\u001b[A\n",
      "  0%|          | 0/11 [00:00<?, ?it/s]\u001b[A\n",
      "100%|██████████| 11/11 [00:00<00:00, 13.24it/s]]\u001b[A\n",
      " 10%|█         | 2/20 [00:00<00:01, 12.16it/s]"
     ]
    },
    {
     "name": "stdout",
     "output_type": "stream",
     "text": [
      "ALLOCATING SAMPLES\n"
     ]
    },
    {
     "name": "stderr",
     "output_type": "stream",
     "text": [
      "100%|██████████| 20/20 [00:01<00:00, 12.82it/s]\n",
      "  0%|          | 0/11 [00:00<?, ?it/s]\n",
      "  0%|          | 0/11 [00:00<?, ?it/s]\u001b[A\n",
      "100%|██████████| 11/11 [00:00<00:00, 150.92it/s]\u001b[A\n",
      "  0%|          | 0/11 [00:00<?, ?it/s]\u001b[A\n",
      " 18%|█▊        | 2/11 [00:00<00:00, 13.40it/s]s]\u001b[A\n",
      "  0%|          | 0/11 [00:00<?, ?it/s]\u001b[A"
     ]
    },
    {
     "name": "stdout",
     "output_type": "stream",
     "text": [
      "[10, 10, 10, 10, 10, 10, 10, 10, 10, 10, 10]\n",
      "[10, 10, 10, 10, 10, 10, 10, 10, 10, 10, 10]\n",
      "[set(), set(), set(), set(), set(), set(), set(), set(), set(), set(), set()]\n",
      "COMPUTING PRIORS\n",
      "COMPUTING CROSS ENTROPIES\n"
     ]
    },
    {
     "name": "stderr",
     "output_type": "stream",
     "text": [
      "\n",
      "100%|██████████| 11/11 [00:00<00:00, 146.39it/s]\u001b[A\n",
      "  0%|          | 0/11 [00:00<?, ?it/s]\u001b[A\n",
      " 36%|███▋      | 4/11 [00:00<00:00, 13.31it/s]s]\u001b[A\n",
      "  0%|          | 0/11 [00:00<?, ?it/s]\u001b[A\n",
      "100%|██████████| 11/11 [00:00<00:00, 148.80it/s]\u001b[A\n",
      "  0%|          | 0/11 [00:00<?, ?it/s]\u001b[A\n",
      " 55%|█████▍    | 6/11 [00:00<00:00, 13.28it/s]s]\u001b[A\n",
      "  0%|          | 0/11 [00:00<?, ?it/s]\u001b[A\n",
      "100%|██████████| 11/11 [00:00<00:00, 150.58it/s]\u001b[A\n",
      "  0%|          | 0/11 [00:00<?, ?it/s]\u001b[A\n",
      " 73%|███████▎  | 8/11 [00:00<00:00, 13.28it/s]s]\u001b[A\n",
      "  0%|          | 0/11 [00:00<?, ?it/s]\u001b[A\n",
      "100%|██████████| 11/11 [00:00<00:00, 149.16it/s]\u001b[A\n",
      "  0%|          | 0/11 [00:00<?, ?it/s]\u001b[A\n",
      " 91%|█████████ | 10/11 [00:00<00:00, 13.26it/s]]\u001b[A\n",
      "  0%|          | 0/11 [00:00<?, ?it/s]\u001b[A\n",
      "100%|██████████| 11/11 [00:00<00:00, 13.24it/s]]\u001b[A\n",
      " 10%|█         | 2/20 [00:00<00:01, 12.30it/s]"
     ]
    },
    {
     "name": "stdout",
     "output_type": "stream",
     "text": [
      "ALLOCATING SAMPLES\n"
     ]
    },
    {
     "name": "stderr",
     "output_type": "stream",
     "text": [
      "100%|██████████| 20/20 [00:01<00:00, 12.83it/s]\n",
      "  0%|          | 0/11 [00:00<?, ?it/s]\n",
      "  0%|          | 0/11 [00:00<?, ?it/s]\u001b[A\n",
      "100%|██████████| 11/11 [00:00<00:00, 150.63it/s]\u001b[A\n",
      "  0%|          | 0/11 [00:00<?, ?it/s]\u001b[A\n",
      " 18%|█▊        | 2/11 [00:00<00:00, 13.38it/s]s]\u001b[A\n",
      "  0%|          | 0/11 [00:00<?, ?it/s]\u001b[A"
     ]
    },
    {
     "name": "stdout",
     "output_type": "stream",
     "text": [
      "[10, 10, 10, 10, 10, 10, 10, 10, 10, 10, 10]\n",
      "[10, 10, 10, 10, 10, 10, 10, 10, 10, 10, 10]\n",
      "[set(), set(), set(), set(), set(), set(), set(), set(), set(), set(), set()]\n",
      "COMPUTING PRIORS\n",
      "COMPUTING CROSS ENTROPIES\n"
     ]
    },
    {
     "name": "stderr",
     "output_type": "stream",
     "text": [
      "\n",
      "100%|██████████| 11/11 [00:00<00:00, 145.55it/s]\u001b[A\n",
      "  0%|          | 0/11 [00:00<?, ?it/s]\u001b[A\n",
      " 36%|███▋      | 4/11 [00:00<00:00, 13.28it/s]s]\u001b[A\n",
      "  0%|          | 0/11 [00:00<?, ?it/s]\u001b[A\n",
      "100%|██████████| 11/11 [00:00<00:00, 148.98it/s]\u001b[A\n",
      "  0%|          | 0/11 [00:00<?, ?it/s]\u001b[A\n",
      " 55%|█████▍    | 6/11 [00:00<00:00, 13.26it/s]s]\u001b[A\n",
      "  0%|          | 0/11 [00:00<?, ?it/s]\u001b[A\n",
      "100%|██████████| 11/11 [00:00<00:00, 150.07it/s]\u001b[A\n",
      "  0%|          | 0/11 [00:00<?, ?it/s]\u001b[A\n",
      " 73%|███████▎  | 8/11 [00:00<00:00, 13.27it/s]s]\u001b[A\n",
      "  0%|          | 0/11 [00:00<?, ?it/s]\u001b[A\n",
      "100%|██████████| 11/11 [00:00<00:00, 149.42it/s]\u001b[A\n",
      "  0%|          | 0/11 [00:00<?, ?it/s]\u001b[A\n",
      " 91%|█████████ | 10/11 [00:00<00:00, 13.27it/s]]\u001b[A\n",
      "  0%|          | 0/11 [00:00<?, ?it/s]\u001b[A\n",
      "100%|██████████| 11/11 [00:00<00:00, 13.23it/s]]\u001b[A\n",
      " 10%|█         | 2/20 [00:00<00:01, 12.14it/s]"
     ]
    },
    {
     "name": "stdout",
     "output_type": "stream",
     "text": [
      "ALLOCATING SAMPLES\n"
     ]
    },
    {
     "name": "stderr",
     "output_type": "stream",
     "text": [
      "100%|██████████| 20/20 [00:01<00:00, 12.27it/s]\n",
      "  0%|          | 0/11 [00:00<?, ?it/s]\n",
      "  0%|          | 0/11 [00:00<?, ?it/s]\u001b[A\n",
      "100%|██████████| 11/11 [00:00<00:00, 149.78it/s]\u001b[A\n",
      "  0%|          | 0/11 [00:00<?, ?it/s]\u001b[A\n",
      " 18%|█▊        | 2/11 [00:00<00:00, 13.25it/s]s]\u001b[A\n",
      "  0%|          | 0/11 [00:00<?, ?it/s]\u001b[A"
     ]
    },
    {
     "name": "stdout",
     "output_type": "stream",
     "text": [
      "[10, 10, 10, 10, 10, 10, 10, 10, 10, 10, 10]\n",
      "[10, 10, 10, 10, 10, 10, 10, 10, 10, 10, 10]\n",
      "[set(), set(), set(), set(), set(), set(), set(), set(), set(), set(), set()]\n",
      "COMPUTING PRIORS\n",
      "COMPUTING CROSS ENTROPIES\n"
     ]
    },
    {
     "name": "stderr",
     "output_type": "stream",
     "text": [
      "\n",
      "100%|██████████| 11/11 [00:00<00:00, 146.34it/s]\u001b[A\n",
      "  0%|          | 0/11 [00:00<?, ?it/s]\u001b[A\n",
      " 36%|███▋      | 4/11 [00:00<00:00, 13.20it/s]s]\u001b[A\n",
      "  0%|          | 0/11 [00:00<?, ?it/s]\u001b[A\n",
      "100%|██████████| 11/11 [00:00<00:00, 148.94it/s]\u001b[A\n",
      "  0%|          | 0/11 [00:00<?, ?it/s]\u001b[A\n",
      " 55%|█████▍    | 6/11 [00:00<00:00, 13.22it/s]s]\u001b[A\n",
      "  0%|          | 0/11 [00:00<?, ?it/s]\u001b[A\n",
      "100%|██████████| 11/11 [00:00<00:00, 149.21it/s]\u001b[A\n",
      "  0%|          | 0/11 [00:00<?, ?it/s]\u001b[A\n",
      " 73%|███████▎  | 8/11 [00:00<00:00, 13.22it/s]s]\u001b[A\n",
      "  0%|          | 0/11 [00:00<?, ?it/s]\u001b[A\n",
      "100%|██████████| 11/11 [00:00<00:00, 149.16it/s]\u001b[A\n",
      "  0%|          | 0/11 [00:00<?, ?it/s]\u001b[A\n",
      " 91%|█████████ | 10/11 [00:00<00:00, 13.21it/s]]\u001b[A\n",
      "  0%|          | 0/11 [00:00<?, ?it/s]\u001b[A\n",
      "100%|██████████| 11/11 [00:00<00:00, 13.19it/s]]\u001b[A\n",
      " 10%|█         | 2/20 [00:00<00:01, 12.41it/s]"
     ]
    },
    {
     "name": "stdout",
     "output_type": "stream",
     "text": [
      "ALLOCATING SAMPLES\n"
     ]
    },
    {
     "name": "stderr",
     "output_type": "stream",
     "text": [
      "100%|██████████| 20/20 [00:01<00:00, 12.71it/s]\n",
      "  0%|          | 0/11 [00:00<?, ?it/s]\n",
      "  0%|          | 0/11 [00:00<?, ?it/s]\u001b[A\n",
      "100%|██████████| 11/11 [00:00<00:00, 149.39it/s]\u001b[A\n",
      "  0%|          | 0/11 [00:00<?, ?it/s]\u001b[A\n",
      " 18%|█▊        | 2/11 [00:00<00:00, 13.23it/s]s]\u001b[A\n",
      "  0%|          | 0/11 [00:00<?, ?it/s]\u001b[A"
     ]
    },
    {
     "name": "stdout",
     "output_type": "stream",
     "text": [
      "[10, 10, 10, 10, 10, 10, 10, 10, 10, 10, 10]\n",
      "[10, 10, 10, 10, 10, 10, 10, 10, 10, 10, 10]\n",
      "[set(), set(), set(), set(), set(), set(), set(), set(), set(), set(), set()]\n",
      "COMPUTING PRIORS\n",
      "COMPUTING CROSS ENTROPIES\n"
     ]
    },
    {
     "name": "stderr",
     "output_type": "stream",
     "text": [
      "\n",
      "100%|██████████| 11/11 [00:00<00:00, 147.92it/s]\u001b[A\n",
      "  0%|          | 0/11 [00:00<?, ?it/s]\u001b[A\n",
      " 36%|███▋      | 4/11 [00:00<00:00, 13.21it/s]s]\u001b[A\n",
      "  0%|          | 0/11 [00:00<?, ?it/s]\u001b[A\n",
      "100%|██████████| 11/11 [00:00<00:00, 150.13it/s]\u001b[A\n",
      "  0%|          | 0/11 [00:00<?, ?it/s]\u001b[A\n",
      " 55%|█████▍    | 6/11 [00:00<00:00, 13.24it/s]s]\u001b[A\n",
      "  0%|          | 0/11 [00:00<?, ?it/s]\u001b[A\n",
      "100%|██████████| 11/11 [00:00<00:00, 149.12it/s]\u001b[A\n",
      "  0%|          | 0/11 [00:00<?, ?it/s]\u001b[A\n",
      " 73%|███████▎  | 8/11 [00:00<00:00, 13.25it/s]s]\u001b[A\n",
      "  0%|          | 0/11 [00:00<?, ?it/s]\u001b[A\n",
      "100%|██████████| 11/11 [00:00<00:00, 149.78it/s]\u001b[A\n",
      "  0%|          | 0/11 [00:00<?, ?it/s]\u001b[A\n",
      " 91%|█████████ | 10/11 [00:00<00:00, 13.25it/s]]\u001b[A\n",
      "  0%|          | 0/11 [00:00<?, ?it/s]\u001b[A\n",
      "100%|██████████| 11/11 [00:00<00:00, 13.24it/s]]\u001b[A\n",
      " 10%|█         | 2/20 [00:00<00:01, 12.41it/s]"
     ]
    },
    {
     "name": "stdout",
     "output_type": "stream",
     "text": [
      "ALLOCATING SAMPLES\n"
     ]
    },
    {
     "name": "stderr",
     "output_type": "stream",
     "text": [
      "100%|██████████| 20/20 [00:01<00:00, 12.59it/s]\n",
      "  0%|          | 0/11 [00:00<?, ?it/s]\n",
      "  0%|          | 0/11 [00:00<?, ?it/s]\u001b[A\n",
      "100%|██████████| 11/11 [00:00<00:00, 150.87it/s]\u001b[A\n",
      "  0%|          | 0/11 [00:00<?, ?it/s]\u001b[A\n",
      " 18%|█▊        | 2/11 [00:00<00:00, 13.40it/s]s]\u001b[A\n",
      "  0%|          | 0/11 [00:00<?, ?it/s]\u001b[A"
     ]
    },
    {
     "name": "stdout",
     "output_type": "stream",
     "text": [
      "[10, 10, 10, 10, 10, 10, 10, 10, 10, 10, 10]\n",
      "[10, 10, 10, 10, 10, 10, 10, 10, 10, 10, 10]\n",
      "[set(), set(), set(), set(), set(), set(), set(), set(), set(), set(), set()]\n",
      "COMPUTING PRIORS\n",
      "COMPUTING CROSS ENTROPIES\n"
     ]
    },
    {
     "name": "stderr",
     "output_type": "stream",
     "text": [
      "\n",
      "100%|██████████| 11/11 [00:00<00:00, 147.55it/s]\u001b[A\n",
      "  0%|          | 0/11 [00:00<?, ?it/s]\u001b[A\n",
      " 36%|███▋      | 4/11 [00:00<00:00, 13.33it/s]s]\u001b[A\n",
      "  0%|          | 0/11 [00:00<?, ?it/s]\u001b[A\n",
      "100%|██████████| 11/11 [00:00<00:00, 149.77it/s]\u001b[A\n",
      "  0%|          | 0/11 [00:00<?, ?it/s]\u001b[A\n",
      " 55%|█████▍    | 6/11 [00:00<00:00, 13.31it/s]s]\u001b[A\n",
      "  0%|          | 0/11 [00:00<?, ?it/s]\u001b[A\n",
      "100%|██████████| 11/11 [00:00<00:00, 148.48it/s]\u001b[A\n",
      "  0%|          | 0/11 [00:00<?, ?it/s]\u001b[A\n",
      " 73%|███████▎  | 8/11 [00:00<00:00, 13.29it/s]s]\u001b[A\n",
      "  0%|          | 0/11 [00:00<?, ?it/s]\u001b[A\n",
      "100%|██████████| 11/11 [00:00<00:00, 148.28it/s]\u001b[A\n",
      "  0%|          | 0/11 [00:00<?, ?it/s]\u001b[A\n",
      " 91%|█████████ | 10/11 [00:00<00:00, 13.29it/s]]\u001b[A\n",
      "  0%|          | 0/11 [00:00<?, ?it/s]\u001b[A\n",
      "100%|██████████| 11/11 [00:00<00:00, 13.26it/s]]\u001b[A\n",
      " 10%|█         | 2/20 [00:00<00:01, 12.40it/s]"
     ]
    },
    {
     "name": "stdout",
     "output_type": "stream",
     "text": [
      "ALLOCATING SAMPLES\n"
     ]
    },
    {
     "name": "stderr",
     "output_type": "stream",
     "text": [
      "100%|██████████| 20/20 [00:01<00:00, 12.90it/s]\n",
      "  0%|          | 0/11 [00:00<?, ?it/s]\n",
      "  0%|          | 0/11 [00:00<?, ?it/s]\u001b[A\n",
      "100%|██████████| 11/11 [00:00<00:00, 151.64it/s]\u001b[A\n",
      "  0%|          | 0/11 [00:00<?, ?it/s]\u001b[A\n",
      " 18%|█▊        | 2/11 [00:00<00:00, 13.43it/s]s]\u001b[A\n",
      "  0%|          | 0/11 [00:00<?, ?it/s]\u001b[A"
     ]
    },
    {
     "name": "stdout",
     "output_type": "stream",
     "text": [
      "[10, 10, 10, 10, 10, 10, 10, 10, 10, 10, 10]\n",
      "[10, 10, 10, 10, 10, 10, 10, 10, 10, 10, 10]\n",
      "[set(), set(), set(), set(), set(), set(), set(), set(), set(), set(), set()]\n",
      "COMPUTING PRIORS\n",
      "COMPUTING CROSS ENTROPIES\n"
     ]
    },
    {
     "name": "stderr",
     "output_type": "stream",
     "text": [
      "\n",
      "100%|██████████| 11/11 [00:00<00:00, 147.63it/s]\u001b[A\n",
      "  0%|          | 0/11 [00:00<?, ?it/s]\u001b[A\n",
      " 36%|███▋      | 4/11 [00:00<00:00, 13.36it/s]s]\u001b[A\n",
      "  0%|          | 0/11 [00:00<?, ?it/s]\u001b[A\n",
      "100%|██████████| 11/11 [00:00<00:00, 148.45it/s]\u001b[A\n",
      "  0%|          | 0/11 [00:00<?, ?it/s]\u001b[A\n",
      " 55%|█████▍    | 6/11 [00:00<00:00, 13.32it/s]s]\u001b[A\n",
      "  0%|          | 0/11 [00:00<?, ?it/s]\u001b[A\n",
      "100%|██████████| 11/11 [00:00<00:00, 149.36it/s]\u001b[A\n",
      "  0%|          | 0/11 [00:00<?, ?it/s]\u001b[A\n",
      " 73%|███████▎  | 8/11 [00:00<00:00, 13.30it/s]s]\u001b[A\n",
      "  0%|          | 0/11 [00:00<?, ?it/s]\u001b[A\n",
      "100%|██████████| 11/11 [00:00<00:00, 148.63it/s]\u001b[A\n",
      "  0%|          | 0/11 [00:00<?, ?it/s]\u001b[A\n",
      " 91%|█████████ | 10/11 [00:00<00:00, 13.27it/s]]\u001b[A\n",
      "  0%|          | 0/11 [00:00<?, ?it/s]\u001b[A\n",
      "100%|██████████| 11/11 [00:00<00:00, 13.25it/s]]\u001b[A\n",
      " 10%|█         | 2/20 [00:00<00:01, 12.32it/s]"
     ]
    },
    {
     "name": "stdout",
     "output_type": "stream",
     "text": [
      "ALLOCATING SAMPLES\n"
     ]
    },
    {
     "name": "stderr",
     "output_type": "stream",
     "text": [
      "100%|██████████| 20/20 [00:01<00:00, 12.65it/s]\n"
     ]
    }
   ],
   "source": [
    "info_datas = []\n",
    "all_selected_ivs = []\n",
    "for i in range(num_runs):\n",
    "    selected_ivs = info_strat(iteration_data_info_strat)\n",
    "    all_selected_ivs.append(selected_ivs)\n",
    "    data = {\n",
    "        iv: gdag.sample_interventional({iv: interventions[intervention_nodes.index(iv)]}, samples) \n",
    "        for iv, samples in selected_ivs.items()\n",
    "    }\n",
    "    data[-1] = obs_samples\n",
    "    info_datas.append(data)"
   ]
  },
  {
   "cell_type": "markdown",
   "metadata": {},
   "source": [
    "### Random"
   ]
  },
  {
   "cell_type": "code",
   "execution_count": 14,
   "metadata": {},
   "outputs": [],
   "source": [
    "random_datas = []\n",
    "for i in range(num_runs):\n",
    "    random_interventions = random_strategy(iteration_data_random)\n",
    "    random_data = {\n",
    "        iv: gdag.sample_interventional({iv: interventions[intervention_nodes.index(iv)]}, samples) \n",
    "        for iv, samples in random_interventions.items()\n",
    "    }\n",
    "    random_data[-1] = obs_samples\n",
    "    random_datas.append(random_data)"
   ]
  },
  {
   "cell_type": "markdown",
   "metadata": {},
   "source": [
    "# Compute Posteriors"
   ]
  },
  {
   "cell_type": "markdown",
   "metadata": {},
   "source": [
    "### Information Gain"
   ]
  },
  {
   "cell_type": "code",
   "execution_count": 15,
   "metadata": {},
   "outputs": [],
   "source": [
    "posteriors_info = [\n",
    "    dag_posterior(mec_gauss, data, intervention_nodes, interventions) \n",
    "    for data in info_datas\n",
    "]"
   ]
  },
  {
   "cell_type": "markdown",
   "metadata": {},
   "source": [
    "### Random"
   ]
  },
  {
   "cell_type": "code",
   "execution_count": 16,
   "metadata": {},
   "outputs": [],
   "source": [
    "posteriors_random = [\n",
    "    dag_posterior(mec_gauss, data, intervention_nodes, interventions) \n",
    "    for data in random_datas\n",
    "]"
   ]
  },
  {
   "cell_type": "markdown",
   "metadata": {},
   "source": [
    "# Compute Performance"
   ]
  },
  {
   "cell_type": "code",
   "execution_count": 17,
   "metadata": {},
   "outputs": [],
   "source": [
    "def pdfs2ent(pdfs):\n",
    "    plogps = np.zeros(len(pdfs))\n",
    "    mask = pdfs != 0\n",
    "    plogps[mask] = pdfs[mask] * np.log2(pdfs[mask])\n",
    "    return -plogps.sum()"
   ]
  },
  {
   "cell_type": "code",
   "execution_count": 18,
   "metadata": {},
   "outputs": [],
   "source": [
    "entropies_info = [pdfs2ent(post) for post in posteriors_info]\n",
    "entropies_random = [pdfs2ent(post) for post in posteriors_random]"
   ]
  },
  {
   "cell_type": "markdown",
   "metadata": {},
   "source": [
    "# Plot Performance"
   ]
  },
  {
   "cell_type": "code",
   "execution_count": 19,
   "metadata": {},
   "outputs": [],
   "source": [
    "import matplotlib.pyplot as plt\n",
    "%matplotlib inline\n",
    "import seaborn as sns\n",
    "sns.set()"
   ]
  },
  {
   "cell_type": "code",
   "execution_count": 20,
   "metadata": {},
   "outputs": [
    {
     "data": {
      "image/png": "[encoded data removed]",
      "text/plain": [
       "<matplotlib.figure.Figure at 0x7ff76e57a048>"
      ]
     },
     "metadata": {
      "needs_background": "light"
     },
     "output_type": "display_data"
    }
   ],
   "source": [
    "plt.boxplot([entropies_random, entropies_info], positions=[1, 2]);\n",
    "plt.gca().set_xticklabels(['Random', 'Information Gain']);\n",
    "plt.axhline(np.log2(len(mec))) # Original Entropy\n",
    "plt.ylabel('Entropy of MEC');\n",
    "fn = 'fig1_boxplot_simple_max_interventions=%s_nsamples=%s.png' % (max_interventions, nsamples)\n",
    "plt.savefig(os.path.join(FIGURES_FOLDER, fn));"
   ]
  },
  {
   "cell_type": "code",
   "execution_count": null,
   "metadata": {},
   "outputs": [],
   "source": []
  }
 ],
 "metadata": {
  "kernelspec": {
   "display_name": "Python 3",
   "language": "python",
   "name": "python3"
  },
  "language_info": {
   "codemirror_mode": {
    "name": "ipython",
    "version": 3
   },
   "file_extension": ".py",
   "mimetype": "text/x-python",
   "name": "python",
   "nbconvert_exporter": "python",
   "pygments_lexer": "ipython3",
   "version": "3.6.5"
  }
 },
 "nbformat": 4,
 "nbformat_minor": 2
}
