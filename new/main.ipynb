{
 "cells": [
  {
   "cell_type": "code",
   "execution_count": 1,
   "metadata": {},
   "outputs": [],
   "source": [
    "from strategies import random_nodes, learn_target_parents, edge_prob\n",
    "import matplotlib.pyplot as plt\n",
    "import seaborn as sns\n",
    "import numpy as np\n",
    "import os\n",
    "from config import DATA_FOLDER\n",
    "from strategies.simulator import GenerationConfig, SimulationConfig, simulate\n",
    "from analysis.check_gies import check_gies\n",
    "%matplotlib inline\n",
    "sns.set()\n",
    "np.random.seed(1729)"
   ]
  },
  {
   "cell_type": "code",
   "execution_count": 2,
   "metadata": {},
   "outputs": [],
   "source": [
    "N_NODES = 50\n",
    "DAG_FOLDER = os.path.join(DATA_FOLDER, 'medium')\n",
    "STRATEGIES = {\n",
    "    'random': random_nodes.random_strategy,\n",
    "    'learn-parents': learn_target_parents.create_learn_target_parents(N_NODES - 1, 100),\n",
    "    'edge-prob': edge_prob.create_edge_prob_strategy(N_NODES-3, 100)\n",
    "}"
   ]
  },
  {
   "cell_type": "markdown",
   "metadata": {},
   "source": [
    "### Generate and save DAGs"
   ]
  },
  {
   "cell_type": "code",
   "execution_count": 3,
   "metadata": {},
   "outputs": [
    {
     "name": "stdout",
     "output_type": "stream",
     "text": [
      "=== Saving DAGs ===\n",
      "=== Saved ===\n"
     ]
    }
   ],
   "source": [
    "G_CONFIG = GenerationConfig(\n",
    "    n_nodes=N_NODES,\n",
    "    edge_prob=.5,\n",
    "    n_dags=3\n",
    ")\n",
    "gdags = G_CONFIG.save_dags(DAG_FOLDER)"
   ]
  },
  {
   "cell_type": "code",
   "execution_count": 4,
   "metadata": {},
   "outputs": [
    {
     "data": {
      "text/plain": [
       "['[1][3|1][2|1][8|2,3][0][6|0,1][5|0,1,3][4|0,1,3][10|0,4,5,6,8][11|1,2,5,6,8,10][13|0,2,3,8,10,11][7|2,3,4,6][9|0,4,6,7][12|0,1,3,6,7,8,9][14|1,6,9,10,11,12][15|1,2,3,4,5,6,7,8,10,11,14][18|0,1,3,5,6,7,9,10,11,12,13,14][17|0,2,3,7,9,10,12,14][16|0,1,3,4,7,10,11,14][19|0,1,2,3,4,7,9,16,18][20|0,2,5,8,10,16,18,19][26|5,6,8,10,11,12,14,15,16,20][22|0,1,3,4,8,9,10,11,13,16,17,20][24|1,3,4,5,6,8,16,17,20,22][21|1,2,3,9,10,12,13,15,16,19,20][25|3,5,6,10,11,13,16,17,20,21,24][28|1,3,7,8,12,15,17,19,22,24,25][23|1,2,4,5,6,7,8,12,14,15,17,21,22][27|2,3,4,7,8,13,16,18,20,21,23,25,26][30|4,5,7,8,9,10,12,13,14,15,18,19,20,22,23,25,26,27,28][29|3,8,10,16,18,19,20,21,22,23,25,27][31|0,1,4,5,8,10,11,13,15,16,19,21,29,30][32|1,2,3,5,6,14,15,19,21,25,27,28,29,30][33|0,1,2,3,4,32,6,8,9,12,14,17,19,20,22,23,26,31][35|0,33,1,2,4,8,10,12,13,17,18,19,21,24][36|0,33,2,35,32,3,6,5,8,9,10,1,15,18,20,22,24,25][37|1,2,33,4,5,7,8,9,12,14,15,16,18,19,20,24,26,27,29][34|32,4,5,6,7,8,10,11,13,14,15,16,18,20,21,23,24,25,26,31][39|34,4,6,7,10,14,16,18,20,21,23,24,25,26][38|0,33,2,34,4,5,7,8,9,14,17,18,20,21,23,30][40|32,33,2,38,7,9,12,13,17,18,20,22][45|0,1,2,4,5,8,10,11,13,14,15,16,17,18,19,20,22,23,24,25,28,30,31,35,36,37,40][44|1,2,3,4,6,8,9,12,13,16,18,23,24,25,27,30,31,32,33,34,35,36,37,38,39,40][41|32,34,2,5,37,39,40,9,15,16,18,19,20,23,24,30][46|5,7,10,11,12,14,16,17,21,22,24,26,28,29,32,34,35,37,39,40,41,44][42|1,3,6,7,9,11,12,13,14,15,17,20,21,22,23,26,27,28,30,32,33,35,36,38,39,41][47|0,1,2,3,8,9,10,11,14,15,17,21,23,24,29,31,32,34,35,36,37,38,40,42,45][43|0,34,35,3,4,38,39,40,42,11,14,17,24,25,27,29,30][48|0,2,3,5,6,8,9,11,13,15,20,22,23,26,29,32,35,38,39,42,43,44,45,46][49|3,5,11,12,14,17,19,23,26,27,28,29,30,34,36,37,38,41,42,45,46,48]',\n",
       " '[1][3|1][5|3][2|1][4|2,3][0][6|0,3,4][8|0,6][7|0,1,3,5,6][9|3,5,6,7][13|8,1,9,6][11|2,3,4,6,8,9][10|2,3,4,8,9][14|1,5,7,9,10,13][15|3,6,9,13,14][17|0,1,3,7,8,10,13,15][12|0,1,2,4,5,7,8,10,11][18|1,3,5,6,12,13,14][16|1,5,6,7,9,10,11,12,14][19|0,1,2,3,4,6,7,8,10,11,12,13,16,17][20|1,2,4,5,7,9,10,12,15,17,19][22|1,2,5,9,12,14,19,20][21|5,7,14,15,17,19,20][23|3,5,6,10,11,12,13,14,21][24|3,4,7,12,13,20,21,23][25|0,1,2,5,7,9,11,16,17,18,21,22,24][27|1,2,3,4,8,11,12,14,15,17,18,20,22,23,25][30|0,3,4,5,7,8,9,12,13,16,18,19,23,24,27][26|1,3,4,5,7,8,10,11,13,16,18,19,21,22,24,25][29|0,2,3,4,6,9,10,12,13,14,16,17,18,20,24,26,27][28|0,3,4,7,8,9,10,14,17,18,19,20,23,24,25,26,27][31|0,1,2,6,9,11,12,14,16,18,22,25,28,30][32|1,2,9,12,14,15,18,21,23,24,26,27,29,31][33|0,1,2,3,5,7,8,10,14,18,19,20,22,24,26,30][34|33,2,1,3,8,9,11,12,13,14,15,17,18,19,20,22,23,26,28][36|0,33,32,3,34,9,11,13,16,18,19,22,23,24,26,30][37|32,1,34,3,36,5,2,6,9,17,25,27,29][35|33,34,3,1,7,8,16,17,21,24,25,26,28,30][41|32,33,34,35,3,1,2,0,7,9,10,14,15,16,17,18,23,24,31][38|1,2,3,4,5,8,10,14,15,16,19,20,21,22,23,25,26,27,30,33,35][39|1,33,35,5,38,37,11,14,15,16,21,23,25,26,27,30][43|33,2,34,5,37,39,6,41,10,13,15,18,19,20,21,22,24,27,30,31][40|0,1,2,3,6,7,8,10,14,15,19,20,21,23,24,25,26,27,28,29,30,33,34,37,39][44|32,34,3,36,4,2,7,40,39,6,35,11,13,15,18,19,22,25,28][46|4,5,6,7,9,11,12,14,15,16,18,19,21,24,26,31,32,33,34,35,36,37,38,39,43,44][45|0,1,2,3,6,10,11,13,14,15,16,18,19,20,22,24,25,26,27,28,30,31,32,33,36,38,40,41,44][42|0,3,4,8,9,11,12,13,15,16,17,19,20,21,24,25,26,27,28,30,31,32,34,35,38,39,40,41][47|0,1,2,3,4,5,7,9,10,12,13,15,16,17,18,19,25,26,27,29,30,32,34,36,39,40,42][48|2,3,4,5,7,8,9,12,13,14,18,19,21,23,24,25,27,29,30,31,33,34,35,36,37,38,41,42,43,44,45,46][49|3,5,6,7,8,9,10,12,14,15,16,19,20,23,26,27,28,32,36,37,40,41,42,43,45,47,48]',\n",
       " '[0][3|0][1|0][2|0,1][4|0,2,3][5|3,4][8|1,5][7|0,1,4,5][9|3,7][10|8,9,2,4][11|0,2,4,5,7,8,9,10][6|0,1,2,5][12|0,1,3,4,6,8,10][15|2,3,7,8,10,11,12][16|0,1,2,3,4,7,8,9,10,12,15][13|0,1,2,3,6,7,8,9,12][17|0,1,2,3,4,6,7,8,11,12,13,15,16][14|2,5,8,10,13][18|3,5,9,10,12,13,14,15,16][23|0,3,6,8,9,11,13,15,17,18][20|1,3,5,7,8,9,12,14,18][19|2,7,9,13,15,16,18][21|2,4,5,6,8,9,15,17,19,20][22|0,1,6,8,9,15,21][24|2,3,4,5,6,8,11,15,17,22][25|0,1,2,3,4,5,9,11,12,16,17,18,22,23,24][26|0,4,6,7,9,11,13,16,17,19,20,23,25][28|3,8,10,11,12,14,15,18,21,22,24,25,26][29|1,2,3,4,6,7,10,11,12,14,15,16,19,20,22,28][27|0,1,3,9,11,14,17,18,19,20,22,23,26][30|0,4,6,9,11,12,16,18,19,20,21,24,25,27,28][31|0,1,6,9,12,13,14,18,19,21,23,25,26,30][32|1,2,4,6,7,8,9,11,13,15,17,18,21,22,24,26,27,28,29,30,31][33|1,3,4,5,9,15,19,25,30,31][34|33,2,1,4,5,6,10,11,12,13,16,18,19,23,25,26][35|1,6,8,10,12,13,14,19,20,21,22,23,24,25,26,27,29,31,32,33,34][37|32,0,2,3,4,35,7,9,10,14,15,19,20,22,23,24,27,29][39|2,3,4,6,7,8,10,11,12,14,16,18,19,20,21,24,25,26,28,29,30,31,32,35,37][38|0,33,35,37,7,9,11,13,15,22,23,24,25,26,27][36|0,33,32,35,4,3,34,10,16,18,20,22,23,24,29][40|32,1,33,35,36,37,39,9,10,11,12,18,19,23,24,26,29,30][42|2,4,11,13,14,15,17,18,19,22,23,24,25,27,28,29,32,33,34,36,37,39,40][41|32,1,34,2,0,6,39,40,9,8,7,13,15,16,17,21,26,27,30,31][46|1,2,35,36,33,38,6,40,9,41,12,13,15,17,18,19,23,26,27,29][43|32,3,5,37,39,40,41,9,11,10,7,15,21,23,25,26,28,29,30][44|32,0,34,3,36,4,33,7,40,39,42,43,11,16,18,21,23,25,28,29][45|0,2,6,9,10,11,12,13,18,19,20,21,22,23,24,26,28,33,34,35,37,38,40,43,44][47|0,1,3,4,5,10,12,13,14,15,16,17,18,19,21,22,25,27,29,31,35,37,38,39,41,44,45,46][48|0,4,6,9,11,12,14,16,19,24,25,26,27,28,30,31,32,36,38,40,42,43,44,45,46][49|0,1,3,4,5,7,9,13,14,15,16,18,19,20,23,24,25,27,30,35,37,38,40,42,43,46,47,48]']"
      ]
     },
     "execution_count": 4,
     "metadata": {},
     "output_type": "execute_result"
    }
   ],
   "source": [
    "[str(g) for g in gdags]"
   ]
  },
  {
   "cell_type": "markdown",
   "metadata": {},
   "source": [
    "### Run random strategy on each DAG"
   ]
  },
  {
   "cell_type": "code",
   "execution_count": 5,
   "metadata": {},
   "outputs": [],
   "source": [
    "SIM_CONFIG_RANDOM = SimulationConfig(\n",
    "    starting_samples=250,\n",
    "    n_samples=50,\n",
    "    n_batches=2,\n",
    "    max_interventions=2,\n",
    "    strategy='random',\n",
    "    intervention_strength=2,\n",
    ")"
   ]
  },
  {
   "cell_type": "code",
   "execution_count": 6,
   "metadata": {},
   "outputs": [
    {
     "name": "stdout",
     "output_type": "stream",
     "text": [
      "=== Simulating strategy for DAG 0\n",
      "/Users/chandlersquires/Documents/active_learning/new/data/medium/dag0/random/samples\n",
      "Batch 0\n"
     ]
    },
    {
     "ename": "ValueError",
     "evalue": "n_samples / (n_batches * max interventions) must be an integer",
     "output_type": "error",
     "traceback": [
      "\u001b[0;31m---------------------------------------------------------------------------\u001b[0m",
      "\u001b[0;31mValueError\u001b[0m                                Traceback (most recent call last)",
      "\u001b[0;32m<ipython-input-6-8fa8f292f2e9>\u001b[0m in \u001b[0;36m<module>\u001b[0;34m()\u001b[0m\n\u001b[1;32m      1\u001b[0m \u001b[0;32mfor\u001b[0m \u001b[0mi\u001b[0m\u001b[0;34m,\u001b[0m \u001b[0mgdag\u001b[0m \u001b[0;32min\u001b[0m \u001b[0menumerate\u001b[0m\u001b[0;34m(\u001b[0m\u001b[0mgdags\u001b[0m\u001b[0;34m)\u001b[0m\u001b[0;34m:\u001b[0m\u001b[0;34m\u001b[0m\u001b[0m\n\u001b[1;32m      2\u001b[0m     \u001b[0mprint\u001b[0m\u001b[0;34m(\u001b[0m\u001b[0;34m'=== Simulating strategy for DAG %d'\u001b[0m \u001b[0;34m%\u001b[0m \u001b[0;34m(\u001b[0m\u001b[0mi\u001b[0m\u001b[0;34m)\u001b[0m\u001b[0;34m)\u001b[0m\u001b[0;34m\u001b[0m\u001b[0m\n\u001b[0;32m----> 3\u001b[0;31m     \u001b[0msimulate\u001b[0m\u001b[0;34m(\u001b[0m\u001b[0mSTRATEGIES\u001b[0m\u001b[0;34m[\u001b[0m\u001b[0;34m'random'\u001b[0m\u001b[0;34m]\u001b[0m\u001b[0;34m,\u001b[0m \u001b[0mSIM_CONFIG_RANDOM\u001b[0m\u001b[0;34m,\u001b[0m \u001b[0mgdag\u001b[0m\u001b[0;34m,\u001b[0m \u001b[0mos\u001b[0m\u001b[0;34m.\u001b[0m\u001b[0mpath\u001b[0m\u001b[0;34m.\u001b[0m\u001b[0mjoin\u001b[0m\u001b[0;34m(\u001b[0m\u001b[0mDAG_FOLDER\u001b[0m\u001b[0;34m,\u001b[0m \u001b[0;34m'dag%d'\u001b[0m \u001b[0;34m%\u001b[0m \u001b[0mi\u001b[0m\u001b[0;34m,\u001b[0m \u001b[0;34m'random'\u001b[0m\u001b[0;34m)\u001b[0m\u001b[0;34m)\u001b[0m\u001b[0;34m\u001b[0m\u001b[0m\n\u001b[0m",
      "\u001b[0;32m~/Documents/active_learning/new/strategies/simulator.py\u001b[0m in \u001b[0;36msimulate\u001b[0;34m(strategy, simulator_config, gdag, strategy_folder)\u001b[0m\n\u001b[1;32m     97\u001b[0m             \u001b[0mbatch_folder\u001b[0m\u001b[0;34m=\u001b[0m\u001b[0mbatch_folder\u001b[0m\u001b[0;34m\u001b[0m\u001b[0m\n\u001b[1;32m     98\u001b[0m         )\n\u001b[0;32m---> 99\u001b[0;31m         \u001b[0mrecommended_interventions\u001b[0m \u001b[0;34m=\u001b[0m \u001b[0mstrategy\u001b[0m\u001b[0;34m(\u001b[0m\u001b[0miteration_data\u001b[0m\u001b[0;34m)\u001b[0m\u001b[0;34m\u001b[0m\u001b[0m\n\u001b[0m\u001b[1;32m    100\u001b[0m         \u001b[0;32mfor\u001b[0m \u001b[0miv_node\u001b[0m\u001b[0;34m,\u001b[0m \u001b[0mnsamples\u001b[0m \u001b[0;32min\u001b[0m \u001b[0mrecommended_interventions\u001b[0m\u001b[0;34m.\u001b[0m\u001b[0mitems\u001b[0m\u001b[0;34m(\u001b[0m\u001b[0;34m)\u001b[0m\u001b[0;34m:\u001b[0m\u001b[0;34m\u001b[0m\u001b[0m\n\u001b[1;32m    101\u001b[0m             \u001b[0mintervention\u001b[0m \u001b[0;34m=\u001b[0m \u001b[0minterventions\u001b[0m\u001b[0;34m[\u001b[0m\u001b[0miv_node\u001b[0m\u001b[0;34m]\u001b[0m\u001b[0;34m\u001b[0m\u001b[0m\n",
      "\u001b[0;32m~/Documents/active_learning/new/strategies/random_nodes.py\u001b[0m in \u001b[0;36mrandom_strategy\u001b[0;34m(iteration_data)\u001b[0m\n\u001b[1;32m      5\u001b[0m     \u001b[0mn\u001b[0m \u001b[0;34m=\u001b[0m \u001b[0miteration_data\u001b[0m\u001b[0;34m.\u001b[0m\u001b[0mn_samples\u001b[0m \u001b[0;34m/\u001b[0m \u001b[0;34m(\u001b[0m\u001b[0miteration_data\u001b[0m\u001b[0;34m.\u001b[0m\u001b[0mn_batches\u001b[0m \u001b[0;34m*\u001b[0m \u001b[0miteration_data\u001b[0m\u001b[0;34m.\u001b[0m\u001b[0mmax_interventions\u001b[0m\u001b[0;34m)\u001b[0m\u001b[0;34m\u001b[0m\u001b[0m\n\u001b[1;32m      6\u001b[0m     \u001b[0;32mif\u001b[0m \u001b[0mint\u001b[0m\u001b[0;34m(\u001b[0m\u001b[0mn\u001b[0m\u001b[0;34m)\u001b[0m \u001b[0;34m!=\u001b[0m \u001b[0mn\u001b[0m\u001b[0;34m:\u001b[0m\u001b[0;34m\u001b[0m\u001b[0m\n\u001b[0;32m----> 7\u001b[0;31m         \u001b[0;32mraise\u001b[0m \u001b[0mValueError\u001b[0m\u001b[0;34m(\u001b[0m\u001b[0;34m'n_samples / (n_batches * max interventions) must be an integer'\u001b[0m\u001b[0;34m)\u001b[0m\u001b[0;34m\u001b[0m\u001b[0m\n\u001b[0m\u001b[1;32m      8\u001b[0m     \u001b[0minterventions\u001b[0m \u001b[0;34m=\u001b[0m \u001b[0;34m{\u001b[0m\u001b[0miv\u001b[0m\u001b[0;34m:\u001b[0m \u001b[0mint\u001b[0m\u001b[0;34m(\u001b[0m\u001b[0mn\u001b[0m\u001b[0;34m)\u001b[0m \u001b[0;32mfor\u001b[0m \u001b[0miv\u001b[0m \u001b[0;32min\u001b[0m \u001b[0mrandom\u001b[0m\u001b[0;34m.\u001b[0m\u001b[0msample\u001b[0m\u001b[0;34m(\u001b[0m\u001b[0miteration_data\u001b[0m\u001b[0;34m.\u001b[0m\u001b[0mintervention_set\u001b[0m\u001b[0;34m,\u001b[0m \u001b[0miteration_data\u001b[0m\u001b[0;34m.\u001b[0m\u001b[0mmax_interventions\u001b[0m\u001b[0;34m)\u001b[0m\u001b[0;34m}\u001b[0m\u001b[0;34m\u001b[0m\u001b[0m\n\u001b[1;32m      9\u001b[0m \u001b[0;34m\u001b[0m\u001b[0m\n",
      "\u001b[0;31mValueError\u001b[0m: n_samples / (n_batches * max interventions) must be an integer"
     ]
    }
   ],
   "source": [
    "for i, gdag in enumerate(gdags):\n",
    "    print('=== Simulating strategy for DAG %d' % (i))\n",
    "    simulate(STRATEGIES['random'], SIM_CONFIG_RANDOM, gdag, os.path.join(DAG_FOLDER, 'dag%d' % i, 'random'))"
   ]
  },
  {
   "cell_type": "markdown",
   "metadata": {},
   "source": [
    "### Run edge-prob strategy on each DAG"
   ]
  },
  {
   "cell_type": "code",
   "execution_count": null,
   "metadata": {},
   "outputs": [],
   "source": [
    "SIM_CONFIG_EDGE_PROB = SimulationConfig(\n",
    "    starting_samples=250,\n",
    "    n_samples=50,\n",
    "    n_batches=2,\n",
    "    max_interventions=2,\n",
    "    strategy='edge-prob',\n",
    "    intervention_strength=2,\n",
    ")"
   ]
  },
  {
   "cell_type": "code",
   "execution_count": null,
   "metadata": {},
   "outputs": [],
   "source": [
    "for i, gdag in enumerate(gdags):\n",
    "    print('=== Simulating strategy for DAG %d' % (i))\n",
    "    simulate(STRATEGIES['edge-prob'], SIM_CONFIG_EDGE_PROB, gdag, os.path.join(DAG_FOLDER, 'dag%d' % i, 'edge-prob'))"
   ]
  },
  {
   "cell_type": "markdown",
   "metadata": {},
   "source": [
    "### Run learn-parents strategy on each DAG"
   ]
  },
  {
   "cell_type": "code",
   "execution_count": null,
   "metadata": {},
   "outputs": [],
   "source": [
    "SIM_CONFIG_PARENTS = SimulationConfig(\n",
    "    starting_samples=250,\n",
    "    n_samples=50,\n",
    "    n_batches=2,\n",
    "    max_interventions=2,\n",
    "    strategy='learn-parents',\n",
    "    intervention_strength=2,\n",
    ")"
   ]
  },
  {
   "cell_type": "code",
   "execution_count": null,
   "metadata": {},
   "outputs": [],
   "source": [
    "for i, gdag in enumerate(gdags):\n",
    "    print('=== Simulating strategy for DAG %d' % (i))\n",
    "    simulate(STRATEGIES['learn-parents'], SIM_CONFIG_EDGE_PROB, gdag, os.path.join(DAG_FOLDER, 'dag%d' % i, 'learn-parents'))"
   ]
  },
  {
   "cell_type": "markdown",
   "metadata": {},
   "source": [
    "### Check gathered data"
   ]
  },
  {
   "cell_type": "code",
   "execution_count": null,
   "metadata": {},
   "outputs": [],
   "source": [
    "random_rhs = []\n",
    "for d, gdag in enumerate(gdags):\n",
    "    folder = os.path.join(DAG_FOLDER, 'dag%d' % d)\n",
    "    parent_probs, rh = check_gies(folder, 'random', N_NODES-3)\n",
    "    random_rhs.append(rh)"
   ]
  },
  {
   "cell_type": "code",
   "execution_count": null,
   "metadata": {},
   "outputs": [],
   "source": [
    "random_tprs = [rh.tpr for rh in random_rhs]\n",
    "random_fprs = [rh.fpr for rh in random_rhs]\n",
    "print(random_tprs)\n",
    "print(random_fprs)"
   ]
  },
  {
   "cell_type": "code",
   "execution_count": null,
   "metadata": {},
   "outputs": [],
   "source": [
    "edge_prob_rhs = []\n",
    "for d, gdag in enumerate(gdags):\n",
    "    folder = os.path.join(DAG_FOLDER, 'dag%d' % d)\n",
    "    parent_probs, rh = check_gies(folder, 'edge-prob', N_NODES-3)\n",
    "    edge_prob_rhs.append(rh)"
   ]
  },
  {
   "cell_type": "code",
   "execution_count": null,
   "metadata": {},
   "outputs": [],
   "source": [
    "edge_prob_tprs = [rh.tpr for rh in edge_prob_rhs]\n",
    "edge_prob_fprs = [rh.fpr for rh in edge_prob_rhs]\n",
    "print(edge_prob_tprs)\n",
    "print(edge_prob_fprs)"
   ]
  },
  {
   "cell_type": "code",
   "execution_count": null,
   "metadata": {},
   "outputs": [],
   "source": [
    "learn_parents_rhs = []\n",
    "for d, gdag in enumerate(gdags):\n",
    "    folder = os.path.join(DAG_FOLDER, 'dag%d' % d)\n",
    "    parent_probs, rh = check_gies(folder, 'learn-parents', N_NODES-3)\n",
    "    learn_parents_rhs.append(rh)"
   ]
  },
  {
   "cell_type": "code",
   "execution_count": null,
   "metadata": {},
   "outputs": [],
   "source": [
    "learn_parents_tprs = [rh.tpr for rh in learn_parents_rhs]\n",
    "learn_parents_fprs = [rh.fpr for rh in learn_parents_rhs]\n",
    "print(learn_parents_tprs)\n",
    "print(learn_parents_fprs)"
   ]
  },
  {
   "cell_type": "code",
   "execution_count": null,
   "metadata": {},
   "outputs": [],
   "source": []
  }
 ],
 "metadata": {
  "kernelspec": {
   "display_name": "Python 3",
   "language": "python",
   "name": "python3"
  },
  "language_info": {
   "codemirror_mode": {
    "name": "ipython",
    "version": 3
   },
   "file_extension": ".py",
   "mimetype": "text/x-python",
   "name": "python",
   "nbconvert_exporter": "python",
   "pygments_lexer": "ipython3",
   "version": "3.6.5"
  }
 },
 "nbformat": 4,
 "nbformat_minor": 1
}
