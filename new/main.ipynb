{
 "cells": [
  {
   "cell_type": "code",
   "execution_count": 1,
   "metadata": {},
   "outputs": [],
   "source": [
    "from strategies import random_nodes, learn_target_parents, edge_prob\n",
    "import matplotlib.pyplot as plt\n",
    "import seaborn as sns\n",
    "import numpy as np\n",
    "import os\n",
    "from config import DATA_FOLDER\n",
    "from strategies.simulator import GenerationConfig, SimulationConfig, simulate\n",
    "from analysis.check_gies import check_gies\n",
    "%matplotlib inline\n",
    "sns.set()\n",
    "np.random.seed(1729)"
   ]
  },
  {
   "cell_type": "code",
   "execution_count": 2,
   "metadata": {},
   "outputs": [],
   "source": [
    "N_NODES = 10\n",
    "DAG_FOLDER = os.path.join(DATA_FOLDER, 'medium')\n",
    "STRATEGIES = {\n",
    "    'random': random_nodes.random_strategy,\n",
    "    'learn-parents': learn_target_parents.create_learn_target_parents(N_NODES - 1, 100),\n",
    "    'edge-prob': edge_prob.create_edge_prob_strategy(N_NODES-3, 10)\n",
    "}"
   ]
  },
  {
   "cell_type": "markdown",
   "metadata": {},
   "source": [
    "### Generate and save DAGs"
   ]
  },
  {
   "cell_type": "code",
   "execution_count": 3,
   "metadata": {},
   "outputs": [
    {
     "name": "stdout",
     "output_type": "stream",
     "text": [
      "=== Saving DAGs ===\n",
      "=== Saved ===\n"
     ]
    }
   ],
   "source": [
    "G_CONFIG = GenerationConfig(\n",
    "    n_nodes=N_NODES,\n",
    "    edge_prob=.5,\n",
    "    n_dags=3\n",
    ")\n",
    "gdags = G_CONFIG.save_dags(DAG_FOLDER)"
   ]
  },
  {
   "cell_type": "code",
   "execution_count": 4,
   "metadata": {},
   "outputs": [
    {
     "data": {
      "text/plain": [
       "['[1][2|1][3|2][0][4|0,1,2][7|2,4][5|0,1,2,4][6|0,5][8|1,5,7][9|8,1,4,0]',\n",
       " '[1][0][2|0][3|0,2][4|2,3][5|0,3,4][6|0,1,2,3,5][7|0,1,2,6][8|0,4,5][9|0,1,2,4,5,8]',\n",
       " '[1][0][2|0][3|0,2][5|0,1,2,3][4|1,3][6|4][7|2,3,5,6][8|1,5,6,7][9|8,2,6]']"
      ]
     },
     "execution_count": 4,
     "metadata": {},
     "output_type": "execute_result"
    }
   ],
   "source": [
    "[str(g) for g in gdags]"
   ]
  },
  {
   "cell_type": "markdown",
   "metadata": {},
   "source": [
    "### Run simulation on each DAG"
   ]
  },
  {
   "cell_type": "code",
   "execution_count": 5,
   "metadata": {},
   "outputs": [],
   "source": [
    "STRATEGY = 'edge-prob'\n",
    "SIM_CONFIG = SimulationConfig(\n",
    "    starting_samples=250,\n",
    "    n_samples=100,\n",
    "    n_batches=2,\n",
    "    max_interventions=2,\n",
    "    strategy=STRATEGY,\n",
    "    intervention_strength=2,\n",
    ")\n",
    "STRATEGY_FOLDER = os.path.join(DAG_FOLDER, STRATEGY)"
   ]
  },
  {
   "cell_type": "code",
   "execution_count": null,
   "metadata": {},
   "outputs": [],
   "source": [
    "for i, gdag in enumerate(gdags):\n",
    "    print('=== Simulating strategy for DAG %d' % (i))\n",
    "    simulate(STRATEGIES[STRATEGY], SIM_CONFIG, gdag, os.path.join(DAG_FOLDER, 'dag%d' % i, STRATEGY))"
   ]
  },
  {
   "cell_type": "markdown",
   "metadata": {},
   "source": [
    "### Check gathered data"
   ]
  },
  {
   "cell_type": "code",
   "execution_count": 11,
   "metadata": {},
   "outputs": [
    {
     "name": "stdout",
     "output_type": "stream",
     "text": [
      "All files deleted in /Users/chandlersquires/Documents/active_learning/new/data/TEMP_DAGS/\n",
      "10\n",
      "All files deleted in /Users/chandlersquires/Documents/active_learning/new/data/TEMP_DAGS/\n",
      "10\n",
      "All files deleted in /Users/chandlersquires/Documents/active_learning/new/data/TEMP_DAGS/\n",
      "10\n"
     ]
    }
   ],
   "source": [
    "rhs = []\n",
    "for d, gdag in enumerate(gdags):\n",
    "    folder = os.path.join(DAG_FOLDER, 'dag%d' % d)\n",
    "    parent_probs, rh = check_gies(folder, STRATEGY, N_NODES-3)\n",
    "    rhs.append(rh)"
   ]
  },
  {
   "cell_type": "code",
   "execution_count": 12,
   "metadata": {},
   "outputs": [],
   "source": [
    "tprs = [rh.tpr for rh in rhs]\n",
    "fprs = [rh.fpr for rh in rhs]"
   ]
  },
  {
   "cell_type": "code",
   "execution_count": 13,
   "metadata": {},
   "outputs": [
    {
     "data": {
      "text/plain": [
       "[0.0, 1.0, 1.0]"
      ]
     },
     "execution_count": 13,
     "metadata": {},
     "output_type": "execute_result"
    }
   ],
   "source": [
    "tprs"
   ]
  },
  {
   "cell_type": "code",
   "execution_count": 14,
   "metadata": {},
   "outputs": [
    {
     "data": {
      "text/plain": [
       "[0.0, 0.0, 0.0]"
      ]
     },
     "execution_count": 14,
     "metadata": {},
     "output_type": "execute_result"
    }
   ],
   "source": [
    "fprs"
   ]
  },
  {
   "cell_type": "code",
   "execution_count": null,
   "metadata": {},
   "outputs": [],
   "source": []
  }
 ],
 "metadata": {
  "kernelspec": {
   "display_name": "Python 3",
   "language": "python",
   "name": "python3"
  },
  "language_info": {
   "codemirror_mode": {
    "name": "ipython",
    "version": 3
   },
   "file_extension": ".py",
   "mimetype": "text/x-python",
   "name": "python",
   "nbconvert_exporter": "python",
   "pygments_lexer": "ipython3",
   "version": "3.6.5"
  }
 },
 "nbformat": 4,
 "nbformat_minor": 1
}
