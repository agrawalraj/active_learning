{
 "cells": [
  {
   "cell_type": "code",
   "execution_count": null,
   "metadata": {},
   "outputs": [],
   "source": [
    "from strategies import random_nodes, learn_target_parents, edge_prob\n",
    "import matplotlib.pyplot as plt\n",
    "import seaborn as sns\n",
    "import numpy as np\n",
    "import os\n",
    "from config import DATA_FOLDER\n",
    "from strategies.simulator import GenerationConfig, SimulationConfig, simulate\n",
    "from analysis.check_gies import check_gies\n",
    "%matplotlib inline\n",
    "sns.set()\n",
    "np.random.seed(1729)"
   ]
  },
  {
   "cell_type": "code",
   "execution_count": null,
   "metadata": {},
   "outputs": [],
   "source": [
    "N_NODES = 50\n",
    "DAG_FOLDER = os.path.join(DATA_FOLDER, 'medium')\n",
    "STRATEGIES = {\n",
    "    'random': random_nodes.random_strategy,\n",
    "    'learn-parents': learn_target_parents.create_learn_target_parents(N_NODES-3, 100),\n",
    "    'edge-prob': edge_prob.create_edge_prob_strategy(N_NODES-3, 100)\n",
    "}"
   ]
  },
  {
   "cell_type": "markdown",
   "metadata": {},
   "source": [
    "### Generate and save DAGs"
   ]
  },
  {
   "cell_type": "code",
   "execution_count": null,
   "metadata": {},
   "outputs": [],
   "source": [
    "G_CONFIG = GenerationConfig(\n",
    "    n_nodes=N_NODES,\n",
    "    edge_prob=.5,\n",
    "    n_dags=3\n",
    ")\n",
    "gdags = G_CONFIG.save_dags(DAG_FOLDER)"
   ]
  },
  {
   "cell_type": "markdown",
   "metadata": {},
   "source": [
    "### Run random strategy on each DAG"
   ]
  },
  {
   "cell_type": "code",
   "execution_count": null,
   "metadata": {},
   "outputs": [],
   "source": [
    "SIM_CONFIG_RANDOM = SimulationConfig(\n",
    "    starting_samples=250,\n",
    "    n_samples=60,\n",
    "    n_batches=2,\n",
    "    max_interventions=2,\n",
    "    strategy='random',\n",
    "    intervention_strength=2,\n",
    ")"
   ]
  },
  {
   "cell_type": "code",
   "execution_count": null,
   "metadata": {},
   "outputs": [],
   "source": [
    "for i, gdag in enumerate(gdags):\n",
    "    print('=== Simulating strategy for DAG %d' % (i))\n",
    "    simulate(STRATEGIES['random'], SIM_CONFIG_RANDOM, gdag, os.path.join(DAG_FOLDER, 'dag%d' % i, 'random'))"
   ]
  },
  {
   "cell_type": "markdown",
   "metadata": {},
   "source": [
    "### Run edge-prob strategy on each DAG"
   ]
  },
  {
   "cell_type": "code",
   "execution_count": null,
   "metadata": {},
   "outputs": [],
   "source": [
    "SIM_CONFIG_EDGE_PROB = SimulationConfig(\n",
    "    starting_samples=250,\n",
    "    n_samples=60,\n",
    "    n_batches=2,\n",
    "    max_interventions=2,\n",
    "    strategy='edge-prob',\n",
    "    intervention_strength=2,\n",
    ")"
   ]
  },
  {
   "cell_type": "code",
   "execution_count": null,
   "metadata": {},
   "outputs": [],
   "source": [
    "for i, gdag in enumerate(gdags):\n",
    "    print('=== Simulating strategy for DAG %d' % (i))\n",
    "    simulate(STRATEGIES['edge-prob'], SIM_CONFIG_EDGE_PROB, gdag, os.path.join(DAG_FOLDER, 'dag%d' % i, 'edge-prob'))"
   ]
  },
  {
   "cell_type": "markdown",
   "metadata": {},
   "source": [
    "### Run learn-parents strategy on each DAG"
   ]
  },
  {
   "cell_type": "code",
   "execution_count": null,
   "metadata": {},
   "outputs": [],
   "source": [
    "SIM_CONFIG_PARENTS = SimulationConfig(\n",
    "    starting_samples=250,\n",
    "    n_samples=60,\n",
    "    n_batches=2,\n",
    "    max_interventions=2,\n",
    "    strategy='learn-parents',\n",
    "    intervention_strength=2,\n",
    ")"
   ]
  },
  {
   "cell_type": "code",
   "execution_count": null,
   "metadata": {},
   "outputs": [],
   "source": [
    "for i, gdag in enumerate(gdags):\n",
    "    print('=== Simulating strategy for DAG %d' % (i))\n",
    "    simulate(STRATEGIES['learn-parents'], SIM_CONFIG_EDGE_PROB, gdag, os.path.join(DAG_FOLDER, 'dag%d' % i, 'learn-parents'))"
   ]
  },
  {
   "cell_type": "markdown",
   "metadata": {},
   "source": [
    "### Check gathered data"
   ]
  },
  {
   "cell_type": "code",
   "execution_count": null,
   "metadata": {},
   "outputs": [],
   "source": [
    "random_rhs = []\n",
    "for d, gdag in enumerate(gdags):\n",
    "    folder = os.path.join(DAG_FOLDER, 'dag%d' % d)\n",
    "    parent_probs, rh = check_gies(folder, 'random', N_NODES-3)\n",
    "    random_rhs.append(rh)"
   ]
  },
  {
   "cell_type": "code",
   "execution_count": null,
   "metadata": {},
   "outputs": [],
   "source": [
    "random_tprs = [rh.tpr for rh in random_rhs]\n",
    "random_fprs = [rh.fpr for rh in random_rhs]\n",
    "print(random_tprs)\n",
    "print(random_fprs)"
   ]
  },
  {
   "cell_type": "code",
   "execution_count": null,
   "metadata": {},
   "outputs": [],
   "source": [
    "edge_prob_rhs = []\n",
    "for d, gdag in enumerate(gdags):\n",
    "    folder = os.path.join(DAG_FOLDER, 'dag%d' % d)\n",
    "    parent_probs, rh = check_gies(folder, 'edge-prob', N_NODES-3)\n",
    "    edge_prob_rhs.append(rh)"
   ]
  },
  {
   "cell_type": "code",
   "execution_count": null,
   "metadata": {},
   "outputs": [],
   "source": [
    "edge_prob_tprs = [rh.tpr for rh in edge_prob_rhs]\n",
    "edge_prob_fprs = [rh.fpr for rh in edge_prob_rhs]\n",
    "print(edge_prob_tprs)\n",
    "print(edge_prob_fprs)"
   ]
  },
  {
   "cell_type": "code",
   "execution_count": null,
   "metadata": {},
   "outputs": [],
   "source": [
    "learn_parents_rhs = []\n",
    "for d, gdag in enumerate(gdags):\n",
    "    folder = os.path.join(DAG_FOLDER, 'dag%d' % d)\n",
    "    parent_probs, rh = check_gies(folder, 'learn-parents', N_NODES-3)\n",
    "    learn_parents_rhs.append(rh)"
   ]
  },
  {
   "cell_type": "code",
   "execution_count": null,
   "metadata": {},
   "outputs": [],
   "source": [
    "learn_parents_tprs = [rh.tpr for rh in learn_parents_rhs]\n",
    "learn_parents_fprs = [rh.fpr for rh in learn_parents_rhs]\n",
    "print(learn_parents_tprs)\n",
    "print(learn_parents_fprs)"
   ]
  },
  {
   "cell_type": "code",
   "execution_count": null,
   "metadata": {},
   "outputs": [],
   "source": []
  }
 ],
 "metadata": {
  "kernelspec": {
   "display_name": "Python 3",
   "language": "python",
   "name": "python3"
  },
  "language_info": {
   "codemirror_mode": {
    "name": "ipython",
    "version": 3
   },
   "file_extension": ".py",
   "mimetype": "text/x-python",
   "name": "python",
   "nbconvert_exporter": "python",
   "pygments_lexer": "ipython3",
   "version": "3.6.5"
  }
 },
 "nbformat": 4,
 "nbformat_minor": 1
}
