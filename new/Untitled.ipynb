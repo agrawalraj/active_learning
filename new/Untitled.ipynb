{
 "cells": [
  {
   "cell_type": "code",
   "execution_count": 22,
   "metadata": {},
   "outputs": [],
   "source": [
    "import causaldag as cd\n",
    "from utils.graph_utils import cov2dag, prec2dag"
   ]
  },
  {
   "cell_type": "code",
   "execution_count": 23,
   "metadata": {},
   "outputs": [
    {
     "name": "stdout",
     "output_type": "stream",
     "text": [
      "[0][1|0][2|1]\n",
      "[1][2|1][0|1]\n",
      "{(1, 2): 1.0, (1, 0): 0.5}\n",
      "[[0.  0.  0. ]\n",
      " [0.5 0.  1. ]\n",
      " [0.  0.  0. ]]\n"
     ]
    }
   ],
   "source": [
    "g = cd.GaussDAG(nodes=[0,1,2], arcs={(1,2), (0,1)})\n",
    "g2 = cov2dag(g.covariance, cd.DAG(arcs={(1,2), (1,0)}))\n",
    "g3 = cov2dag(g.covariance, cd.DAG(arcs={(2,1), (1,0)}))\n",
    "print(str(g))\n",
    "print(str(g2))\n",
    "print(g2.arc_weights)\n",
    "print(g2.weight_mat)\n"
   ]
  },
  {
   "cell_type": "code",
   "execution_count": 24,
   "metadata": {},
   "outputs": [],
   "source": [
    "samples = g.sample_interventional({1: cd.GaussIntervention()}, 50000)"
   ]
  },
  {
   "cell_type": "code",
   "execution_count": 25,
   "metadata": {},
   "outputs": [],
   "source": [
    "g_logpdf = g.logpdf(samples, {1: cd.GaussIntervention()})\n",
    "g2_logpdf = g2.logpdf(samples, {1: cd.GaussIntervention()})\n",
    "g3_logpdf = g3.logpdf(samples, {1: cd.GaussIntervention()})\n"
   ]
  },
  {
   "cell_type": "code",
   "execution_count": 26,
   "metadata": {},
   "outputs": [
    {
     "name": "stdout",
     "output_type": "stream",
     "text": [
      "1->2->3\n",
      "-212395.9513568022\n",
      "1<-2->3\n",
      "-232407.27146568365\n",
      "1<-2<-3\n",
      "-251554.78417813705\n"
     ]
    }
   ],
   "source": [
    "print('1->2->3')\n",
    "print(g_logpdf.sum())\n",
    "print('1<-2->3')\n",
    "print(g2_logpdf.sum())\n",
    "print('1<-2<-3')\n",
    "print(g3_logpdf.sum())"
   ]
  },
  {
   "cell_type": "code",
   "execution_count": null,
   "metadata": {},
   "outputs": [],
   "source": []
  },
  {
   "cell_type": "code",
   "execution_count": null,
   "metadata": {},
   "outputs": [],
   "source": []
  }
 ],
 "metadata": {
  "kernelspec": {
   "display_name": "Python 3",
   "language": "python",
   "name": "python3"
  },
  "language_info": {
   "codemirror_mode": {
    "name": "ipython",
    "version": 3
   },
   "file_extension": ".py",
   "mimetype": "text/x-python",
   "name": "python",
   "nbconvert_exporter": "python",
   "pygments_lexer": "ipython3",
   "version": "3.6.5"
  }
 },
 "nbformat": 4,
 "nbformat_minor": 2
}
