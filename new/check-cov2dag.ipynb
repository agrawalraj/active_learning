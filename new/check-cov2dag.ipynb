{
 "cells": [
  {
   "cell_type": "code",
   "execution_count": 1,
   "metadata": {},
   "outputs": [],
   "source": [
    "import causaldag as cd\n",
    "from utils import graph_utils\n",
    "import numpy as np"
   ]
  },
  {
   "cell_type": "code",
   "execution_count": 2,
   "metadata": {},
   "outputs": [
    {
     "data": {
      "text/plain": [
       "'[3][0][2|0][4|0,2][1|0][5|1,2,4][6|2,5][7|1,6][8|5,6][9|0,2,3,4,5,7,8]'"
      ]
     },
     "execution_count": 2,
     "metadata": {},
     "output_type": "execute_result"
    }
   ],
   "source": [
    "d = cd.rand.directed_erdos(10, .5)\n",
    "gdag = cd.GaussDAG(list(range(10)), d.arcs)\n",
    "str(gdag)"
   ]
  },
  {
   "cell_type": "code",
   "execution_count": 14,
   "metadata": {},
   "outputs": [],
   "source": [
    "data = gdag.sample(100)\n",
    "sample_cov = np.cov(data, rowvar=False)"
   ]
  },
  {
   "cell_type": "code",
   "execution_count": 15,
   "metadata": {},
   "outputs": [],
   "source": [
    "gdag_est = graph_utils.cov2dag(sample_cov, d)"
   ]
  },
  {
   "cell_type": "code",
   "execution_count": 16,
   "metadata": {},
   "outputs": [
    {
     "data": {
      "text/plain": [
       "True"
      ]
     },
     "execution_count": 16,
     "metadata": {},
     "output_type": "execute_result"
    }
   ],
   "source": [
    "gdag_est.arcs == gdag.arcs"
   ]
  },
  {
   "cell_type": "code",
   "execution_count": 17,
   "metadata": {},
   "outputs": [
    {
     "data": {
      "text/plain": [
       "{(0, 1): 1.050365410479467,\n",
       " (5, 9): 1.2788590910946596,\n",
       " (2, 6): 0.793744527530194,\n",
       " (4, 9): 0.9040264273655509,\n",
       " (6, 7): 0.995234339902692,\n",
       " (2, 9): 0.930488688738393,\n",
       " (6, 8): 1.0397419634538494,\n",
       " (4, 5): 0.943457999211395,\n",
       " (5, 6): 1.0470536968442739,\n",
       " (0, 2): 1.1782880463941314,\n",
       " (8, 9): 0.9418341574012743,\n",
       " (1, 5): 1.180707296986622,\n",
       " (3, 9): 1.1441178413695638,\n",
       " (0, 4): 1.0326741911319104,\n",
       " (0, 9): 0.6787784858965118,\n",
       " (2, 5): 0.9392971886602481,\n",
       " (1, 7): 1.0923728224723526,\n",
       " (2, 4): 0.9549488623894318,\n",
       " (5, 8): 0.9580102839935734,\n",
       " (7, 9): 0.979959585987288}"
      ]
     },
     "execution_count": 17,
     "metadata": {},
     "output_type": "execute_result"
    }
   ],
   "source": [
    "gdag_est.arc_weights"
   ]
  },
  {
   "cell_type": "code",
   "execution_count": null,
   "metadata": {},
   "outputs": [],
   "source": []
  }
 ],
 "metadata": {
  "kernelspec": {
   "display_name": "Python 3",
   "language": "python",
   "name": "python3"
  },
  "language_info": {
   "codemirror_mode": {
    "name": "ipython",
    "version": 3
   },
   "file_extension": ".py",
   "mimetype": "text/x-python",
   "name": "python",
   "nbconvert_exporter": "python",
   "pygments_lexer": "ipython3",
   "version": "3.6.5"
  }
 },
 "nbformat": 4,
 "nbformat_minor": 2
}
